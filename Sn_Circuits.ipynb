{
  "cells": [
    {
      "cell_type": "markdown",
      "metadata": {
        "id": "view-in-github",
        "colab_type": "text"
      },
      "source": [
        "<a href=\"https://colab.research.google.com/github/dashstander/sn-grok/blob/main/Sn_Circuits.ipynb\" target=\"_parent\"><img src=\"https://colab.research.google.com/assets/colab-badge.svg\" alt=\"Open In Colab\"/></a>"
      ]
    },
    {
      "cell_type": "markdown",
      "metadata": {
        "id": "Cf0LO_FW3FIo"
      },
      "source": [
        "## Set up\n",
        "Unfortunately you need to restart the runtime after doing this because it replaces colab's numpy version"
      ]
    },
    {
      "cell_type": "code",
      "execution_count": 1,
      "metadata": {
        "colab": {
          "base_uri": "https://localhost:8080/",
          "height": 1000
        },
        "id": "l5Xfp70w3AC1",
        "outputId": "57f166ee-4118-42e0-8dc2-a18386f1f25a"
      },
      "outputs": [
        {
          "output_type": "stream",
          "name": "stdout",
          "text": [
            "Looking in indexes: https://pypi.org/simple, https://us-python.pkg.dev/colab-wheels/public/simple/\n",
            "Collecting numpy==1.25.0\n",
            "  Downloading numpy-1.25.0-cp310-cp310-manylinux_2_17_x86_64.manylinux2014_x86_64.whl (17.6 MB)\n",
            "\u001b[2K     \u001b[90m━━━━━━━━━━━━━━━━━━━━━━━━━━━━━━━━━━━━━━━━\u001b[0m \u001b[32m17.6/17.6 MB\u001b[0m \u001b[31m49.1 MB/s\u001b[0m eta \u001b[36m0:00:00\u001b[0m\n",
            "\u001b[?25hInstalling collected packages: numpy\n",
            "  Attempting uninstall: numpy\n",
            "    Found existing installation: numpy 1.22.4\n",
            "    Uninstalling numpy-1.22.4:\n",
            "      Successfully uninstalled numpy-1.22.4\n",
            "\u001b[31mERROR: pip's dependency resolver does not currently take into account all the packages that are installed. This behaviour is the source of the following dependency conflicts.\n",
            "numba 0.56.4 requires numpy<1.24,>=1.18, but you have numpy 1.25.0 which is incompatible.\n",
            "tensorflow 2.12.0 requires numpy<1.24,>=1.22, but you have numpy 1.25.0 which is incompatible.\u001b[0m\u001b[31m\n",
            "\u001b[0mSuccessfully installed numpy-1.25.0\n"
          ]
        },
        {
          "output_type": "display_data",
          "data": {
            "application/vnd.colab-display-data+json": {
              "pip_warning": {
                "packages": [
                  "numpy"
                ]
              }
            }
          },
          "metadata": {}
        },
        {
          "output_type": "stream",
          "name": "stdout",
          "text": [
            "Looking in indexes: https://pypi.org/simple, https://us-python.pkg.dev/colab-wheels/public/simple/\n",
            "Collecting git+https://github.com/dashstander/sn-grok.git\n",
            "  Cloning https://github.com/dashstander/sn-grok.git to /tmp/pip-req-build-ghgdjedw\n",
            "  Running command git clone --filter=blob:none --quiet https://github.com/dashstander/sn-grok.git /tmp/pip-req-build-ghgdjedw\n",
            "  Resolved https://github.com/dashstander/sn-grok.git to commit beba73e024f36493b1a502aa43914f336cc7ae33\n",
            "  Installing build dependencies ... \u001b[?25l\u001b[?25hdone\n",
            "  Getting requirements to build wheel ... \u001b[?25l\u001b[?25hdone\n",
            "  Installing backend dependencies ... \u001b[?25l\u001b[?25hdone\n",
            "  Preparing metadata (pyproject.toml) ... \u001b[?25l\u001b[?25hdone\n",
            "Collecting accelerate (from sn-grok==0.0.1)\n",
            "  Downloading accelerate-0.20.3-py3-none-any.whl (227 kB)\n",
            "\u001b[2K     \u001b[90m━━━━━━━━━━━━━━━━━━━━━━━━━━━━━━━━━━━━━━━\u001b[0m \u001b[32m227.6/227.6 kB\u001b[0m \u001b[31m4.8 MB/s\u001b[0m eta \u001b[36m0:00:00\u001b[0m\n",
            "\u001b[?25hRequirement already satisfied: confection in /usr/local/lib/python3.10/dist-packages (from sn-grok==0.0.1) (0.0.4)\n",
            "Collecting einops (from sn-grok==0.0.1)\n",
            "  Downloading einops-0.6.1-py3-none-any.whl (42 kB)\n",
            "\u001b[2K     \u001b[90m━━━━━━━━━━━━━━━━━━━━━━━━━━━━━━━━━━━━━━━━\u001b[0m \u001b[32m42.2/42.2 kB\u001b[0m \u001b[31m4.3 MB/s\u001b[0m eta \u001b[36m0:00:00\u001b[0m\n",
            "\u001b[?25hRequirement already satisfied: polars in /usr/local/lib/python3.10/dist-packages (from sn-grok==0.0.1) (0.17.3)\n",
            "Requirement already satisfied: scipy in /usr/local/lib/python3.10/dist-packages (from sn-grok==0.0.1) (1.10.1)\n",
            "Requirement already satisfied: torch in /usr/local/lib/python3.10/dist-packages (from sn-grok==0.0.1) (2.0.1+cu118)\n",
            "Requirement already satisfied: tqdm in /usr/local/lib/python3.10/dist-packages (from sn-grok==0.0.1) (4.65.0)\n",
            "Collecting wandb (from sn-grok==0.0.1)\n",
            "  Downloading wandb-0.15.4-py3-none-any.whl (2.1 MB)\n",
            "\u001b[2K     \u001b[90m━━━━━━━━━━━━━━━━━━━━━━━━━━━━━━━━━━━━━━━━\u001b[0m \u001b[32m2.1/2.1 MB\u001b[0m \u001b[31m32.1 MB/s\u001b[0m eta \u001b[36m0:00:00\u001b[0m\n",
            "\u001b[?25hRequirement already satisfied: numpy>=1.17 in /usr/local/lib/python3.10/dist-packages (from accelerate->sn-grok==0.0.1) (1.25.0)\n",
            "Requirement already satisfied: packaging>=20.0 in /usr/local/lib/python3.10/dist-packages (from accelerate->sn-grok==0.0.1) (23.1)\n",
            "Requirement already satisfied: psutil in /usr/local/lib/python3.10/dist-packages (from accelerate->sn-grok==0.0.1) (5.9.5)\n",
            "Requirement already satisfied: pyyaml in /usr/local/lib/python3.10/dist-packages (from accelerate->sn-grok==0.0.1) (6.0)\n",
            "Requirement already satisfied: filelock in /usr/local/lib/python3.10/dist-packages (from torch->sn-grok==0.0.1) (3.12.0)\n",
            "Requirement already satisfied: typing-extensions in /usr/local/lib/python3.10/dist-packages (from torch->sn-grok==0.0.1) (4.5.0)\n",
            "Requirement already satisfied: sympy in /usr/local/lib/python3.10/dist-packages (from torch->sn-grok==0.0.1) (1.11.1)\n",
            "Requirement already satisfied: networkx in /usr/local/lib/python3.10/dist-packages (from torch->sn-grok==0.0.1) (3.1)\n",
            "Requirement already satisfied: jinja2 in /usr/local/lib/python3.10/dist-packages (from torch->sn-grok==0.0.1) (3.1.2)\n",
            "Requirement already satisfied: triton==2.0.0 in /usr/local/lib/python3.10/dist-packages (from torch->sn-grok==0.0.1) (2.0.0)\n",
            "Requirement already satisfied: cmake in /usr/local/lib/python3.10/dist-packages (from triton==2.0.0->torch->sn-grok==0.0.1) (3.25.2)\n",
            "Requirement already satisfied: lit in /usr/local/lib/python3.10/dist-packages (from triton==2.0.0->torch->sn-grok==0.0.1) (16.0.5)\n",
            "Requirement already satisfied: pydantic!=1.8,!=1.8.1,<1.11.0,>=1.7.4 in /usr/local/lib/python3.10/dist-packages (from confection->sn-grok==0.0.1) (1.10.7)\n",
            "Requirement already satisfied: srsly<3.0.0,>=2.4.0 in /usr/local/lib/python3.10/dist-packages (from confection->sn-grok==0.0.1) (2.4.6)\n",
            "Requirement already satisfied: Click!=8.0.0,>=7.0 in /usr/local/lib/python3.10/dist-packages (from wandb->sn-grok==0.0.1) (8.1.3)\n",
            "Collecting GitPython!=3.1.29,>=1.0.0 (from wandb->sn-grok==0.0.1)\n",
            "  Downloading GitPython-3.1.31-py3-none-any.whl (184 kB)\n",
            "\u001b[2K     \u001b[90m━━━━━━━━━━━━━━━━━━━━━━━━━━━━━━━━━━━━━━\u001b[0m \u001b[32m184.3/184.3 kB\u001b[0m \u001b[31m17.3 MB/s\u001b[0m eta \u001b[36m0:00:00\u001b[0m\n",
            "\u001b[?25hRequirement already satisfied: requests<3,>=2.0.0 in /usr/local/lib/python3.10/dist-packages (from wandb->sn-grok==0.0.1) (2.27.1)\n",
            "Collecting sentry-sdk>=1.0.0 (from wandb->sn-grok==0.0.1)\n",
            "  Downloading sentry_sdk-1.25.1-py2.py3-none-any.whl (206 kB)\n",
            "\u001b[2K     \u001b[90m━━━━━━━━━━━━━━━━━━━━━━━━━━━━━━━━━━━━━━\u001b[0m \u001b[32m206.7/206.7 kB\u001b[0m \u001b[31m22.8 MB/s\u001b[0m eta \u001b[36m0:00:00\u001b[0m\n",
            "\u001b[?25hCollecting docker-pycreds>=0.4.0 (from wandb->sn-grok==0.0.1)\n",
            "  Downloading docker_pycreds-0.4.0-py2.py3-none-any.whl (9.0 kB)\n",
            "Collecting pathtools (from wandb->sn-grok==0.0.1)\n",
            "  Downloading pathtools-0.1.2.tar.gz (11 kB)\n",
            "  Preparing metadata (setup.py) ... \u001b[?25l\u001b[?25hdone\n",
            "Collecting setproctitle (from wandb->sn-grok==0.0.1)\n",
            "  Downloading setproctitle-1.3.2-cp310-cp310-manylinux_2_5_x86_64.manylinux1_x86_64.manylinux_2_17_x86_64.manylinux2014_x86_64.whl (30 kB)\n",
            "Requirement already satisfied: setuptools in /usr/local/lib/python3.10/dist-packages (from wandb->sn-grok==0.0.1) (67.7.2)\n",
            "Requirement already satisfied: appdirs>=1.4.3 in /usr/local/lib/python3.10/dist-packages (from wandb->sn-grok==0.0.1) (1.4.4)\n",
            "Requirement already satisfied: protobuf!=4.21.0,<5,>=3.19.0 in /usr/local/lib/python3.10/dist-packages (from wandb->sn-grok==0.0.1) (3.20.3)\n",
            "Requirement already satisfied: six>=1.4.0 in /usr/local/lib/python3.10/dist-packages (from docker-pycreds>=0.4.0->wandb->sn-grok==0.0.1) (1.16.0)\n",
            "Collecting gitdb<5,>=4.0.1 (from GitPython!=3.1.29,>=1.0.0->wandb->sn-grok==0.0.1)\n",
            "  Downloading gitdb-4.0.10-py3-none-any.whl (62 kB)\n",
            "\u001b[2K     \u001b[90m━━━━━━━━━━━━━━━━━━━━━━━━━━━━━━━━━━━━━━━━\u001b[0m \u001b[32m62.7/62.7 kB\u001b[0m \u001b[31m6.5 MB/s\u001b[0m eta \u001b[36m0:00:00\u001b[0m\n",
            "\u001b[?25hRequirement already satisfied: urllib3<1.27,>=1.21.1 in /usr/local/lib/python3.10/dist-packages (from requests<3,>=2.0.0->wandb->sn-grok==0.0.1) (1.26.15)\n",
            "Requirement already satisfied: certifi>=2017.4.17 in /usr/local/lib/python3.10/dist-packages (from requests<3,>=2.0.0->wandb->sn-grok==0.0.1) (2022.12.7)\n",
            "Requirement already satisfied: charset-normalizer~=2.0.0 in /usr/local/lib/python3.10/dist-packages (from requests<3,>=2.0.0->wandb->sn-grok==0.0.1) (2.0.12)\n",
            "Requirement already satisfied: idna<4,>=2.5 in /usr/local/lib/python3.10/dist-packages (from requests<3,>=2.0.0->wandb->sn-grok==0.0.1) (3.4)\n",
            "Requirement already satisfied: catalogue<2.1.0,>=2.0.3 in /usr/local/lib/python3.10/dist-packages (from srsly<3.0.0,>=2.4.0->confection->sn-grok==0.0.1) (2.0.8)\n",
            "Requirement already satisfied: MarkupSafe>=2.0 in /usr/local/lib/python3.10/dist-packages (from jinja2->torch->sn-grok==0.0.1) (2.1.2)\n",
            "Requirement already satisfied: mpmath>=0.19 in /usr/local/lib/python3.10/dist-packages (from sympy->torch->sn-grok==0.0.1) (1.3.0)\n",
            "Collecting smmap<6,>=3.0.1 (from gitdb<5,>=4.0.1->GitPython!=3.1.29,>=1.0.0->wandb->sn-grok==0.0.1)\n",
            "  Downloading smmap-5.0.0-py3-none-any.whl (24 kB)\n",
            "Building wheels for collected packages: sn-grok, pathtools\n",
            "  Building wheel for sn-grok (pyproject.toml) ... \u001b[?25l\u001b[?25hdone\n",
            "  Created wheel for sn-grok: filename=sn_grok-0.0.1-py3-none-any.whl size=13734 sha256=32c194a4fdc8f87f30b15f09d299f491495b45e9e500d3171526210c26c66d7e\n",
            "  Stored in directory: /tmp/pip-ephem-wheel-cache-6low_rsx/wheels/2d/6c/59/c00bc829f7390669c51ae7d457e32e32162724b532ac3e5d0b\n",
            "  Building wheel for pathtools (setup.py) ... \u001b[?25l\u001b[?25hdone\n",
            "  Created wheel for pathtools: filename=pathtools-0.1.2-py3-none-any.whl size=8791 sha256=599351ef3a90bd40b48c4b7351476f6f0db887bc271a9e31e7a63d51b21724b3\n",
            "  Stored in directory: /root/.cache/pip/wheels/e7/f3/22/152153d6eb222ee7a56ff8617d80ee5207207a8c00a7aab794\n",
            "Successfully built sn-grok pathtools\n",
            "Installing collected packages: pathtools, smmap, setproctitle, sentry-sdk, einops, docker-pycreds, gitdb, GitPython, wandb, accelerate, sn-grok\n",
            "Successfully installed GitPython-3.1.31 accelerate-0.20.3 docker-pycreds-0.4.0 einops-0.6.1 gitdb-4.0.10 pathtools-0.1.2 sentry-sdk-1.25.1 setproctitle-1.3.2 smmap-5.0.0 sn-grok-0.0.1 wandb-0.15.4\n",
            "Looking in indexes: https://pypi.org/simple, https://us-python.pkg.dev/colab-wheels/public/simple/\n",
            "Collecting git+https://github.com/neelnanda-io/TransformerLens\n",
            "  Cloning https://github.com/neelnanda-io/TransformerLens to /tmp/pip-req-build-u0ncqu7e\n",
            "  Running command git clone --filter=blob:none --quiet https://github.com/neelnanda-io/TransformerLens /tmp/pip-req-build-u0ncqu7e\n",
            "  Resolved https://github.com/neelnanda-io/TransformerLens to commit ace84444a9ac8049e349839884b53b41d00780fe\n",
            "  Installing build dependencies ... \u001b[?25l\u001b[?25hdone\n",
            "  Getting requirements to build wheel ... \u001b[?25l\u001b[?25hdone\n",
            "  Preparing metadata (pyproject.toml) ... \u001b[?25l\u001b[?25hdone\n",
            "Collecting datasets>=2.7.1 (from transformer-lens==0.0.0)\n",
            "  Downloading datasets-2.13.0-py3-none-any.whl (485 kB)\n",
            "\u001b[2K     \u001b[90m━━━━━━━━━━━━━━━━━━━━━━━━━━━━━━━━━━━━━━━\u001b[0m \u001b[32m485.6/485.6 kB\u001b[0m \u001b[31m7.7 MB/s\u001b[0m eta \u001b[36m0:00:00\u001b[0m\n",
            "\u001b[?25hRequirement already satisfied: einops>=0.6.0 in /usr/local/lib/python3.10/dist-packages (from transformer-lens==0.0.0) (0.6.1)\n",
            "Collecting fancy-einsum>=0.0.3 (from transformer-lens==0.0.0)\n",
            "  Downloading fancy_einsum-0.0.3-py3-none-any.whl (6.2 kB)\n",
            "Collecting jaxtyping>=0.2.11 (from transformer-lens==0.0.0)\n",
            "  Downloading jaxtyping-0.2.20-py3-none-any.whl (24 kB)\n",
            "Requirement already satisfied: numpy>=1.23 in /usr/local/lib/python3.10/dist-packages (from transformer-lens==0.0.0) (1.25.0)\n",
            "Requirement already satisfied: pandas>=1.1.5 in /usr/local/lib/python3.10/dist-packages (from transformer-lens==0.0.0) (1.5.3)\n",
            "Requirement already satisfied: rich>=12.6.0 in /usr/local/lib/python3.10/dist-packages (from transformer-lens==0.0.0) (13.3.4)\n",
            "Requirement already satisfied: torch>=1.10 in /usr/local/lib/python3.10/dist-packages (from transformer-lens==0.0.0) (2.0.1+cu118)\n",
            "Requirement already satisfied: tqdm>=4.64.1 in /usr/local/lib/python3.10/dist-packages (from transformer-lens==0.0.0) (4.65.0)\n",
            "Collecting transformers>=4.25.1 (from transformer-lens==0.0.0)\n",
            "  Downloading transformers-4.30.2-py3-none-any.whl (7.2 MB)\n",
            "\u001b[2K     \u001b[90m━━━━━━━━━━━━━━━━━━━━━━━━━━━━━━━━━━━━━━━━\u001b[0m \u001b[32m7.2/7.2 MB\u001b[0m \u001b[31m28.2 MB/s\u001b[0m eta \u001b[36m0:00:00\u001b[0m\n",
            "\u001b[?25hCollecting typeguard<4.0.0,>=3.0.2 (from transformer-lens==0.0.0)\n",
            "  Downloading typeguard-3.0.2-py3-none-any.whl (30 kB)\n",
            "Requirement already satisfied: wandb>=0.13.5 in /usr/local/lib/python3.10/dist-packages (from transformer-lens==0.0.0) (0.15.4)\n",
            "Requirement already satisfied: pyarrow>=8.0.0 in /usr/local/lib/python3.10/dist-packages (from datasets>=2.7.1->transformer-lens==0.0.0) (9.0.0)\n",
            "Collecting dill<0.3.7,>=0.3.0 (from datasets>=2.7.1->transformer-lens==0.0.0)\n",
            "  Downloading dill-0.3.6-py3-none-any.whl (110 kB)\n",
            "\u001b[2K     \u001b[90m━━━━━━━━━━━━━━━━━━━━━━━━━━━━━━━━━━━━━━\u001b[0m \u001b[32m110.5/110.5 kB\u001b[0m \u001b[31m13.0 MB/s\u001b[0m eta \u001b[36m0:00:00\u001b[0m\n",
            "\u001b[?25hRequirement already satisfied: requests>=2.19.0 in /usr/local/lib/python3.10/dist-packages (from datasets>=2.7.1->transformer-lens==0.0.0) (2.27.1)\n",
            "Collecting xxhash (from datasets>=2.7.1->transformer-lens==0.0.0)\n",
            "  Downloading xxhash-3.2.0-cp310-cp310-manylinux_2_17_x86_64.manylinux2014_x86_64.whl (212 kB)\n",
            "\u001b[2K     \u001b[90m━━━━━━━━━━━━━━━━━━━━━━━━━━━━━━━━━━━━━━\u001b[0m \u001b[32m212.5/212.5 kB\u001b[0m \u001b[31m21.5 MB/s\u001b[0m eta \u001b[36m0:00:00\u001b[0m\n",
            "\u001b[?25hCollecting multiprocess (from datasets>=2.7.1->transformer-lens==0.0.0)\n",
            "  Downloading multiprocess-0.70.14-py310-none-any.whl (134 kB)\n",
            "\u001b[2K     \u001b[90m━━━━━━━━━━━━━━━━━━━━━━━━━━━━━━━━━━━━━━\u001b[0m \u001b[32m134.3/134.3 kB\u001b[0m \u001b[31m15.1 MB/s\u001b[0m eta \u001b[36m0:00:00\u001b[0m\n",
            "\u001b[?25hRequirement already satisfied: fsspec[http]>=2021.11.1 in /usr/local/lib/python3.10/dist-packages (from datasets>=2.7.1->transformer-lens==0.0.0) (2023.4.0)\n",
            "Collecting aiohttp (from datasets>=2.7.1->transformer-lens==0.0.0)\n",
            "  Downloading aiohttp-3.8.4-cp310-cp310-manylinux_2_17_x86_64.manylinux2014_x86_64.whl (1.0 MB)\n",
            "\u001b[2K     \u001b[90m━━━━━━━━━━━━━━━━━━━━━━━━━━━━━━━━━━━━━━━━\u001b[0m \u001b[32m1.0/1.0 MB\u001b[0m \u001b[31m20.5 MB/s\u001b[0m eta \u001b[36m0:00:00\u001b[0m\n",
            "\u001b[?25hCollecting huggingface-hub<1.0.0,>=0.11.0 (from datasets>=2.7.1->transformer-lens==0.0.0)\n",
            "  Downloading huggingface_hub-0.15.1-py3-none-any.whl (236 kB)\n",
            "\u001b[2K     \u001b[90m━━━━━━━━━━━━━━━━━━━━━━━━━━━━━━━━━━━━━━\u001b[0m \u001b[32m236.8/236.8 kB\u001b[0m \u001b[31m10.7 MB/s\u001b[0m eta \u001b[36m0:00:00\u001b[0m\n",
            "\u001b[?25hRequirement already satisfied: packaging in /usr/local/lib/python3.10/dist-packages (from datasets>=2.7.1->transformer-lens==0.0.0) (23.1)\n",
            "Requirement already satisfied: pyyaml>=5.1 in /usr/local/lib/python3.10/dist-packages (from datasets>=2.7.1->transformer-lens==0.0.0) (6.0)\n",
            "Requirement already satisfied: typing-extensions>=3.7.4.1 in /usr/local/lib/python3.10/dist-packages (from jaxtyping>=0.2.11->transformer-lens==0.0.0) (4.5.0)\n",
            "Requirement already satisfied: python-dateutil>=2.8.1 in /usr/local/lib/python3.10/dist-packages (from pandas>=1.1.5->transformer-lens==0.0.0) (2.8.2)\n",
            "Requirement already satisfied: pytz>=2020.1 in /usr/local/lib/python3.10/dist-packages (from pandas>=1.1.5->transformer-lens==0.0.0) (2022.7.1)\n",
            "Requirement already satisfied: markdown-it-py<3.0.0,>=2.2.0 in /usr/local/lib/python3.10/dist-packages (from rich>=12.6.0->transformer-lens==0.0.0) (2.2.0)\n",
            "Requirement already satisfied: pygments<3.0.0,>=2.13.0 in /usr/local/lib/python3.10/dist-packages (from rich>=12.6.0->transformer-lens==0.0.0) (2.14.0)\n",
            "Requirement already satisfied: filelock in /usr/local/lib/python3.10/dist-packages (from torch>=1.10->transformer-lens==0.0.0) (3.12.0)\n",
            "Requirement already satisfied: sympy in /usr/local/lib/python3.10/dist-packages (from torch>=1.10->transformer-lens==0.0.0) (1.11.1)\n",
            "Requirement already satisfied: networkx in /usr/local/lib/python3.10/dist-packages (from torch>=1.10->transformer-lens==0.0.0) (3.1)\n",
            "Requirement already satisfied: jinja2 in /usr/local/lib/python3.10/dist-packages (from torch>=1.10->transformer-lens==0.0.0) (3.1.2)\n",
            "Requirement already satisfied: triton==2.0.0 in /usr/local/lib/python3.10/dist-packages (from torch>=1.10->transformer-lens==0.0.0) (2.0.0)\n",
            "Requirement already satisfied: cmake in /usr/local/lib/python3.10/dist-packages (from triton==2.0.0->torch>=1.10->transformer-lens==0.0.0) (3.25.2)\n",
            "Requirement already satisfied: lit in /usr/local/lib/python3.10/dist-packages (from triton==2.0.0->torch>=1.10->transformer-lens==0.0.0) (16.0.5)\n",
            "Requirement already satisfied: regex!=2019.12.17 in /usr/local/lib/python3.10/dist-packages (from transformers>=4.25.1->transformer-lens==0.0.0) (2022.10.31)\n",
            "Collecting tokenizers!=0.11.3,<0.14,>=0.11.1 (from transformers>=4.25.1->transformer-lens==0.0.0)\n",
            "  Downloading tokenizers-0.13.3-cp310-cp310-manylinux_2_17_x86_64.manylinux2014_x86_64.whl (7.8 MB)\n",
            "\u001b[2K     \u001b[90m━━━━━━━━━━━━━━━━━━━━━━━━━━━━━━━━━━━━━━━━\u001b[0m \u001b[32m7.8/7.8 MB\u001b[0m \u001b[31m55.8 MB/s\u001b[0m eta \u001b[36m0:00:00\u001b[0m\n",
            "\u001b[?25hCollecting safetensors>=0.3.1 (from transformers>=4.25.1->transformer-lens==0.0.0)\n",
            "  Downloading safetensors-0.3.1-cp310-cp310-manylinux_2_17_x86_64.manylinux2014_x86_64.whl (1.3 MB)\n",
            "\u001b[2K     \u001b[90m━━━━━━━━━━━━━━━━━━━━━━━━━━━━━━━━━━━━━━━━\u001b[0m \u001b[32m1.3/1.3 MB\u001b[0m \u001b[31m26.4 MB/s\u001b[0m eta \u001b[36m0:00:00\u001b[0m\n",
            "\u001b[?25hRequirement already satisfied: Click!=8.0.0,>=7.0 in /usr/local/lib/python3.10/dist-packages (from wandb>=0.13.5->transformer-lens==0.0.0) (8.1.3)\n",
            "Requirement already satisfied: GitPython!=3.1.29,>=1.0.0 in /usr/local/lib/python3.10/dist-packages (from wandb>=0.13.5->transformer-lens==0.0.0) (3.1.31)\n",
            "Requirement already satisfied: psutil>=5.0.0 in /usr/local/lib/python3.10/dist-packages (from wandb>=0.13.5->transformer-lens==0.0.0) (5.9.5)\n",
            "Requirement already satisfied: sentry-sdk>=1.0.0 in /usr/local/lib/python3.10/dist-packages (from wandb>=0.13.5->transformer-lens==0.0.0) (1.25.1)\n",
            "Requirement already satisfied: docker-pycreds>=0.4.0 in /usr/local/lib/python3.10/dist-packages (from wandb>=0.13.5->transformer-lens==0.0.0) (0.4.0)\n",
            "Requirement already satisfied: pathtools in /usr/local/lib/python3.10/dist-packages (from wandb>=0.13.5->transformer-lens==0.0.0) (0.1.2)\n",
            "Requirement already satisfied: setproctitle in /usr/local/lib/python3.10/dist-packages (from wandb>=0.13.5->transformer-lens==0.0.0) (1.3.2)\n",
            "Requirement already satisfied: setuptools in /usr/local/lib/python3.10/dist-packages (from wandb>=0.13.5->transformer-lens==0.0.0) (67.7.2)\n",
            "Requirement already satisfied: appdirs>=1.4.3 in /usr/local/lib/python3.10/dist-packages (from wandb>=0.13.5->transformer-lens==0.0.0) (1.4.4)\n",
            "Requirement already satisfied: protobuf!=4.21.0,<5,>=3.19.0 in /usr/local/lib/python3.10/dist-packages (from wandb>=0.13.5->transformer-lens==0.0.0) (3.20.3)\n",
            "Requirement already satisfied: six>=1.4.0 in /usr/local/lib/python3.10/dist-packages (from docker-pycreds>=0.4.0->wandb>=0.13.5->transformer-lens==0.0.0) (1.16.0)\n",
            "Requirement already satisfied: attrs>=17.3.0 in /usr/local/lib/python3.10/dist-packages (from aiohttp->datasets>=2.7.1->transformer-lens==0.0.0) (23.1.0)\n",
            "Requirement already satisfied: charset-normalizer<4.0,>=2.0 in /usr/local/lib/python3.10/dist-packages (from aiohttp->datasets>=2.7.1->transformer-lens==0.0.0) (2.0.12)\n",
            "Collecting multidict<7.0,>=4.5 (from aiohttp->datasets>=2.7.1->transformer-lens==0.0.0)\n",
            "  Downloading multidict-6.0.4-cp310-cp310-manylinux_2_17_x86_64.manylinux2014_x86_64.whl (114 kB)\n",
            "\u001b[2K     \u001b[90m━━━━━━━━━━━━━━━━━━━━━━━━━━━━━━━━━━━━━━\u001b[0m \u001b[32m114.5/114.5 kB\u001b[0m \u001b[31m12.2 MB/s\u001b[0m eta \u001b[36m0:00:00\u001b[0m\n",
            "\u001b[?25hCollecting async-timeout<5.0,>=4.0.0a3 (from aiohttp->datasets>=2.7.1->transformer-lens==0.0.0)\n",
            "  Downloading async_timeout-4.0.2-py3-none-any.whl (5.8 kB)\n",
            "Collecting yarl<2.0,>=1.0 (from aiohttp->datasets>=2.7.1->transformer-lens==0.0.0)\n",
            "  Downloading yarl-1.9.2-cp310-cp310-manylinux_2_17_x86_64.manylinux2014_x86_64.whl (268 kB)\n",
            "\u001b[2K     \u001b[90m━━━━━━━━━━━━━━━━━━━━━━━━━━━━━━━━━━━━━━\u001b[0m \u001b[32m268.8/268.8 kB\u001b[0m \u001b[31m19.9 MB/s\u001b[0m eta \u001b[36m0:00:00\u001b[0m\n",
            "\u001b[?25hCollecting frozenlist>=1.1.1 (from aiohttp->datasets>=2.7.1->transformer-lens==0.0.0)\n",
            "  Downloading frozenlist-1.3.3-cp310-cp310-manylinux_2_5_x86_64.manylinux1_x86_64.manylinux_2_17_x86_64.manylinux2014_x86_64.whl (149 kB)\n",
            "\u001b[2K     \u001b[90m━━━━━━━━━━━━━━━━━━━━━━━━━━━━━━━━━━━━━━\u001b[0m \u001b[32m149.6/149.6 kB\u001b[0m \u001b[31m15.0 MB/s\u001b[0m eta \u001b[36m0:00:00\u001b[0m\n",
            "\u001b[?25hCollecting aiosignal>=1.1.2 (from aiohttp->datasets>=2.7.1->transformer-lens==0.0.0)\n",
            "  Downloading aiosignal-1.3.1-py3-none-any.whl (7.6 kB)\n",
            "Requirement already satisfied: gitdb<5,>=4.0.1 in /usr/local/lib/python3.10/dist-packages (from GitPython!=3.1.29,>=1.0.0->wandb>=0.13.5->transformer-lens==0.0.0) (4.0.10)\n",
            "Requirement already satisfied: mdurl~=0.1 in /usr/local/lib/python3.10/dist-packages (from markdown-it-py<3.0.0,>=2.2.0->rich>=12.6.0->transformer-lens==0.0.0) (0.1.2)\n",
            "Requirement already satisfied: urllib3<1.27,>=1.21.1 in /usr/local/lib/python3.10/dist-packages (from requests>=2.19.0->datasets>=2.7.1->transformer-lens==0.0.0) (1.26.15)\n",
            "Requirement already satisfied: certifi>=2017.4.17 in /usr/local/lib/python3.10/dist-packages (from requests>=2.19.0->datasets>=2.7.1->transformer-lens==0.0.0) (2022.12.7)\n",
            "Requirement already satisfied: idna<4,>=2.5 in /usr/local/lib/python3.10/dist-packages (from requests>=2.19.0->datasets>=2.7.1->transformer-lens==0.0.0) (3.4)\n",
            "Requirement already satisfied: MarkupSafe>=2.0 in /usr/local/lib/python3.10/dist-packages (from jinja2->torch>=1.10->transformer-lens==0.0.0) (2.1.2)\n",
            "Requirement already satisfied: mpmath>=0.19 in /usr/local/lib/python3.10/dist-packages (from sympy->torch>=1.10->transformer-lens==0.0.0) (1.3.0)\n",
            "Requirement already satisfied: smmap<6,>=3.0.1 in /usr/local/lib/python3.10/dist-packages (from gitdb<5,>=4.0.1->GitPython!=3.1.29,>=1.0.0->wandb>=0.13.5->transformer-lens==0.0.0) (5.0.0)\n",
            "Building wheels for collected packages: transformer-lens\n",
            "  Building wheel for transformer-lens (pyproject.toml) ... \u001b[?25l\u001b[?25hdone\n",
            "  Created wheel for transformer-lens: filename=transformer_lens-0.0.0-py3-none-any.whl size=101748 sha256=bd898f49c20bdd8234d6dbba4be39f287ad5942763b40630f488fc75a5522347\n",
            "  Stored in directory: /tmp/pip-ephem-wheel-cache-kpkqyb27/wheels/60/65/82/80e3fa068c7037d07b22230004d112265d6da4134423a3b753\n",
            "Successfully built transformer-lens\n",
            "Installing collected packages: tokenizers, safetensors, xxhash, typeguard, multidict, frozenlist, fancy-einsum, dill, async-timeout, yarl, multiprocess, jaxtyping, huggingface-hub, aiosignal, transformers, aiohttp, datasets, transformer-lens\n",
            "Successfully installed aiohttp-3.8.4 aiosignal-1.3.1 async-timeout-4.0.2 datasets-2.13.0 dill-0.3.6 fancy-einsum-0.0.3 frozenlist-1.3.3 huggingface-hub-0.15.1 jaxtyping-0.2.20 multidict-6.0.4 multiprocess-0.70.14 safetensors-0.3.1 tokenizers-0.13.3 transformer-lens-0.0.0 transformers-4.30.2 typeguard-3.0.2 xxhash-3.2.0 yarl-1.9.2\n",
            "Retrieving folder list\n",
            "Processing file 1qNAcQUEjTiaQLLAT3tlweDXTQvX7EIpW data_10.parquet\n",
            "Retrieving folder 1bcCcYHCFczLfU6b1KryXWYzqnKts9j-q model_0_data_10\n",
            "Processing file 1YxgaLmR8T8Zblf1lEC3FEmViLXKQB-6U 0.pth\n",
            "Processing file 1gbf4nRSmrz13YvGBqQmYV7kQwKkObAQR 2.pth\n",
            "Processing file 14TzQz0crMXPLdcPOYQgH-Lsvwxjt4Gww 4.pth\n",
            "Processing file 1U57OZ0Qg6ql2kDTE8a2eiys3J6DxIuBv 8.pth\n",
            "Processing file 1fOLhg_Ago_E7a2Rklo5goqFPPK66B_5h 16.pth\n",
            "Processing file 1FPCyv8wimV99zsLN3kqC6xNnWEe_fvyA 32.pth\n",
            "Processing file 14yfDmq2pXrN8LIdSYzbu12q9yUBA7zlx 64.pth\n",
            "Processing file 1EM_hohdJTeO7EIxpbFPv7pAqObQSS40T 128.pth\n",
            "Processing file 1IHsBk7z5J8grJ0WcHikY4VLgnS61-faT 512.pth\n",
            "Processing file 1Ahp3sjIAqCdS91pxDiEjs4nJ-805vaoZ 1024.pth\n",
            "Processing file 1ooVbrTI0PUA70HEbkanzlDRM0ENAtbQZ 2000.pth\n",
            "Processing file 1yLpfLjyLK-BGlqArk4os_IIXfS7k6oQU 4000.pth\n",
            "Processing file 1x6omVXcRXDdLdHpACvi4SiJZEah405jV 6000.pth\n",
            "Processing file 1PNCoC1E0ze9fR2EIkWymZWLHhKwLwCUY 8000.pth\n",
            "Processing file 1iPEY1iQZxgkHHQMBpJnksFPMNJwn6yEc 10000.pth\n",
            "Processing file 1U1NW0Cec6zuQWn0gdCr766Yrnr2ztRhe 12000.pth\n",
            "Processing file 1xk8HDv9NwU9qhI0Uyjg0oHZtxNtoG3zE 14000.pth\n",
            "Processing file 1HkXsNZmEcyawjGBBlmaM3LGwOUFMjDmv 16000.pth\n",
            "Processing file 195040XkqPuLtF7k4O41t7iZi450Re4nK 18000.pth\n",
            "Processing file 1ADxKQnBr6dhguYUyTtQskkb2ivK_WtD8 20000.pth\n",
            "Processing file 1icgu2b936wmt9j8B9uQCdpGZSqJw6miT 22000.pth\n",
            "Processing file 1E97W7FMi9k6wP68Jo3zeunK7TmMFrVjP 24000.pth\n",
            "Processing file 17K-1Bn0q30qGPvlugv2Rdh92tSaGd9MA full_run.pth\n",
            "Retrieving folder list completed\n",
            "Building directory structure\n",
            "Building directory structure completed\n",
            "Downloading...\n",
            "From: https://drive.google.com/uc?id=1qNAcQUEjTiaQLLAT3tlweDXTQvX7EIpW\n",
            "To: /content/colab_experiment/data_10.parquet\n",
            "100% 52.8k/52.8k [00:00<00:00, 67.7MB/s]\n",
            "Downloading...\n",
            "From: https://drive.google.com/uc?id=1YxgaLmR8T8Zblf1lEC3FEmViLXKQB-6U\n",
            "To: /content/colab_experiment/model_0_data_10/0.pth\n",
            "100% 1.72M/1.72M [00:00<00:00, 183MB/s]\n",
            "Downloading...\n",
            "From: https://drive.google.com/uc?id=1gbf4nRSmrz13YvGBqQmYV7kQwKkObAQR\n",
            "To: /content/colab_experiment/model_0_data_10/2.pth\n",
            "100% 1.72M/1.72M [00:00<00:00, 35.5MB/s]\n",
            "Downloading...\n",
            "From: https://drive.google.com/uc?id=14TzQz0crMXPLdcPOYQgH-Lsvwxjt4Gww\n",
            "To: /content/colab_experiment/model_0_data_10/4.pth\n",
            "100% 1.72M/1.72M [00:00<00:00, 43.3MB/s]\n",
            "Downloading...\n",
            "From: https://drive.google.com/uc?id=1U57OZ0Qg6ql2kDTE8a2eiys3J6DxIuBv\n",
            "To: /content/colab_experiment/model_0_data_10/8.pth\n",
            "100% 1.72M/1.72M [00:00<00:00, 126MB/s]\n",
            "Downloading...\n",
            "From: https://drive.google.com/uc?id=1fOLhg_Ago_E7a2Rklo5goqFPPK66B_5h\n",
            "To: /content/colab_experiment/model_0_data_10/16.pth\n",
            "100% 1.72M/1.72M [00:00<00:00, 88.6MB/s]\n",
            "Downloading...\n",
            "From: https://drive.google.com/uc?id=1FPCyv8wimV99zsLN3kqC6xNnWEe_fvyA\n",
            "To: /content/colab_experiment/model_0_data_10/32.pth\n",
            "100% 1.72M/1.72M [00:00<00:00, 30.1MB/s]\n",
            "Downloading...\n",
            "From: https://drive.google.com/uc?id=14yfDmq2pXrN8LIdSYzbu12q9yUBA7zlx\n",
            "To: /content/colab_experiment/model_0_data_10/64.pth\n",
            "100% 1.72M/1.72M [00:00<00:00, 176MB/s]\n",
            "Downloading...\n",
            "From: https://drive.google.com/uc?id=1EM_hohdJTeO7EIxpbFPv7pAqObQSS40T\n",
            "To: /content/colab_experiment/model_0_data_10/128.pth\n",
            "100% 1.72M/1.72M [00:00<00:00, 79.4MB/s]\n",
            "Downloading...\n",
            "From: https://drive.google.com/uc?id=1IHsBk7z5J8grJ0WcHikY4VLgnS61-faT\n",
            "To: /content/colab_experiment/model_0_data_10/512.pth\n",
            "100% 1.72M/1.72M [00:00<00:00, 80.1MB/s]\n",
            "Downloading...\n",
            "From: https://drive.google.com/uc?id=1Ahp3sjIAqCdS91pxDiEjs4nJ-805vaoZ\n",
            "To: /content/colab_experiment/model_0_data_10/1024.pth\n",
            "100% 1.72M/1.72M [00:00<00:00, 128MB/s]\n",
            "Downloading...\n",
            "From: https://drive.google.com/uc?id=1ooVbrTI0PUA70HEbkanzlDRM0ENAtbQZ\n",
            "To: /content/colab_experiment/model_0_data_10/2000.pth\n",
            "100% 1.72M/1.72M [00:00<00:00, 177MB/s]\n",
            "Downloading...\n",
            "From: https://drive.google.com/uc?id=1yLpfLjyLK-BGlqArk4os_IIXfS7k6oQU\n",
            "To: /content/colab_experiment/model_0_data_10/4000.pth\n",
            "100% 1.72M/1.72M [00:00<00:00, 95.3MB/s]\n",
            "Downloading...\n",
            "From: https://drive.google.com/uc?id=1x6omVXcRXDdLdHpACvi4SiJZEah405jV\n",
            "To: /content/colab_experiment/model_0_data_10/6000.pth\n",
            "100% 1.72M/1.72M [00:00<00:00, 26.6MB/s]\n",
            "Downloading...\n",
            "From: https://drive.google.com/uc?id=1PNCoC1E0ze9fR2EIkWymZWLHhKwLwCUY\n",
            "To: /content/colab_experiment/model_0_data_10/8000.pth\n",
            "100% 1.72M/1.72M [00:00<00:00, 65.9MB/s]\n",
            "Downloading...\n",
            "From: https://drive.google.com/uc?id=1iPEY1iQZxgkHHQMBpJnksFPMNJwn6yEc\n",
            "To: /content/colab_experiment/model_0_data_10/10000.pth\n",
            "100% 1.72M/1.72M [00:00<00:00, 193MB/s]\n",
            "Downloading...\n",
            "From: https://drive.google.com/uc?id=1U1NW0Cec6zuQWn0gdCr766Yrnr2ztRhe\n",
            "To: /content/colab_experiment/model_0_data_10/12000.pth\n",
            "100% 1.72M/1.72M [00:00<00:00, 115MB/s]\n",
            "Downloading...\n",
            "From: https://drive.google.com/uc?id=1xk8HDv9NwU9qhI0Uyjg0oHZtxNtoG3zE\n",
            "To: /content/colab_experiment/model_0_data_10/14000.pth\n",
            "100% 1.72M/1.72M [00:00<00:00, 76.5MB/s]\n",
            "Downloading...\n",
            "From: https://drive.google.com/uc?id=1HkXsNZmEcyawjGBBlmaM3LGwOUFMjDmv\n",
            "To: /content/colab_experiment/model_0_data_10/16000.pth\n",
            "100% 1.72M/1.72M [00:00<00:00, 157MB/s]\n",
            "Downloading...\n",
            "From: https://drive.google.com/uc?id=195040XkqPuLtF7k4O41t7iZi450Re4nK\n",
            "To: /content/colab_experiment/model_0_data_10/18000.pth\n",
            "100% 1.72M/1.72M [00:00<00:00, 108MB/s]\n",
            "Downloading...\n",
            "From: https://drive.google.com/uc?id=1ADxKQnBr6dhguYUyTtQskkb2ivK_WtD8\n",
            "To: /content/colab_experiment/model_0_data_10/20000.pth\n",
            "100% 1.72M/1.72M [00:00<00:00, 91.9MB/s]\n",
            "Downloading...\n",
            "From: https://drive.google.com/uc?id=1icgu2b936wmt9j8B9uQCdpGZSqJw6miT\n",
            "To: /content/colab_experiment/model_0_data_10/22000.pth\n",
            "100% 1.72M/1.72M [00:00<00:00, 110MB/s]\n",
            "Downloading...\n",
            "From: https://drive.google.com/uc?id=1E97W7FMi9k6wP68Jo3zeunK7TmMFrVjP\n",
            "To: /content/colab_experiment/model_0_data_10/24000.pth\n",
            "100% 1.72M/1.72M [00:00<00:00, 127MB/s]\n",
            "Downloading...\n",
            "From: https://drive.google.com/uc?id=17K-1Bn0q30qGPvlugv2Rdh92tSaGd9MA\n",
            "To: /content/colab_experiment/model_0_data_10/full_run.pth\n",
            "100% 13.1M/13.1M [00:00<00:00, 143MB/s]\n",
            "Download completed\n"
          ]
        }
      ],
      "source": [
        "! pip3 install numpy==1.25.0\n",
        "! pip3 install git+https://github.com/dashstander/sn-grok.git\n",
        "! pip3 install git+https://github.com/neelnanda-io/TransformerLens\n",
        "! gdown https://drive.google.com/drive/folders/1uLdwJEBqtWloM8T077yFFVTzbI7orVIb?usp=sharing --folder"
      ]
    },
    {
      "cell_type": "markdown",
      "metadata": {
        "id": "ajaWBmc14BMs"
      },
      "source": [
        "## Permutations\n",
        "\n",
        "### Intro\n",
        "\n",
        "The code to work with the symmetric group $S_n$ of permutations on $n$ objects in in `sngrok.permutations`. Permutations are given as zero indexed tuples in 1-line notation. You start with two-line notation, such as:\n",
        "\n",
        "$$ \\sigma = \\begin{pmatrix} 0 && 1 && 2 && 3 && 4 \\\\ 1 && 3 && 0 && 4 && 2\\end{pmatrix}$$\n",
        "\n",
        "Which represents the following map:\n",
        "\n",
        "$$ \\begin{align} \\sigma(0) ↦ 1 \\\\ \\sigma(1) ↦ 3 \\\\ \\sigma(2) ↦ 0 \\\\ \\sigma(4) ↦ 2 \\\\ \\end{align} $$\n",
        "\n",
        "which is to say two-line notation shows how the identity permutation is mapped to $\\sigma$. Since the identity is implicit, one-line notation just drops it:\n",
        "\n",
        "$$ \\sigma = \\begin{pmatrix} 1 && 3 && 0 && 4 && 2\\end{pmatrix}$$"
      ]
    },
    {
      "cell_type": "code",
      "execution_count": 1,
      "metadata": {
        "colab": {
          "base_uri": "https://localhost:8080/"
        },
        "id": "vi7lhzNB3DNO",
        "outputId": "99467fa6-bcfb-4fb5-d436-7bdce71b7cdc"
      },
      "outputs": [
        {
          "output_type": "stream",
          "name": "stdout",
          "text": [
            "Disjoint cycles commute\n",
            "(1, 0, 2, 3, 4) * (0, 1, 2, 4, 3) == (1, 0, 2, 4, 3)\n",
            "But in general the products don't commute\n",
            "(1, 3, 0, 4, 2) * (0, 1, 2, 4, 3) == (1, 4, 0, 3, 2)\n",
            "(0, 1, 2, 4, 3) * (1, 3, 0, 4, 2) == (1, 3, 0, 2, 4)\n"
          ]
        }
      ],
      "source": [
        "from sngrok.permutations import Permutation, make_permutation_dataset, generate_subgroup\n",
        "\n",
        "\n",
        "# Permutations are zero-indexed, given in 1-line notation\n",
        "ident = Permutation((0, 1, 2, 3, 4))\n",
        "transpose01 = Permutation((1, 0, 2, 3, 4))\n",
        "transpose34 = Permutation((0, 1, 2, 4, 3))\n",
        "five_cycle = Permutation((1, 3, 0, 4, 2))\n",
        "\n",
        "print(\"Disjoint cycles commute\")\n",
        "print(f'{transpose01} * {transpose34} == {transpose01 * transpose34}')\n",
        "assert transpose01 * transpose34 == transpose34 * transpose01\n",
        "print(\"But in general the products don't commute\")\n",
        "print(f'{five_cycle} * {transpose34} == {five_cycle * transpose34}')\n",
        "print(f'{transpose34} * {five_cycle} == {transpose34 * five_cycle}')\n"
      ]
    },
    {
      "cell_type": "code",
      "execution_count": 2,
      "metadata": {
        "colab": {
          "base_uri": "https://localhost:8080/"
        },
        "id": "wuCTcjvF5T_-",
        "outputId": "e2803cc8-8cfd-47ce-93f1-755cf69b41cd"
      },
      "outputs": [
        {
          "output_type": "stream",
          "name": "stdout",
          "text": [
            "5\n",
            "[(1, 3, 0, 4, 2), (3, 4, 1, 2, 0), (4, 2, 3, 0, 1), (2, 0, 4, 1, 3), (0, 1, 2, 3, 4)]\n"
          ]
        }
      ],
      "source": [
        "# Can easily get the order of a permutation\n",
        "print(five_cycle.order)\n",
        "# And can use exponent notation\n",
        "print([five_cycle ** i for i in range(1, five_cycle.order + 1)])"
      ]
    },
    {
      "cell_type": "code",
      "execution_count": 3,
      "metadata": {
        "colab": {
          "base_uri": "https://localhost:8080/"
        },
        "id": "3p7Y-f4d-wP9",
        "outputId": "8dcee280-c99f-495e-f63a-4bd28e02e355"
      },
      "outputs": [
        {
          "output_type": "stream",
          "name": "stdout",
          "text": [
            "(0, 1, 2, 4, 3) --> [(3, 4), (2,), (1,), (0,)]\n",
            "(1, 3, 0, 4, 2) --> [(0, 2, 4, 3, 1)]\n"
          ]
        }
      ],
      "source": [
        "# Can also get the cycle representation\n",
        "print(f'{transpose34} --> {transpose34.cycle_rep}')\n",
        "print(f'{five_cycle} --> {five_cycle.cycle_rep}')"
      ]
    },
    {
      "cell_type": "markdown",
      "metadata": {
        "id": "WaWl9dJ960ht"
      },
      "source": [
        "### Subgroups and Cosets"
      ]
    },
    {
      "cell_type": "code",
      "execution_count": 4,
      "metadata": {
        "colab": {
          "base_uri": "https://localhost:8080/"
        },
        "id": "PkFRmBLd6Qmt",
        "outputId": "cbe2f3b0-7781-4f0b-af95-a783813b1e18"
      },
      "outputs": [
        {
          "output_type": "stream",
          "name": "stdout",
          "text": [
            "(0, 1, 3, 4, 2)\t(0, 2, 1, 3, 4)\t(0, 4, 2, 3, 1)\t(0, 4, 3, 2, 1)\n",
            "(0, 2, 3, 4, 1)\t(0, 2, 4, 3, 1)\t(0, 1, 3, 2, 4)\t(0, 4, 2, 1, 3)\n",
            "(0, 4, 3, 1, 2)\t(0, 3, 2, 4, 1)\t(0, 2, 4, 1, 3)\t(0, 3, 1, 4, 2)\n",
            "(0, 3, 4, 2, 1)\t(0, 3, 4, 1, 2)\t(0, 2, 3, 1, 4)\t(0, 1, 4, 3, 2)\n",
            "(0, 3, 1, 2, 4)\t(0, 4, 1, 3, 2)\t(0, 1, 2, 4, 3)\t(0, 4, 1, 2, 3)\n",
            "(0, 1, 4, 2, 3)\t(0, 3, 2, 1, 4)\t(0, 2, 1, 4, 3)\t(0, 1, 2, 3, 4)\n"
          ]
        }
      ],
      "source": [
        "from itertools import islice\n",
        "# generate a subgroup of a symmetric group with a set of generators\n",
        "\n",
        "def batched(iterable, n):\n",
        "    if n < 1:\n",
        "        raise ValueError('n must be at least one')\n",
        "    it = iter(iterable)\n",
        "    while batch := tuple(islice(it, n)):\n",
        "        yield batch\n",
        "\n",
        "# This is the copy of S_4 in S_5 that fixes 0 in the 0th place\n",
        "# Products of (0, 2, 3, 4, 1) and (0, 2, 1, 3, 4) (and their inverses) generate all of S_4\n",
        "# See e.g. https://groupprops.subwiki.org/wiki/Symmetric_group:S5#Table_classifying_subgroups_up_to_automorphisms\n",
        "# for info on subgroups and generators\n",
        "fixes_0 = generate_subgroup([(0, 2, 3, 4, 1), (0, 2, 1, 3, 4)])\n",
        "for batch in batched(fixes_0, 4):\n",
        "    print('\\t'.join([str(perm) for perm in batch]))\n"
      ]
    },
    {
      "cell_type": "code",
      "execution_count": 5,
      "metadata": {
        "id": "lgkvpRYJ03Md"
      },
      "outputs": [],
      "source": [
        "from itertools import product\n",
        "\n",
        "# The code for generating a subgroup is really dumb.\n",
        "def _generate_subgroup(generators: list[tuple[int]]):\n",
        "    group_size = 0\n",
        "    # You start with the set of generators that you're given (as a list of permutation tuples)\n",
        "    all_perms = set(generators)\n",
        "    while group_size < len(all_perms):\n",
        "        # The loop stops when all of the multiplications happen and no new permutations appear\n",
        "        # i.e. we have a subgroup that's closed under multiplication.\n",
        "        # May still output the entire group\n",
        "        group_size = len(all_perms)\n",
        "        perms = [Permutation(p) for p in all_perms]\n",
        "        for perm1, perm2 in product(perms, repeat=2):\n",
        "            perm3 = perm1 * perm2\n",
        "            # all_perms is a set, so handles duplicates\n",
        "            # perm3.sigma returns the underlying tuple from the permutation\n",
        "            all_perms.add(perm3.sigma)\n",
        "    return list(all_perms)"
      ]
    },
    {
      "cell_type": "markdown",
      "metadata": {
        "id": "j32b0T_G2RCS"
      },
      "source": []
    },
    {
      "cell_type": "code",
      "execution_count": 6,
      "metadata": {
        "id": "ry7q3hJ760SV"
      },
      "outputs": [],
      "source": [
        "from functools import reduce\n",
        "\n",
        "def union(cosets):\n",
        "    \"\"\"Helper function to take the full union of a list of sets\n",
        "    \"\"\"\n",
        "    if len(cosets) == 0:\n",
        "        return cosets\n",
        "    else:\n",
        "        return reduce(lambda x, y: set(x).union(set(y)), cosets)\n",
        "\n",
        "\n",
        "def get_left_cosets(subgroup, n):\n",
        "    \"\"\" Quick and dirt way to calculate left cosets\n",
        "    \"\"\"\n",
        "    # All `n!` elements of Sn\n",
        "    Sn =  Permutation.full_group(n)\n",
        "    # Keep track of the whole thing as a set.\n",
        "    all_sn = set([s.sigma for s in Sn])\n",
        "    perms = [Permutation(s) for s in subgroup]\n",
        "    cosets = set()\n",
        "    # We know we're done when the union of all of the cosets covers all of Sn\n",
        "    while union(cosets) != all_sn:\n",
        "        left = Sn.pop()\n",
        "        # Translate the subgroup by an element of Sn we haven't used yet\n",
        "        coset = tuple(sorted([(left * s).sigma for s in perms]))\n",
        "        # So a set of tuples of tuples\n",
        "        cosets.add(coset)\n",
        "    return cosets\n",
        "\n",
        "\n",
        "def get_right_cosets(subgroup, n):\n",
        "    \"\"\" Quick and dirt way to calculate right cosets\n",
        "    Same as above, with\n",
        "    \"\"\"\n",
        "    Sn =  Permutation.full_group(n)\n",
        "    all_sn = set([s.sigma for s in Sn])\n",
        "    perms = [Permutation(s) for s in subgroup]\n",
        "    cosets = set()\n",
        "    while union(cosets) != all_sn:\n",
        "        right = Sn.pop()\n",
        "        # See, now we're just multiplying our element on the _right_\n",
        "        coset = tuple(sorted([(s * right).sigma for s in perms]))\n",
        "        cosets.add(coset)\n",
        "    return cosets\n"
      ]
    },
    {
      "cell_type": "code",
      "execution_count": 7,
      "metadata": {
        "colab": {
          "base_uri": "https://localhost:8080/"
        },
        "id": "B4xHaWUU9POG",
        "outputId": "027af4a5-e08d-4165-c800-198dca0fd4d5"
      },
      "outputs": [
        {
          "output_type": "stream",
          "name": "stdout",
          "text": [
            "All of the left cosets. They are organized by what index 0 is in\n",
            "##################################\n",
            "##################################\n",
            "(1, 2, 3, 0, 4)\t(1, 2, 4, 0, 3)\t(1, 3, 2, 0, 4)\t(1, 3, 4, 0, 2)\n",
            "(1, 4, 2, 0, 3)\t(1, 4, 3, 0, 2)\t(2, 1, 3, 0, 4)\t(2, 1, 4, 0, 3)\n",
            "(2, 3, 1, 0, 4)\t(2, 3, 4, 0, 1)\t(2, 4, 1, 0, 3)\t(2, 4, 3, 0, 1)\n",
            "(3, 1, 2, 0, 4)\t(3, 1, 4, 0, 2)\t(3, 2, 1, 0, 4)\t(3, 2, 4, 0, 1)\n",
            "(3, 4, 1, 0, 2)\t(3, 4, 2, 0, 1)\t(4, 1, 2, 0, 3)\t(4, 1, 3, 0, 2)\n",
            "(4, 2, 1, 0, 3)\t(4, 2, 3, 0, 1)\t(4, 3, 1, 0, 2)\t(4, 3, 2, 0, 1)\n",
            "##################################\n",
            "##################################\n",
            "(1, 2, 0, 3, 4)\t(1, 2, 0, 4, 3)\t(1, 3, 0, 2, 4)\t(1, 3, 0, 4, 2)\n",
            "(1, 4, 0, 2, 3)\t(1, 4, 0, 3, 2)\t(2, 1, 0, 3, 4)\t(2, 1, 0, 4, 3)\n",
            "(2, 3, 0, 1, 4)\t(2, 3, 0, 4, 1)\t(2, 4, 0, 1, 3)\t(2, 4, 0, 3, 1)\n",
            "(3, 1, 0, 2, 4)\t(3, 1, 0, 4, 2)\t(3, 2, 0, 1, 4)\t(3, 2, 0, 4, 1)\n",
            "(3, 4, 0, 1, 2)\t(3, 4, 0, 2, 1)\t(4, 1, 0, 2, 3)\t(4, 1, 0, 3, 2)\n",
            "(4, 2, 0, 1, 3)\t(4, 2, 0, 3, 1)\t(4, 3, 0, 1, 2)\t(4, 3, 0, 2, 1)\n",
            "##################################\n",
            "##################################\n",
            "(1, 0, 2, 3, 4)\t(1, 0, 2, 4, 3)\t(1, 0, 3, 2, 4)\t(1, 0, 3, 4, 2)\n",
            "(1, 0, 4, 2, 3)\t(1, 0, 4, 3, 2)\t(2, 0, 1, 3, 4)\t(2, 0, 1, 4, 3)\n",
            "(2, 0, 3, 1, 4)\t(2, 0, 3, 4, 1)\t(2, 0, 4, 1, 3)\t(2, 0, 4, 3, 1)\n",
            "(3, 0, 1, 2, 4)\t(3, 0, 1, 4, 2)\t(3, 0, 2, 1, 4)\t(3, 0, 2, 4, 1)\n",
            "(3, 0, 4, 1, 2)\t(3, 0, 4, 2, 1)\t(4, 0, 1, 2, 3)\t(4, 0, 1, 3, 2)\n",
            "(4, 0, 2, 1, 3)\t(4, 0, 2, 3, 1)\t(4, 0, 3, 1, 2)\t(4, 0, 3, 2, 1)\n",
            "##################################\n",
            "##################################\n",
            "(1, 2, 3, 4, 0)\t(1, 2, 4, 3, 0)\t(1, 3, 2, 4, 0)\t(1, 3, 4, 2, 0)\n",
            "(1, 4, 2, 3, 0)\t(1, 4, 3, 2, 0)\t(2, 1, 3, 4, 0)\t(2, 1, 4, 3, 0)\n",
            "(2, 3, 1, 4, 0)\t(2, 3, 4, 1, 0)\t(2, 4, 1, 3, 0)\t(2, 4, 3, 1, 0)\n",
            "(3, 1, 2, 4, 0)\t(3, 1, 4, 2, 0)\t(3, 2, 1, 4, 0)\t(3, 2, 4, 1, 0)\n",
            "(3, 4, 1, 2, 0)\t(3, 4, 2, 1, 0)\t(4, 1, 2, 3, 0)\t(4, 1, 3, 2, 0)\n",
            "(4, 2, 1, 3, 0)\t(4, 2, 3, 1, 0)\t(4, 3, 1, 2, 0)\t(4, 3, 2, 1, 0)\n",
            "##################################\n",
            "##################################\n",
            "(0, 1, 2, 3, 4)\t(0, 1, 2, 4, 3)\t(0, 1, 3, 2, 4)\t(0, 1, 3, 4, 2)\n",
            "(0, 1, 4, 2, 3)\t(0, 1, 4, 3, 2)\t(0, 2, 1, 3, 4)\t(0, 2, 1, 4, 3)\n",
            "(0, 2, 3, 1, 4)\t(0, 2, 3, 4, 1)\t(0, 2, 4, 1, 3)\t(0, 2, 4, 3, 1)\n",
            "(0, 3, 1, 2, 4)\t(0, 3, 1, 4, 2)\t(0, 3, 2, 1, 4)\t(0, 3, 2, 4, 1)\n",
            "(0, 3, 4, 1, 2)\t(0, 3, 4, 2, 1)\t(0, 4, 1, 2, 3)\t(0, 4, 1, 3, 2)\n",
            "(0, 4, 2, 1, 3)\t(0, 4, 2, 3, 1)\t(0, 4, 3, 1, 2)\t(0, 4, 3, 2, 1)\n"
          ]
        }
      ],
      "source": [
        "lcos = get_left_cosets(fixes_0, 5)\n",
        "print(\"All of the left cosets. They are organized by what index 0 is in\")\n",
        "for coset in lcos:\n",
        "    print('##################################\\n##################################')\n",
        "    for batch in batched(coset, 4):\n",
        "        print('\\t'.join([str(perm) for perm in batch]))"
      ]
    },
    {
      "cell_type": "code",
      "execution_count": 8,
      "metadata": {
        "colab": {
          "base_uri": "https://localhost:8080/"
        },
        "id": "nNGqXwCN-NXs",
        "outputId": "16275dd8-f0d9-4c1d-9cc4-4c2b3dffd859"
      },
      "outputs": [
        {
          "output_type": "stream",
          "name": "stdout",
          "text": [
            "All of the right cosets. They are organized by what number is in the 0th position\n",
            "##################################\n",
            "##################################\n",
            "(3, 0, 1, 2, 4)\t(3, 0, 1, 4, 2)\t(3, 0, 2, 1, 4)\t(3, 0, 2, 4, 1)\n",
            "(3, 0, 4, 1, 2)\t(3, 0, 4, 2, 1)\t(3, 1, 0, 2, 4)\t(3, 1, 0, 4, 2)\n",
            "(3, 1, 2, 0, 4)\t(3, 1, 2, 4, 0)\t(3, 1, 4, 0, 2)\t(3, 1, 4, 2, 0)\n",
            "(3, 2, 0, 1, 4)\t(3, 2, 0, 4, 1)\t(3, 2, 1, 0, 4)\t(3, 2, 1, 4, 0)\n",
            "(3, 2, 4, 0, 1)\t(3, 2, 4, 1, 0)\t(3, 4, 0, 1, 2)\t(3, 4, 0, 2, 1)\n",
            "(3, 4, 1, 0, 2)\t(3, 4, 1, 2, 0)\t(3, 4, 2, 0, 1)\t(3, 4, 2, 1, 0)\n",
            "##################################\n",
            "##################################\n",
            "(2, 0, 1, 3, 4)\t(2, 0, 1, 4, 3)\t(2, 0, 3, 1, 4)\t(2, 0, 3, 4, 1)\n",
            "(2, 0, 4, 1, 3)\t(2, 0, 4, 3, 1)\t(2, 1, 0, 3, 4)\t(2, 1, 0, 4, 3)\n",
            "(2, 1, 3, 0, 4)\t(2, 1, 3, 4, 0)\t(2, 1, 4, 0, 3)\t(2, 1, 4, 3, 0)\n",
            "(2, 3, 0, 1, 4)\t(2, 3, 0, 4, 1)\t(2, 3, 1, 0, 4)\t(2, 3, 1, 4, 0)\n",
            "(2, 3, 4, 0, 1)\t(2, 3, 4, 1, 0)\t(2, 4, 0, 1, 3)\t(2, 4, 0, 3, 1)\n",
            "(2, 4, 1, 0, 3)\t(2, 4, 1, 3, 0)\t(2, 4, 3, 0, 1)\t(2, 4, 3, 1, 0)\n",
            "##################################\n",
            "##################################\n",
            "(1, 0, 2, 3, 4)\t(1, 0, 2, 4, 3)\t(1, 0, 3, 2, 4)\t(1, 0, 3, 4, 2)\n",
            "(1, 0, 4, 2, 3)\t(1, 0, 4, 3, 2)\t(1, 2, 0, 3, 4)\t(1, 2, 0, 4, 3)\n",
            "(1, 2, 3, 0, 4)\t(1, 2, 3, 4, 0)\t(1, 2, 4, 0, 3)\t(1, 2, 4, 3, 0)\n",
            "(1, 3, 0, 2, 4)\t(1, 3, 0, 4, 2)\t(1, 3, 2, 0, 4)\t(1, 3, 2, 4, 0)\n",
            "(1, 3, 4, 0, 2)\t(1, 3, 4, 2, 0)\t(1, 4, 0, 2, 3)\t(1, 4, 0, 3, 2)\n",
            "(1, 4, 2, 0, 3)\t(1, 4, 2, 3, 0)\t(1, 4, 3, 0, 2)\t(1, 4, 3, 2, 0)\n",
            "##################################\n",
            "##################################\n",
            "(4, 0, 1, 2, 3)\t(4, 0, 1, 3, 2)\t(4, 0, 2, 1, 3)\t(4, 0, 2, 3, 1)\n",
            "(4, 0, 3, 1, 2)\t(4, 0, 3, 2, 1)\t(4, 1, 0, 2, 3)\t(4, 1, 0, 3, 2)\n",
            "(4, 1, 2, 0, 3)\t(4, 1, 2, 3, 0)\t(4, 1, 3, 0, 2)\t(4, 1, 3, 2, 0)\n",
            "(4, 2, 0, 1, 3)\t(4, 2, 0, 3, 1)\t(4, 2, 1, 0, 3)\t(4, 2, 1, 3, 0)\n",
            "(4, 2, 3, 0, 1)\t(4, 2, 3, 1, 0)\t(4, 3, 0, 1, 2)\t(4, 3, 0, 2, 1)\n",
            "(4, 3, 1, 0, 2)\t(4, 3, 1, 2, 0)\t(4, 3, 2, 0, 1)\t(4, 3, 2, 1, 0)\n",
            "##################################\n",
            "##################################\n",
            "(0, 1, 2, 3, 4)\t(0, 1, 2, 4, 3)\t(0, 1, 3, 2, 4)\t(0, 1, 3, 4, 2)\n",
            "(0, 1, 4, 2, 3)\t(0, 1, 4, 3, 2)\t(0, 2, 1, 3, 4)\t(0, 2, 1, 4, 3)\n",
            "(0, 2, 3, 1, 4)\t(0, 2, 3, 4, 1)\t(0, 2, 4, 1, 3)\t(0, 2, 4, 3, 1)\n",
            "(0, 3, 1, 2, 4)\t(0, 3, 1, 4, 2)\t(0, 3, 2, 1, 4)\t(0, 3, 2, 4, 1)\n",
            "(0, 3, 4, 1, 2)\t(0, 3, 4, 2, 1)\t(0, 4, 1, 2, 3)\t(0, 4, 1, 3, 2)\n",
            "(0, 4, 2, 1, 3)\t(0, 4, 2, 3, 1)\t(0, 4, 3, 1, 2)\t(0, 4, 3, 2, 1)\n"
          ]
        }
      ],
      "source": [
        "rcos = get_right_cosets(fixes_0, 5)\n",
        "print(\"All of the right cosets. They are organized by what number is in the 0th position\")\n",
        "for coset in rcos:\n",
        "    print('##################################\\n##################################')\n",
        "    for batch in batched(coset, 4):\n",
        "        print('\\t'.join([str(perm) for perm in batch]))"
      ]
    },
    {
      "cell_type": "markdown",
      "metadata": {
        "id": "LNdOOeIr3MJn"
      },
      "source": [
        "## Fourier Analysis\n",
        "\n",
        "Refer to [chapters 1 and 2 or Risi Kondor's thesis](https://people.cs.uchicago.edu/~risi/papers/KondorThesis.pdf) or to [this monograph by Persi Diaconis](https://jdc.math.uwo.ca/M9140a-2012-summer/Diaconis.pdf) for a more thorough treatment of Fourier analysis on groups.\n",
        "\n",
        "\n",
        "For our purposes, the necessary code is in `sngrok.irreps` and `sngrok.fourier`.\n",
        "\n",
        "Consider a function $f: S_{3} \\rightarrow \\mathbb{R}$, like this:\n",
        "\n",
        "$$\\begin{align}\n",
        "f( (0, 1, 2)) &= 2.5 \\\\\n",
        "f( (1, 2, 0)) &= 0.5 \\\\\n",
        "f( (2, 0, 1)) &= 0 \\\\\n",
        "f( (0, 2, 1)) &= 1 \\\\\n",
        "f( (1, 0, 2)) &= 3.5 \\\\\n",
        "f( (2, 1, 0)) &= 4 \\\\\n",
        "\\end{align}$$"
      ]
    },
    {
      "cell_type": "code",
      "execution_count": 9,
      "metadata": {
        "id": "mSbiil9O-mz8"
      },
      "outputs": [],
      "source": [
        "import numpy as np\n",
        "\n",
        "# In the code we just represent a function like that as an array\n",
        "f = np.array([2.5, 0.5, 0, 1, 3.5, 4])"
      ]
    },
    {
      "cell_type": "markdown",
      "metadata": {
        "id": "AHZen5U3-N_D"
      },
      "source": [
        "### Irreducible Representations"
      ]
    },
    {
      "cell_type": "code",
      "execution_count": 10,
      "metadata": {
        "colab": {
          "base_uri": "https://localhost:8080/"
        },
        "id": "bNT5iB_A4y2V",
        "outputId": "a58d432f-a543-4249-b5ff-28d7c9ad33bf"
      },
      "outputs": [
        {
          "output_type": "stream",
          "name": "stdout",
          "text": [
            "(1, 0, 2)\n",
            "[[1.]]\n",
            "#############\n",
            "(0, 2, 1)\n",
            "[[1.]]\n",
            "#############\n",
            "(2, 1, 0)\n",
            "[[1.]]\n",
            "#############\n",
            "(0, 1, 2)\n",
            "[[1.]]\n",
            "#############\n",
            "(1, 2, 0)\n",
            "[[1.]]\n",
            "#############\n",
            "(2, 0, 1)\n",
            "[[1.]]\n",
            "#############\n"
          ]
        }
      ],
      "source": [
        "from sngrok.irreps import SnIrrep\n",
        "\n",
        "# The irreducible representations of Sn are indexed by the number of partitions of n\n",
        "# For S3, that is, (1, 1, 1), (3,), and (2, 1)\n",
        "\n",
        "# All ones is always the trivial representation\n",
        "irrep111 = SnIrrep(3, (1, 1, 1)).matrix_representations()\n",
        "\n",
        "# The irreps are stored as a dictionary with permutation (tuple) keys and numpy /\n",
        "# torch matrix values\n",
        "# The trivial representation is just ones\n",
        "for perm, irrep in irrep111.items():\n",
        "    print(perm)\n",
        "    print(irrep)\n",
        "    print('#############')"
      ]
    },
    {
      "cell_type": "code",
      "execution_count": 11,
      "metadata": {
        "colab": {
          "base_uri": "https://localhost:8080/"
        },
        "id": "vIpAg3_f6dIU",
        "outputId": "7e1136d8-ea6c-4016-80ce-2f16daad55a0"
      },
      "outputs": [
        {
          "output_type": "stream",
          "name": "stdout",
          "text": [
            "(1, 0, 2)\n",
            "[[-1.]]\n",
            "#############\n",
            "(0, 2, 1)\n",
            "[[-1.]]\n",
            "#############\n",
            "(2, 1, 0)\n",
            "[[-1.]]\n",
            "#############\n",
            "(0, 1, 2)\n",
            "[[1.]]\n",
            "#############\n",
            "(1, 2, 0)\n",
            "[[1.]]\n",
            "#############\n",
            "(2, 0, 1)\n",
            "[[1.]]\n",
            "#############\n"
          ]
        }
      ],
      "source": [
        "# the (n,) irrep is the _alternating_ representation\n",
        "# Even permutations get 1.0 and odd permutations get -1\n",
        "irrep3 = SnIrrep(3, (3,)).matrix_representations()\n",
        "for perm, irrep in irrep3.items():\n",
        "    print(perm)\n",
        "    print(irrep)\n",
        "    print('#############')"
      ]
    },
    {
      "cell_type": "code",
      "execution_count": 12,
      "metadata": {
        "colab": {
          "base_uri": "https://localhost:8080/"
        },
        "id": "MIR-cHGz66Cq",
        "outputId": "296f29bc-ec6f-4288-a519-8e8375767469"
      },
      "outputs": [
        {
          "output_type": "stream",
          "name": "stdout",
          "text": [
            "(1, 0, 2)\n",
            "[[-1.  0.]\n",
            " [ 0.  1.]]\n",
            "#############\n",
            "(0, 2, 1)\n",
            "[[ 0.5        0.8660254]\n",
            " [ 0.8660254 -0.5      ]]\n",
            "#############\n",
            "(2, 1, 0)\n",
            "[[ 0.5       -0.8660254]\n",
            " [-0.8660254 -0.5      ]]\n",
            "#############\n",
            "(0, 1, 2)\n",
            "[[1. 0.]\n",
            " [0. 1.]]\n",
            "#############\n",
            "(1, 2, 0)\n",
            "[[-0.5        0.8660254]\n",
            " [-0.8660254 -0.5      ]]\n",
            "#############\n",
            "(2, 0, 1)\n",
            "[[-0.5       -0.8660254]\n",
            " [ 0.8660254 -0.5      ]]\n",
            "#############\n"
          ]
        }
      ],
      "source": [
        "# The other irreps are where things get interesting\n",
        "# The only other irrep for S3 is (2, 1)\n",
        "irrep21 = SnIrrep(3, (2, 1)).matrix_representations()\n",
        "for perm, irrep in irrep21.items():\n",
        "    print(perm)\n",
        "    print(irrep)\n",
        "    print('#############')"
      ]
    },
    {
      "cell_type": "code",
      "execution_count": 13,
      "metadata": {
        "id": "roYMNUES7lrx"
      },
      "outputs": [],
      "source": [
        "# But you can check that matrix multplication of the irreps corresponds to group multiplication\n",
        "S3 = Permutation.full_group(3)\n",
        "for perm1, perm2 in product(S3, S3):\n",
        "    # group mult\n",
        "    perm_prod = perm1 * perm2\n",
        "    # again, using perm.sigma to get the underlying tuple\n",
        "    mat1 = irrep21[perm1.sigma]\n",
        "    mat2 = irrep21[perm2.sigma]\n",
        "    # corresponding matrix multiplication\n",
        "    mat_prod = mat1 @ mat2\n",
        "    assert np.allclose(irrep21[perm_prod.sigma], mat_prod)\n"
      ]
    },
    {
      "cell_type": "markdown",
      "metadata": {
        "id": "GDXmC8vV-SVr"
      },
      "source": [
        "### Fourier Transform\n",
        "\n",
        "The Fourier transform on $S_{n}$ take a function $f: S_n \\rightarrow \\mathbb{R}$ and returns a new function $\\hat{f}$ that maps _irreducible representations_ of $S_{n}$ to $\\mathbb{R}$"
      ]
    },
    {
      "cell_type": "code",
      "execution_count": 14,
      "metadata": {
        "colab": {
          "base_uri": "https://localhost:8080/"
        },
        "id": "1bSfTQo38fto",
        "outputId": "8adae52c-aade-4934-86de-613a56316a70"
      },
      "outputs": [
        {
          "output_type": "stream",
          "name": "stderr",
          "text": [
            "/usr/local/lib/python3.10/dist-packages/torch/_functorch/deprecated.py:58: UserWarning: We've integrated functorch into PyTorch. As the final step of the integration, functorch.vmap is deprecated as of PyTorch 2.0 and will be deleted in a future version of PyTorch >= 2.3. Please use torch.vmap instead; see the PyTorch 2.0 release notes and/or the torch.func migration guide for more details https://pytorch.org/docs/master/func.migrating.html\n",
            "  warn_deprecated('vmap', 'torch.vmap')\n"
          ]
        }
      ],
      "source": [
        "import torch\n",
        "from sngrok.fourier import slow_ft_1d, calc_power\n",
        "\n",
        "# the \"1_d\" refers to it being one copy of Sn, i.e. a function from Sn -> R as\n",
        "# opposed to (Sn, Sn) -> R\n",
        "# shitty name, I know\n",
        "\n",
        "\n",
        "# Oh also the fourier transform code only works on torch tensors now :/\n",
        "f_original = torch.asarray(f, dtype=torch.float32).unsqueeze(1)\n",
        "\n",
        "# slow_ft takes an array of the function values and returns a dict, with tuple\n",
        "# keys that correspond to irreps (recall: partitions) and matrix values\n",
        "f_hat = slow_ft_1d(f_original, 3)"
      ]
    },
    {
      "cell_type": "code",
      "execution_count": 15,
      "metadata": {
        "colab": {
          "base_uri": "https://localhost:8080/"
        },
        "id": "8zR9HgOa_dm0",
        "outputId": "ce20622a-682c-4560-a75d-3cffd65c9982"
      },
      "outputs": [
        {
          "output_type": "stream",
          "name": "stdout",
          "text": [
            "f_hat((1, 1, 1)) == 11.5\n",
            "sum(f) == 11.5\n"
          ]
        }
      ],
      "source": [
        "# f_hat of the trivial irrep (1, 1, 1) is always just the sum of values of f\n",
        "\n",
        "print(f\"f_hat((1, 1, 1)) == {f_hat[(1, 1, 1)].item()}\")\n",
        "print(f\"sum(f) == {f_original.sum().item()}\")"
      ]
    },
    {
      "cell_type": "code",
      "execution_count": 16,
      "metadata": {
        "colab": {
          "base_uri": "https://localhost:8080/"
        },
        "id": "4yhuepOBA80v",
        "outputId": "428cb5e9-1946-4d61-fc23-d0dd71602c82"
      },
      "outputs": [
        {
          "output_type": "stream",
          "name": "stdout",
          "text": [
            "sum( even perms ) == 3.0\n",
            "sum( odd perms ) == 8.5\n",
            "(3.0 - 8.5) == -5.5\n"
          ]
        }
      ],
      "source": [
        "# f_hat of the alternating irrep (3,) is the difference between f on even and odd perms\n",
        "\n",
        "even_total = 0.0\n",
        "odd_total = 0.0\n",
        "for perm, fval in zip(S3, f.tolist()):\n",
        "    if perm.parity == 0:\n",
        "        even_total += fval\n",
        "    else:\n",
        "        odd_total += fval\n",
        "\n",
        "print(f'sum( even perms ) == {even_total}')\n",
        "print(f'sum( odd perms ) == {odd_total}')\n",
        "print(f'({even_total} - {odd_total}) == {f_hat[(3,)]}')"
      ]
    },
    {
      "cell_type": "code",
      "execution_count": 17,
      "metadata": {
        "colab": {
          "base_uri": "https://localhost:8080/"
        },
        "id": "YVKTeNYFBkEQ",
        "outputId": "f5ce9ed2-0a9a-485e-f4d2-dc58b337a3ba"
      },
      "outputs": [
        {
          "output_type": "stream",
          "name": "stdout",
          "text": [
            "tensor([[ 1.2500, -2.1651],\n",
            "        [-3.0311,  3.2500]])\n"
          ]
        }
      ],
      "source": [
        "# The other f_hat for all the other irreps is matrix-valued and tougher to interpret\n",
        "print(f_hat[(2, 1)])"
      ]
    },
    {
      "cell_type": "markdown",
      "metadata": {
        "id": "qRakt0Czjc3j"
      },
      "source": [
        "## The Model\n",
        "\n",
        "The model is the same architecture as from [\"A Toy Model of Universality\"](https://arxiv.org/abs/2302.03025) by Chughtai et al.\n",
        "\n",
        "![Screenshot 2023-06-19 at 5.39.51 PM.png](data:image/png;base64,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)"
      ]
    },
    {
      "cell_type": "code",
      "execution_count": null,
      "metadata": {
        "id": "2Q9UNddVFSwY"
      },
      "outputs": [],
      "source": [
        "#! gdown https://drive.google.com/drive/folders/1uLdwJEBqtWloM8T077yFFVTzbI7orVIb?usp=sharing --folder\n",
        "#! pip3 install git+https://github.com/neelnanda-io/TransformerLens"
      ]
    },
    {
      "cell_type": "code",
      "execution_count": 18,
      "metadata": {
        "id": "B93s407yLeJc"
      },
      "outputs": [],
      "source": [
        "from pathlib import Path\n",
        "import polars as pl\n",
        "from sngrok.model import SnMLP\n",
        "\n",
        "ckpt_dir = Path('colab_experiment/')\n",
        "model_seed = 0\n",
        "data_seed = 10\n",
        "run_name = f'model_{model_seed}_data_{data_seed}'\n",
        "\n",
        "run_dir = ckpt_dir / run_name\n",
        "\n",
        "# `full_run.pth` has most of the run info you might want\n",
        "model_run = torch.load(run_dir / 'full_run.pth', map_location=torch.device('cpu'))\n",
        "\n",
        "# This data has all of the permutations as long as what was in the train vs test for this run\n",
        "run_data = pl.read_parquet(ckpt_dir / f'data_{data_seed}.parquet')\n",
        "lperms = torch.as_tensor(run_data.select('index_left').to_numpy(), dtype=torch.int64).squeeze()\n",
        "rperms = torch.as_tensor(run_data.select('index_right').to_numpy(), dtype=torch.int64).squeeze()\n",
        "targets = torch.as_tensor(run_data.select('index_target').to_numpy(), dtype=torch.int64).squeeze()\n",
        "\n",
        "model = SnMLP.from_config(model_run['config'])\n",
        "model.load_state_dict(model_run['model'])\n",
        "\n",
        "out, cache = model.run_with_cache(lperms, rperms)\n",
        "#loss = loss_fn(out, targets)\n",
        "\n",
        "linear_acts = cache['hook_linear']"
      ]
    },
    {
      "cell_type": "code",
      "execution_count": 19,
      "metadata": {
        "id": "H2Cuc_Kyjxew"
      },
      "outputs": [],
      "source": [
        "# I use plotnine because I learned ggplot early in my career. Feel free to use\n",
        "# whatever libraries you're most comfortable with\n",
        "from plotnine import (\n",
        "    ggplot,\n",
        "    aes,\n",
        "    theme,\n",
        "    element_text,\n",
        "    stat_smooth,\n",
        "    facet_wrap,\n",
        "    geom_boxplot,\n",
        "    geom_tile,\n",
        "    geom_point,\n",
        "    geom_histogram,\n",
        "    geom_violin,\n",
        "    geom_col,\n",
        "    xlab,\n",
        "    ylab,\n",
        "    ggtitle,\n",
        "    geom_line,\n",
        "    geom_ribbon,\n",
        "    geom_vline,\n",
        "    geom_text,\n",
        "    scale_x_log10,\n",
        "    scale_x_reverse\n",
        ")\n",
        "import math\n",
        "from sngrok.fourier import calc_power\n",
        "\n",
        "\n",
        "def calc_power_contributions(tensor, n):\n",
        "    \"\"\"Calculates how much each irrep contributes to the norm of the dimension, and returns it\n",
        "    as a polars dataframe.\n",
        "    \"\"\"\n",
        "    total_power = (tensor ** 2).mean(dim=0)\n",
        "    fourier_transform = slow_ft_1d(tensor, n)\n",
        "    irrep_power = calc_power(fourier_transform, math.factorial(n))\n",
        "    power_contribs = {irrep: power / total_power for irrep, power in irrep_power.items()}\n",
        "    irreps = list(power_contribs.keys())\n",
        "    power_vals = torch.cat([power_contribs[irrep].unsqueeze(0) for irrep in irreps], dim=0)\n",
        "    tensor_dim = tensor.shape[1]\n",
        "    val_data = pl.DataFrame(power_vals.detach().numpy(), schema=[f'dim{i}' for i in range(tensor_dim)])\n",
        "    val_data.insert_at_idx(0, pl.Series('irrep', [str(i) for i in irreps]))\n",
        "    return val_data, fourier_transform\n",
        "\n",
        "\n",
        "# If the left embedding is a [num_perm, embed_dim] matrix, then each column of\n",
        "# the matrix has 120 elements and can be though of as a a function from S_5 to R\n",
        "# The fourier transform is over each of those functions\n",
        "lembed_power_df, lembed_ft = calc_power_contributions(model.lembed.weight, 5)\n",
        "rembed_power_df, rembed_ft = calc_power_contributions(model.rembed.weight, 5)\n"
      ]
    },
    {
      "cell_type": "code",
      "execution_count": 20,
      "metadata": {
        "colab": {
          "base_uri": "https://localhost:8080/",
          "height": 379
        },
        "id": "azhwFsbMnkTo",
        "outputId": "7c3462d8-12e3-4172-c58a-14254225031d"
      },
      "outputs": [
        {
          "output_type": "execute_result",
          "data": {
            "text/plain": [
              "shape: (5, 257)\n",
              "┌────────────────┬──────────┬──────────┬──────────┬───┬───────────┬──────────┬──────────┬──────────┐\n",
              "│ irrep          ┆ dim0     ┆ dim1     ┆ dim2     ┆ … ┆ dim252    ┆ dim253   ┆ dim254   ┆ dim255   │\n",
              "│ ---            ┆ ---      ┆ ---      ┆ ---      ┆   ┆ ---       ┆ ---      ┆ ---      ┆ ---      │\n",
              "│ str            ┆ f32      ┆ f32      ┆ f32      ┆   ┆ f32       ┆ f32      ┆ f32      ┆ f32      │\n",
              "╞════════════════╪══════════╪══════════╪══════════╪═══╪═══════════╪══════════╪══════════╪══════════╡\n",
              "│ (1, 1, 1, 1,   ┆ 0.00031  ┆ 0.00014  ┆ 0.000117 ┆ … ┆ 2.5638e-7 ┆ 0.000531 ┆ 0.000143 ┆ 0.000408 │\n",
              "│ 1)             ┆          ┆          ┆          ┆   ┆           ┆          ┆          ┆          │\n",
              "│ (2, 1, 1, 1)   ┆ 0.808098 ┆ 0.77252  ┆ 0.77622  ┆ … ┆ 0.805998  ┆ 0.800384 ┆ 0.723846 ┆ 0.779302 │\n",
              "│ (2, 2, 1)      ┆ 0.079455 ┆ 0.09542  ┆ 0.052884 ┆ … ┆ 0.059165  ┆ 0.076625 ┆ 0.053082 ┆ 0.080057 │\n",
              "│ (3, 1, 1)      ┆ 0.009875 ┆ 0.008654 ┆ 0.005547 ┆ … ┆ 0.009483  ┆ 0.014401 ┆ 0.007929 ┆ 0.011137 │\n",
              "│ (3, 2)         ┆ 0.019051 ┆ 0.026296 ┆ 0.055506 ┆ … ┆ 0.029236  ┆ 0.0239   ┆ 0.079215 ┆ 0.033404 │\n",
              "└────────────────┴──────────┴──────────┴──────────┴───┴───────────┴──────────┴──────────┴──────────┘"
            ],
            "text/html": [
              "<div><style>\n",
              ".dataframe > thead > tr > th,\n",
              ".dataframe > tbody > tr > td {\n",
              "  text-align: right;\n",
              "}\n",
              "</style>\n",
              "<small>shape: (5, 257)</small><table border=\"1\" class=\"dataframe\"><thead><tr><th>irrep</th><th>dim0</th><th>dim1</th><th>dim2</th><th>dim3</th><th>dim4</th><th>dim5</th><th>dim6</th><th>dim7</th><th>dim8</th><th>dim9</th><th>dim10</th><th>dim11</th><th>dim12</th><th>dim13</th><th>dim14</th><th>dim15</th><th>dim16</th><th>dim17</th><th>dim18</th><th>dim19</th><th>dim20</th><th>dim21</th><th>dim22</th><th>dim23</th><th>dim24</th><th>dim25</th><th>dim26</th><th>dim27</th><th>dim28</th><th>dim29</th><th>dim30</th><th>dim31</th><th>dim32</th><th>dim33</th><th>dim34</th><th>dim35</th><th>&hellip;</th><th>dim219</th><th>dim220</th><th>dim221</th><th>dim222</th><th>dim223</th><th>dim224</th><th>dim225</th><th>dim226</th><th>dim227</th><th>dim228</th><th>dim229</th><th>dim230</th><th>dim231</th><th>dim232</th><th>dim233</th><th>dim234</th><th>dim235</th><th>dim236</th><th>dim237</th><th>dim238</th><th>dim239</th><th>dim240</th><th>dim241</th><th>dim242</th><th>dim243</th><th>dim244</th><th>dim245</th><th>dim246</th><th>dim247</th><th>dim248</th><th>dim249</th><th>dim250</th><th>dim251</th><th>dim252</th><th>dim253</th><th>dim254</th><th>dim255</th></tr><tr><td>str</td><td>f32</td><td>f32</td><td>f32</td><td>f32</td><td>f32</td><td>f32</td><td>f32</td><td>f32</td><td>f32</td><td>f32</td><td>f32</td><td>f32</td><td>f32</td><td>f32</td><td>f32</td><td>f32</td><td>f32</td><td>f32</td><td>f32</td><td>f32</td><td>f32</td><td>f32</td><td>f32</td><td>f32</td><td>f32</td><td>f32</td><td>f32</td><td>f32</td><td>f32</td><td>f32</td><td>f32</td><td>f32</td><td>f32</td><td>f32</td><td>f32</td><td>f32</td><td>&hellip;</td><td>f32</td><td>f32</td><td>f32</td><td>f32</td><td>f32</td><td>f32</td><td>f32</td><td>f32</td><td>f32</td><td>f32</td><td>f32</td><td>f32</td><td>f32</td><td>f32</td><td>f32</td><td>f32</td><td>f32</td><td>f32</td><td>f32</td><td>f32</td><td>f32</td><td>f32</td><td>f32</td><td>f32</td><td>f32</td><td>f32</td><td>f32</td><td>f32</td><td>f32</td><td>f32</td><td>f32</td><td>f32</td><td>f32</td><td>f32</td><td>f32</td><td>f32</td><td>f32</td></tr></thead><tbody><tr><td>&quot;(1, 1, 1, 1, 1…</td><td>0.00031</td><td>0.00014</td><td>0.000117</td><td>0.000039</td><td>0.000253</td><td>0.00001</td><td>0.000395</td><td>0.001994</td><td>0.000001</td><td>0.000429</td><td>0.001005</td><td>0.001427</td><td>0.000069</td><td>0.000089</td><td>0.000009</td><td>0.000272</td><td>0.002077</td><td>0.000378</td><td>0.000353</td><td>0.000502</td><td>0.000117</td><td>0.000152</td><td>0.000668</td><td>0.000862</td><td>0.00089</td><td>0.000125</td><td>0.000386</td><td>0.000377</td><td>0.001464</td><td>0.000276</td><td>0.001802</td><td>0.000003</td><td>0.000177</td><td>0.000703</td><td>0.000579</td><td>0.000541</td><td>&hellip;</td><td>0.000045</td><td>0.000009</td><td>0.001046</td><td>0.000054</td><td>0.00075</td><td>0.000424</td><td>0.000908</td><td>0.000002</td><td>0.000102</td><td>0.000558</td><td>0.001695</td><td>0.00119</td><td>0.00028</td><td>0.000012</td><td>0.001678</td><td>0.000015</td><td>0.000004</td><td>0.00026</td><td>0.000513</td><td>0.000112</td><td>0.000399</td><td>0.00009</td><td>0.000016</td><td>0.000333</td><td>0.000402</td><td>0.000113</td><td>0.000312</td><td>0.000437</td><td>0.000088</td><td>4.2199e-8</td><td>0.000099</td><td>0.000834</td><td>0.000059</td><td>2.5638e-7</td><td>0.000531</td><td>0.000143</td><td>0.000408</td></tr><tr><td>&quot;(2, 1, 1, 1)&quot;</td><td>0.808098</td><td>0.77252</td><td>0.77622</td><td>0.816963</td><td>0.765226</td><td>0.810177</td><td>0.771365</td><td>0.827846</td><td>0.753021</td><td>0.757096</td><td>0.679134</td><td>0.768114</td><td>0.801972</td><td>0.783233</td><td>0.76842</td><td>0.797799</td><td>0.775674</td><td>0.791916</td><td>0.786921</td><td>0.788689</td><td>0.771569</td><td>0.725477</td><td>0.842077</td><td>0.769031</td><td>0.764683</td><td>0.736373</td><td>0.7918</td><td>0.78604</td><td>0.793704</td><td>0.783997</td><td>0.804223</td><td>0.743903</td><td>0.719419</td><td>0.796547</td><td>0.748674</td><td>0.766906</td><td>&hellip;</td><td>0.836918</td><td>0.770505</td><td>0.735797</td><td>0.729296</td><td>0.778237</td><td>0.657684</td><td>0.724033</td><td>0.696951</td><td>0.801778</td><td>0.760084</td><td>0.780458</td><td>0.773337</td><td>0.76269</td><td>0.773306</td><td>0.781322</td><td>0.761382</td><td>0.723576</td><td>0.729179</td><td>0.813811</td><td>0.71836</td><td>0.765115</td><td>0.734767</td><td>0.805853</td><td>0.823688</td><td>0.730277</td><td>0.76296</td><td>0.726743</td><td>0.756313</td><td>0.80751</td><td>0.745787</td><td>0.807715</td><td>0.784264</td><td>0.800955</td><td>0.805998</td><td>0.800384</td><td>0.723846</td><td>0.779302</td></tr><tr><td>&quot;(2, 2, 1)&quot;</td><td>0.079455</td><td>0.09542</td><td>0.052884</td><td>0.048759</td><td>0.0871</td><td>0.048539</td><td>0.08124</td><td>0.053496</td><td>0.091463</td><td>0.07869</td><td>0.098043</td><td>0.080781</td><td>0.054009</td><td>0.051694</td><td>0.066084</td><td>0.044342</td><td>0.067396</td><td>0.064002</td><td>0.054011</td><td>0.075459</td><td>0.059439</td><td>0.110579</td><td>0.045409</td><td>0.030691</td><td>0.068033</td><td>0.072419</td><td>0.061621</td><td>0.086144</td><td>0.034636</td><td>0.03959</td><td>0.027672</td><td>0.071056</td><td>0.046058</td><td>0.103507</td><td>0.06191</td><td>0.050819</td><td>&hellip;</td><td>0.029722</td><td>0.097821</td><td>0.067535</td><td>0.096417</td><td>0.051853</td><td>0.135134</td><td>0.089915</td><td>0.102239</td><td>0.065358</td><td>0.052305</td><td>0.067988</td><td>0.074599</td><td>0.074327</td><td>0.088166</td><td>0.071704</td><td>0.072764</td><td>0.103284</td><td>0.078637</td><td>0.040509</td><td>0.094338</td><td>0.047492</td><td>0.076774</td><td>0.064193</td><td>0.043816</td><td>0.091695</td><td>0.089707</td><td>0.112843</td><td>0.071771</td><td>0.054082</td><td>0.087912</td><td>0.084705</td><td>0.053392</td><td>0.069143</td><td>0.059165</td><td>0.076625</td><td>0.053082</td><td>0.080057</td></tr><tr><td>&quot;(3, 1, 1)&quot;</td><td>0.009875</td><td>0.008654</td><td>0.005547</td><td>0.009192</td><td>0.007101</td><td>0.00871</td><td>0.00738</td><td>0.009748</td><td>0.008314</td><td>0.007217</td><td>0.012031</td><td>0.007147</td><td>0.01281</td><td>0.010192</td><td>0.010082</td><td>0.007539</td><td>0.00809</td><td>0.011289</td><td>0.008077</td><td>0.007975</td><td>0.008437</td><td>0.009344</td><td>0.010302</td><td>0.010282</td><td>0.010596</td><td>0.007577</td><td>0.008214</td><td>0.005484</td><td>0.008707</td><td>0.008248</td><td>0.005687</td><td>0.009323</td><td>0.008383</td><td>0.008228</td><td>0.003072</td><td>0.007813</td><td>&hellip;</td><td>0.014241</td><td>0.011443</td><td>0.012111</td><td>0.01268</td><td>0.00896</td><td>0.010187</td><td>0.013556</td><td>0.009322</td><td>0.00712</td><td>0.009988</td><td>0.006725</td><td>0.016694</td><td>0.00879</td><td>0.006638</td><td>0.008017</td><td>0.014388</td><td>0.00913</td><td>0.008106</td><td>0.012498</td><td>0.006471</td><td>0.008954</td><td>0.006034</td><td>0.008877</td><td>0.006945</td><td>0.006069</td><td>0.008967</td><td>0.009701</td><td>0.007747</td><td>0.00797</td><td>0.009747</td><td>0.009808</td><td>0.004097</td><td>0.008667</td><td>0.009483</td><td>0.014401</td><td>0.007929</td><td>0.011137</td></tr><tr><td>&quot;(3, 2)&quot;</td><td>0.019051</td><td>0.026296</td><td>0.055506</td><td>0.044126</td><td>0.037199</td><td>0.036321</td><td>0.043154</td><td>0.017</td><td>0.038406</td><td>0.027248</td><td>0.0398</td><td>0.023831</td><td>0.022315</td><td>0.033753</td><td>0.038817</td><td>0.020248</td><td>0.019099</td><td>0.020594</td><td>0.057219</td><td>0.02474</td><td>0.039497</td><td>0.050398</td><td>0.030878</td><td>0.080593</td><td>0.048301</td><td>0.028594</td><td>0.040419</td><td>0.040929</td><td>0.065182</td><td>0.068041</td><td>0.039365</td><td>0.062759</td><td>0.044051</td><td>0.017107</td><td>0.066566</td><td>0.059448</td><td>&hellip;</td><td>0.033196</td><td>0.054149</td><td>0.06153</td><td>0.038246</td><td>0.048921</td><td>0.076124</td><td>0.047988</td><td>0.083187</td><td>0.029512</td><td>0.05907</td><td>0.048982</td><td>0.022447</td><td>0.040811</td><td>0.029172</td><td>0.040403</td><td>0.027597</td><td>0.0307</td><td>0.068289</td><td>0.039508</td><td>0.05424</td><td>0.042059</td><td>0.052555</td><td>0.037426</td><td>0.019733</td><td>0.061853</td><td>0.05343</td><td>0.037775</td><td>0.057746</td><td>0.029185</td><td>0.041104</td><td>0.02011</td><td>0.05359</td><td>0.030803</td><td>0.029236</td><td>0.0239</td><td>0.079215</td><td>0.033404</td></tr></tbody></table></div>"
            ]
          },
          "metadata": {},
          "execution_count": 20
        }
      ],
      "source": [
        "# Polars data frame because I kinda hate pandas, sorry\n",
        "# https://pola-rs.github.io/polars/py-polars/html/reference/index.html\n",
        "lembed_power_df.head()"
      ]
    },
    {
      "cell_type": "code",
      "source": [
        "# Should be considered as percentages\n",
        "lembed_power_df.select(['irrep', 'dim0'])"
      ],
      "metadata": {
        "colab": {
          "base_uri": "https://localhost:8080/",
          "height": 318
        },
        "id": "rRonts7w6_E2",
        "outputId": "d143629a-c258-43c4-da04-da3aef820562"
      },
      "execution_count": 21,
      "outputs": [
        {
          "output_type": "execute_result",
          "data": {
            "text/plain": [
              "shape: (7, 2)\n",
              "┌─────────────────┬──────────┐\n",
              "│ irrep           ┆ dim0     │\n",
              "│ ---             ┆ ---      │\n",
              "│ str             ┆ f32      │\n",
              "╞═════════════════╪══════════╡\n",
              "│ (1, 1, 1, 1, 1) ┆ 0.00031  │\n",
              "│ (2, 1, 1, 1)    ┆ 0.808098 │\n",
              "│ (2, 2, 1)       ┆ 0.079455 │\n",
              "│ (3, 1, 1)       ┆ 0.009875 │\n",
              "│ (3, 2)          ┆ 0.019051 │\n",
              "│ (4, 1)          ┆ 0.032611 │\n",
              "│ (5,)            ┆ 0.050599 │\n",
              "└─────────────────┴──────────┘"
            ],
            "text/html": [
              "<div><style>\n",
              ".dataframe > thead > tr > th,\n",
              ".dataframe > tbody > tr > td {\n",
              "  text-align: right;\n",
              "}\n",
              "</style>\n",
              "<small>shape: (7, 2)</small><table border=\"1\" class=\"dataframe\"><thead><tr><th>irrep</th><th>dim0</th></tr><tr><td>str</td><td>f32</td></tr></thead><tbody><tr><td>&quot;(1, 1, 1, 1, 1…</td><td>0.00031</td></tr><tr><td>&quot;(2, 1, 1, 1)&quot;</td><td>0.808098</td></tr><tr><td>&quot;(2, 2, 1)&quot;</td><td>0.079455</td></tr><tr><td>&quot;(3, 1, 1)&quot;</td><td>0.009875</td></tr><tr><td>&quot;(3, 2)&quot;</td><td>0.019051</td></tr><tr><td>&quot;(4, 1)&quot;</td><td>0.032611</td></tr><tr><td>&quot;(5,)&quot;</td><td>0.050599</td></tr></tbody></table></div>"
            ]
          },
          "metadata": {},
          "execution_count": 21
        }
      ]
    },
    {
      "cell_type": "code",
      "source": [
        "# dataframe.melt changes the data from \"wide\" (one column per dim) to \"long\" format\n",
        "# (one row per irrep per dim, with the dim info in a column called `variable` and the\n",
        "# percentages in `value` )\n",
        "# In general the plotting and often analysis are easier when the data is in\n",
        "# \"tidy\" / \"long\" format, see: https://www.jstatsoft.org/article/view/v059i10\n",
        "# Will do this a lot so just a peak at what it looks like:\n",
        "lembed_power_df.filter(pl.col(\"irrep\") != \"(1, 1, 1, 1, 1)\").melt(id_vars=\"irrep\").head(14)"
      ],
      "metadata": {
        "colab": {
          "base_uri": "https://localhost:8080/",
          "height": 537
        },
        "id": "kV23bedDHtOk",
        "outputId": "95a20e2e-ffdd-4bff-cef3-1a0cae87ddd8"
      },
      "execution_count": 29,
      "outputs": [
        {
          "output_type": "execute_result",
          "data": {
            "text/plain": [
              "shape: (14, 3)\n",
              "┌──────────────┬──────────┬──────────┐\n",
              "│ irrep        ┆ variable ┆ value    │\n",
              "│ ---          ┆ ---      ┆ ---      │\n",
              "│ str          ┆ str      ┆ f32      │\n",
              "╞══════════════╪══════════╪══════════╡\n",
              "│ (2, 1, 1, 1) ┆ dim0     ┆ 0.808098 │\n",
              "│ (2, 2, 1)    ┆ dim0     ┆ 0.079455 │\n",
              "│ (3, 1, 1)    ┆ dim0     ┆ 0.009875 │\n",
              "│ (3, 2)       ┆ dim0     ┆ 0.019051 │\n",
              "│ …            ┆ …        ┆ …        │\n",
              "│ (4, 1)       ┆ dim1     ┆ 0.037453 │\n",
              "│ (5,)         ┆ dim1     ┆ 0.059517 │\n",
              "│ (2, 1, 1, 1) ┆ dim2     ┆ 0.77622  │\n",
              "│ (2, 2, 1)    ┆ dim2     ┆ 0.052884 │\n",
              "└──────────────┴──────────┴──────────┘"
            ],
            "text/html": [
              "<div><style>\n",
              ".dataframe > thead > tr > th,\n",
              ".dataframe > tbody > tr > td {\n",
              "  text-align: right;\n",
              "}\n",
              "</style>\n",
              "<small>shape: (14, 3)</small><table border=\"1\" class=\"dataframe\"><thead><tr><th>irrep</th><th>variable</th><th>value</th></tr><tr><td>str</td><td>str</td><td>f32</td></tr></thead><tbody><tr><td>&quot;(2, 1, 1, 1)&quot;</td><td>&quot;dim0&quot;</td><td>0.808098</td></tr><tr><td>&quot;(2, 2, 1)&quot;</td><td>&quot;dim0&quot;</td><td>0.079455</td></tr><tr><td>&quot;(3, 1, 1)&quot;</td><td>&quot;dim0&quot;</td><td>0.009875</td></tr><tr><td>&quot;(3, 2)&quot;</td><td>&quot;dim0&quot;</td><td>0.019051</td></tr><tr><td>&quot;(4, 1)&quot;</td><td>&quot;dim0&quot;</td><td>0.032611</td></tr><tr><td>&quot;(5,)&quot;</td><td>&quot;dim0&quot;</td><td>0.050599</td></tr><tr><td>&quot;(2, 1, 1, 1)&quot;</td><td>&quot;dim1&quot;</td><td>0.77252</td></tr><tr><td>&quot;(2, 2, 1)&quot;</td><td>&quot;dim1&quot;</td><td>0.09542</td></tr><tr><td>&quot;(3, 1, 1)&quot;</td><td>&quot;dim1&quot;</td><td>0.008654</td></tr><tr><td>&quot;(3, 2)&quot;</td><td>&quot;dim1&quot;</td><td>0.026296</td></tr><tr><td>&quot;(4, 1)&quot;</td><td>&quot;dim1&quot;</td><td>0.037453</td></tr><tr><td>&quot;(5,)&quot;</td><td>&quot;dim1&quot;</td><td>0.059517</td></tr><tr><td>&quot;(2, 1, 1, 1)&quot;</td><td>&quot;dim2&quot;</td><td>0.77622</td></tr><tr><td>&quot;(2, 2, 1)&quot;</td><td>&quot;dim2&quot;</td><td>0.052884</td></tr></tbody></table></div>"
            ]
          },
          "metadata": {},
          "execution_count": 29
        }
      ]
    },
    {
      "cell_type": "markdown",
      "source": [
        "As you can see, for, this run the `(2, 1, 1, 1)` irrep dominated. We filter out the `(1, 1, 1, 1, 1)` irrep because it's very close to 0 and doesn't contribute anything\n"
      ],
      "metadata": {
        "id": "kFAD4doJPz0z"
      }
    },
    {
      "cell_type": "code",
      "execution_count": 22,
      "metadata": {
        "colab": {
          "base_uri": "https://localhost:8080/",
          "height": 485
        },
        "id": "E2YZy1TBrDK0",
        "outputId": "fdcb69cf-51fd-4532-d6b3-f12e36e90659"
      },
      "outputs": [
        {
          "output_type": "display_data",
          "data": {
            "text/plain": [
              "<Figure size 640x480 with 6 Axes>"
            ],
            "image/png": "[encoded data removed]"
          },
          "metadata": {}
        },
        {
          "output_type": "execute_result",
          "data": {
            "text/plain": [
              "<ggplot: (8773069340733)>"
            ]
          },
          "metadata": {},
          "execution_count": 22
        }
      ],
      "source": [
        "\n",
        "ggplot(\n",
        "    lembed_power_df.filter(pl.col(\"irrep\") != \"(1, 1, 1, 1, 1)\").melt(id_vars=\"irrep\"),\n",
        "    aes(x=\"value\")\n",
        ") + geom_histogram(binwidth=0.05) + facet_wrap(\"~irrep\")"
      ]
    },
    {
      "cell_type": "markdown",
      "source": [
        "The right embedding is largely similar."
      ],
      "metadata": {
        "id": "V002yQpPQCrm"
      }
    },
    {
      "cell_type": "code",
      "execution_count": 25,
      "metadata": {
        "id": "03aWRwjTrdkz",
        "colab": {
          "base_uri": "https://localhost:8080/",
          "height": 485
        },
        "outputId": "0479a6f0-6658-45c0-a431-1c1de1723d2b"
      },
      "outputs": [
        {
          "output_type": "display_data",
          "data": {
            "text/plain": [
              "<Figure size 640x480 with 6 Axes>"
            ],
            "image/png": "[encoded data removed]"
          },
          "metadata": {}
        },
        {
          "output_type": "execute_result",
          "data": {
            "text/plain": [
              "<ggplot: (8773402502018)>"
            ]
          },
          "metadata": {},
          "execution_count": 25
        }
      ],
      "source": [
        "\n",
        "ggplot(\n",
        "    rembed_power_df.filter(pl.col(\"irrep\") != \"(1, 1, 1, 1, 1)\").melt(id_vars=\"irrep\"),\n",
        "    aes(x=\"value\")\n",
        ") + geom_histogram(binwidth=0.05) + facet_wrap(\"~irrep\")"
      ]
    },
    {
      "cell_type": "markdown",
      "source": [
        "The first layer is calculated as `W @ concat([left_embed, right_embed])`. There's no nonlinearity, so this is the precise same as `(W[:, :embed_dim] @ left_embed) + (W[:, embed_dim:] @ right_embed)`, i.e. just splitting up the columns of the weight matrix `W` into left and right halves and then adding them together. We can also these activations."
      ],
      "metadata": {
        "id": "PMiobij2Fld9"
      }
    },
    {
      "cell_type": "code",
      "source": [
        "W = model.linear.weight\n",
        "\n",
        "lact_power_df, lact_ft = calc_power_contributions(model.lembed.weight @ W[:, :256].T, 5)\n",
        "ract_power_df, ract_ft = calc_power_contributions(model.rembed.weight @ W[:, 256:].T, 5)"
      ],
      "metadata": {
        "id": "qJbhqqL4Fkti"
      },
      "execution_count": 32,
      "outputs": []
    },
    {
      "cell_type": "markdown",
      "source": [
        " Still dominated by (2, 1, 1, 1) but there _are_ dimensions of the linear layer that use (2, 2, 1), (3, 2), (4, 1), and (5,)"
      ],
      "metadata": {
        "id": "Sit5vC71PU1j"
      }
    },
    {
      "cell_type": "code",
      "source": [
        "\n",
        "ggplot(\n",
        "    lact_power_df.filter(pl.col(\"irrep\") != \"(1, 1, 1, 1, 1)\").melt(id_vars=\"irrep\"),\n",
        "    aes(x=\"value\")\n",
        ") + geom_histogram(binwidth=0.05) + facet_wrap(\"~irrep\")"
      ],
      "metadata": {
        "colab": {
          "base_uri": "https://localhost:8080/",
          "height": 485
        },
        "id": "-v_XoPp-9ja4",
        "outputId": "8defeb33-ce39-467e-d659-e5b278b2551d"
      },
      "execution_count": 27,
      "outputs": [
        {
          "output_type": "display_data",
          "data": {
            "text/plain": [
              "<Figure size 640x480 with 6 Axes>"
            ],
            "image/png": "[encoded data removed]"
          },
          "metadata": {}
        },
        {
          "output_type": "execute_result",
          "data": {
            "text/plain": [
              "<ggplot: (8773042145362)>"
            ]
          },
          "metadata": {},
          "execution_count": 27
        }
      ]
    },
    {
      "cell_type": "markdown",
      "source": [
        "Again, largely similar on the right.\n"
      ],
      "metadata": {
        "id": "w5zl4OxdPco_"
      }
    },
    {
      "cell_type": "code",
      "source": [
        "ggplot(\n",
        "    ract_power_df.filter(pl.col(\"irrep\") != \"(1, 1, 1, 1, 1)\").melt(id_vars=\"irrep\"),\n",
        "    aes(x=\"value\")\n",
        ") + geom_histogram(binwidth=0.05) + facet_wrap(\"~irrep\")"
      ],
      "metadata": {
        "colab": {
          "base_uri": "https://localhost:8080/",
          "height": 485
        },
        "id": "Ovm2b1fuGqHg",
        "outputId": "fe5b2180-913d-40c0-a001-1d9287537515"
      },
      "execution_count": 43,
      "outputs": [
        {
          "output_type": "display_data",
          "data": {
            "text/plain": [
              "<Figure size 640x480 with 6 Axes>"
            ],
            "image/png": "[encoded data removed]"
          },
          "metadata": {}
        },
        {
          "output_type": "execute_result",
          "data": {
            "text/plain": [
              "<ggplot: (8773041900752)>"
            ]
          },
          "metadata": {},
          "execution_count": 43
        }
      ]
    },
    {
      "cell_type": "markdown",
      "source": [
        "The way that the \"fourier basis\" works is that it we can get $f$ back from the Fourier-transformed $\\hat{f}$. For a permutation $\\sigma \\in S_{5}$ :\n",
        "\n",
        "$$ f(\\sigma) =\\frac{1}{|S_{5}|}\\sum_{\\rho \\in \\mathcal{R}} d_{\\rho}\\operatorname{tr}[\\hat{f}(\\rho)\\rho(\\sigma^{-1})] $$\n",
        "\n",
        "where each $\\rho \\in \\mathcal{R}$ is one of the irreps, i.e. one of `(1, 1, 1, 1, 1)`, `(2, 1, 1, 1)`, `(2, 2, 1)`, `(3, 1, 1)`, `(3, 2)`, `(4, 1)`, or `(5,)`.\n",
        "\n",
        "In the above equation, $\\hat{f}(\\rho)\\rho(\\sigma^{-1})$ is given by matrix multiplication and $d_{\\rho}$ is the dimension of the representation $\\rho$.\n",
        "\n",
        "So we can get the exact same function back as a unique sum in terms of the Fourier transform. If we just stop short of \"reducing\" the final sum, then we can break down $f$ into components corresponding to the irreps, and treat this as a 7D basis for our function, like so:\n",
        "$$ \\frac{1}{120} \\begin{pmatrix} \\hat{f}(\\rho_{triv}) \\\\ sgn(\\sigma)\\hat{f}(\\rho_{alt}) \\\\ 4 \\cdot \\operatorname{tr}[\\hat{f}(\\rho_{(4, 1)})\\rho_{(4, 1)}(\\sigma^{-1})] \\\\ 5 \\cdot \\operatorname{tr}[\\hat{f}(\\rho_{(3, 2)})\\rho_{(3, 2)}(\\sigma^{-1})] \\\\ 6 \\cdot \\operatorname{tr}[\\hat{f}(\\rho_{(3, 1, 1)})\\rho_{(3, 1, 1)}(\\sigma^{-1})] \\\\ 5 \\cdot \\operatorname{tr}[\\hat{f}(\\rho_{(2, 2, 1)})\\rho_{(2, 2, 1)}(\\sigma^{-1})] \\\\ 4 \\cdot \\operatorname{tr}[\\hat{f}(\\rho_{(2, 1, 1, 1)})\\rho_{(2, 1, 1, 1)}(\\sigma^{-1})] \\end{pmatrix}$$\n",
        "\n",
        "That's what the function `sn_fourier_basis` calculates"
      ],
      "metadata": {
        "id": "_KGswbMcQohO"
      }
    },
    {
      "cell_type": "code",
      "source": [
        "from sngrok.fourier import sn_fourier_basis\n",
        "from sngrok.tableau import generate_partitions\n",
        "\n",
        "\n",
        "def fourier_basis_to_df(tensor, n):\n",
        "    # Takes an inverse Fourier transform tensor and makes a dataframe\n",
        "    group_order, num_irreps, fn_dim = tensor.shape\n",
        "    all_partitions = generate_partitions(n)\n",
        "    permutations = Permutation.full_group(n)\n",
        "    assert len(permutations) == group_order\n",
        "    assert len(all_partitions) == num_irreps\n",
        "\n",
        "    long_values = tensor.reshape((-1, fn_dim))\n",
        "    group_col= []\n",
        "    for s in permutations:\n",
        "        group_col += [str(s.sigma)] * num_irreps\n",
        "    part_col = [str(p) for p in all_partitions] * group_order\n",
        "    assert len(group_col) == len(part_col) and len(group_col) == long_values.shape[0]\n",
        "    val_data = pl.DataFrame(long_values.detach().numpy(), schema=[f'dim{i}' for i in range(fn_dim)])\n",
        "    sn_metadata = pl.DataFrame({'permutation': group_col, 'irrep': part_col})\n",
        "    return pl.concat([sn_metadata, val_data], how='horizontal')\n",
        "\n",
        "\n",
        "\n",
        "lact_fourier_basis = sn_fourier_basis(lact_ft, 5)\n",
        "lact_df = fourier_basis_to_df(lact_fourier_basis, 5)\n",
        "\n",
        "ract_fourier_basis = sn_fourier_basis(ract_ft, 5)\n",
        "ract_df = fourier_basis_to_df(ract_fourier_basis, 5)\n"
      ],
      "metadata": {
        "id": "JyJ3cac8LgEo"
      },
      "execution_count": 55,
      "outputs": []
    },
    {
      "cell_type": "code",
      "source": [
        "lact_df.head()"
      ],
      "metadata": {
        "colab": {
          "base_uri": "https://localhost:8080/",
          "height": 379
        },
        "id": "eVB6Lo-xMTru",
        "outputId": "d4996647-401b-4514-da63-968f196b5833"
      },
      "execution_count": 34,
      "outputs": [
        {
          "output_type": "execute_result",
          "data": {
            "text/plain": [
              "shape: (5, 130)\n",
              "┌───────────┬───────────┬───────────┬───────────┬───┬───────────┬───────────┬───────────┬──────────┐\n",
              "│ permutati ┆ irrep     ┆ dim0      ┆ dim1      ┆ … ┆ dim124    ┆ dim125    ┆ dim126    ┆ dim127   │\n",
              "│ on        ┆ ---       ┆ ---       ┆ ---       ┆   ┆ ---       ┆ ---       ┆ ---       ┆ ---      │\n",
              "│ ---       ┆ str       ┆ f32       ┆ f32       ┆   ┆ f32       ┆ f32       ┆ f32       ┆ f32      │\n",
              "│ str       ┆           ┆           ┆           ┆   ┆           ┆           ┆           ┆          │\n",
              "╞═══════════╪═══════════╪═══════════╪═══════════╪═══╪═══════════╪═══════════╪═══════════╪══════════╡\n",
              "│ (0, 1, 2, ┆ (1, 1, 1, ┆ 0.012522  ┆ 0.010281  ┆ … ┆ 0.001476  ┆ 0.014742  ┆ 0.002319  ┆ 0.018849 │\n",
              "│ 3, 4)     ┆ 1, 1)     ┆           ┆           ┆   ┆           ┆           ┆           ┆          │\n",
              "│ (0, 1, 2, ┆ (2, 1, 1, ┆ -0.143998 ┆ -3.559956 ┆ … ┆ 0.276102  ┆ -1.026822 ┆ 1.835002  ┆ 6.609794 │\n",
              "│ 3, 4)     ┆ 1)        ┆           ┆           ┆   ┆           ┆           ┆           ┆          │\n",
              "│ (0, 1, 2, ┆ (2, 2, 1) ┆ -1.417523 ┆ -0.004553 ┆ … ┆ 0.010102  ┆ -0.063412 ┆ 0.027611  ┆ -0.00721 │\n",
              "│ 3, 4)     ┆           ┆           ┆           ┆   ┆           ┆           ┆           ┆ 4        │\n",
              "│ (0, 1, 2, ┆ (3, 1, 1) ┆ 0.024593  ┆ -0.081258 ┆ … ┆ -0.025365 ┆ 0.004622  ┆ -0.013555 ┆ -0.01008 │\n",
              "│ 3, 4)     ┆           ┆           ┆           ┆   ┆           ┆           ┆           ┆          │\n",
              "│ (0, 1, 2, ┆ (3, 2)    ┆ 0.014974  ┆ 0.002103  ┆ … ┆ 0.008525  ┆ 0.013451  ┆ -0.025471 ┆ 0.004252 │\n",
              "│ 3, 4)     ┆           ┆           ┆           ┆   ┆           ┆           ┆           ┆          │\n",
              "└───────────┴───────────┴───────────┴───────────┴───┴───────────┴───────────┴───────────┴──────────┘"
            ],
            "text/html": [
              "<div><style>\n",
              ".dataframe > thead > tr > th,\n",
              ".dataframe > tbody > tr > td {\n",
              "  text-align: right;\n",
              "}\n",
              "</style>\n",
              "<small>shape: (5, 130)</small><table border=\"1\" class=\"dataframe\"><thead><tr><th>permutation</th><th>irrep</th><th>dim0</th><th>dim1</th><th>dim2</th><th>dim3</th><th>dim4</th><th>dim5</th><th>dim6</th><th>dim7</th><th>dim8</th><th>dim9</th><th>dim10</th><th>dim11</th><th>dim12</th><th>dim13</th><th>dim14</th><th>dim15</th><th>dim16</th><th>dim17</th><th>dim18</th><th>dim19</th><th>dim20</th><th>dim21</th><th>dim22</th><th>dim23</th><th>dim24</th><th>dim25</th><th>dim26</th><th>dim27</th><th>dim28</th><th>dim29</th><th>dim30</th><th>dim31</th><th>dim32</th><th>dim33</th><th>dim34</th><th>&hellip;</th><th>dim91</th><th>dim92</th><th>dim93</th><th>dim94</th><th>dim95</th><th>dim96</th><th>dim97</th><th>dim98</th><th>dim99</th><th>dim100</th><th>dim101</th><th>dim102</th><th>dim103</th><th>dim104</th><th>dim105</th><th>dim106</th><th>dim107</th><th>dim108</th><th>dim109</th><th>dim110</th><th>dim111</th><th>dim112</th><th>dim113</th><th>dim114</th><th>dim115</th><th>dim116</th><th>dim117</th><th>dim118</th><th>dim119</th><th>dim120</th><th>dim121</th><th>dim122</th><th>dim123</th><th>dim124</th><th>dim125</th><th>dim126</th><th>dim127</th></tr><tr><td>str</td><td>str</td><td>f32</td><td>f32</td><td>f32</td><td>f32</td><td>f32</td><td>f32</td><td>f32</td><td>f32</td><td>f32</td><td>f32</td><td>f32</td><td>f32</td><td>f32</td><td>f32</td><td>f32</td><td>f32</td><td>f32</td><td>f32</td><td>f32</td><td>f32</td><td>f32</td><td>f32</td><td>f32</td><td>f32</td><td>f32</td><td>f32</td><td>f32</td><td>f32</td><td>f32</td><td>f32</td><td>f32</td><td>f32</td><td>f32</td><td>f32</td><td>f32</td><td>&hellip;</td><td>f32</td><td>f32</td><td>f32</td><td>f32</td><td>f32</td><td>f32</td><td>f32</td><td>f32</td><td>f32</td><td>f32</td><td>f32</td><td>f32</td><td>f32</td><td>f32</td><td>f32</td><td>f32</td><td>f32</td><td>f32</td><td>f32</td><td>f32</td><td>f32</td><td>f32</td><td>f32</td><td>f32</td><td>f32</td><td>f32</td><td>f32</td><td>f32</td><td>f32</td><td>f32</td><td>f32</td><td>f32</td><td>f32</td><td>f32</td><td>f32</td><td>f32</td><td>f32</td></tr></thead><tbody><tr><td>&quot;(0, 1, 2, 3, 4…</td><td>&quot;(1, 1, 1, 1, 1…</td><td>0.012522</td><td>0.010281</td><td>0.001871</td><td>-0.013813</td><td>-0.000891</td><td>0.010281</td><td>0.009088</td><td>-0.005293</td><td>-0.028344</td><td>0.0127</td><td>0.004699</td><td>0.005714</td><td>0.014023</td><td>-0.000411</td><td>0.002599</td><td>0.001231</td><td>0.018925</td><td>0.002092</td><td>-0.018741</td><td>-0.000004</td><td>-0.005611</td><td>0.002546</td><td>-0.025512</td><td>0.00942</td><td>0.000509</td><td>0.004346</td><td>0.011606</td><td>0.005576</td><td>-0.004544</td><td>-0.016368</td><td>0.023965</td><td>0.017814</td><td>0.004475</td><td>0.020913</td><td>0.015867</td><td>&hellip;</td><td>0.011834</td><td>-0.001931</td><td>0.0145</td><td>0.01698</td><td>0.023419</td><td>-0.005029</td><td>0.00059</td><td>0.002069</td><td>0.016422</td><td>0.004632</td><td>0.007538</td><td>-0.001318</td><td>0.010947</td><td>0.008429</td><td>0.0068</td><td>-0.013114</td><td>-0.005787</td><td>-0.011675</td><td>-0.002793</td><td>-0.002445</td><td>0.014337</td><td>0.026415</td><td>0.025012</td><td>0.01476</td><td>-0.0226</td><td>-0.016972</td><td>0.002599</td><td>-0.022603</td><td>0.023691</td><td>0.014399</td><td>0.014999</td><td>0.012732</td><td>-0.014083</td><td>0.001476</td><td>0.014742</td><td>0.002319</td><td>0.018849</td></tr><tr><td>&quot;(0, 1, 2, 3, 4…</td><td>&quot;(2, 1, 1, 1)&quot;</td><td>-0.143998</td><td>-3.559956</td><td>-0.080038</td><td>-0.048526</td><td>0.020311</td><td>0.01617</td><td>-2.951877</td><td>-1.108918</td><td>5.318999</td><td>-0.016151</td><td>0.027688</td><td>-0.051406</td><td>0.618609</td><td>0.564232</td><td>-0.062798</td><td>0.055164</td><td>0.252268</td><td>-3.220272</td><td>4.809918</td><td>-3.110294</td><td>-1.87366</td><td>0.047773</td><td>-1.163898</td><td>0.036711</td><td>0.00512</td><td>0.293908</td><td>0.088076</td><td>-3.298525</td><td>0.081537</td><td>-7.509797</td><td>-0.173963</td><td>0.121373</td><td>0.016576</td><td>-0.011965</td><td>0.351509</td><td>&hellip;</td><td>3.152906</td><td>0.113413</td><td>1.128693</td><td>-0.029929</td><td>0.245085</td><td>-2.521794</td><td>0.549772</td><td>0.497606</td><td>0.424883</td><td>4.026711</td><td>0.094454</td><td>0.165884</td><td>5.885864</td><td>-0.326867</td><td>0.077218</td><td>-0.205711</td><td>-0.737658</td><td>0.054312</td><td>-2.730583</td><td>-8.230162</td><td>0.039026</td><td>5.568924</td><td>0.241326</td><td>0.110307</td><td>0.049941</td><td>-0.021115</td><td>0.040117</td><td>-0.141888</td><td>-0.133458</td><td>4.024589</td><td>0.015062</td><td>0.015309</td><td>0.10794</td><td>0.276102</td><td>-1.026822</td><td>1.835002</td><td>6.609794</td></tr><tr><td>&quot;(0, 1, 2, 3, 4…</td><td>&quot;(2, 2, 1)&quot;</td><td>-1.417523</td><td>-0.004553</td><td>0.018563</td><td>-0.109621</td><td>-0.005869</td><td>-0.078321</td><td>0.015317</td><td>-0.004762</td><td>-0.008821</td><td>-0.102121</td><td>-0.093898</td><td>-0.158988</td><td>-0.008649</td><td>-0.000996</td><td>0.107754</td><td>0.006476</td><td>0.655627</td><td>-0.005758</td><td>-0.010118</td><td>-0.00355</td><td>-0.001686</td><td>-0.070836</td><td>0.204808</td><td>-0.113914</td><td>0.000539</td><td>-0.032422</td><td>-0.01812</td><td>0.011114</td><td>0.406228</td><td>0.016796</td><td>-0.966668</td><td>-0.117397</td><td>-0.006393</td><td>0.010444</td><td>0.245756</td><td>&hellip;</td><td>0.005618</td><td>0.119342</td><td>-0.010113</td><td>-0.049104</td><td>0.838644</td><td>-0.015726</td><td>0.001872</td><td>0.002432</td><td>0.296324</td><td>0.003346</td><td>-0.047181</td><td>0.087324</td><td>-0.004606</td><td>-0.009236</td><td>-0.016133</td><td>-0.006389</td><td>0.009111</td><td>0.021377</td><td>0.002039</td><td>0.002591</td><td>-0.156784</td><td>0.026291</td><td>0.686118</td><td>0.095701</td><td>0.03988</td><td>-0.759843</td><td>0.122864</td><td>1.441034</td><td>-0.057975</td><td>0.021117</td><td>-0.059548</td><td>-1.003647</td><td>0.037102</td><td>0.010102</td><td>-0.063412</td><td>0.027611</td><td>-0.007214</td></tr><tr><td>&quot;(0, 1, 2, 3, 4…</td><td>&quot;(3, 1, 1)&quot;</td><td>0.024593</td><td>-0.081258</td><td>-0.080035</td><td>0.012397</td><td>-0.101651</td><td>0.092989</td><td>-0.026309</td><td>0.004099</td><td>-0.001015</td><td>0.000328</td><td>0.016797</td><td>-0.081724</td><td>0.012909</td><td>0.005883</td><td>0.07825</td><td>-0.067684</td><td>0.077018</td><td>0.003803</td><td>0.004136</td><td>0.009933</td><td>0.007616</td><td>-0.003788</td><td>-0.054468</td><td>-0.051044</td><td>0.003869</td><td>0.030564</td><td>-0.055054</td><td>-0.064439</td><td>-0.028122</td><td>-0.058367</td><td>-0.084935</td><td>0.066131</td><td>0.162604</td><td>0.00539</td><td>0.134995</td><td>&hellip;</td><td>0.009845</td><td>-0.017272</td><td>-0.005728</td><td>0.022756</td><td>0.148853</td><td>0.002625</td><td>0.000484</td><td>0.001124</td><td>0.014472</td><td>-0.010414</td><td>0.072645</td><td>0.114748</td><td>-0.012436</td><td>0.043999</td><td>-0.090224</td><td>-0.077501</td><td>-0.013262</td><td>-0.069838</td><td>0.004277</td><td>-0.004711</td><td>0.028971</td><td>0.030119</td><td>0.121869</td><td>0.047191</td><td>-0.028586</td><td>-0.177354</td><td>-0.02559</td><td>-0.025599</td><td>-0.092415</td><td>0.048714</td><td>0.156406</td><td>0.017718</td><td>-0.003616</td><td>-0.025365</td><td>0.004622</td><td>-0.013555</td><td>-0.01008</td></tr><tr><td>&quot;(0, 1, 2, 3, 4…</td><td>&quot;(3, 2)&quot;</td><td>0.014974</td><td>0.002103</td><td>0.037107</td><td>0.018867</td><td>0.04165</td><td>0.046178</td><td>-0.013308</td><td>-0.002331</td><td>-0.008266</td><td>0.150778</td><td>0.608964</td><td>0.033026</td><td>0.004018</td><td>-0.00349</td><td>-0.627561</td><td>-0.006356</td><td>0.140434</td><td>-0.002982</td><td>-0.000147</td><td>-0.004766</td><td>-0.011745</td><td>0.115589</td><td>-0.065219</td><td>0.407447</td><td>0.005765</td><td>-0.027483</td><td>-0.065949</td><td>0.031316</td><td>-0.064343</td><td>-0.025392</td><td>-0.004791</td><td>0.623591</td><td>-0.050226</td><td>-0.872312</td><td>0.052208</td><td>&hellip;</td><td>-0.011083</td><td>-0.05786</td><td>0.015736</td><td>0.09093</td><td>0.215741</td><td>0.004352</td><td>0.000072</td><td>0.021295</td><td>0.0337</td><td>0.004688</td><td>0.050094</td><td>-0.113739</td><td>0.004757</td><td>0.025821</td><td>0.043481</td><td>-0.032863</td><td>-0.000949</td><td>-0.044456</td><td>0.003136</td><td>-0.002683</td><td>0.675141</td><td>-0.003037</td><td>0.141155</td><td>-0.550402</td><td>-0.076174</td><td>-0.142592</td><td>0.183517</td><td>0.013237</td><td>0.079094</td><td>0.025234</td><td>-0.009928</td><td>-0.097761</td><td>-0.083429</td><td>0.008525</td><td>0.013451</td><td>-0.025471</td><td>0.004252</td></tr></tbody></table></div>"
            ]
          },
          "metadata": {},
          "execution_count": 34
        }
      ]
    },
    {
      "cell_type": "code",
      "source": [
        "(\n",
        "    lact_df\n",
        "    .filter(pl.col('permutation') == \"(1, 0, 2, 3, 4)\")\n",
        "    .select(['permutation', 'irrep', 'dim0', 'dim1', 'dim2'])\n",
        ")"
      ],
      "metadata": {
        "colab": {
          "base_uri": "https://localhost:8080/",
          "height": 318
        },
        "id": "p0L_d1WLQOjD",
        "outputId": "0c36c00e-ba3d-497a-a3e6-9b11f074a2c1"
      },
      "execution_count": 42,
      "outputs": [
        {
          "output_type": "execute_result",
          "data": {
            "text/plain": [
              "shape: (7, 5)\n",
              "┌─────────────────┬─────────────────┬───────────┬───────────┬───────────┐\n",
              "│ permutation     ┆ irrep           ┆ dim0      ┆ dim1      ┆ dim2      │\n",
              "│ ---             ┆ ---             ┆ ---       ┆ ---       ┆ ---       │\n",
              "│ str             ┆ str             ┆ f32       ┆ f32       ┆ f32       │\n",
              "╞═════════════════╪═════════════════╪═══════════╪═══════════╪═══════════╡\n",
              "│ (1, 0, 2, 3, 4) ┆ (1, 1, 1, 1, 1) ┆ 0.012522  ┆ 0.010281  ┆ 0.001871  │\n",
              "│ (1, 0, 2, 3, 4) ┆ (2, 1, 1, 1)    ┆ -0.147197 ┆ -3.667223 ┆ -0.106572 │\n",
              "│ (1, 0, 2, 3, 4) ┆ (2, 2, 1)       ┆ -1.354855 ┆ 0.007796  ┆ 0.022294  │\n",
              "│ (1, 0, 2, 3, 4) ┆ (3, 1, 1)       ┆ -0.068737 ┆ -0.015843 ┆ 0.01129   │\n",
              "│ (1, 0, 2, 3, 4) ┆ (3, 2)          ┆ -0.045958 ┆ 0.004406  ┆ -0.008605 │\n",
              "│ (1, 0, 2, 3, 4) ┆ (4, 1)          ┆ 0.003575  ┆ -0.006404 ┆ 0.013724  │\n",
              "│ (1, 0, 2, 3, 4) ┆ (5,)            ┆ 0.026715  ┆ 0.004896  ┆ -0.002053 │\n",
              "└─────────────────┴─────────────────┴───────────┴───────────┴───────────┘"
            ],
            "text/html": [
              "<div><style>\n",
              ".dataframe > thead > tr > th,\n",
              ".dataframe > tbody > tr > td {\n",
              "  text-align: right;\n",
              "}\n",
              "</style>\n",
              "<small>shape: (7, 5)</small><table border=\"1\" class=\"dataframe\"><thead><tr><th>permutation</th><th>irrep</th><th>dim0</th><th>dim1</th><th>dim2</th></tr><tr><td>str</td><td>str</td><td>f32</td><td>f32</td><td>f32</td></tr></thead><tbody><tr><td>&quot;(1, 0, 2, 3, 4…</td><td>&quot;(1, 1, 1, 1, 1…</td><td>0.012522</td><td>0.010281</td><td>0.001871</td></tr><tr><td>&quot;(1, 0, 2, 3, 4…</td><td>&quot;(2, 1, 1, 1)&quot;</td><td>-0.147197</td><td>-3.667223</td><td>-0.106572</td></tr><tr><td>&quot;(1, 0, 2, 3, 4…</td><td>&quot;(2, 2, 1)&quot;</td><td>-1.354855</td><td>0.007796</td><td>0.022294</td></tr><tr><td>&quot;(1, 0, 2, 3, 4…</td><td>&quot;(3, 1, 1)&quot;</td><td>-0.068737</td><td>-0.015843</td><td>0.01129</td></tr><tr><td>&quot;(1, 0, 2, 3, 4…</td><td>&quot;(3, 2)&quot;</td><td>-0.045958</td><td>0.004406</td><td>-0.008605</td></tr><tr><td>&quot;(1, 0, 2, 3, 4…</td><td>&quot;(4, 1)&quot;</td><td>0.003575</td><td>-0.006404</td><td>0.013724</td></tr><tr><td>&quot;(1, 0, 2, 3, 4…</td><td>&quot;(5,)&quot;</td><td>0.026715</td><td>0.004896</td><td>-0.002053</td></tr></tbody></table></div>"
            ]
          },
          "metadata": {},
          "execution_count": 42
        }
      ]
    },
    {
      "cell_type": "markdown",
      "source": [],
      "metadata": {
        "id": "SFI_JnJFQNhE"
      }
    },
    {
      "cell_type": "code",
      "source": [
        "# Get the most strongly (2, 1, 1, 1) dims\n",
        "(\n",
        "    lact_power_df\n",
        "    .filter(pl.col('irrep') == '(2, 1, 1, 1)')\n",
        "    .melt(id_vars='irrep')\n",
        "    .sort('value', descending=True)\n",
        "    .head(20)\n",
        ")"
      ],
      "metadata": {
        "colab": {
          "base_uri": "https://localhost:8080/",
          "height": 725
        },
        "id": "ET0mOTuuHN81",
        "outputId": "bdcdd8f0-001e-44f7-8f6c-920c66c83332"
      },
      "execution_count": 31,
      "outputs": [
        {
          "output_type": "execute_result",
          "data": {
            "text/plain": [
              "shape: (20, 3)\n",
              "┌──────────────┬──────────┬──────────┐\n",
              "│ irrep        ┆ variable ┆ value    │\n",
              "│ ---          ┆ ---      ┆ ---      │\n",
              "│ str          ┆ str      ┆ f32      │\n",
              "╞══════════════╪══════════╪══════════╡\n",
              "│ (2, 1, 1, 1) ┆ dim13    ┆ 0.999999 │\n",
              "│ (2, 1, 1, 1) ┆ dim97    ┆ 0.999999 │\n",
              "│ (2, 1, 1, 1) ┆ dim110   ┆ 0.999999 │\n",
              "│ (2, 1, 1, 1) ┆ dim51    ┆ 0.999998 │\n",
              "│ …            ┆ …        ┆ …        │\n",
              "│ (2, 1, 1, 1) ┆ dim18    ┆ 0.999982 │\n",
              "│ (2, 1, 1, 1) ┆ dim124   ┆ 0.999979 │\n",
              "│ (2, 1, 1, 1) ┆ dim91    ┆ 0.999979 │\n",
              "│ (2, 1, 1, 1) ┆ dim36    ┆ 0.999976 │\n",
              "└──────────────┴──────────┴──────────┘"
            ],
            "text/html": [
              "<div><style>\n",
              ".dataframe > thead > tr > th,\n",
              ".dataframe > tbody > tr > td {\n",
              "  text-align: right;\n",
              "}\n",
              "</style>\n",
              "<small>shape: (20, 3)</small><table border=\"1\" class=\"dataframe\"><thead><tr><th>irrep</th><th>variable</th><th>value</th></tr><tr><td>str</td><td>str</td><td>f32</td></tr></thead><tbody><tr><td>&quot;(2, 1, 1, 1)&quot;</td><td>&quot;dim13&quot;</td><td>0.999999</td></tr><tr><td>&quot;(2, 1, 1, 1)&quot;</td><td>&quot;dim97&quot;</td><td>0.999999</td></tr><tr><td>&quot;(2, 1, 1, 1)&quot;</td><td>&quot;dim110&quot;</td><td>0.999999</td></tr><tr><td>&quot;(2, 1, 1, 1)&quot;</td><td>&quot;dim51&quot;</td><td>0.999998</td></tr><tr><td>&quot;(2, 1, 1, 1)&quot;</td><td>&quot;dim84&quot;</td><td>0.999998</td></tr><tr><td>&quot;(2, 1, 1, 1)&quot;</td><td>&quot;dim77&quot;</td><td>0.999997</td></tr><tr><td>&quot;(2, 1, 1, 1)&quot;</td><td>&quot;dim41&quot;</td><td>0.999996</td></tr><tr><td>&quot;(2, 1, 1, 1)&quot;</td><td>&quot;dim100&quot;</td><td>0.999996</td></tr><tr><td>&quot;(2, 1, 1, 1)&quot;</td><td>&quot;dim24&quot;</td><td>0.999996</td></tr><tr><td>&quot;(2, 1, 1, 1)&quot;</td><td>&quot;dim19&quot;</td><td>0.999995</td></tr><tr><td>&quot;(2, 1, 1, 1)&quot;</td><td>&quot;dim68&quot;</td><td>0.999995</td></tr><tr><td>&quot;(2, 1, 1, 1)&quot;</td><td>&quot;dim17&quot;</td><td>0.999994</td></tr><tr><td>&quot;(2, 1, 1, 1)&quot;</td><td>&quot;dim109&quot;</td><td>0.999992</td></tr><tr><td>&quot;(2, 1, 1, 1)&quot;</td><td>&quot;dim62&quot;</td><td>0.999991</td></tr><tr><td>&quot;(2, 1, 1, 1)&quot;</td><td>&quot;dim90&quot;</td><td>0.99999</td></tr><tr><td>&quot;(2, 1, 1, 1)&quot;</td><td>&quot;dim42&quot;</td><td>0.999989</td></tr><tr><td>&quot;(2, 1, 1, 1)&quot;</td><td>&quot;dim18&quot;</td><td>0.999982</td></tr><tr><td>&quot;(2, 1, 1, 1)&quot;</td><td>&quot;dim124&quot;</td><td>0.999979</td></tr><tr><td>&quot;(2, 1, 1, 1)&quot;</td><td>&quot;dim91&quot;</td><td>0.999979</td></tr><tr><td>&quot;(2, 1, 1, 1)&quot;</td><td>&quot;dim36&quot;</td><td>0.999976</td></tr></tbody></table></div>"
            ]
          },
          "metadata": {},
          "execution_count": 31
        }
      ]
    },
    {
      "cell_type": "markdown",
      "source": [
        "Now we are just looking at one \"neuron\" / dim / column of the (left) linear matrix and the histogram is the distribution over the 120 permutations in S5. As you can see, there are five distinct groups. As it turns out, these are cosets of S4 within S5"
      ],
      "metadata": {
        "id": "_J-YVv38Pj65"
      }
    },
    {
      "cell_type": "code",
      "source": [
        "# pick a random one from the above list\n",
        "col = \"dim13\"\n",
        "\n",
        "(\n",
        "    ggplot(\n",
        "        lact_df\n",
        "            .filter(pl.col(\"irrep\") == \"(2, 1, 1, 1)\")\n",
        "            .melt(id_vars=['permutation', 'irrep'])\n",
        "            .filter(pl.col('variable') == col),\n",
        "        aes(x='value')\n",
        "    )\n",
        "    + geom_histogram(binwidth=0.5)\n",
        ")\n"
      ],
      "metadata": {
        "colab": {
          "base_uri": "https://localhost:8080/",
          "height": 469
        },
        "id": "YEHrLvsOKXld",
        "outputId": "a73943bf-f3e2-49cc-a931-52f6af6078c7"
      },
      "execution_count": 38,
      "outputs": [
        {
          "output_type": "display_data",
          "data": {
            "text/plain": [
              "<Figure size 640x480 with 1 Axes>"
            ],
            "image/png": "[encoded data removed]"
          },
          "metadata": {}
        },
        {
          "output_type": "execute_result",
          "data": {
            "text/plain": [
              "<ggplot: (8773041751206)>"
            ]
          },
          "metadata": {},
          "execution_count": 38
        }
      ]
    },
    {
      "cell_type": "markdown",
      "source": [
        "### $S_4$ Cosets via (2, 1, 1, 1)\n",
        "\n",
        "To properly see that those groups are given by cosets we need to construct the cosets, similar to how we did before. We put the coset info into polars dataframes so that we can use it with the plotting library"
      ],
      "metadata": {
        "id": "IBe8tRXQTXhK"
      }
    },
    {
      "cell_type": "code",
      "source": [
        "from functools import reduce\n",
        "\n",
        "S4_info = {\n",
        "    \"order\": 12,\n",
        "    \"copies\": 5,\n",
        "    \"generators\": [\n",
        "        [(0, 2, 3, 4, 1), (0, 2, 1, 3, 4)], #1 fix 0\n",
        "        [(2, 1, 3, 4, 0), (2, 1, 0, 3, 4)], #2 fix 1\n",
        "        [(1, 3, 2, 4, 0), (1, 0, 2, 3, 4)], #3 fix 2\n",
        "        [(1, 2, 4, 3, 0), (1, 0, 2, 3, 4)], #4 fix 3\n",
        "        [(1, 2, 3, 0, 4), (1, 0, 2, 3, 4)], #5 fix 4\n",
        "    ]\n",
        "}\n",
        "\n",
        "\n",
        "def _coset_join(df1, df2):\n",
        "    return df1.join(df2, on='permutation', how='inner')\n",
        "\n",
        "\n",
        "def _coset_df(cosets, prefix):\n",
        "    data = []\n",
        "\n",
        "    for cos in cosets:\n",
        "        rep = str(cos[0])\n",
        "        data.extend([\n",
        "            {'permutation': str(c), f'coset_rep_{prefix}': rep} for c in cos\n",
        "        ])\n",
        "    return pl.DataFrame(data)\n",
        "\n",
        "\n",
        "def make_left_coset_rep_df(subgroups, n):\n",
        "    data = []\n",
        "\n",
        "    for i, sg in enumerate(subgroups):\n",
        "        cosets = list(get_left_cosets(sg, n))\n",
        "        data.append(_coset_df(cosets, i))\n",
        "\n",
        "    return reduce(_coset_join, data)\n",
        "\n",
        "\n",
        "def make_right_coset_rep_df(subgroups, n):\n",
        "    data = []\n",
        "\n",
        "    for i, sg in enumerate(subgroups):\n",
        "        cosets = list(get_right_cosets(sg, n))\n",
        "        data.append(_coset_df(cosets, i))\n",
        "\n",
        "    return reduce(_coset_join, data)\n",
        "\n",
        "\n",
        "s4_subgroups = [generate_subgroup(gen) for gen in S4_info['generators']]\n",
        "s4_right_coset_df = make_right_coset_rep_df(s4_subgroups, 5)\n",
        "s4_left_coset_df = make_left_coset_rep_df(s4_subgroups, 5)"
      ],
      "metadata": {
        "id": "gt_SUqyZNEYi"
      },
      "execution_count": 56,
      "outputs": []
    },
    {
      "cell_type": "code",
      "source": [
        "# This is a dataframe where each column represents one of the copies of S4 within\n",
        "# S5. For each row `permutation` is one of the permutations in S5 and the value in the other\n",
        "# columns is a coset representative for the coset the permutation is in with respect to that column's\n",
        "# subgroup\n",
        "s4_right_coset_df.head()"
      ],
      "metadata": {
        "colab": {
          "base_uri": "https://localhost:8080/",
          "height": 255
        },
        "id": "ChNf5SFnUhK1",
        "outputId": "5e98c998-a2d8-4492-b2df-6f4b049606b7"
      },
      "execution_count": 46,
      "outputs": [
        {
          "output_type": "execute_result",
          "data": {
            "text/plain": [
              "shape: (5, 6)\n",
              "┌────────────────┬────────────────┬────────────────┬───────────────┬───────────────┬───────────────┐\n",
              "│ permutation    ┆ coset_rep_0    ┆ coset_rep_1    ┆ coset_rep_2   ┆ coset_rep_3   ┆ coset_rep_4   │\n",
              "│ ---            ┆ ---            ┆ ---            ┆ ---           ┆ ---           ┆ ---           │\n",
              "│ str            ┆ str            ┆ str            ┆ str           ┆ str           ┆ str           │\n",
              "╞════════════════╪════════════════╪════════════════╪═══════════════╪═══════════════╪═══════════════╡\n",
              "│ (0, 1, 2, 3,   ┆ (0, 1, 2, 3,   ┆ (0, 1, 2, 3,   ┆ (0, 1, 2, 3,  ┆ (0, 1, 2, 3,  ┆ (0, 1, 2, 3,  │\n",
              "│ 4)             ┆ 4)             ┆ 4)             ┆ 4)            ┆ 4)            ┆ 4)            │\n",
              "│ (0, 1, 3, 2,   ┆ (0, 1, 2, 3,   ┆ (0, 1, 2, 3,   ┆ (0, 1, 3, 2,  ┆ (0, 1, 3, 2,  ┆ (0, 1, 2, 3,  │\n",
              "│ 4)             ┆ 4)             ┆ 4)             ┆ 4)            ┆ 4)            ┆ 4)            │\n",
              "│ (0, 2, 1, 3,   ┆ (0, 1, 2, 3,   ┆ (0, 2, 1, 3,   ┆ (0, 2, 1, 3,  ┆ (0, 1, 2, 3,  ┆ (0, 1, 2, 3,  │\n",
              "│ 4)             ┆ 4)             ┆ 4)             ┆ 4)            ┆ 4)            ┆ 4)            │\n",
              "│ (0, 2, 3, 1,   ┆ (0, 1, 2, 3,   ┆ (0, 2, 1, 3,   ┆ (0, 1, 3, 2,  ┆ (0, 2, 3, 1,  ┆ (0, 1, 2, 3,  │\n",
              "│ 4)             ┆ 4)             ┆ 4)             ┆ 4)            ┆ 4)            ┆ 4)            │\n",
              "│ (0, 3, 1, 2,   ┆ (0, 1, 2, 3,   ┆ (0, 3, 1, 2,   ┆ (0, 2, 1, 3,  ┆ (0, 1, 3, 2,  ┆ (0, 1, 2, 3,  │\n",
              "│ 4)             ┆ 4)             ┆ 4)             ┆ 4)            ┆ 4)            ┆ 4)            │\n",
              "└────────────────┴────────────────┴────────────────┴───────────────┴───────────────┴───────────────┘"
            ],
            "text/html": [
              "<div><style>\n",
              ".dataframe > thead > tr > th,\n",
              ".dataframe > tbody > tr > td {\n",
              "  text-align: right;\n",
              "}\n",
              "</style>\n",
              "<small>shape: (5, 6)</small><table border=\"1\" class=\"dataframe\"><thead><tr><th>permutation</th><th>coset_rep_0</th><th>coset_rep_1</th><th>coset_rep_2</th><th>coset_rep_3</th><th>coset_rep_4</th></tr><tr><td>str</td><td>str</td><td>str</td><td>str</td><td>str</td><td>str</td></tr></thead><tbody><tr><td>&quot;(0, 1, 2, 3, 4…</td><td>&quot;(0, 1, 2, 3, 4…</td><td>&quot;(0, 1, 2, 3, 4…</td><td>&quot;(0, 1, 2, 3, 4…</td><td>&quot;(0, 1, 2, 3, 4…</td><td>&quot;(0, 1, 2, 3, 4…</td></tr><tr><td>&quot;(0, 1, 3, 2, 4…</td><td>&quot;(0, 1, 2, 3, 4…</td><td>&quot;(0, 1, 2, 3, 4…</td><td>&quot;(0, 1, 3, 2, 4…</td><td>&quot;(0, 1, 3, 2, 4…</td><td>&quot;(0, 1, 2, 3, 4…</td></tr><tr><td>&quot;(0, 2, 1, 3, 4…</td><td>&quot;(0, 1, 2, 3, 4…</td><td>&quot;(0, 2, 1, 3, 4…</td><td>&quot;(0, 2, 1, 3, 4…</td><td>&quot;(0, 1, 2, 3, 4…</td><td>&quot;(0, 1, 2, 3, 4…</td></tr><tr><td>&quot;(0, 2, 3, 1, 4…</td><td>&quot;(0, 1, 2, 3, 4…</td><td>&quot;(0, 2, 1, 3, 4…</td><td>&quot;(0, 1, 3, 2, 4…</td><td>&quot;(0, 2, 3, 1, 4…</td><td>&quot;(0, 1, 2, 3, 4…</td></tr><tr><td>&quot;(0, 3, 1, 2, 4…</td><td>&quot;(0, 1, 2, 3, 4…</td><td>&quot;(0, 3, 1, 2, 4…</td><td>&quot;(0, 2, 1, 3, 4…</td><td>&quot;(0, 1, 3, 2, 4…</td><td>&quot;(0, 1, 2, 3, 4…</td></tr></tbody></table></div>"
            ]
          },
          "metadata": {},
          "execution_count": 46
        }
      ]
    },
    {
      "cell_type": "markdown",
      "source": [
        "It takes a little trial and error to find, but for a dimension like `dim13` that has >95% of its norm focused on a single irrep, it is always clear which subgroup it is aligned with. For `dim13` it's the copy of $S_4$ that fixes 2, and the right cosets of that subgroup, which are organized by which value is in the 2nd position (recall: counting starts from 0).\n"
      ],
      "metadata": {
        "id": "VHWNJa91WWJJ"
      }
    },
    {
      "cell_type": "code",
      "source": [
        "col = 'dim13'\n",
        "coset_1 = \"coset_rep_2\"\n",
        "df = (\n",
        "    lact_df.filter(pl.col('irrep') == \"(2, 1, 1, 1)\")\n",
        "    .select(['permutation', col])\n",
        "    .join(s4_right_coset_df.select(['permutation', coset_1]), left_on='permutation', right_on='permutation', how='inner')\n",
        "    .melt(id_vars=['permutation', coset_1])\n",
        ")\n",
        "\n",
        "ggplot(df, aes(x=coset_1, y='value', color=coset_1)) + geom_boxplot() + theme(axis_text_x=element_text(rotation=60))"
      ],
      "metadata": {
        "colab": {
          "base_uri": "https://localhost:8080/",
          "height": 528
        },
        "id": "D5beyCbmUjGl",
        "outputId": "37155fee-a264-4e4a-9822-8dc6eee8080c"
      },
      "execution_count": 52,
      "outputs": [
        {
          "output_type": "display_data",
          "data": {
            "text/plain": [
              "<Figure size 640x480 with 1 Axes>"
            ],
            "image/png": "[encoded data removed]"
          },
          "metadata": {}
        },
        {
          "output_type": "execute_result",
          "data": {
            "text/plain": [
              "<ggplot: (8773042128497)>"
            ]
          },
          "metadata": {},
          "execution_count": 52
        }
      ]
    },
    {
      "cell_type": "markdown",
      "source": [
        "We can see that this is just a different way of looking at the previous histogram."
      ],
      "metadata": {
        "id": "Kqd8p-xsXZo2"
      }
    },
    {
      "cell_type": "code",
      "source": [
        "ggplot(df, aes(x='value', fill=coset_1)) + geom_histogram(binwidth=0.5) + theme(axis_text_x=element_text(rotation=60))"
      ],
      "metadata": {
        "colab": {
          "base_uri": "https://localhost:8080/",
          "height": 485
        },
        "id": "uKdMy-00V6Kx",
        "outputId": "2ac29ddc-d024-4c60-9447-5c3743bc1336"
      },
      "execution_count": 54,
      "outputs": [
        {
          "output_type": "display_data",
          "data": {
            "text/plain": [
              "<Figure size 640x480 with 1 Axes>"
            ],
            "image/png": "[encoded data removed]"
          },
          "metadata": {}
        },
        {
          "output_type": "execute_result",
          "data": {
            "text/plain": [
              "<ggplot: (8773035491800)>"
            ]
          },
          "metadata": {},
          "execution_count": 54
        }
      ]
    },
    {
      "cell_type": "markdown",
      "source": [
        "Now let's check the right. The right for `dim13` it's the S4 that fixes 0, and the activations are sorted by the _left_ cosets of S4, which correspond to what position 0 is in."
      ],
      "metadata": {
        "id": "3FiNr_f6Yv6U"
      }
    },
    {
      "cell_type": "code",
      "source": [
        "col = 'dim13'\n",
        "coset_1 = \"coset_rep_0\"\n",
        "df = (\n",
        "    ract_df.filter(pl.col('irrep') == \"(2, 1, 1, 1)\")\n",
        "    .select(['permutation', col])\n",
        "    .join(s4_left_coset_df.select(['permutation', coset_1]), left_on='permutation', right_on='permutation', how='inner')\n",
        "    .melt(id_vars=['permutation', coset_1])\n",
        ")\n",
        "\n",
        "ggplot(df, aes(x=coset_1, y='value', color=coset_1)) + geom_boxplot() + theme(axis_text_x=element_text(rotation=60))"
      ],
      "metadata": {
        "colab": {
          "base_uri": "https://localhost:8080/",
          "height": 531
        },
        "id": "m2-Cs6siXkkD",
        "outputId": "4079f8a4-6275-4a82-f5e1-9c0966070929"
      },
      "execution_count": 62,
      "outputs": [
        {
          "output_type": "display_data",
          "data": {
            "text/plain": [
              "<Figure size 640x480 with 1 Axes>"
            ],
            "image/png": "[encoded data removed]"
          },
          "metadata": {}
        },
        {
          "output_type": "execute_result",
          "data": {
            "text/plain": [
              "<ggplot: (8773034213785)>"
            ]
          },
          "metadata": {},
          "execution_count": 62
        }
      ]
    },
    {
      "cell_type": "code",
      "source": [
        "def add_parens(perm):\n",
        "    return '(' + ', '.join(list(perm)) + ')'\n",
        "\n",
        "# This is an old run where I had the permutation data in a shitty format\n",
        "perm_data = run_data.select(['permutation_left', 'permutation_right', 'permutation_target']).with_columns([\n",
        "    pl.col('permutation_left').apply(add_parens),\n",
        "    pl.col('permutation_right').apply(add_parens),\n",
        "    pl.col('permutation_target').apply(add_parens),\n",
        "])"
      ],
      "metadata": {
        "id": "I1DPf_h60M-r"
      },
      "execution_count": 64,
      "outputs": []
    },
    {
      "cell_type": "markdown",
      "source": [
        "Recall that the linear activations data is each combination of `left_embed + right_embed`."
      ],
      "metadata": {
        "id": "a9Vk7EIn0hvE"
      }
    },
    {
      "cell_type": "code",
      "source": [
        "out, cache = model.run_with_cache(lperms, rperms)\n",
        "\n",
        "linear_acts = cache['hook_linear']\n",
        "\n",
        "linear_acts_df = pl.concat(\n",
        "    [perm_data, pl.DataFrame(linear_acts.detach().numpy(), schema=[f'dim{i}' for i in range(128)])],\n",
        "    how='horizontal'\n",
        ")\n",
        "linear_acts_df.head()"
      ],
      "metadata": {
        "colab": {
          "base_uri": "https://localhost:8080/",
          "height": 275
        },
        "id": "wKwmC8hLY05r",
        "outputId": "dde35f30-4b77-49c9-b5e3-97928cbc6065"
      },
      "execution_count": 65,
      "outputs": [
        {
          "output_type": "execute_result",
          "data": {
            "text/plain": [
              "shape: (5, 131)\n",
              "┌────────────┬────────────┬────────────┬───────────┬───┬──────────┬──────────┬──────────┬──────────┐\n",
              "│ permutatio ┆ permutatio ┆ permutatio ┆ dim0      ┆ … ┆ dim124   ┆ dim125   ┆ dim126   ┆ dim127   │\n",
              "│ n_left     ┆ n_right    ┆ n_target   ┆ ---       ┆   ┆ ---      ┆ ---      ┆ ---      ┆ ---      │\n",
              "│ ---        ┆ ---        ┆ ---        ┆ f32       ┆   ┆ f32      ┆ f32      ┆ f32      ┆ f32      │\n",
              "│ str        ┆ str        ┆ str        ┆           ┆   ┆          ┆          ┆          ┆          │\n",
              "╞════════════╪════════════╪════════════╪═══════════╪═══╪══════════╪══════════╪══════════╪══════════╡\n",
              "│ (0, 1, 2,  ┆ (0, 1, 2,  ┆ (0, 1, 2,  ┆ -2.109076 ┆ … ┆ 6.910126 ┆ -4.94800 ┆ 2.883769 ┆ 3.342359 │\n",
              "│ 3, 4)      ┆ 3, 4)      ┆ 3, 4)      ┆           ┆   ┆          ┆ 1        ┆          ┆          │\n",
              "│ (0, 1, 2,  ┆ (0, 1, 3,  ┆ (0, 1, 3,  ┆ -1.751873 ┆ … ┆ -2.72964 ┆ -4.92189 ┆ 2.874353 ┆ 3.343708 │\n",
              "│ 3, 4)      ┆ 4, 2)      ┆ 4, 2)      ┆           ┆   ┆ 6        ┆ 2        ┆          ┆          │\n",
              "│ (0, 1, 2,  ┆ (0, 1, 4,  ┆ (0, 1, 4,  ┆ -2.454711 ┆ … ┆ 0.001566 ┆ -4.79473 ┆ 2.793016 ┆ 3.558762 │\n",
              "│ 3, 4)      ┆ 2, 3)      ┆ 2, 3)      ┆           ┆   ┆          ┆ 7        ┆          ┆          │\n",
              "│ (0, 1, 2,  ┆ (0, 2, 1,  ┆ (0, 2, 1,  ┆ -2.031528 ┆ … ┆ 0.047985 ┆ 2.668799 ┆ -2.61972 ┆ 11.45303 │\n",
              "│ 3, 4)      ┆ 4, 3)      ┆ 4, 3)      ┆           ┆   ┆          ┆          ┆ 2        ┆ 3        │\n",
              "│ (0, 1, 2,  ┆ (0, 2, 3,  ┆ (0, 2, 3,  ┆ -2.332164 ┆ … ┆ -2.74573 ┆ 3.943931 ┆ -0.02919 ┆ 10.95442 │\n",
              "│ 3, 4)      ┆ 1, 4)      ┆ 1, 4)      ┆           ┆   ┆ 7        ┆          ┆ 8        ┆ 2        │\n",
              "└────────────┴────────────┴────────────┴───────────┴───┴──────────┴──────────┴──────────┴──────────┘"
            ],
            "text/html": [
              "<div><style>\n",
              ".dataframe > thead > tr > th,\n",
              ".dataframe > tbody > tr > td {\n",
              "  text-align: right;\n",
              "}\n",
              "</style>\n",
              "<small>shape: (5, 131)</small><table border=\"1\" class=\"dataframe\"><thead><tr><th>permutation_left</th><th>permutation_right</th><th>permutation_target</th><th>dim0</th><th>dim1</th><th>dim2</th><th>dim3</th><th>dim4</th><th>dim5</th><th>dim6</th><th>dim7</th><th>dim8</th><th>dim9</th><th>dim10</th><th>dim11</th><th>dim12</th><th>dim13</th><th>dim14</th><th>dim15</th><th>dim16</th><th>dim17</th><th>dim18</th><th>dim19</th><th>dim20</th><th>dim21</th><th>dim22</th><th>dim23</th><th>dim24</th><th>dim25</th><th>dim26</th><th>dim27</th><th>dim28</th><th>dim29</th><th>dim30</th><th>dim31</th><th>dim32</th><th>dim33</th><th>&hellip;</th><th>dim91</th><th>dim92</th><th>dim93</th><th>dim94</th><th>dim95</th><th>dim96</th><th>dim97</th><th>dim98</th><th>dim99</th><th>dim100</th><th>dim101</th><th>dim102</th><th>dim103</th><th>dim104</th><th>dim105</th><th>dim106</th><th>dim107</th><th>dim108</th><th>dim109</th><th>dim110</th><th>dim111</th><th>dim112</th><th>dim113</th><th>dim114</th><th>dim115</th><th>dim116</th><th>dim117</th><th>dim118</th><th>dim119</th><th>dim120</th><th>dim121</th><th>dim122</th><th>dim123</th><th>dim124</th><th>dim125</th><th>dim126</th><th>dim127</th></tr><tr><td>str</td><td>str</td><td>str</td><td>f32</td><td>f32</td><td>f32</td><td>f32</td><td>f32</td><td>f32</td><td>f32</td><td>f32</td><td>f32</td><td>f32</td><td>f32</td><td>f32</td><td>f32</td><td>f32</td><td>f32</td><td>f32</td><td>f32</td><td>f32</td><td>f32</td><td>f32</td><td>f32</td><td>f32</td><td>f32</td><td>f32</td><td>f32</td><td>f32</td><td>f32</td><td>f32</td><td>f32</td><td>f32</td><td>f32</td><td>f32</td><td>f32</td><td>f32</td><td>&hellip;</td><td>f32</td><td>f32</td><td>f32</td><td>f32</td><td>f32</td><td>f32</td><td>f32</td><td>f32</td><td>f32</td><td>f32</td><td>f32</td><td>f32</td><td>f32</td><td>f32</td><td>f32</td><td>f32</td><td>f32</td><td>f32</td><td>f32</td><td>f32</td><td>f32</td><td>f32</td><td>f32</td><td>f32</td><td>f32</td><td>f32</td><td>f32</td><td>f32</td><td>f32</td><td>f32</td><td>f32</td><td>f32</td><td>f32</td><td>f32</td><td>f32</td><td>f32</td><td>f32</td></tr></thead><tbody><tr><td>&quot;(0, 1, 2, 3, 4…</td><td>&quot;(0, 1, 2, 3, 4…</td><td>&quot;(0, 1, 2, 3, 4…</td><td>-2.109076</td><td>-8.005806</td><td>-0.177685</td><td>-0.384412</td><td>-0.110391</td><td>1.18496</td><td>-6.929646</td><td>3.96369</td><td>6.376385</td><td>-0.34583</td><td>0.983768</td><td>-0.241233</td><td>-4.444965</td><td>3.844229</td><td>-0.996589</td><td>-1.80641</td><td>0.14442</td><td>-3.580113</td><td>0.000807</td><td>0.000311</td><td>2.506025</td><td>-0.131278</td><td>-3.366218</td><td>0.271759</td><td>7.506271</td><td>-0.419129</td><td>-0.333985</td><td>-0.598786</td><td>0.409216</td><td>-6.030124</td><td>-0.937278</td><td>0.217161</td><td>0.202158</td><td>-2.077938</td><td>&hellip;</td><td>-3.256287</td><td>1.108241</td><td>-0.202104</td><td>-0.259418</td><td>2.489588</td><td>0.00063</td><td>-3.226288</td><td>1.266912</td><td>1.324032</td><td>3.690199</td><td>0.307455</td><td>-0.731126</td><td>8.711967</td><td>2.950667</td><td>-0.5346</td><td>-1.088307</td><td>-0.909726</td><td>1.363635</td><td>-0.001951</td><td>-12.187202</td><td>1.332865</td><td>2.401251</td><td>1.711538</td><td>0.423786</td><td>0.951222</td><td>-0.665956</td><td>0.073028</td><td>1.678033</td><td>0.925296</td><td>6.271161</td><td>0.115387</td><td>-1.198172</td><td>-0.761676</td><td>6.910126</td><td>-4.948001</td><td>2.883769</td><td>3.342359</td></tr><tr><td>&quot;(0, 1, 2, 3, 4…</td><td>&quot;(0, 1, 3, 4, 2…</td><td>&quot;(0, 1, 3, 4, 2…</td><td>-1.751873</td><td>-8.010601</td><td>-0.099761</td><td>-0.369473</td><td>0.002223</td><td>-0.240934</td><td>-7.14139</td><td>-2.62888</td><td>6.356492</td><td>0.126484</td><td>0.194974</td><td>-0.473774</td><td>-0.232284</td><td>3.844631</td><td>-0.25263</td><td>-0.004426</td><td>-0.21986</td><td>-7.192867</td><td>0.001181</td><td>0.000713</td><td>-6.774815</td><td>-0.122095</td><td>-3.240024</td><td>0.325669</td><td>0.027342</td><td>1.971403</td><td>-0.000073</td><td>-4.311964</td><td>0.150585</td><td>-6.030018</td><td>-0.643011</td><td>0.640403</td><td>0.029744</td><td>-1.041477</td><td>&hellip;</td><td>7.089485</td><td>0.400492</td><td>0.007555</td><td>-1.752988</td><td>1.604975</td><td>2.399207</td><td>9.728499</td><td>1.059462</td><td>1.692075</td><td>0.00544</td><td>0.029489</td><td>1.001184</td><td>10.80607</td><td>-2.695063</td><td>-0.008148</td><td>-1.278555</td><td>4.4681</td><td>0.309646</td><td>-8.396631</td><td>-0.010908</td><td>0.53768</td><td>2.195475</td><td>1.68031</td><td>-0.164652</td><td>0.906262</td><td>-0.355185</td><td>-0.125357</td><td>1.827979</td><td>-0.92728</td><td>0.028841</td><td>0.158648</td><td>-1.859881</td><td>0.383846</td><td>-2.729646</td><td>-4.921892</td><td>2.874353</td><td>3.343708</td></tr><tr><td>&quot;(0, 1, 2, 3, 4…</td><td>&quot;(0, 1, 4, 2, 3…</td><td>&quot;(0, 1, 4, 2, 3…</td><td>-2.454711</td><td>-7.81776</td><td>-0.110293</td><td>0.864467</td><td>-0.034211</td><td>0.800307</td><td>-7.125126</td><td>-5.742765</td><td>6.357038</td><td>-0.307653</td><td>0.073937</td><td>-0.680666</td><td>6.24203</td><td>3.84423</td><td>-0.679958</td><td>-1.320288</td><td>0.036736</td><td>5.631203</td><td>0.000344</td><td>0.009102</td><td>0.695261</td><td>0.510097</td><td>2.736037</td><td>0.407861</td><td>-3.473041</td><td>-0.302967</td><td>-0.276481</td><td>-0.615692</td><td>0.027655</td><td>-6.031088</td><td>0.119159</td><td>0.149865</td><td>0.17242</td><td>-1.826709</td><td>&hellip;</td><td>8.092791</td><td>1.603198</td><td>0.003688</td><td>-0.257278</td><td>2.264885</td><td>-8.262766</td><td>0.000944</td><td>1.396445</td><td>-0.267409</td><td>12.918144</td><td>0.288745</td><td>-0.485349</td><td>-0.000293</td><td>-0.53333</td><td>0.298845</td><td>-1.424189</td><td>-5.22471</td><td>-0.033561</td><td>-2.736484</td><td>-8.145679</td><td>1.0069</td><td>2.267121</td><td>0.606681</td><td>-0.055998</td><td>0.553205</td><td>-1.676225</td><td>-0.243313</td><td>2.207088</td><td>0.768462</td><td>7.04373</td><td>0.033109</td><td>-1.74146</td><td>0.607861</td><td>0.001566</td><td>-4.794737</td><td>2.793016</td><td>3.558762</td></tr><tr><td>&quot;(0, 1, 2, 3, 4…</td><td>&quot;(0, 2, 1, 4, 3…</td><td>&quot;(0, 2, 1, 4, 3…</td><td>-2.031528</td><td>0.006515</td><td>0.009167</td><td>1.660644</td><td>-0.129625</td><td>0.679863</td><td>-8.210882</td><td>-2.629276</td><td>6.356443</td><td>0.53813</td><td>0.951696</td><td>-1.032113</td><td>-0.25683</td><td>3.844009</td><td>-0.064401</td><td>-0.927495</td><td>1.970139</td><td>-11.033205</td><td>8.057288</td><td>0.000878</td><td>0.726134</td><td>-0.296427</td><td>-3.124011</td><td>0.565958</td><td>-3.405222</td><td>0.170275</td><td>-0.027271</td><td>-0.639084</td><td>0.041913</td><td>-6.031312</td><td>0.109543</td><td>0.578702</td><td>0.080908</td><td>-0.000105</td><td>&hellip;</td><td>7.092197</td><td>1.611515</td><td>0.000302</td><td>-0.124214</td><td>1.945864</td><td>-8.254316</td><td>9.736862</td><td>1.438115</td><td>-0.652191</td><td>-3.801055</td><td>0.125586</td><td>-0.330782</td><td>0.000529</td><td>0.801919</td><td>0.44773</td><td>-0.371605</td><td>-5.225408</td><td>0.164141</td><td>-8.396551</td><td>-0.008089</td><td>0.003882</td><td>0.000479</td><td>-0.291965</td><td>0.221587</td><td>-0.713702</td><td>-2.444323</td><td>0.697204</td><td>1.98887</td><td>0.329504</td><td>7.124048</td><td>0.161558</td><td>-1.210452</td><td>0.536464</td><td>0.047985</td><td>2.668799</td><td>-2.619722</td><td>11.453033</td></tr><tr><td>&quot;(0, 1, 2, 3, 4…</td><td>&quot;(0, 2, 3, 1, 4…</td><td>&quot;(0, 2, 3, 1, 4…</td><td>-2.332164</td><td>2.110672</td><td>-0.137973</td><td>1.602635</td><td>-0.121136</td><td>0.70563</td><td>1.604741</td><td>3.934902</td><td>6.497363</td><td>-0.183692</td><td>0.569683</td><td>-1.015378</td><td>-4.445276</td><td>3.843618</td><td>-0.860764</td><td>-1.145689</td><td>1.333183</td><td>-11.032125</td><td>11.816202</td><td>0.001969</td><td>-6.718188</td><td>-0.092334</td><td>-2.964547</td><td>0.327009</td><td>0.011412</td><td>0.209799</td><td>0.028674</td><td>-4.035242</td><td>0.01886</td><td>-6.030654</td><td>-0.007665</td><td>0.980974</td><td>0.220866</td><td>-0.879219</td><td>&hellip;</td><td>-3.26695</td><td>0.633285</td><td>-0.513059</td><td>-0.741886</td><td>1.660249</td><td>2.407293</td><td>-3.2222</td><td>-0.43692</td><td>-0.549538</td><td>-3.795212</td><td>-0.121869</td><td>-0.342875</td><td>10.790272</td><td>0.741456</td><td>-0.785118</td><td>-0.544251</td><td>4.298033</td><td>1.479306</td><td>-0.004772</td><td>-12.186112</td><td>0.787895</td><td>9.099203</td><td>-0.26296</td><td>-0.262518</td><td>-0.661561</td><td>-2.698939</td><td>0.478267</td><td>2.134494</td><td>0.357877</td><td>0.120072</td><td>0.078356</td><td>-1.626737</td><td>-0.763959</td><td>-2.745737</td><td>3.943931</td><td>-0.029198</td><td>10.954422</td></tr></tbody></table></div>"
            ]
          },
          "metadata": {},
          "execution_count": 65
        }
      ]
    },
    {
      "cell_type": "markdown",
      "source": [
        "Recall that anything below zero will get clipped by `relu`"
      ],
      "metadata": {
        "id": "1U47icBr14AH"
      }
    },
    {
      "cell_type": "code",
      "source": [
        "col = 'dim13'\n",
        "\n",
        "df = (\n",
        "    linear_acts_df\n",
        "    .melt(id_vars=['permutation_left', 'permutation_right', 'permutation_target'])\n",
        "    .filter(pl.col('variable') == col)\n",
        ")\n",
        "\n",
        "ggplot(df, aes(x='value')) + geom_histogram(binwidth=1)\n"
      ],
      "metadata": {
        "colab": {
          "base_uri": "https://localhost:8080/",
          "height": 469
        },
        "id": "zEbFdqcO0D1v",
        "outputId": "b36dce5b-1a8a-4dbd-d940-48bc512f6dfe"
      },
      "execution_count": 68,
      "outputs": [
        {
          "output_type": "display_data",
          "data": {
            "text/plain": [
              "<Figure size 640x480 with 1 Axes>"
            ],
            "image/png": "[encoded data removed]"
          },
          "metadata": {}
        },
        {
          "output_type": "execute_result",
          "data": {
            "text/plain": [
              "<ggplot: (8773034098337)>"
            ]
          },
          "metadata": {},
          "execution_count": 68
        }
      ]
    },
    {
      "cell_type": "markdown",
      "source": [
        "This shows the how the activations break down for the _target_ permutation that the model is trying to predict. If `dim13` fires then the target definitely doesn't have 0 in the 2nd position."
      ],
      "metadata": {
        "id": "gl6pWUyR3WiX"
      }
    },
    {
      "cell_type": "code",
      "source": [
        "col = 'dim13'\n",
        "df = (\n",
        "    linear_acts_df\n",
        "    .melt(id_vars=['permutation_left', 'permutation_right', 'permutation_target'])\n",
        "    .filter(pl.col('variable') == col)\n",
        "    .join(s4_right_coset_df, left_on='permutation_target', right_on='permutation')\n",
        ")\n",
        "#df.head()\n",
        "ggplot(df, aes(x='value', fill='coset_rep_2')) + geom_histogram(binwidth=1)"
      ],
      "metadata": {
        "colab": {
          "base_uri": "https://localhost:8080/",
          "height": 469
        },
        "id": "0i9mxuFL1xtb",
        "outputId": "e595fb08-67c2-4492-eb30-14abafcf792e"
      },
      "execution_count": 77,
      "outputs": [
        {
          "output_type": "display_data",
          "data": {
            "text/plain": [
              "<Figure size 640x480 with 1 Axes>"
            ],
            "image/png": "[encoded data removed]"
          },
          "metadata": {}
        },
        {
          "output_type": "execute_result",
          "data": {
            "text/plain": [
              "<ggplot: (8773058887753)>"
            ]
          },
          "metadata": {},
          "execution_count": 77
        }
      ]
    },
    {
      "cell_type": "code",
      "source": [],
      "metadata": {
        "id": "h1Gg8qO02WEM"
      },
      "execution_count": null,
      "outputs": []
    }
  ],
  "metadata": {
    "colab": {
      "collapsed_sections": [
        "Cf0LO_FW3FIo"
      ],
      "provenance": [],
      "authorship_tag": "ABX9TyO5i9R30CDZ2owLf+zLwEmu",
      "include_colab_link": true
    },
    "kernelspec": {
      "display_name": "Python 3",
      "name": "python3"
    },
    "language_info": {
      "name": "python"
    }
  },
  "nbformat": 4,
  "nbformat_minor": 0
}