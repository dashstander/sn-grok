{
 "cells": [
  {
   "cell_type": "code",
   "execution_count": 1,
   "id": "60b37178-8998-4ea8-bc3f-a261e27b6a7f",
   "metadata": {},
   "outputs": [],
   "source": [
    "PARTITIONS = {\n",
    "    1: (1),\n",
    "    2: [(2), (1, 1)],\n",
    "    3: [(3), (2, 1), (1, 1, 1)],\n",
    "    4: [(4), (3, 1), (2, 2), (2, 1, 1), (1, 1, 1, 1)],\n",
    "    5: [(5), (4, 1), (3, 2), (3, 1, 1), (2, 1, 1, 1), (1, 1, 1, 1, 1)],\n",
    "    6: [(6), (5, 1), (4, 2), (4, 1, 1), (3, 3), (3, 2, 1), (3, 1, 1, 1), (2, 1, 1, 1, 1), (1, 1, 1, 1, 1, 1)]\n",
    "}\n",
    "\n",
    "\n",
    "def _partitions(n):\n",
    "    if n == 0:\n",
    "        return None\n",
    "    elif n == 1:\n",
    "        return (1)\n",
    "    elif n in PARTITIONS:\n",
    "        return PARTITIONS[n]\n",
    "    else:\n",
    "        ps = [(n)]\n",
    "        for i in range(1, n):\n",
    "            k = n - i\n",
    "\n",
    "            ps.append([k, i])\n",
    "            i_parts = _partitions(i)\n",
    "        \n",
    "            \n",
    "    return ps\n",
    "    \n"
   ]
  },
  {
   "cell_type": "code",
   "execution_count": 2,
   "id": "7b305b44-90b2-4d27-a636-ffa7028298d2",
   "metadata": {},
   "outputs": [
    {
     "name": "stdout",
     "output_type": "stream",
     "text": [
      "(0, 1, 2, 3, 4)\n",
      "(0, 1, 2, 4, 3)\n",
      "(0, 1, 3, 2, 4)\n",
      "(0, 1, 3, 4, 2)\n",
      "(0, 1, 4, 2, 3)\n",
      "(0, 1, 4, 3, 2)\n",
      "(0, 2, 1, 3, 4)\n",
      "(0, 2, 1, 4, 3)\n",
      "(0, 2, 3, 1, 4)\n",
      "(0, 2, 3, 4, 1)\n",
      "(0, 2, 4, 1, 3)\n",
      "(0, 2, 4, 3, 1)\n",
      "(0, 3, 1, 2, 4)\n",
      "(0, 3, 1, 4, 2)\n",
      "(0, 3, 2, 1, 4)\n",
      "(0, 3, 2, 4, 1)\n",
      "(0, 3, 4, 1, 2)\n",
      "(0, 3, 4, 2, 1)\n",
      "(0, 4, 1, 2, 3)\n",
      "(0, 4, 1, 3, 2)\n",
      "(0, 4, 2, 1, 3)\n",
      "(0, 4, 2, 3, 1)\n",
      "(0, 4, 3, 1, 2)\n",
      "(0, 4, 3, 2, 1)\n",
      "(1, 0, 2, 3, 4)\n",
      "(1, 0, 2, 4, 3)\n",
      "(1, 0, 3, 2, 4)\n",
      "(1, 0, 3, 4, 2)\n",
      "(1, 0, 4, 2, 3)\n",
      "(1, 0, 4, 3, 2)\n",
      "(1, 2, 0, 3, 4)\n",
      "(1, 2, 0, 4, 3)\n",
      "(1, 2, 3, 0, 4)\n",
      "(1, 2, 3, 4, 0)\n",
      "(1, 2, 4, 0, 3)\n",
      "(1, 2, 4, 3, 0)\n",
      "(1, 3, 0, 2, 4)\n",
      "(1, 3, 0, 4, 2)\n",
      "(1, 3, 2, 0, 4)\n",
      "(1, 3, 2, 4, 0)\n",
      "(1, 3, 4, 0, 2)\n",
      "(1, 3, 4, 2, 0)\n",
      "(1, 4, 0, 2, 3)\n",
      "(1, 4, 0, 3, 2)\n",
      "(1, 4, 2, 0, 3)\n",
      "(1, 4, 2, 3, 0)\n",
      "(1, 4, 3, 0, 2)\n",
      "(1, 4, 3, 2, 0)\n",
      "(2, 0, 1, 3, 4)\n",
      "(2, 0, 1, 4, 3)\n",
      "(2, 0, 3, 1, 4)\n",
      "(2, 0, 3, 4, 1)\n",
      "(2, 0, 4, 1, 3)\n",
      "(2, 0, 4, 3, 1)\n",
      "(2, 1, 0, 3, 4)\n",
      "(2, 1, 0, 4, 3)\n",
      "(2, 1, 3, 0, 4)\n",
      "(2, 1, 3, 4, 0)\n",
      "(2, 1, 4, 0, 3)\n",
      "(2, 1, 4, 3, 0)\n",
      "(2, 3, 0, 1, 4)\n",
      "(2, 3, 0, 4, 1)\n",
      "(2, 3, 1, 0, 4)\n",
      "(2, 3, 1, 4, 0)\n",
      "(2, 3, 4, 0, 1)\n",
      "(2, 3, 4, 1, 0)\n",
      "(2, 4, 0, 1, 3)\n",
      "(2, 4, 0, 3, 1)\n",
      "(2, 4, 1, 0, 3)\n",
      "(2, 4, 1, 3, 0)\n",
      "(2, 4, 3, 0, 1)\n",
      "(2, 4, 3, 1, 0)\n",
      "(3, 0, 1, 2, 4)\n",
      "(3, 0, 1, 4, 2)\n",
      "(3, 0, 2, 1, 4)\n",
      "(3, 0, 2, 4, 1)\n",
      "(3, 0, 4, 1, 2)\n",
      "(3, 0, 4, 2, 1)\n",
      "(3, 1, 0, 2, 4)\n",
      "(3, 1, 0, 4, 2)\n",
      "(3, 1, 2, 0, 4)\n",
      "(3, 1, 2, 4, 0)\n",
      "(3, 1, 4, 0, 2)\n",
      "(3, 1, 4, 2, 0)\n",
      "(3, 2, 0, 1, 4)\n",
      "(3, 2, 0, 4, 1)\n",
      "(3, 2, 1, 0, 4)\n",
      "(3, 2, 1, 4, 0)\n",
      "(3, 2, 4, 0, 1)\n",
      "(3, 2, 4, 1, 0)\n",
      "(3, 4, 0, 1, 2)\n",
      "(3, 4, 0, 2, 1)\n",
      "(3, 4, 1, 0, 2)\n",
      "(3, 4, 1, 2, 0)\n",
      "(3, 4, 2, 0, 1)\n",
      "(3, 4, 2, 1, 0)\n",
      "(4, 0, 1, 2, 3)\n",
      "(4, 0, 1, 3, 2)\n",
      "(4, 0, 2, 1, 3)\n",
      "(4, 0, 2, 3, 1)\n",
      "(4, 0, 3, 1, 2)\n",
      "(4, 0, 3, 2, 1)\n",
      "(4, 1, 0, 2, 3)\n",
      "(4, 1, 0, 3, 2)\n",
      "(4, 1, 2, 0, 3)\n",
      "(4, 1, 2, 3, 0)\n",
      "(4, 1, 3, 0, 2)\n",
      "(4, 1, 3, 2, 0)\n",
      "(4, 2, 0, 1, 3)\n",
      "(4, 2, 0, 3, 1)\n",
      "(4, 2, 1, 0, 3)\n",
      "(4, 2, 1, 3, 0)\n",
      "(4, 2, 3, 0, 1)\n",
      "(4, 2, 3, 1, 0)\n",
      "(4, 3, 0, 1, 2)\n",
      "(4, 3, 0, 2, 1)\n",
      "(4, 3, 1, 0, 2)\n",
      "(4, 3, 1, 2, 0)\n",
      "(4, 3, 2, 0, 1)\n",
      "(4, 3, 2, 1, 0)\n"
     ]
    }
   ],
   "source": [
    "from itertools import permutations, combinations, product\n",
    "\n",
    "x = list(range(5))\n",
    "\n",
    "for i in permutations(x):\n",
    "    print(i)\n"
   ]
  },
  {
   "cell_type": "code",
   "execution_count": 3,
   "id": "db553859-7d87-4b18-9500-4e0111ad242c",
   "metadata": {},
   "outputs": [],
   "source": [
    "def get_cycle_rep(sigma):\n",
    "    elems = set(sigma)\n",
    "    base = list(range(len(sigma)))\n",
    "    cycles = []\n",
    "    i = 0\n",
    "    while len(elems) > 0:\n",
    "        print(elems)\n",
    "        this_cycle = []\n",
    "        curr = min(elems)\n",
    "        while curr not in this_cycle:\n",
    "            print(f'{i}: {curr}')\n",
    "            this_cycle.append(curr)\n",
    "            curr = base[sigma[curr]]\n",
    "            print(curr)\n",
    "        cycles.append(this_cycle)\n",
    "        elems = elems - set(this_cycle)\n",
    "        i += 1\n",
    "    return cycles\n",
    "    "
   ]
  },
  {
   "cell_type": "code",
   "execution_count": 4,
   "id": "d8403f5c-3bbd-4dd6-a2e0-6a8f3a40ed1f",
   "metadata": {},
   "outputs": [
    {
     "name": "stdout",
     "output_type": "stream",
     "text": [
      "{0, 1, 2, 3, 4, 5, 6}\n",
      "0: 0\n",
      "1\n",
      "0: 1\n",
      "0\n",
      "{2, 3, 4, 5, 6}\n",
      "1: 2\n",
      "3\n",
      "1: 3\n",
      "4\n",
      "1: 4\n",
      "2\n",
      "{5, 6}\n",
      "2: 5\n",
      "6\n",
      "2: 6\n",
      "5\n"
     ]
    },
    {
     "data": {
      "text/plain": [
       "[[0, 1], [2, 3, 4], [5, 6]]"
      ]
     },
     "execution_count": 4,
     "metadata": {},
     "output_type": "execute_result"
    }
   ],
   "source": [
    "x = (1, 0, 3, 4, 2, 6, 5)\n",
    "\n",
    "get_cycle_rep(x)"
   ]
  },
  {
   "cell_type": "code",
   "execution_count": 33,
   "id": "79a95d14-8e1e-426b-a9c2-f36ef9db8d51",
   "metadata": {},
   "outputs": [],
   "source": [
    "class Permutation:\n",
    "    \n",
    "    def __init__(self, sigma):\n",
    "        self.sigma = tuple(sigma)\n",
    "        self.base = list(range(len(sigma)))\n",
    "        self._cycle_rep = None\n",
    "    \n",
    "    def __len__(self):\n",
    "        return len(self.sigma)\n",
    "    \n",
    "    def __call__(self, x):\n",
    "        if len(x) != len(self):\n",
    "            raise ValueError(f'Permutation of length {len(self)} is ill-defined for given sequence of length {len(x)}')\n",
    "        if isinstance(x, Permutation):\n",
    "            sequence = x.sigma\n",
    "            new_sigma = [sequence[self.sigma[i]] for i in self.base]\n",
    "            return Permutation(new_sigma)\n",
    "        else:\n",
    "            return [x[self.sigma[i]] for i in self.base]\n",
    "    \n",
    "    @property\n",
    "    def cycle_rep(self):\n",
    "        if self._cycle_rep is None:\n",
    "            elems = set(self.sigma)\n",
    "            base = list(range(len(self)))\n",
    "            cycles = []\n",
    "            i = 0\n",
    "            while len(elems) > 0:\n",
    "                this_cycle = []\n",
    "                curr = min(elems)\n",
    "                while curr not in this_cycle:\n",
    "                    this_cycle.append(curr)\n",
    "                    curr = base[self.sigma[curr]]\n",
    "                cycles.append(this_cycle)\n",
    "                elems = elems - set(this_cycle)\n",
    "                i += 1\n",
    "            self._cycle_rep = cycles\n",
    "        return self._cycle_rep\n",
    "    \n",
    "    def congruency_class(self):\n",
    "        cycle_lens = [len(c) for c in self.cycle_rep]\n",
    "        return tuple(sorted(cycle_lens))\n",
    "    \n",
    "    @property\n",
    "    def parity(self):\n",
    "        odd_cycles = [c for c in self.cycle_rep if (len(c) % 2 == 0)]\n",
    "        return len(odd_cycles) % 2\n",
    "        \n",
    "    \n",
    "        \n",
    "    \n",
    "    "
   ]
  },
  {
   "cell_type": "code",
   "execution_count": 34,
   "id": "49e2167d-4ad2-43a0-8483-244729b79248",
   "metadata": {},
   "outputs": [
    {
     "name": "stdout",
     "output_type": "stream",
     "text": [
      "[2, 4, 0, 3, 5, 1, 6]\n",
      "[3, 1, 4, 2, 5, 0, 6]\n"
     ]
    }
   ],
   "source": [
    "perm =  Permutation([2, 4, 0, 3, 5, 1, 6])\n",
    "perm2 = Permutation([3, 5, 1, 0, 4, 2, 6])\n",
    "\n",
    "print(perm(list(range(7))))\n",
    "print(perm2(perm(list(range(7)))))"
   ]
  },
  {
   "cell_type": "code",
   "execution_count": 35,
   "id": "6447bdeb-f7b7-4d7b-a0bb-fa511618e23f",
   "metadata": {},
   "outputs": [
    {
     "data": {
      "text/plain": [
       "(1, 1, 2, 3)"
      ]
     },
     "execution_count": 35,
     "metadata": {},
     "output_type": "execute_result"
    }
   ],
   "source": [
    "perm.congruency_class()"
   ]
  },
  {
   "cell_type": "code",
   "execution_count": 36,
   "id": "89bd3bcf-222b-4948-b9b7-9a2444920960",
   "metadata": {},
   "outputs": [
    {
     "data": {
      "text/plain": [
       "1"
      ]
     },
     "execution_count": 36,
     "metadata": {},
     "output_type": "execute_result"
    }
   ],
   "source": [
    "perm.parity"
   ]
  },
  {
   "cell_type": "code",
   "execution_count": 37,
   "id": "1b9a5440-fa62-4da2-9de2-29314b203df4",
   "metadata": {
    "tags": []
   },
   "outputs": [
    {
     "data": {
      "text/plain": [
       "0"
      ]
     },
     "execution_count": 37,
     "metadata": {},
     "output_type": "execute_result"
    }
   ],
   "source": [
    "ident = Permutation([0, 1, 2, 3, 4])\n",
    "ident.parity"
   ]
  },
  {
   "cell_type": "code",
   "execution_count": 38,
   "id": "153d9d26-52d9-45af-a517-5f4da413973b",
   "metadata": {
    "tags": []
   },
   "outputs": [
    {
     "data": {
      "text/plain": [
       "1"
      ]
     },
     "execution_count": 38,
     "metadata": {},
     "output_type": "execute_result"
    }
   ],
   "source": [
    "perm1 = Permutation([1, 0, 2, 3, 4])\n",
    "perm1.parity"
   ]
  },
  {
   "cell_type": "code",
   "execution_count": 39,
   "id": "258263bb-09d7-4491-be7c-5f685eefbfd2",
   "metadata": {
    "tags": []
   },
   "outputs": [
    {
     "data": {
      "text/plain": [
       "[[0, 1], [2], [3], [4]]"
      ]
     },
     "execution_count": 39,
     "metadata": {},
     "output_type": "execute_result"
    }
   ],
   "source": [
    "perm1.cycle_rep"
   ]
  },
  {
   "cell_type": "code",
   "execution_count": 40,
   "id": "cced087c-8533-45c2-8eca-281f252943d9",
   "metadata": {
    "tags": []
   },
   "outputs": [
    {
     "data": {
      "text/plain": [
       "1"
      ]
     },
     "execution_count": 40,
     "metadata": {},
     "output_type": "execute_result"
    }
   ],
   "source": [
    "perm1.parity"
   ]
  },
  {
   "cell_type": "code",
   "execution_count": 41,
   "id": "ec225fe5-3147-4a3e-bcf2-f72136a50260",
   "metadata": {
    "tags": []
   },
   "outputs": [
    {
     "data": {
      "text/plain": [
       "0"
      ]
     },
     "execution_count": 41,
     "metadata": {},
     "output_type": "execute_result"
    }
   ],
   "source": [
    "perm2 = Permutation([0, 1, 3, 4, 2])\n",
    "perm2.parity"
   ]
  },
  {
   "cell_type": "code",
   "execution_count": 43,
   "id": "c3604924-b9cc-4d15-9a34-a616719d6ecd",
   "metadata": {
    "tags": []
   },
   "outputs": [
    {
     "data": {
      "text/plain": [
       "1"
      ]
     },
     "execution_count": 43,
     "metadata": {},
     "output_type": "execute_result"
    }
   ],
   "source": [
    "perm3 = perm1(perm2)\n",
    "perm3.parity"
   ]
  },
  {
   "cell_type": "code",
   "execution_count": null,
   "id": "d7b0d907-8bba-4c14-b131-8e4a55e5db96",
   "metadata": {},
   "outputs": [],
   "source": []
  }
 ],
 "metadata": {
  "kernelspec": {
   "display_name": "Python 3 (ipykernel)",
   "language": "python",
   "name": "python3"
  },
  "language_info": {
   "codemirror_mode": {
    "name": "ipython",
    "version": 3
   },
   "file_extension": ".py",
   "mimetype": "text/x-python",
   "name": "python",
   "nbconvert_exporter": "python",
   "pygments_lexer": "ipython3",
   "version": "3.10.8"
  }
 },
 "nbformat": 4,
 "nbformat_minor": 5
}
