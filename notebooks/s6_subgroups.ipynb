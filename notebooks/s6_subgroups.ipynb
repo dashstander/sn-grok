{
 "cells": [
  {
   "cell_type": "code",
   "execution_count": 1,
   "id": "d20220e4-fe3c-4c2f-a9df-77df40e1d11f",
   "metadata": {
    "tags": []
   },
   "outputs": [],
   "source": [
    "from itertools import product, permutations\n",
    "import math\n",
    "import numpy as np\n",
    "from pathlib import Path\n",
    "from plotnine import (\n",
    "    ggplot,\n",
    "    aes,\n",
    "    theme, \n",
    "    element_text,\n",
    "    stat_smooth,\n",
    "    facet_wrap,\n",
    "    geom_tile,\n",
    "    geom_point,\n",
    "    geom_histogram,\n",
    "    geom_violin,\n",
    "    geom_col,\n",
    "    xlab,\n",
    "    ylab,\n",
    "    ggtitle,\n",
    "    geom_line,\n",
    "    geom_ribbon,\n",
    "    geom_vline,\n",
    "    geom_text,\n",
    "    scale_x_log10,\n",
    "    scale_x_reverse,\n",
    "    geom_boxplot\n",
    ")\n",
    "import polars as pl\n",
    "import torch\n",
    "import functorch\n",
    "\n",
    "\n",
    "from sngrok.fourier import slow_sn_ft_1d, slow_sn_ft_2d, sn_fourier_basis, sn_fourier_basis_2d, calc_power\n",
    "from sngrok.groups import generate_subgroup, Symmetric\n",
    "from sngrok.permutations import Permutation\n",
    "from sngrok.model import SnMLP\n",
    "from sngrok.tableau import generate_partitions\n",
    "from sngrok.irreps import SnIrrep\n",
    "\n",
    "from confection import Config"
   ]
  },
  {
   "cell_type": "code",
   "execution_count": null,
   "id": "5393f582-a86e-40f9-8eda-a0692c4e3860",
   "metadata": {},
   "outputs": [],
   "source": []
  },
  {
   "cell_type": "code",
   "execution_count": 2,
   "id": "d8527ec0-f4f6-4e55-adb5-d56607acb5f1",
   "metadata": {
    "tags": []
   },
   "outputs": [],
   "source": [
    "from torch.nn.functional import relu\n",
    "from copy import deepcopy\n",
    "\n",
    "\n",
    "def loss_fn(logits, labels):\n",
    "    if len(logits.shape) == 3:\n",
    "        logits = logits[:, -1]\n",
    "    logits = logits.to(torch.float64)\n",
    "    \n",
    "    log_probs = logits.log_softmax(dim=-1)\n",
    "    correct_log_probs = log_probs.gather(dim=-1, index=labels[:, None])\n",
    "    return -1. * correct_log_probs\n",
    "\n",
    "\n",
    "def calc_power_contributions(tensor, n):\n",
    "    total_power = (tensor ** 2).mean(dim=0)\n",
    "    group_order = math.factorial(n)\n",
    "    fourier_transform = slow_sn_ft_1d(tensor, n)\n",
    "    irrep_power = calc_power(fourier_transform, group_order)\n",
    "    power_contribs = {irrep: power / total_power for irrep, power in irrep_power.items()}\n",
    "    irreps = list(power_contribs.keys())\n",
    "    power_vals = torch.cat([power_contribs[irrep].unsqueeze(0) for irrep in irreps], dim=0)\n",
    "    val_data = pl.DataFrame(power_vals.detach().cpu().numpy(), schema=[f'dim{i}' for i in range(tensor.shape[1])])\n",
    "    val_data.insert_at_idx(0, pl.Series('irrep', [str(i) for i in irreps]))\n",
    "    return val_data, fourier_transform\n",
    "\n",
    "\n",
    "def mean_ablate_one_column(model, linear_activations, index):\n",
    "    \n",
    "    act_means = relu(linear_activations).mean(0)\n",
    "    \n",
    "    acts = deepcopy(relu(linear_activations))\n",
    "    acts[:, index] = act_means[index]\n",
    "    \n",
    "    logits = model.unembed(acts)\n",
    "    \n",
    "    return loss_fn(logits, targets).sum()\n",
    "\n",
    "\n",
    "\n",
    "\n",
    "def perturb_acts(model, linear_activations, mu, sigma):\n",
    "    mean = torch.full_like(linear_activations, mu)\n",
    "    var = torch.full_like(linear_activations, sigma)\n",
    "    \n",
    "    acts = deepcopy(relu(linear_activations + torch.normal(mean, var)))\n",
    "\n",
    "    logits = model.unembed(acts)\n",
    "    \n",
    "    return loss_fn(logits, targets).sum()\n",
    "\n",
    "\n",
    "def eval_loss(model_fn, params, lperms, rperms, targets):\n",
    "    logits = model_fn(params, lperms, rperms)\n",
    "    return loss_fn(logits, targets).mean()\n",
    "\n",
    "\n",
    "def full_ablations(model_seed):\n",
    "    ckpt_dir = Path('/Users/dashiell/workspace/sn-grok/s5_40_small')\n",
    "    run_name = f's5_40_{model_seed}'\n",
    "\n",
    "    #whole_config = Config().from_disk('configs/s5_lr_5.toml')\n",
    "    run_dir = ckpt_dir / run_name\n",
    "    model_run = torch.load(run_dir / 'full_run.pth', map_location=torch.device('cpu'))\n",
    "    run_data = pl.read_parquet(run_dir / f'data.parquet')\n",
    "    lperms = torch.as_tensor(run_data.select('index_left').to_numpy(), dtype=torch.int64).squeeze()\n",
    "    rperms = torch.as_tensor(run_data.select('index_right').to_numpy(), dtype=torch.int64).squeeze()\n",
    "    targets = torch.as_tensor(run_data.select('index_target').to_numpy(), dtype=torch.int64).squeeze()\n",
    "\n",
    "    model = SnMLP.from_config(model_run['config'])\n",
    "    model.load_state_dict(model_run['model'])\n",
    "\n",
    "    logits, cache = model.run_with_cache(lperms, rperms)\n",
    "    \n",
    "    \n",
    "    original_loss = loss_fn(logits, targets).mean()\n",
    "    \n",
    "    linear_acts = cache['hook_linear']\n",
    "    \n",
    "    perturbed_loss001 =  perturb_acts(model, linear_acts, 0.0, 0.1)\n",
    "    perturbed_loss01 = perturb_acts(model, linear_acts, 0.0, 1.0)\n",
    "    perturbed_loss11 = perturb_acts(model, linear_acts, 1.0, 1.0)\n",
    "    perturbed_lossneg11 = perturb_acts(model, linear_acts, -1.0, 1.0)\n",
    "    \n",
    "    abs_logits = model.unembed(linear_acts.abs())\n",
    "    abs_loss = loss_fn(abs_logits, targets).mean()\n",
    "    \n",
    "    full_sign_logits = model.unembed(relu(-1. * linear_acts))\n",
    "    full_sign_loss = loss_fn(full_sign_logits, targets).mean()\n",
    "    \n",
    "    fmodel, params = functorch.make_functional(model)\n",
    "    \n",
    "    fparams = [deepcopy(p) for p in params]\n",
    "    fparams[0] = -1.0 * params[0]\n",
    "    \n",
    "    left_sign_loss = eval_loss(fmodel, fparams, lperms, rperms, targets)\n",
    "    \n",
    "    fparams = [deepcopy(p) for p in params]\n",
    "    fparams[1] = -1.0 * params[1]\n",
    "    \n",
    "    right_sign_loss = eval_loss(fmodel, fparams, lperms, rperms, targets)\n",
    "    \n",
    "    return {\n",
    "        'model_seed': model_seed,\n",
    "        'original_loss': original_loss.item(),\n",
    "        'full_sign_loss': full_sign_loss.item(),\n",
    "        'abs_loss': abs_loss.item(),\n",
    "        'left_sign_loss':  left_sign_loss.item(),\n",
    "        'right_sign_loss': right_sign_loss.item(),\n",
    "        'perturbed_loss_mean0_var1': perturbed_loss01.item(),\n",
    "        'perturbed_loss_mean0_var0.1': perturbed_loss001.item(),\n",
    "        'perturbed_loss_mean1_var1': perturbed_loss11.item(),\n",
    "        'perturbed_loss_mean-1_var1': perturbed_lossneg11.item(),\n",
    "    }\n",
    "\n",
    "\n",
    "\n",
    "def fourier_basis_to_df(tensor, n, layer):\n",
    "    group_order, num_irreps, fn_dim = tensor.shape\n",
    "    all_partitions = generate_partitions(n)\n",
    "    permutations = Permutation.full_group(n)\n",
    "    assert len(permutations) == group_order\n",
    "    assert len(all_partitions) == num_irreps\n",
    "    \n",
    "    long_values = tensor.reshape((-1, fn_dim))\n",
    "    group_col= []\n",
    "    for s in permutations:\n",
    "        group_col += [str(s.sigma)] * num_irreps\n",
    "    part_col = [str(p) for p in all_partitions] * group_order\n",
    "    assert len(group_col) == len(part_col) and len(group_col) == long_values.shape[0]\n",
    "    val_data = pl.DataFrame(long_values.detach().numpy(), schema=[f'dim{i}' for i in range(fn_dim)])\n",
    "    sn_metadata = pl.DataFrame({'layer': [layer] * len(group_col), 'permutation': group_col, 'irrep': part_col})\n",
    "    return pl.concat([sn_metadata, val_data], how='horizontal')\n",
    "    \n",
    "\n"
   ]
  },
  {
   "cell_type": "code",
   "execution_count": 3,
   "id": "05c07a19-aa7b-4775-8531-2c6fcd8588bf",
   "metadata": {
    "tags": []
   },
   "outputs": [],
   "source": [
    "import json\n",
    "\n",
    "with open('../s6_subgroups.json') as jfile:\n",
    "    all_s6_subgroups = json.load(jfile)"
   ]
  },
  {
   "cell_type": "code",
   "execution_count": 4,
   "id": "dd18db22-a07c-445c-9a77-94de4317a13b",
   "metadata": {
    "tags": []
   },
   "outputs": [],
   "source": [
    "def tuplefy(generators):\n",
    "    return [tuple(g) for g in generators]\n",
    "\n",
    "for k, v in all_s6_subgroups.items():\n",
    "    v['generators'] = [tuplefy(gens) for gens in v['generators']]"
   ]
  },
  {
   "cell_type": "code",
   "execution_count": 5,
   "id": "f707ea35-a890-4a42-bab1-754945c20a2a",
   "metadata": {
    "tags": []
   },
   "outputs": [],
   "source": [
    "import math\n",
    "\n",
    "def make_indicator_fn(subgroup, full_group):\n",
    "    f = torch.zeros((len(full_group), 2))\n",
    "    inval = 1 - ((len(subgroup) * 1.0) / len(full_group))\n",
    "    notinval = ((len(subgroup) * -1.0) / len(full_group))\n",
    "                 \n",
    "    for i, g in enumerate(full_group):\n",
    "        if g.sigma in subgroup:\n",
    "            f[i, 0] = inval\n",
    "        else:\n",
    "            f[i, 0] = notinval\n",
    "       \n",
    "    return f\n",
    "    \n",
    "    "
   ]
  },
  {
   "cell_type": "code",
   "execution_count": 6,
   "id": "505bbc71-6194-4b01-8e7d-2306a0a5fe84",
   "metadata": {
    "tags": []
   },
   "outputs": [
    {
     "name": "stdout",
     "output_type": "stream",
     "text": [
      "C2_transposition\n",
      "\t(1, 1, 1, 1, 1, 1): 0.0000\n",
      "\t(2, 1, 1, 1, 1): 0.0139\n",
      "\t(2, 2, 1, 1): 0.0752\n",
      "\t(2, 2, 2): 0.0279\n",
      "\t(3, 1, 1, 1): 0.1114\n",
      "\t(3, 2, 1): 0.3565\n",
      "\t(3, 3): 0.0418\n",
      "\t(4, 1, 1): 0.1671\n",
      "\t(4, 2): 0.1504\n",
      "\t(5, 1): 0.0557\n",
      "\t(6,): 0.0000\n",
      "C2_triple_transposition\n",
      "\t(1, 1, 1, 1, 1, 1): 0.0000\n",
      "\t(2, 1, 1, 1, 1): 0.0418\n",
      "\t(2, 2, 1, 1): 0.0752\n",
      "\t(2, 2, 2): 0.0557\n",
      "\t(3, 1, 1, 1): 0.1671\n",
      "\t(3, 2, 1): 0.3565\n",
      "\t(3, 3): 0.0139\n",
      "\t(4, 1, 1): 0.1114\n",
      "\t(4, 2): 0.1504\n",
      "\t(5, 1): 0.0279\n",
      "\t(6,): 0.0000\n",
      "C2_double_transposition\n",
      "\t(1, 1, 1, 1, 1, 1): 0.0028\n",
      "\t(2, 1, 1, 1, 1): 0.0418\n",
      "\t(2, 2, 1, 1): 0.1253\n",
      "\t(2, 2, 2): 0.0418\n",
      "\t(3, 1, 1, 1): 0.1114\n",
      "\t(3, 2, 1): 0.3565\n",
      "\t(3, 3): 0.0418\n",
      "\t(4, 1, 1): 0.1114\n",
      "\t(4, 2): 0.1253\n",
      "\t(5, 1): 0.0418\n",
      "\t(6,): 0.0000\n",
      "C3_three_cycle\n",
      "\t(1, 1, 1, 1, 1, 1): 0.0042\n",
      "\t(2, 1, 1, 1, 1): 0.0628\n",
      "\t(2, 2, 1, 1): 0.1130\n",
      "\t(2, 2, 2): 0.0209\n",
      "\t(3, 1, 1, 1): 0.1674\n",
      "\t(3, 2, 1): 0.2678\n",
      "\t(3, 3): 0.0209\n",
      "\t(4, 1, 1): 0.1674\n",
      "\t(4, 2): 0.1130\n",
      "\t(5, 1): 0.0628\n",
      "\t(6,): 0.0000\n",
      "C3_double_three_cycle\n",
      "\t(1, 1, 1, 1, 1, 1): 0.0042\n",
      "\t(2, 1, 1, 1, 1): 0.0209\n",
      "\t(2, 2, 1, 1): 0.1130\n",
      "\t(2, 2, 2): 0.0628\n",
      "\t(3, 1, 1, 1): 0.1674\n",
      "\t(3, 2, 1): 0.2678\n",
      "\t(3, 3): 0.0628\n",
      "\t(4, 1, 1): 0.1674\n",
      "\t(4, 2): 0.1130\n",
      "\t(5, 1): 0.0209\n",
      "\t(6,): 0.0000\n",
      "C2xC2_double_transposition\n",
      "\t(1, 1, 1, 1, 1, 1): 0.0056\n",
      "\t(2, 1, 1, 1, 1): 0.0559\n",
      "\t(2, 2, 1, 1): 0.1508\n",
      "\t(2, 2, 2): 0.0559\n",
      "\t(3, 1, 1, 1): 0.0559\n",
      "\t(3, 2, 1): 0.3575\n",
      "\t(3, 3): 0.0559\n",
      "\t(4, 1, 1): 0.0559\n",
      "\t(4, 2): 0.1508\n",
      "\t(5, 1): 0.0559\n",
      "\t(6,): 0.0000\n",
      "C2xC2_double_transposition_disjoint\n",
      "\t(1, 1, 1, 1, 1, 1): 0.0056\n",
      "\t(2, 1, 1, 1, 1): 0.0559\n",
      "\t(2, 2, 1, 1): 0.1508\n",
      "\t(2, 2, 2): 0.0559\n",
      "\t(3, 1, 1, 1): 0.0559\n",
      "\t(3, 2, 1): 0.3575\n",
      "\t(3, 3): 0.0559\n",
      "\t(4, 1, 1): 0.0559\n",
      "\t(4, 2): 0.1508\n",
      "\t(5, 1): 0.0559\n",
      "\t(6,): 0.0000\n",
      "C4_four_cycle_transposition\n",
      "\t(1, 1, 1, 1, 1, 1): 0.0056\n",
      "\t(2, 1, 1, 1, 1): 0.0279\n",
      "\t(2, 2, 1, 1): 0.1508\n",
      "\t(2, 2, 2): 0.0279\n",
      "\t(3, 1, 1, 1): 0.1117\n",
      "\t(3, 2, 1): 0.3575\n",
      "\t(3, 3): 0.0279\n",
      "\t(4, 1, 1): 0.1117\n",
      "\t(4, 2): 0.1508\n",
      "\t(5, 1): 0.0279\n",
      "\t(6,): 0.0000\n",
      "C2xC2_single_double_transposition_disjoint\n",
      "\t(1, 1, 1, 1, 1, 1): 0.0000\n",
      "\t(2, 1, 1, 1, 1): 0.0279\n",
      "\t(2, 2, 1, 1): 0.0503\n",
      "\t(2, 2, 2): 0.0559\n",
      "\t(3, 1, 1, 1): 0.1117\n",
      "\t(3, 2, 1): 0.3575\n",
      "\t(3, 3): 0.0279\n",
      "\t(4, 1, 1): 0.1117\n",
      "\t(4, 2): 0.2011\n",
      "\t(5, 1): 0.0559\n",
      "\t(6,): 0.0000\n",
      "C4_four_cycle\n",
      "\t(1, 1, 1, 1, 1, 1): 0.0000\n",
      "\t(2, 1, 1, 1, 1): 0.0279\n",
      "\t(2, 2, 1, 1): 0.1508\n",
      "\t(2, 2, 2): 0.0559\n",
      "\t(3, 1, 1, 1): 0.1117\n",
      "\t(3, 2, 1): 0.3575\n",
      "\t(3, 3): 0.0279\n",
      "\t(4, 1, 1): 0.1117\n",
      "\t(4, 2): 0.1006\n",
      "\t(5, 1): 0.0559\n",
      "\t(6,): 0.0000\n",
      "C2xC2_single_double_transposition\n",
      "\t(1, 1, 1, 1, 1, 1): 0.0000\n",
      "\t(2, 1, 1, 1, 1): 0.0000\n",
      "\t(2, 2, 1, 1): 0.0503\n",
      "\t(2, 2, 2): 0.0279\n",
      "\t(3, 1, 1, 1): 0.0559\n",
      "\t(3, 2, 1): 0.3575\n",
      "\t(3, 3): 0.0559\n",
      "\t(4, 1, 1): 0.1676\n",
      "\t(4, 2): 0.2011\n",
      "\t(5, 1): 0.0838\n",
      "\t(6,): 0.0000\n",
      "C2xC2_triple_double_transposition\n",
      "\t(1, 1, 1, 1, 1, 1): 0.0000\n",
      "\t(2, 1, 1, 1, 1): 0.0559\n",
      "\t(2, 2, 1, 1): 0.0503\n",
      "\t(2, 2, 2): 0.0838\n",
      "\t(3, 1, 1, 1): 0.1676\n",
      "\t(3, 2, 1): 0.3575\n",
      "\t(3, 3): 0.0000\n",
      "\t(4, 1, 1): 0.0559\n",
      "\t(4, 2): 0.2011\n",
      "\t(5, 1): 0.0279\n",
      "\t(6,): 0.0000\n",
      "C5\n",
      "\t(1, 1, 1, 1, 1, 1): 0.0141\n",
      "\t(2, 1, 1, 1, 1): 0.0704\n",
      "\t(2, 2, 1, 1): 0.1268\n",
      "\t(2, 2, 2): 0.0704\n",
      "\t(3, 1, 1, 1): 0.0000\n",
      "\t(3, 2, 1): 0.4507\n",
      "\t(3, 3): 0.0704\n",
      "\t(4, 1, 1): 0.0000\n",
      "\t(4, 2): 0.1268\n",
      "\t(5, 1): 0.0704\n",
      "\t(6,): 0.0000\n",
      "S3_transposition_three_cycle\n",
      "\t(1, 1, 1, 1, 1, 1): 0.0000\n",
      "\t(2, 1, 1, 1, 1): 0.0000\n",
      "\t(2, 2, 1, 1): 0.0000\n",
      "\t(2, 2, 2): 0.0000\n",
      "\t(3, 1, 1, 1): 0.0840\n",
      "\t(3, 2, 1): 0.2689\n",
      "\t(3, 3): 0.0420\n",
      "\t(4, 1, 1): 0.2521\n",
      "\t(4, 2): 0.2269\n",
      "\t(5, 1): 0.1261\n",
      "\t(6,): 0.0000\n",
      "S3_triple_transposition_double_three_cycle\n",
      "\t(1, 1, 1, 1, 1, 1): 0.0000\n",
      "\t(2, 1, 1, 1, 1): 0.0420\n",
      "\t(2, 2, 1, 1): 0.0000\n",
      "\t(2, 2, 2): 0.1261\n",
      "\t(3, 1, 1, 1): 0.2521\n",
      "\t(3, 2, 1): 0.2689\n",
      "\t(3, 3): 0.0000\n",
      "\t(4, 1, 1): 0.0840\n",
      "\t(4, 2): 0.2269\n",
      "\t(5, 1): 0.0000\n",
      "\t(6,): 0.0000\n",
      "C6_six_cycle\n",
      "\t(1, 1, 1, 1, 1, 1): 0.0000\n",
      "\t(2, 1, 1, 1, 1): 0.0420\n",
      "\t(2, 2, 1, 1): 0.0756\n",
      "\t(2, 2, 2): 0.0840\n",
      "\t(3, 1, 1, 1): 0.1681\n",
      "\t(3, 2, 1): 0.2689\n",
      "\t(3, 3): 0.0420\n",
      "\t(4, 1, 1): 0.1681\n",
      "\t(4, 2): 0.1513\n",
      "\t(5, 1): 0.0000\n",
      "\t(6,): 0.0000\n",
      "S3_three_cycle_double_transposition\n",
      "\t(1, 1, 1, 1, 1, 1): 0.0084\n",
      "\t(2, 1, 1, 1, 1): 0.0840\n",
      "\t(2, 2, 1, 1): 0.1513\n",
      "\t(2, 2, 2): 0.0420\n",
      "\t(3, 1, 1, 1): 0.0840\n",
      "\t(3, 2, 1): 0.2689\n",
      "\t(3, 3): 0.0420\n",
      "\t(4, 1, 1): 0.0840\n",
      "\t(4, 2): 0.1513\n",
      "\t(5, 1): 0.0840\n",
      "\t(6,): 0.0000\n",
      "S3_double_transposition_double_three_cycle\n",
      "\t(1, 1, 1, 1, 1, 1): 0.0084\n",
      "\t(2, 1, 1, 1, 1): 0.0420\n",
      "\t(2, 2, 1, 1): 0.1513\n",
      "\t(2, 2, 2): 0.0840\n",
      "\t(3, 1, 1, 1): 0.0840\n",
      "\t(3, 2, 1): 0.2689\n",
      "\t(3, 3): 0.0840\n",
      "\t(4, 1, 1): 0.0840\n",
      "\t(4, 2): 0.1513\n",
      "\t(5, 1): 0.0420\n",
      "\t(6,): 0.0000\n",
      "C6_three_cycle_transposition\n",
      "\t(1, 1, 1, 1, 1, 1): 0.0000\n",
      "\t(2, 1, 1, 1, 1): 0.0420\n",
      "\t(2, 2, 1, 1): 0.0756\n",
      "\t(2, 2, 2): 0.0000\n",
      "\t(3, 1, 1, 1): 0.1681\n",
      "\t(3, 2, 1): 0.2689\n",
      "\t(3, 3): 0.0420\n",
      "\t(4, 1, 1): 0.1681\n",
      "\t(4, 2): 0.1513\n",
      "\t(5, 1): 0.0840\n",
      "\t(6,): 0.0000\n",
      "C2xC2xC2_single_double_transposition\n",
      "\t(1, 1, 1, 1, 1, 1): 0.0000\n",
      "\t(2, 1, 1, 1, 1): 0.0000\n",
      "\t(2, 2, 1, 1): 0.0000\n",
      "\t(2, 2, 2): 0.0562\n",
      "\t(3, 1, 1, 1): 0.0000\n",
      "\t(3, 2, 1): 0.3596\n",
      "\t(3, 3): 0.0562\n",
      "\t(4, 1, 1): 0.1124\n",
      "\t(4, 2): 0.3034\n",
      "\t(5, 1): 0.1124\n",
      "\t(6,): 0.0000\n",
      "C2xC2xC2_single_double_triple_transposition\n",
      "\t(1, 1, 1, 1, 1, 1): 0.0000\n",
      "\t(2, 1, 1, 1, 1): 0.0562\n",
      "\t(2, 2, 1, 1): 0.0000\n",
      "\t(2, 2, 2): 0.1124\n",
      "\t(3, 1, 1, 1): 0.1124\n",
      "\t(3, 2, 1): 0.3596\n",
      "\t(3, 3): 0.0000\n",
      "\t(4, 1, 1): 0.0000\n",
      "\t(4, 2): 0.3034\n",
      "\t(5, 1): 0.0562\n",
      "\t(6,): 0.0000\n",
      "D4_four_cycle_transposition_transposition\n",
      "\t(1, 1, 1, 1, 1, 1): 0.0000\n",
      "\t(2, 1, 1, 1, 1): 0.0000\n",
      "\t(2, 2, 1, 1): 0.0000\n",
      "\t(2, 2, 2): 0.0562\n",
      "\t(3, 1, 1, 1): 0.1124\n",
      "\t(3, 2, 1): 0.3596\n",
      "\t(3, 3): 0.0000\n",
      "\t(4, 1, 1): 0.1124\n",
      "\t(4, 2): 0.3034\n",
      "\t(5, 1): 0.0562\n",
      "\t(6,): 0.0000\n",
      "C4xC2\n",
      "\t(1, 1, 1, 1, 1, 1): 0.0000\n",
      "\t(2, 1, 1, 1, 1): 0.0000\n",
      "\t(2, 2, 1, 1): 0.1011\n",
      "\t(2, 2, 2): 0.0562\n",
      "\t(3, 1, 1, 1): 0.1124\n",
      "\t(3, 2, 1): 0.3596\n",
      "\t(3, 3): 0.0000\n",
      "\t(4, 1, 1): 0.1124\n",
      "\t(4, 2): 0.2022\n",
      "\t(5, 1): 0.0562\n",
      "\t(6,): 0.0000\n",
      "D4_four_cycle_transposition\n",
      "\t(1, 1, 1, 1, 1, 1): 0.0000\n",
      "\t(2, 1, 1, 1, 1): 0.0000\n",
      "\t(2, 2, 1, 1): 0.1011\n",
      "\t(2, 2, 2): 0.0562\n",
      "\t(3, 1, 1, 1): 0.0000\n",
      "\t(3, 2, 1): 0.3596\n",
      "\t(3, 3): 0.0562\n",
      "\t(4, 1, 1): 0.1124\n",
      "\t(4, 2): 0.2022\n",
      "\t(5, 1): 0.1124\n",
      "\t(6,): 0.0000\n",
      "D4_double_transposition\n",
      "\t(1, 1, 1, 1, 1, 1): 0.0112\n",
      "\t(2, 1, 1, 1, 1): 0.0562\n",
      "\t(2, 2, 1, 1): 0.2022\n",
      "\t(2, 2, 2): 0.0562\n",
      "\t(3, 1, 1, 1): 0.0000\n",
      "\t(3, 2, 1): 0.3596\n",
      "\t(3, 3): 0.0562\n",
      "\t(4, 1, 1): 0.0000\n",
      "\t(4, 2): 0.2022\n",
      "\t(5, 1): 0.0562\n",
      "\t(6,): 0.0000\n",
      "D4_double_transposition_four_cycle\n",
      "\t(1, 1, 1, 1, 1, 1): 0.0000\n",
      "\t(2, 1, 1, 1, 1): 0.0562\n",
      "\t(2, 2, 1, 1): 0.1011\n",
      "\t(2, 2, 2): 0.1124\n",
      "\t(3, 1, 1, 1): 0.1124\n",
      "\t(3, 2, 1): 0.3596\n",
      "\t(3, 3): 0.0000\n",
      "\t(4, 1, 1): 0.0000\n",
      "\t(4, 2): 0.2022\n",
      "\t(5, 1): 0.0562\n",
      "\t(6,): 0.0000\n",
      "C3xC3\n",
      "\t(1, 1, 1, 1, 1, 1): 0.0127\n",
      "\t(2, 1, 1, 1, 1): 0.0633\n",
      "\t(2, 2, 1, 1): 0.1139\n",
      "\t(2, 2, 2): 0.0633\n",
      "\t(3, 1, 1, 1): 0.2532\n",
      "\t(3, 2, 1): 0.0000\n",
      "\t(3, 3): 0.0633\n",
      "\t(4, 1, 1): 0.2532\n",
      "\t(4, 2): 0.1139\n",
      "\t(5, 1): 0.0633\n",
      "\t(6,): 0.0000\n",
      "A4\n",
      "\t(1, 1, 1, 1, 1, 1): 0.0169\n",
      "\t(2, 1, 1, 1, 1): 0.1695\n",
      "\t(2, 2, 1, 1): 0.1525\n",
      "\t(2, 2, 2): 0.0000\n",
      "\t(3, 1, 1, 1): 0.1695\n",
      "\t(3, 2, 1): 0.0000\n",
      "\t(3, 3): 0.0000\n",
      "\t(4, 1, 1): 0.1695\n",
      "\t(4, 2): 0.1525\n",
      "\t(5, 1): 0.1695\n",
      "\t(6,): 0.0000\n",
      "A4_exceptional\n",
      "\t(1, 1, 1, 1, 1, 1): 0.0169\n",
      "\t(2, 1, 1, 1, 1): 0.0000\n",
      "\t(2, 2, 1, 1): 0.1525\n",
      "\t(2, 2, 2): 0.1695\n",
      "\t(3, 1, 1, 1): 0.1695\n",
      "\t(3, 2, 1): 0.0000\n",
      "\t(3, 3): 0.1695\n",
      "\t(4, 1, 1): 0.1695\n",
      "\t(4, 2): 0.1525\n",
      "\t(5, 1): 0.0000\n",
      "\t(6,): 0.0000\n",
      "D6_transpositions\n",
      "\t(1, 1, 1, 1, 1, 1): 0.0000\n",
      "\t(2, 1, 1, 1, 1): 0.0000\n",
      "\t(2, 2, 1, 1): 0.0000\n",
      "\t(2, 2, 2): 0.0000\n",
      "\t(3, 1, 1, 1): 0.0000\n",
      "\t(3, 2, 1): 0.2712\n",
      "\t(3, 3): 0.0847\n",
      "\t(4, 1, 1): 0.1695\n",
      "\t(4, 2): 0.3051\n",
      "\t(5, 1): 0.1695\n",
      "\t(6,): 0.0000\n",
      "D6_double_transposition_three_cycle_six_cycle\n",
      "\t(1, 1, 1, 1, 1, 1): 0.0000\n",
      "\t(2, 1, 1, 1, 1): 0.0847\n",
      "\t(2, 2, 1, 1): 0.0000\n",
      "\t(2, 2, 2): 0.1695\n",
      "\t(3, 1, 1, 1): 0.1695\n",
      "\t(3, 2, 1): 0.2712\n",
      "\t(3, 3): 0.0000\n",
      "\t(4, 1, 1): 0.0000\n",
      "\t(4, 2): 0.3051\n",
      "\t(5, 1): 0.0000\n",
      "\t(6,): 0.0000\n",
      "C2xD4\n",
      "\t(1, 1, 1, 1, 1, 1): 0.0000\n",
      "\t(2, 1, 1, 1, 1): 0.0000\n",
      "\t(2, 2, 1, 1): 0.0000\n",
      "\t(2, 2, 2): 0.1136\n",
      "\t(3, 1, 1, 1): 0.0000\n",
      "\t(3, 2, 1): 0.3636\n",
      "\t(3, 3): 0.0000\n",
      "\t(4, 1, 1): 0.0000\n",
      "\t(4, 2): 0.4091\n",
      "\t(5, 1): 0.1136\n",
      "\t(6,): 0.0000\n",
      "(C3xC3):C2\n",
      "\t(1, 1, 1, 1, 1, 1): 0.0256\n",
      "\t(2, 1, 1, 1, 1): 0.1282\n",
      "\t(2, 2, 1, 1): 0.2308\n",
      "\t(2, 2, 2): 0.1282\n",
      "\t(3, 1, 1, 1): 0.0000\n",
      "\t(3, 2, 1): 0.0000\n",
      "\t(3, 3): 0.1282\n",
      "\t(4, 1, 1): 0.0000\n",
      "\t(4, 2): 0.2308\n",
      "\t(5, 1): 0.1282\n",
      "\t(6,): 0.0000\n",
      "C3xS3_triple_transposition_three_cycle\n",
      "\t(1, 1, 1, 1, 1, 1): 0.0000\n",
      "\t(2, 1, 1, 1, 1): 0.1282\n",
      "\t(2, 2, 1, 1): 0.0000\n",
      "\t(2, 2, 2): 0.1282\n",
      "\t(3, 1, 1, 1): 0.2564\n",
      "\t(3, 2, 1): 0.0000\n",
      "\t(3, 3): 0.0000\n",
      "\t(4, 1, 1): 0.2564\n",
      "\t(4, 2): 0.2308\n",
      "\t(5, 1): 0.0000\n",
      "\t(6,): 0.0000\n",
      "C3xS3_transposition_three_cycle_double_three_cycle\n",
      "\t(1, 1, 1, 1, 1, 1): 0.0000\n",
      "\t(2, 1, 1, 1, 1): 0.0000\n",
      "\t(2, 2, 1, 1): 0.0000\n",
      "\t(2, 2, 2): 0.0000\n",
      "\t(3, 1, 1, 1): 0.2564\n",
      "\t(3, 2, 1): 0.0000\n",
      "\t(3, 3): 0.1282\n",
      "\t(4, 1, 1): 0.2564\n",
      "\t(4, 2): 0.2308\n",
      "\t(5, 1): 0.1282\n",
      "\t(6,): 0.0000\n",
      "Frob20\n",
      "\t(1, 1, 1, 1, 1, 1): 0.0000\n",
      "\t(2, 1, 1, 1, 1): 0.0000\n",
      "\t(2, 2, 1, 1): 0.2571\n",
      "\t(2, 2, 2): 0.1429\n",
      "\t(3, 1, 1, 1): 0.0000\n",
      "\t(3, 2, 1): 0.4571\n",
      "\t(3, 3): 0.0000\n",
      "\t(4, 1, 1): 0.0000\n",
      "\t(4, 2): 0.0000\n",
      "\t(5, 1): 0.1429\n",
      "\t(6,): 0.0000\n",
      "C2xA4\n",
      "\t(1, 1, 1, 1, 1, 1): 0.0000\n",
      "\t(2, 1, 1, 1, 1): 0.0000\n",
      "\t(2, 2, 1, 1): 0.0000\n",
      "\t(2, 2, 2): 0.1724\n",
      "\t(3, 1, 1, 1): 0.0000\n",
      "\t(3, 2, 1): 0.0000\n",
      "\t(3, 3): 0.1724\n",
      "\t(4, 1, 1): 0.3448\n",
      "\t(4, 2): 0.3103\n",
      "\t(5, 1): 0.0000\n",
      "\t(6,): 0.0000\n",
      "C2xA4_exceptional\n",
      "\t(1, 1, 1, 1, 1, 1): 0.0000\n",
      "\t(2, 1, 1, 1, 1): 0.1724\n",
      "\t(2, 2, 1, 1): 0.0000\n",
      "\t(2, 2, 2): 0.0000\n",
      "\t(3, 1, 1, 1): 0.3448\n",
      "\t(3, 2, 1): 0.0000\n",
      "\t(3, 3): 0.0000\n",
      "\t(4, 1, 1): 0.0000\n",
      "\t(4, 2): 0.3103\n",
      "\t(5, 1): 0.1724\n",
      "\t(6,): 0.0000\n",
      "S4_four_cycle_transposition_double_transposition\n",
      "\t(1, 1, 1, 1, 1, 1): 0.0345\n",
      "\t(2, 1, 1, 1, 1): 0.1724\n",
      "\t(2, 2, 1, 1): 0.3103\n",
      "\t(2, 2, 2): 0.0000\n",
      "\t(3, 1, 1, 1): 0.0000\n",
      "\t(3, 2, 1): 0.0000\n",
      "\t(3, 3): 0.0000\n",
      "\t(4, 1, 1): 0.0000\n",
      "\t(4, 2): 0.3103\n",
      "\t(5, 1): 0.1724\n",
      "\t(6,): 0.0000\n",
      "S4_double_three_cycle_double_transposition\n",
      "\t(1, 1, 1, 1, 1, 1): 0.0345\n",
      "\t(2, 1, 1, 1, 1): 0.0000\n",
      "\t(2, 2, 1, 1): 0.3103\n",
      "\t(2, 2, 2): 0.1724\n",
      "\t(3, 1, 1, 1): 0.0000\n",
      "\t(3, 2, 1): 0.0000\n",
      "\t(3, 3): 0.1724\n",
      "\t(4, 1, 1): 0.0000\n",
      "\t(4, 2): 0.3103\n",
      "\t(5, 1): 0.0000\n",
      "\t(6,): 0.0000\n",
      "S4_exceptional\n",
      "\t(1, 1, 1, 1, 1, 1): 0.0000\n",
      "\t(2, 1, 1, 1, 1): 0.0000\n",
      "\t(2, 2, 1, 1): 0.0000\n",
      "\t(2, 2, 2): 0.3448\n",
      "\t(3, 1, 1, 1): 0.3448\n",
      "\t(3, 2, 1): 0.0000\n",
      "\t(3, 3): 0.0000\n",
      "\t(4, 1, 1): 0.0000\n",
      "\t(4, 2): 0.3103\n",
      "\t(5, 1): 0.0000\n",
      "\t(6,): 0.0000\n",
      "S4\n",
      "\t(1, 1, 1, 1, 1, 1): 0.0000\n",
      "\t(2, 1, 1, 1, 1): 0.0000\n",
      "\t(2, 2, 1, 1): 0.0000\n",
      "\t(2, 2, 2): 0.0000\n",
      "\t(3, 1, 1, 1): 0.0000\n",
      "\t(3, 2, 1): 0.0000\n",
      "\t(3, 3): 0.0000\n",
      "\t(4, 1, 1): 0.3448\n",
      "\t(4, 2): 0.3103\n",
      "\t(5, 1): 0.3448\n",
      "\t(6,): 0.0000\n",
      "S3xS3_transpositions_double_three_cycle\n",
      "\t(1, 1, 1, 1, 1, 1): 0.0000\n",
      "\t(2, 1, 1, 1, 1): 0.0000\n",
      "\t(2, 2, 1, 1): 0.0000\n",
      "\t(2, 2, 2): 0.0000\n",
      "\t(3, 1, 1, 1): 0.0000\n",
      "\t(3, 2, 1): 0.0000\n",
      "\t(3, 3): 0.2632\n",
      "\t(4, 1, 1): 0.0000\n",
      "\t(4, 2): 0.4737\n",
      "\t(5, 1): 0.2632\n",
      "\t(6,): 0.0000\n",
      "S3xS3_six_cycles_three_cycle\n",
      "\t(1, 1, 1, 1, 1, 1): 0.0000\n",
      "\t(2, 1, 1, 1, 1): 0.2632\n",
      "\t(2, 2, 1, 1): 0.0000\n",
      "\t(2, 2, 2): 0.2632\n",
      "\t(3, 1, 1, 1): 0.0000\n",
      "\t(3, 2, 1): 0.0000\n",
      "\t(3, 3): 0.0000\n",
      "\t(4, 1, 1): 0.0000\n",
      "\t(4, 2): 0.4737\n",
      "\t(5, 1): 0.0000\n",
      "\t(6,): 0.0000\n",
      "(C3xC3):C4\n",
      "\t(1, 1, 1, 1, 1, 1): 0.0526\n",
      "\t(2, 1, 1, 1, 1): 0.0000\n",
      "\t(2, 2, 1, 1): 0.4737\n",
      "\t(2, 2, 2): 0.0000\n",
      "\t(3, 1, 1, 1): 0.0000\n",
      "\t(3, 2, 1): 0.0000\n",
      "\t(3, 3): 0.0000\n",
      "\t(4, 1, 1): 0.0000\n",
      "\t(4, 2): 0.4737\n",
      "\t(5, 1): 0.0000\n",
      "\t(6,): 0.0000\n",
      "C2xS4\n",
      "\t(1, 1, 1, 1, 1, 1): 0.0000\n",
      "\t(2, 1, 1, 1, 1): 0.0000\n",
      "\t(2, 2, 1, 1): 0.0000\n",
      "\t(2, 2, 2): 0.3571\n",
      "\t(3, 1, 1, 1): 0.0000\n",
      "\t(3, 2, 1): 0.0000\n",
      "\t(3, 3): 0.0000\n",
      "\t(4, 1, 1): 0.0000\n",
      "\t(4, 2): 0.6429\n",
      "\t(5, 1): 0.0000\n",
      "\t(6,): 0.0000\n",
      "C2xS4_exceptional\n",
      "\t(1, 1, 1, 1, 1, 1): 0.0000\n",
      "\t(2, 1, 1, 1, 1): 0.0000\n",
      "\t(2, 2, 1, 1): 0.0000\n",
      "\t(2, 2, 2): 0.0000\n",
      "\t(3, 1, 1, 1): 0.0000\n",
      "\t(3, 2, 1): 0.0000\n",
      "\t(3, 3): 0.0000\n",
      "\t(4, 1, 1): 0.0000\n",
      "\t(4, 2): 0.6429\n",
      "\t(5, 1): 0.3571\n",
      "\t(6,): 0.0000\n",
      "A5\n",
      "\t(1, 1, 1, 1, 1, 1): 0.0909\n",
      "\t(2, 1, 1, 1, 1): 0.4545\n",
      "\t(2, 2, 1, 1): 0.0000\n",
      "\t(2, 2, 2): 0.0000\n",
      "\t(3, 1, 1, 1): 0.0000\n",
      "\t(3, 2, 1): 0.0000\n",
      "\t(3, 3): 0.0000\n",
      "\t(4, 1, 1): 0.0000\n",
      "\t(4, 2): 0.0000\n",
      "\t(5, 1): 0.4545\n",
      "\t(6,): 0.0000\n",
      "A5_exceptional\n",
      "\t(1, 1, 1, 1, 1, 1): 0.0909\n",
      "\t(2, 1, 1, 1, 1): 0.0000\n",
      "\t(2, 2, 1, 1): 0.0000\n",
      "\t(2, 2, 2): 0.4545\n",
      "\t(3, 1, 1, 1): 0.0000\n",
      "\t(3, 2, 1): 0.0000\n",
      "\t(3, 3): 0.4545\n",
      "\t(4, 1, 1): 0.0000\n",
      "\t(4, 2): 0.0000\n",
      "\t(5, 1): 0.0000\n",
      "\t(6,): 0.0000\n",
      "(S3xS3):C2\n",
      "\t(1, 1, 1, 1, 1, 1): 0.0000\n",
      "\t(2, 1, 1, 1, 1): 0.0000\n",
      "\t(2, 2, 1, 1): 0.0000\n",
      "\t(2, 2, 2): 0.0000\n",
      "\t(3, 1, 1, 1): 0.0000\n",
      "\t(3, 2, 1): 0.0000\n",
      "\t(3, 3): 0.0000\n",
      "\t(4, 1, 1): 0.0000\n",
      "\t(4, 2): 1.0000\n",
      "\t(5, 1): 0.0000\n",
      "\t(6,): 0.0000\n",
      "S5\n",
      "\t(1, 1, 1, 1, 1, 1): 0.0000\n",
      "\t(2, 1, 1, 1, 1): 0.0000\n",
      "\t(2, 2, 1, 1): 0.0000\n",
      "\t(2, 2, 2): 0.0000\n",
      "\t(3, 1, 1, 1): 0.0000\n",
      "\t(3, 2, 1): 0.0000\n",
      "\t(3, 3): 0.0000\n",
      "\t(4, 1, 1): 0.0000\n",
      "\t(4, 2): 0.0000\n",
      "\t(5, 1): 1.0000\n",
      "\t(6,): 0.0000\n",
      "S5_exceptional\n",
      "\t(1, 1, 1, 1, 1, 1): 0.0000\n",
      "\t(2, 1, 1, 1, 1): 0.0000\n",
      "\t(2, 2, 1, 1): 0.0000\n",
      "\t(2, 2, 2): 1.0000\n",
      "\t(3, 1, 1, 1): 0.0000\n",
      "\t(3, 2, 1): 0.0000\n",
      "\t(3, 3): 0.0000\n",
      "\t(4, 1, 1): 0.0000\n",
      "\t(4, 2): 0.0000\n",
      "\t(5, 1): 0.0000\n",
      "\t(6,): 0.0000\n",
      "A6\n",
      "\t(1, 1, 1, 1, 1, 1): 1.0000\n",
      "\t(2, 1, 1, 1, 1): 0.0000\n",
      "\t(2, 2, 1, 1): 0.0000\n",
      "\t(2, 2, 2): 0.0000\n",
      "\t(3, 1, 1, 1): 0.0000\n",
      "\t(3, 2, 1): 0.0000\n",
      "\t(3, 3): 0.0000\n",
      "\t(4, 1, 1): 0.0000\n",
      "\t(4, 2): 0.0000\n",
      "\t(5, 1): 0.0000\n",
      "\t(6,): 0.0000\n"
     ]
    }
   ],
   "source": [
    "full_group = Permutation.full_group(6)\n",
    "\n",
    "for k, v in all_s6_subgroups.items():\n",
    "    f = torch.zeros((720, 2))\n",
    "    gens = v['generators'][0]\n",
    "    sg = generate_subgroup(gens)\n",
    "    f = make_indicator_fn(sg, full_group)\n",
    "    total_power = (f ** 2).mean(dim=0)\n",
    "    fft = slow_sn_ft_1d(f, 6)\n",
    "    power = calc_power(fft, 720)\n",
    "    power = {i: p / total_power for i, p in power.items()}\n",
    "    print(k)\n",
    "    for irrep, p in power.items():\n",
    "        print(f'\\t{irrep}: {p[0].item():.4f}')\n",
    "    "
   ]
  },
  {
   "cell_type": "code",
   "execution_count": 7,
   "id": "b0c7518a-e09f-49c4-a890-3e12be5ebe7f",
   "metadata": {},
   "outputs": [
    {
     "data": {
      "text/plain": [
       "<All keys matched successfully>"
      ]
     },
     "execution_count": 7,
     "metadata": {},
     "output_type": "execute_result"
    }
   ],
   "source": [
    "ckpt_dir = Path('/mnt/ssd-1/dashiell/sn_checkpoints/')\n",
    "model_seed = 0\n",
    "run_name = f's6_50_{model_seed}'\n",
    "#run_name = Path('s5_lr1e-5_5')\n",
    "\n",
    "#whole_config = Config().from_disk('configs/s5_lr_5.toml')\n",
    "run_dir = ckpt_dir / run_name\n",
    "model_run = torch.load(run_dir / 'full_run.pth', map_location=torch.device('cuda:0'))\n",
    "run_data = pl.read_parquet(run_dir / f'data.parquet')\n",
    "lperms = torch.as_tensor(run_data.select('index_left').to_numpy(), dtype=torch.int64).squeeze()\n",
    "rperms = torch.as_tensor(run_data.select('index_right').to_numpy(), dtype=torch.int64).squeeze()\n",
    "targets = torch.as_tensor(run_data.select('index_target').to_numpy(), dtype=torch.int64).squeeze()\n",
    "\n",
    "model = SnMLP.from_config(model_run['config'])\n",
    "model.load_state_dict(model_run['model'])\n",
    "\n",
    "#out, cache = model.run_with_cache(lperms, rperms)\n",
    "#loss = loss_fn(out, targets)\n",
    "\n",
    "#linear_acts = cache['hook_linear']"
   ]
  },
  {
   "cell_type": "code",
   "execution_count": 8,
   "id": "0ac3da36-12a6-4d81-a97c-cc2b45ef7d51",
   "metadata": {
    "tags": []
   },
   "outputs": [],
   "source": [
    "cache = []\n",
    "\n",
    "for lp, rp in zip(lperms.split(14400), rperms.split(14400)):\n",
    "    _, _cache = model.run_with_cache(lp, rp)\n",
    "    cache.append(_cache['hook_linear'].to('cpu'))\n",
    "    "
   ]
  },
  {
   "cell_type": "code",
   "execution_count": 9,
   "id": "80ae395d-c47b-49b6-842c-310e436d2e51",
   "metadata": {
    "tags": []
   },
   "outputs": [
    {
     "data": {
      "text/plain": [
       "torch.Size([518400, 1024])"
      ]
     },
     "execution_count": 9,
     "metadata": {},
     "output_type": "execute_result"
    }
   ],
   "source": [
    "linear_preacts = torch.concat(cache, dim=0)\n",
    "linear_preacts.shape"
   ]
  },
  {
   "cell_type": "code",
   "execution_count": 10,
   "id": "308bbb82-99c5-4e19-a99e-4b01ee547f8e",
   "metadata": {
    "tags": []
   },
   "outputs": [],
   "source": [
    "def calc_power_contributions(tensor, n):\n",
    "    total_power = (tensor ** 2).mean(dim=0)\n",
    "    fourier_transform = slow_sn_ft_1d(tensor, n)\n",
    "    irrep_power = calc_power(fourier_transform, math.factorial(n))\n",
    "    power_contribs = {irrep: power / total_power for irrep, power in irrep_power.items()}\n",
    "    irreps = list(power_contribs.keys())\n",
    "    power_vals = torch.cat([power_contribs[irrep].unsqueeze(0) for irrep in irreps], dim=0)\n",
    "    tensor_dim = tensor.shape[1]\n",
    "    val_data = pl.DataFrame(power_vals.detach().numpy(), schema=[f'dim{i}' for i in range(tensor_dim)])\n",
    "    val_data.insert_at_idx(0, pl.Series('irrep', [str(i) for i in irreps]))\n",
    "    return val_data, fourier_transform\n",
    "\n",
    "\n",
    "W = model.linear.weight\n",
    "\n",
    "lpower_df, _ = calc_power_contributions(model.lembed.weight @ W[:, :512].T, 6)\n",
    "rpower_df, _ = calc_power_contributions(model.rembed.weight @ W[:, 512:].T, 6)"
   ]
  },
  {
   "cell_type": "code",
   "execution_count": 11,
   "id": "046e3f99-711a-4189-8443-809cc0193806",
   "metadata": {
    "tags": []
   },
   "outputs": [
    {
     "data": {
      "text/html": [
       "<div><style>\n",
       ".dataframe > thead > tr > th,\n",
       ".dataframe > tbody > tr > td {\n",
       "  text-align: right;\n",
       "}\n",
       "</style>\n",
       "<small>shape: (9, 2)</small><table border=\"1\" class=\"dataframe\"><thead><tr><th>irrep</th><th>count</th></tr><tr><td>str</td><td>u32</td></tr></thead><tbody><tr><td>&quot;(2, 2, 1, 1)&quot;</td><td>20</td></tr><tr><td>&quot;(5, 1)&quot;</td><td>318</td></tr><tr><td>&quot;(4, 2)&quot;</td><td>12</td></tr><tr><td>&quot;(2, 1, 1, 1, 1…</td><td>117</td></tr><tr><td>&quot;(2, 2, 2)&quot;</td><td>165</td></tr><tr><td>&quot;(3, 3)&quot;</td><td>368</td></tr><tr><td>&quot;(6,)&quot;</td><td>8</td></tr><tr><td>&quot;(3, 1, 1, 1)&quot;</td><td>4</td></tr><tr><td>&quot;(4, 1, 1)&quot;</td><td>12</td></tr></tbody></table></div>"
      ],
      "text/plain": [
       "shape: (9, 2)\n",
       "┌─────────────────┬───────┐\n",
       "│ irrep           ┆ count │\n",
       "│ ---             ┆ ---   │\n",
       "│ str             ┆ u32   │\n",
       "╞═════════════════╪═══════╡\n",
       "│ (2, 2, 1, 1)    ┆ 20    │\n",
       "│ (5, 1)          ┆ 318   │\n",
       "│ (4, 2)          ┆ 12    │\n",
       "│ (2, 1, 1, 1, 1) ┆ 117   │\n",
       "│ (2, 2, 2)       ┆ 165   │\n",
       "│ (3, 3)          ┆ 368   │\n",
       "│ (6,)            ┆ 8     │\n",
       "│ (3, 1, 1, 1)    ┆ 4     │\n",
       "│ (4, 1, 1)       ┆ 12    │\n",
       "└─────────────────┴───────┘"
      ]
     },
     "execution_count": 11,
     "metadata": {},
     "output_type": "execute_result"
    }
   ],
   "source": [
    "lpower_df.melt(id_vars='irrep').sort(['variable', 'value']).groupby('variable').tail(1).groupby('irrep').count()"
   ]
  },
  {
   "cell_type": "code",
   "execution_count": 12,
   "id": "80521694-35cd-4e79-8e89-ba5983dcb8e2",
   "metadata": {
    "tags": []
   },
   "outputs": [
    {
     "data": {
      "text/plain": [
       "(720, 1024)"
      ]
     },
     "execution_count": 12,
     "metadata": {},
     "output_type": "execute_result"
    }
   ],
   "source": [
    "(model.lembed.weight @ W[:, :512].T).detach().numpy().shape"
   ]
  },
  {
   "cell_type": "code",
   "execution_count": 12,
   "id": "60290599-c3b2-4539-a0e6-5782a2dc4dc6",
   "metadata": {
    "tags": []
   },
   "outputs": [],
   "source": [
    "S6_df = pl.DataFrame({'perms': [str(p) for p in full_group]})\n",
    "\n",
    "left_preact_df = pl.concat(\n",
    "    [\n",
    "        S6_df,\n",
    "        pl.DataFrame((model.lembed.weight @ W[:, :512].T).detach().numpy(), schema=[f'dim{i}' for i in range(1024)])\n",
    "    ],\n",
    "    how='horizontal'\n",
    ")\n",
    "\n",
    "right_preact_df = pl.concat(\n",
    "    [\n",
    "        S6_df,\n",
    "        pl.DataFrame((model.lembed.weight @ W[:, 512:].T).detach().numpy(), schema=[f'dim{i}' for i in range(1024)])\n",
    "    ],\n",
    "    how='horizontal'\n",
    ")"
   ]
  },
  {
   "cell_type": "code",
   "execution_count": 13,
   "id": "d1dba007-9ff9-4832-9b90-4179ff36677b",
   "metadata": {
    "tags": []
   },
   "outputs": [
    {
     "data": {
      "image/png": "[encoded data removed]",
      "text/plain": [
       "<Figure size 640x480 with 1 Axes>"
      ]
     },
     "metadata": {
      "image/png": {
       "height": 480,
       "width": 640
      }
     },
     "output_type": "display_data"
    },
    {
     "data": {
      "text/plain": [
       "<Figure Size: (640 x 480)>"
      ]
     },
     "execution_count": 13,
     "metadata": {},
     "output_type": "execute_result"
    }
   ],
   "source": [
    "ggplot(left_preact_df, aes(x='dim298')) + geom_histogram(binwidth=0.1)"
   ]
  },
  {
   "cell_type": "code",
   "execution_count": null,
   "id": "2409cb2b-54c3-4851-bd26-53feed1822ef",
   "metadata": {},
   "outputs": [],
   "source": []
  },
  {
   "cell_type": "code",
   "execution_count": 14,
   "id": "27dd3412-72a8-4988-868f-45292711e4d8",
   "metadata": {},
   "outputs": [],
   "source": [
    "from functools import reduce\n",
    "\n",
    "def union(cosets):\n",
    "    if len(cosets) == 0:\n",
    "        return cosets\n",
    "    else:\n",
    "        return reduce(lambda x, y: set(x).union(set(y)), cosets)\n",
    "\n",
    "def get_cosets(subgroup):\n",
    "    S5 =  Permutation.full_group(5)\n",
    "    all_s5 = set([s.sigma for s in S5])\n",
    "    perms = [Permutation(s) for s in subgroup]\n",
    "    cosets = set()\n",
    "    while union(cosets) != all_s5:\n",
    "        left = S5.pop()\n",
    "        coset = tuple(sorted([(left * s).sigma for s in perms]))\n",
    "        cosets.add(coset)\n",
    "    return cosets\n",
    "\n",
    "\n",
    "\n",
    "def _coset_join(df1, df2):\n",
    "    return df1.join(df2, on='permutation', how='inner')\n",
    "\n",
    "\n",
    "def _coset_df(cosets, index, sg_name):\n",
    "    data = []\n",
    "    \n",
    "    for cos in cosets:\n",
    "        rep = str(cos[0])\n",
    "        data.extend([{'permutation': str(c), 'subgroup': f'{sg_name}_{index}', f'coset_rep': rep} for c in cos])\n",
    "    return pl.DataFrame(data)\n",
    "\n",
    "\n",
    "def get_left_cosets(subgroup, full_n):\n",
    "    Sn =  Permutation.full_group(full_n)\n",
    "    all_sn = set([s.sigma for s in Sn])\n",
    "    perms = [Permutation(s) for s in subgroup]\n",
    "    cosets = set()\n",
    "    while union(cosets) != all_sn:\n",
    "        left = Sn.pop()\n",
    "        coset = tuple(sorted([(left * s).sigma for s in perms]))\n",
    "        cosets.add(coset)\n",
    "    return cosets\n",
    "\n",
    "\n",
    "\n",
    "def get_right_cosets(subgroup, full_n):\n",
    "    Sn =  Permutation.full_group(full_n)\n",
    "    all_sn = set([s.sigma for s in Sn])\n",
    "    perms = [Permutation(s) for s in subgroup]\n",
    "    cosets = set()\n",
    "    while union(cosets) != all_sn:\n",
    "        right = Sn.pop()\n",
    "        coset = tuple(sorted([(s * right).sigma for s in perms]))\n",
    "        cosets.add(coset)\n",
    "    return cosets\n",
    "\n",
    "\n",
    "\n",
    "def make_left_coset_rep_df(subgroups, n, sg_name):\n",
    "    data = []\n",
    "    \n",
    "    for i, sg in enumerate(subgroups):\n",
    "        cosets = list(get_left_cosets(sg, n))\n",
    "        data.append(_coset_df(cosets, i, sg_name))\n",
    "    \n",
    "    return reduce(_coset_join, data)\n",
    "\n",
    "\n",
    "def make_right_coset_rep_df(subgroups, n, sg_name):\n",
    "    data = []\n",
    "    \n",
    "    for i, sg in enumerate(subgroups):\n",
    "        cosets = list(get_right_cosets(sg, n))\n",
    "        data.append(_coset_df(cosets, i, sg_name))\n",
    "    \n",
    "    return reduce(_coset_join, data)\n",
    "\n",
    "\n",
    "\n",
    "def make_right_full_coset_df(subgroups, n, sg_name):\n",
    "    data = []\n",
    "    for i, sg in enumerate(subgroups):\n",
    "        cosets = list(get_right_cosets(sg, n))\n",
    "        data.append(_coset_df(cosets, i, sg_name))\n",
    "    return pl.concat(data, how='vertical')\n",
    "\n",
    "\n",
    "def make_left_full_coset_df(subgroups, n, sg_name):\n",
    "    data = []\n",
    "    for i, sg in enumerate(subgroups):\n",
    "        cosets = list(get_left_cosets(sg, n))\n",
    "        data.append(_coset_df(cosets, i, sg_name))\n",
    "    return pl.concat(data, how='vertical')\n"
   ]
  },
  {
   "cell_type": "code",
   "execution_count": 15,
   "id": "ebf66c08-7e23-48b6-92cd-c1641c49ffd6",
   "metadata": {
    "tags": []
   },
   "outputs": [],
   "source": [
    "no_really_all_s6_subgroups = {\n",
    "    k: [generate_subgroup(g) for g in v['generators']] for k, v in all_s6_subgroups.items()\n",
    "}"
   ]
  },
  {
   "cell_type": "code",
   "execution_count": null,
   "id": "1a2c47bc-2a4b-4d41-a26e-fdb2a3d15475",
   "metadata": {},
   "outputs": [],
   "source": []
  },
  {
   "cell_type": "code",
   "execution_count": 16,
   "id": "dfd958d9-b253-4230-8474-125825ffcc91",
   "metadata": {
    "tags": []
   },
   "outputs": [],
   "source": [
    "# You can calculate these yourself, but it takes a little time\n",
    "#all_s6_right_coset_dfs = {k: make_right_full_coset_df(v, 6, k) for k, v in no_really_all_s6_subgroups.items()}\n",
    "#all_s6_left_coset_dfs = {k: make_left_full_coset_df(v, 6, k) for k, v in no_really_all_s6_subgroups.items()}\n",
    "\n",
    "all_s6_right_coset_dfs = pl.read_parquet('/mnt/ssd-1/dashiell/s6_right_cosets.parquet')\n",
    "all_s6_left_coset_dfs = pl.read_parquet('/mnt/ssd-1/dashiell/s6_left_cosets.parquet')"
   ]
  },
  {
   "cell_type": "code",
   "execution_count": 17,
   "id": "6c03ef05-36a9-4b18-8be5-4998744bd1e4",
   "metadata": {
    "tags": []
   },
   "outputs": [],
   "source": [
    "lbase_df = left_preact_df.melt(id_vars='perms').rename({'perms': 'permutation'})\n",
    "rbase_df = right_preact_df.melt(id_vars='perms').rename({'perms': 'permutation'})"
   ]
  },
  {
   "cell_type": "code",
   "execution_count": 18,
   "id": "a8f30578-5f3f-4bd9-b43d-a00ee67e24a7",
   "metadata": {
    "tags": []
   },
   "outputs": [],
   "source": [
    "\n",
    "\n",
    "def _analysis(df, coset_df):\n",
    "    data = (\n",
    "            df\n",
    "            ##### Join against _all_ cosets, this is a many-to-1 join\n",
    "            .join(coset_df, on='permutation', how='inner')\n",
    "            .groupby(['variable', 'subgroup', 'coset_rep'])\n",
    "            .agg([\n",
    "                # Get the average value and variance of the (per dim) activations over a single coset\n",
    "                # Small variance --> activations highly concentrated on the coset\n",
    "                pl.col('value').var().alias('coset_var'),\n",
    "                pl.col('value').mean().alias('coset_mean')\n",
    "            ])\n",
    "            .sort(['variable', 'subgroup', 'coset_rep'])\n",
    "            .groupby(['variable', 'subgroup'], maintain_order=True)\n",
    "            # Sum all the variances of the cosets for one subgroup\n",
    "            .agg(pl.col('coset_var').sum().alias('coset_cond_var'))\n",
    "            # Sort ascending by coset variance\n",
    "            #.sort(['variable', 'coset_cond_var'])\n",
    "        \n",
    "            #.groupby(['variable'], maintain_order=True)\n",
    "            #.agg([\n",
    "            #    # \n",
    "            #    pl.col('subgroup').first(),\n",
    "            #    pl.col('coset_cond_var').first().alias('min_coset_var'),\n",
    "            #    #(pl.col('coset_cond_var').mean() - pl.col('coset_cond_var').first()).alias('sanity')\n",
    "            #])\n",
    "            #.sort('subgroup')\n",
    "        )\n",
    "    return data\n",
    "\n",
    "\n",
    "def coset_analysis(df, coset_df_list):\n",
    "    summary_df = (\n",
    "        df\n",
    "        .groupby(['variable'])\n",
    "        .agg([\n",
    "            pl.col('value').mean().alias('mean'),\n",
    "            pl.col('value').min().alias('min'),\n",
    "            pl.col('value').max().alias('max'),\n",
    "            pl.col('value').var().alias('full_var'),\n",
    "            (pl.col('value') ** 2).sum().alias('two_norm')\n",
    "        ])\n",
    "    )\n",
    "    \n",
    "    coset_data = pl.concat([_analysis(df, coset_df) for coset_df in coset_df_list], how='vertical')\n",
    "    data = (\n",
    "        coset_data\n",
    "        .sort(['variable', 'coset_cond_var'])\n",
    "        .groupby('variable', maintain_order=True)\n",
    "        .head(5)\n",
    "        \n",
    "        #\n",
    "        #\n",
    "        #.agg(\n",
    "        #    pl.col('subgroup').first(),\n",
    "        #    pl.col('coset_cond_var').first().alias('min_coset_var'),\n",
    "        #    (pl.col('coset_cond_var').mean() - pl.col('coset_cond_var').first()).alias('min_vs_mean')\n",
    "        #)\n",
    "        .join(summary_df, on='variable')\n",
    "        .with_columns(var_ratio=(pl.col('coset_cond_var') / pl.col('full_var')))\n",
    "    )\n",
    "    \n",
    "    \n",
    "    return data"
   ]
  },
  {
   "cell_type": "code",
   "execution_count": null,
   "id": "2134f152-1f38-4d30-9d56-0bc523892271",
   "metadata": {},
   "outputs": [],
   "source": []
  },
  {
   "cell_type": "code",
   "execution_count": 19,
   "id": "8a3ba233-d218-4f92-8e21-56dab1238631",
   "metadata": {
    "tags": []
   },
   "outputs": [],
   "source": [
    "# Again, you can calculate these yourself, but it takes a while (particularly on these nodes...)\n",
    "# \n",
    "#left_perm_cosets = coset_analysis(lbase_df, all_s6_right_coset_dfs.values())\n",
    "#right_perm_cosets = coset_analysis(rbase_df, all_s6_left_coset_dfs.values())\n",
    "left_perm_cosets = pl.read_parquet('s6_50_0_left_perm_cosets.parquet')\n",
    "right_perm_cosets = pl.read_parquet('s6_50_0_right_perm_cosets.parquet')"
   ]
  },
  {
   "cell_type": "code",
   "execution_count": 53,
   "id": "b0694b82-e472-443d-80d4-5f5998bd8f79",
   "metadata": {},
   "outputs": [
    {
     "data": {
      "text/html": [
       "<div><style>\n",
       ".dataframe > thead > tr > th,\n",
       ".dataframe > tbody > tr > td {\n",
       "  text-align: right;\n",
       "}\n",
       "</style>\n",
       "<small>shape: (1, 12)</small><table border=\"1\" class=\"dataframe\"><thead><tr><th>variable</th><th>(1, 1, 1, 1, 1, 1)</th><th>(2, 1, 1, 1, 1)</th><th>(2, 2, 1, 1)</th><th>(2, 2, 2)</th><th>(3, 1, 1, 1)</th><th>(3, 2, 1)</th><th>(3, 3)</th><th>(4, 1, 1)</th><th>(4, 2)</th><th>(5, 1)</th><th>(6,)</th></tr><tr><td>str</td><td>f32</td><td>f32</td><td>f32</td><td>f32</td><td>f32</td><td>f32</td><td>f32</td><td>f32</td><td>f32</td><td>f32</td><td>f32</td></tr></thead><tbody><tr><td>&quot;dim222&quot;</td><td>1.7803e-7</td><td>0.00007</td><td>0.000036</td><td>0.000041</td><td>0.00001</td><td>0.000104</td><td>0.007251</td><td>0.000056</td><td>0.000061</td><td>0.991466</td><td>0.000906</td></tr></tbody></table></div>"
      ],
      "text/plain": [
       "shape: (1, 12)\n",
       "┌──────────┬────────────┬────────────┬────────────┬───┬───────────┬──────────┬──────────┬──────────┐\n",
       "│ variable ┆ (1, 1, 1,  ┆ (2, 1, 1,  ┆ (2, 2, 1,  ┆ … ┆ (4, 1, 1) ┆ (4, 2)   ┆ (5, 1)   ┆ (6,)     │\n",
       "│ ---      ┆ 1, 1, 1)   ┆ 1, 1)      ┆ 1)         ┆   ┆ ---       ┆ ---      ┆ ---      ┆ ---      │\n",
       "│ str      ┆ ---        ┆ ---        ┆ ---        ┆   ┆ f32       ┆ f32      ┆ f32      ┆ f32      │\n",
       "│          ┆ f32        ┆ f32        ┆ f32        ┆   ┆           ┆          ┆          ┆          │\n",
       "╞══════════╪════════════╪════════════╪════════════╪═══╪═══════════╪══════════╪══════════╪══════════╡\n",
       "│ dim222   ┆ 1.7803e-7  ┆ 0.00007    ┆ 0.000036   ┆ … ┆ 0.000056  ┆ 0.000061 ┆ 0.991466 ┆ 0.000906 │\n",
       "└──────────┴────────────┴────────────┴────────────┴───┴───────────┴──────────┴──────────┴──────────┘"
      ]
     },
     "execution_count": 53,
     "metadata": {},
     "output_type": "execute_result"
    }
   ],
   "source": [
    "def transpose_power_df(data):\n",
    "    irreps = data['irrep'].to_list()\n",
    "    return (\n",
    "        data\n",
    "        .select(pl.exclude('irrep'))\n",
    "        .transpose(\n",
    "            include_header=True,\n",
    "            header_name='variable', \n",
    "            column_names=irreps)\n",
    "    )\n",
    "\n",
    "\n",
    "transpose_power_df(lpower_df).filter(pl.col('variable') == 'dim222')"
   ]
  },
  {
   "cell_type": "code",
   "execution_count": 31,
   "id": "5ccc753c-f935-4a20-ba5e-3035b673aba9",
   "metadata": {},
   "outputs": [
    {
     "data": {
      "text/html": [
       "<div><style>\n",
       ".dataframe > thead > tr > th,\n",
       ".dataframe > tbody > tr > td {\n",
       "  text-align: right;\n",
       "}\n",
       "</style>\n",
       "<small>shape: (57, 5)</small><table border=\"1\" class=\"dataframe\"><thead><tr><th>subgroup</th><th>count</th><th>mean_var_ratio</th><th>mean_two_norm</th><th>(5, 1)</th></tr><tr><td>str</td><td>u32</td><td>f32</td><td>f32</td><td>f32</td></tr></thead><tbody><tr><td>&quot;A5_0&quot;</td><td>2</td><td>0.237382</td><td>1155.71582</td><td>0.994712</td></tr><tr><td>&quot;A5_1&quot;</td><td>13</td><td>0.680372</td><td>393.713684</td><td>0.953228</td></tr><tr><td>&quot;A5_2&quot;</td><td>8</td><td>0.196094</td><td>536.294617</td><td>0.989357</td></tr><tr><td>&quot;A5_3&quot;</td><td>6</td><td>0.784903</td><td>184.42041</td><td>0.990228</td></tr><tr><td>&quot;A5_4&quot;</td><td>18</td><td>0.683703</td><td>624.842346</td><td>0.98008</td></tr><tr><td>&quot;A5_5&quot;</td><td>10</td><td>0.114921</td><td>1088.227051</td><td>0.997128</td></tr><tr><td>&quot;C2_double_tran…</td><td>1</td><td>1.58466</td><td>173.612152</td><td>0.984851</td></tr><tr><td>&quot;C2_double_tran…</td><td>1</td><td>0.228488</td><td>1901.055176</td><td>0.995514</td></tr><tr><td>&quot;C2_double_tran…</td><td>1</td><td>1.143633</td><td>1425.512695</td><td>0.994639</td></tr><tr><td>&quot;C2_double_tran…</td><td>1</td><td>0.541555</td><td>908.105835</td><td>0.976817</td></tr><tr><td>&quot;C2_double_tran…</td><td>1</td><td>1.690073</td><td>1232.511353</td><td>0.994339</td></tr><tr><td>&quot;C2_double_tran…</td><td>1</td><td>0.750169</td><td>2157.964111</td><td>0.998278</td></tr><tr><td>&hellip;</td><td>&hellip;</td><td>&hellip;</td><td>&hellip;</td><td>&hellip;</td></tr><tr><td>&quot;S3xS3_six_cycl…</td><td>1</td><td>0.004807</td><td>1347.188965</td><td>0.999439</td></tr><tr><td>&quot;S3xS3_six_cycl…</td><td>11</td><td>0.339271</td><td>494.113983</td><td>0.982214</td></tr><tr><td>&quot;S3xS3_six_cycl…</td><td>5</td><td>0.529172</td><td>981.516724</td><td>0.995643</td></tr><tr><td>&quot;S3xS3_six_cycl…</td><td>7</td><td>0.629209</td><td>752.528198</td><td>0.997802</td></tr><tr><td>&quot;S4_four_cycle_…</td><td>2</td><td>0.019481</td><td>2229.900146</td><td>0.964141</td></tr><tr><td>&quot;S4_four_cycle_…</td><td>2</td><td>0.130824</td><td>182.081146</td><td>0.966092</td></tr><tr><td>&quot;S4_four_cycle_…</td><td>7</td><td>0.129023</td><td>448.985565</td><td>0.967256</td></tr><tr><td>&quot;S4_four_cycle_…</td><td>2</td><td>0.016866</td><td>2276.876953</td><td>0.96543</td></tr><tr><td>&quot;S4_four_cycle_…</td><td>1</td><td>0.009017</td><td>1830.834961</td><td>0.961842</td></tr><tr><td>&quot;S4_four_cycle_…</td><td>2</td><td>0.035354</td><td>2651.341309</td><td>0.964334</td></tr><tr><td>&quot;S4_four_cycle_…</td><td>4</td><td>0.24422</td><td>1496.237183</td><td>0.965938</td></tr><tr><td>&quot;S4_four_cycle_…</td><td>2</td><td>0.299633</td><td>389.247375</td><td>0.969213</td></tr></tbody></table></div>"
      ],
      "text/plain": [
       "shape: (57, 5)\n",
       "┌───────────────────────────────────┬───────┬────────────────┬───────────────┬──────────┐\n",
       "│ subgroup                          ┆ count ┆ mean_var_ratio ┆ mean_two_norm ┆ (5, 1)   │\n",
       "│ ---                               ┆ ---   ┆ ---            ┆ ---           ┆ ---      │\n",
       "│ str                               ┆ u32   ┆ f32            ┆ f32           ┆ f32      │\n",
       "╞═══════════════════════════════════╪═══════╪════════════════╪═══════════════╪══════════╡\n",
       "│ A5_0                              ┆ 2     ┆ 0.237382       ┆ 1155.71582    ┆ 0.994712 │\n",
       "│ A5_1                              ┆ 13    ┆ 0.680372       ┆ 393.713684    ┆ 0.953228 │\n",
       "│ A5_2                              ┆ 8     ┆ 0.196094       ┆ 536.294617    ┆ 0.989357 │\n",
       "│ A5_3                              ┆ 6     ┆ 0.784903       ┆ 184.42041     ┆ 0.990228 │\n",
       "│ …                                 ┆ …     ┆ …              ┆ …             ┆ …        │\n",
       "│ S4_four_cycle_transposition_doub… ┆ 1     ┆ 0.009017       ┆ 1830.834961   ┆ 0.961842 │\n",
       "│ S4_four_cycle_transposition_doub… ┆ 2     ┆ 0.035354       ┆ 2651.341309   ┆ 0.964334 │\n",
       "│ S4_four_cycle_transposition_doub… ┆ 4     ┆ 0.24422        ┆ 1496.237183   ┆ 0.965938 │\n",
       "│ S4_four_cycle_transposition_doub… ┆ 2     ┆ 0.299633       ┆ 389.247375    ┆ 0.969213 │\n",
       "└───────────────────────────────────┴───────┴────────────────┴───────────────┴──────────┘"
      ]
     },
     "execution_count": 31,
     "metadata": {},
     "output_type": "execute_result"
    }
   ],
   "source": [
    "(\n",
    "    left_perm_cosets\n",
    "    .sort(['variable', 'coset_cond_var'])\n",
    "     .groupby('variable', maintain_order=True)\n",
    "    .head(1)\n",
    "    .join(transpose_power_df(lpower_df), on='variable')\n",
    "    .groupby('subgroup')\n",
    "    .agg(\n",
    "        [\n",
    "            pl.count(),\n",
    "            pl.col('var_ratio').mean().alias('mean_var_ratio'),\n",
    "           pl.col('two_norm').mean().alias('mean_two_norm'),\n",
    "            pl.col('(5, 1)').mean(),\n",
    "\n",
    "        ]\n",
    "    )\n",
    "    .filter(pl.col('(5, 1)') > .95)\n",
    "    .sort('subgroup')\n",
    ")"
   ]
  },
  {
   "cell_type": "code",
   "execution_count": 50,
   "id": "6e7308a3-6028-4e72-a54c-32079f6e5038",
   "metadata": {},
   "outputs": [
    {
     "data": {
      "text/html": [
       "<div><style>\n",
       ".dataframe > thead > tr > th,\n",
       ".dataframe > tbody > tr > td {\n",
       "  text-align: right;\n",
       "}\n",
       "</style>\n",
       "<small>shape: (90, 9)</small><table border=\"1\" class=\"dataframe\"><thead><tr><th>variable</th><th>subgroup</th><th>coset_cond_var</th><th>mean</th><th>min</th><th>max</th><th>full_var</th><th>two_norm</th><th>var_ratio</th></tr><tr><td>str</td><td>str</td><td>f32</td><td>f32</td><td>f32</td><td>f32</td><td>f32</td><td>f32</td><td>f32</td></tr></thead><tbody><tr><td>&quot;dim31&quot;</td><td>&quot;S3xS3_six_cycl…</td><td>0.009921</td><td>0.000351</td><td>-2.543669</td><td>2.53668</td><td>4.02736</td><td>2895.672852</td><td>0.002464</td></tr><tr><td>&quot;dim640&quot;</td><td>&quot;S3xS3_six_cycl…</td><td>0.012349</td><td>-0.000986</td><td>-2.39981</td><td>2.382162</td><td>3.391745</td><td>2438.663818</td><td>0.003641</td></tr><tr><td>&quot;dim29&quot;</td><td>&quot;S3xS3_six_cycl…</td><td>0.012815</td><td>-0.002107</td><td>-2.335285</td><td>2.342775</td><td>3.418636</td><td>2458.001953</td><td>0.003749</td></tr><tr><td>&quot;dim141&quot;</td><td>&quot;S3xS3_six_cycl…</td><td>0.018916</td><td>0.000853</td><td>-2.878927</td><td>2.874045</td><td>4.966789</td><td>3571.121338</td><td>0.003808</td></tr><tr><td>&quot;dim634&quot;</td><td>&quot;S3xS3_six_cycl…</td><td>0.003388</td><td>0.000045</td><td>-1.190475</td><td>1.204113</td><td>0.847638</td><td>609.451294</td><td>0.003997</td></tr><tr><td>&quot;dim378&quot;</td><td>&quot;S3xS3_six_cycl…</td><td>0.011243</td><td>-0.000939</td><td>-2.19347</td><td>2.175603</td><td>2.789949</td><td>2005.973389</td><td>0.00403</td></tr><tr><td>&quot;dim695&quot;</td><td>&quot;S3xS3_six_cycl…</td><td>0.01227</td><td>-0.001763</td><td>-2.199824</td><td>2.212032</td><td>3.010234</td><td>2164.361572</td><td>0.004076</td></tr><tr><td>&quot;dim1014&quot;</td><td>&quot;S3xS3_six_cycl…</td><td>0.007233</td><td>0.001068</td><td>-1.709913</td><td>1.710957</td><td>1.708973</td><td>1228.751953</td><td>0.004233</td></tr><tr><td>&quot;dim79&quot;</td><td>&quot;S3xS3_six_cycl…</td><td>0.017512</td><td>-0.001845</td><td>-2.5663</td><td>2.578946</td><td>4.13363</td><td>2972.081299</td><td>0.004236</td></tr><tr><td>&quot;dim18&quot;</td><td>&quot;S3xS3_six_cycl…</td><td>0.005787</td><td>0.001752</td><td>-1.473058</td><td>1.480162</td><td>1.286432</td><td>924.946655</td><td>0.004498</td></tr><tr><td>&quot;dim258&quot;</td><td>&quot;S3xS3_six_cycl…</td><td>0.01726</td><td>-0.000918</td><td>-2.448833</td><td>2.472573</td><td>3.683903</td><td>2648.72583</td><td>0.004685</td></tr><tr><td>&quot;dim832&quot;</td><td>&quot;S3xS3_six_cycl…</td><td>0.003671</td><td>0.001173</td><td>-1.149578</td><td>1.137978</td><td>0.776741</td><td>558.477722</td><td>0.004726</td></tr><tr><td>&hellip;</td><td>&hellip;</td><td>&hellip;</td><td>&hellip;</td><td>&hellip;</td><td>&hellip;</td><td>&hellip;</td><td>&hellip;</td><td>&hellip;</td></tr><tr><td>&quot;dim222&quot;</td><td>&quot;S3xS3_six_cycl…</td><td>2.773988</td><td>0.000568</td><td>-2.116913</td><td>2.205609</td><td>1.813164</td><td>1303.666138</td><td>1.529916</td></tr><tr><td>&quot;dim272&quot;</td><td>&quot;S3xS3_transpos…</td><td>0.056674</td><td>0.002691</td><td>-0.388111</td><td>0.401625</td><td>0.036653</td><td>26.358681</td><td>1.546234</td></tr><tr><td>&quot;dim323&quot;</td><td>&quot;S3xS3_six_cycl…</td><td>0.15812</td><td>0.001253</td><td>-0.690861</td><td>0.666571</td><td>0.096871</td><td>69.651031</td><td>1.632284</td></tr><tr><td>&quot;dim404&quot;</td><td>&quot;S3xS3_transpos…</td><td>1.064063</td><td>-0.004199</td><td>-1.615124</td><td>1.606025</td><td>0.639453</td><td>459.779236</td><td>1.664021</td></tr><tr><td>&quot;dim405&quot;</td><td>&quot;S3xS3_six_cycl…</td><td>0.771925</td><td>0.003244</td><td>-1.057858</td><td>1.059187</td><td>0.461802</td><td>332.043121</td><td>1.671549</td></tr><tr><td>&quot;dim121&quot;</td><td>&quot;S3xS3_transpos…</td><td>1.140743</td><td>-0.000609</td><td>-1.721265</td><td>1.670923</td><td>0.671041</td><td>482.47876</td><td>1.699959</td></tr><tr><td>&quot;dim188&quot;</td><td>&quot;S3xS3_transpos…</td><td>0.18084</td><td>0.001739</td><td>-0.599406</td><td>0.625638</td><td>0.099926</td><td>71.848831</td><td>1.809742</td></tr><tr><td>&quot;dim372&quot;</td><td>&quot;S3xS3_six_cycl…</td><td>0.541931</td><td>0.002568</td><td>-0.975784</td><td>0.989321</td><td>0.294962</td><td>212.082794</td><td>1.83729</td></tr><tr><td>&quot;dim677&quot;</td><td>&quot;S3xS3_six_cycl…</td><td>0.556562</td><td>0.004535</td><td>-0.954391</td><td>0.954733</td><td>0.302171</td><td>217.275726</td><td>1.841879</td></tr><tr><td>&quot;dim102&quot;</td><td>&quot;S3xS3_transpos…</td><td>0.173813</td><td>0.003379</td><td>-0.697249</td><td>0.652858</td><td>0.091305</td><td>65.656693</td><td>1.903643</td></tr><tr><td>&quot;dim169&quot;</td><td>&quot;S3xS3_transpos…</td><td>0.698965</td><td>0.018841</td><td>-0.993623</td><td>1.213745</td><td>0.366129</td><td>263.502411</td><td>1.909068</td></tr><tr><td>&quot;dim458&quot;</td><td>&quot;S3xS3_transpos…</td><td>0.174095</td><td>-0.001884</td><td>-0.567521</td><td>0.519931</td><td>0.09093</td><td>65.381363</td><td>1.914604</td></tr></tbody></table></div>"
      ],
      "text/plain": [
       "shape: (90, 9)\n",
       "┌──────────┬────────────┬────────────┬───────────┬───┬──────────┬──────────┬───────────┬───────────┐\n",
       "│ variable ┆ subgroup   ┆ coset_cond ┆ mean      ┆ … ┆ max      ┆ full_var ┆ two_norm  ┆ var_ratio │\n",
       "│ ---      ┆ ---        ┆ _var       ┆ ---       ┆   ┆ ---      ┆ ---      ┆ ---       ┆ ---       │\n",
       "│ str      ┆ str        ┆ ---        ┆ f32       ┆   ┆ f32      ┆ f32      ┆ f32       ┆ f32       │\n",
       "│          ┆            ┆ f32        ┆           ┆   ┆          ┆          ┆           ┆           │\n",
       "╞══════════╪════════════╪════════════╪═══════════╪═══╪══════════╪══════════╪═══════════╪═══════════╡\n",
       "│ dim31    ┆ S3xS3_six_ ┆ 0.009921   ┆ 0.000351  ┆ … ┆ 2.53668  ┆ 4.02736  ┆ 2895.6728 ┆ 0.002464  │\n",
       "│          ┆ cycles_thr ┆            ┆           ┆   ┆          ┆          ┆ 52        ┆           │\n",
       "│          ┆ ee_cycle_0 ┆            ┆           ┆   ┆          ┆          ┆           ┆           │\n",
       "│ dim640   ┆ S3xS3_six_ ┆ 0.012349   ┆ -0.000986 ┆ … ┆ 2.382162 ┆ 3.391745 ┆ 2438.6638 ┆ 0.003641  │\n",
       "│          ┆ cycles_thr ┆            ┆           ┆   ┆          ┆          ┆ 18        ┆           │\n",
       "│          ┆ ee_cycle_2 ┆            ┆           ┆   ┆          ┆          ┆           ┆           │\n",
       "│ dim29    ┆ S3xS3_six_ ┆ 0.012815   ┆ -0.002107 ┆ … ┆ 2.342775 ┆ 3.418636 ┆ 2458.0019 ┆ 0.003749  │\n",
       "│          ┆ cycles_thr ┆            ┆           ┆   ┆          ┆          ┆ 53        ┆           │\n",
       "│          ┆ ee_cycle_0 ┆            ┆           ┆   ┆          ┆          ┆           ┆           │\n",
       "│ dim141   ┆ S3xS3_six_ ┆ 0.018916   ┆ 0.000853  ┆ … ┆ 2.874045 ┆ 4.966789 ┆ 3571.1213 ┆ 0.003808  │\n",
       "│          ┆ cycles_thr ┆            ┆           ┆   ┆          ┆          ┆ 38        ┆           │\n",
       "│          ┆ ee_cycle_8 ┆            ┆           ┆   ┆          ┆          ┆           ┆           │\n",
       "│ …        ┆ …          ┆ …          ┆ …         ┆ … ┆ …        ┆ …        ┆ …         ┆ …         │\n",
       "│ dim677   ┆ S3xS3_six_ ┆ 0.556562   ┆ 0.004535  ┆ … ┆ 0.954733 ┆ 0.302171 ┆ 217.27572 ┆ 1.841879  │\n",
       "│          ┆ cycles_thr ┆            ┆           ┆   ┆          ┆          ┆ 6         ┆           │\n",
       "│          ┆ ee_cycle_7 ┆            ┆           ┆   ┆          ┆          ┆           ┆           │\n",
       "│ dim102   ┆ S3xS3_tran ┆ 0.173813   ┆ 0.003379  ┆ … ┆ 0.652858 ┆ 0.091305 ┆ 65.656693 ┆ 1.903643  │\n",
       "│          ┆ spositions ┆            ┆           ┆   ┆          ┆          ┆           ┆           │\n",
       "│          ┆ _double_th ┆            ┆           ┆   ┆          ┆          ┆           ┆           │\n",
       "│          ┆ re…        ┆            ┆           ┆   ┆          ┆          ┆           ┆           │\n",
       "│ dim169   ┆ S3xS3_tran ┆ 0.698965   ┆ 0.018841  ┆ … ┆ 1.213745 ┆ 0.366129 ┆ 263.50241 ┆ 1.909068  │\n",
       "│          ┆ spositions ┆            ┆           ┆   ┆          ┆          ┆ 1         ┆           │\n",
       "│          ┆ _double_th ┆            ┆           ┆   ┆          ┆          ┆           ┆           │\n",
       "│          ┆ re…        ┆            ┆           ┆   ┆          ┆          ┆           ┆           │\n",
       "│ dim458   ┆ S3xS3_tran ┆ 0.174095   ┆ -0.001884 ┆ … ┆ 0.519931 ┆ 0.09093  ┆ 65.381363 ┆ 1.914604  │\n",
       "│          ┆ spositions ┆            ┆           ┆   ┆          ┆          ┆           ┆           │\n",
       "│          ┆ _double_th ┆            ┆           ┆   ┆          ┆          ┆           ┆           │\n",
       "│          ┆ re…        ┆            ┆           ┆   ┆          ┆          ┆           ┆           │\n",
       "└──────────┴────────────┴────────────┴───────────┴───┴──────────┴──────────┴───────────┴───────────┘"
      ]
     },
     "execution_count": 50,
     "metadata": {},
     "output_type": "execute_result"
    }
   ],
   "source": [
    "(\n",
    "    left_perm_cosets\n",
    "    .sort(['variable', 'coset_cond_var'])\n",
    "    .groupby('variable', maintain_order=True)\n",
    "    .head(1)\n",
    "    .filter(pl.col('subgroup').str.starts_with('S3xS3_'))\n",
    "    .sort('var_ratio')\n",
    ")"
   ]
  },
  {
   "cell_type": "code",
   "execution_count": 54,
   "id": "1e96eed8-716b-41c0-8b51-02c4b60d1eca",
   "metadata": {},
   "outputs": [
    {
     "data": {
      "text/plain": [
       "'S3xS3_six_cycles_three_cycle_8'"
      ]
     },
     "execution_count": 54,
     "metadata": {},
     "output_type": "execute_result"
    }
   ],
   "source": [
    "(\n",
    "    left_perm_cosets\n",
    "    .sort(['variable', 'coset_cond_var'])\n",
    "    .groupby('variable', maintain_order=True)\n",
    "    .head(1)\n",
    "    #.filter(pl.col('subgroup').str.starts_with('S3xS3_'))\n",
    "    .filter(pl.col('variable') == 'dim222')\n",
    "    .sort('var_ratio')\n",
    ")['subgroup'][0]"
   ]
  },
  {
   "cell_type": "code",
   "execution_count": 37,
   "id": "36bcb3d4-0454-48b9-91c4-9d57d2c83c0b",
   "metadata": {},
   "outputs": [
    {
     "data": {
      "text/html": [
       "<div><style>\n",
       ".dataframe > thead > tr > th,\n",
       ".dataframe > tbody > tr > td {\n",
       "  text-align: right;\n",
       "}\n",
       "</style>\n",
       "<small>shape: (5, 3)</small><table border=\"1\" class=\"dataframe\"><thead><tr><th>permutation</th><th>subgroup</th><th>coset_rep</th></tr><tr><td>str</td><td>str</td><td>str</td></tr></thead><tbody><tr><td>&quot;(0, 1, 2, 5, 3…</td><td>&quot;S4_four_cycle_…</td><td>&quot;(0, 1, 2, 5, 3…</td></tr><tr><td>&quot;(0, 1, 3, 2, 5…</td><td>&quot;S4_four_cycle_…</td><td>&quot;(0, 1, 2, 5, 3…</td></tr><tr><td>&quot;(0, 1, 5, 3, 2…</td><td>&quot;S4_four_cycle_…</td><td>&quot;(0, 1, 2, 5, 3…</td></tr><tr><td>&quot;(0, 4, 2, 3, 5…</td><td>&quot;S4_four_cycle_…</td><td>&quot;(0, 1, 2, 5, 3…</td></tr><tr><td>&quot;(0, 4, 3, 5, 2…</td><td>&quot;S4_four_cycle_…</td><td>&quot;(0, 1, 2, 5, 3…</td></tr></tbody></table></div>"
      ],
      "text/plain": [
       "shape: (5, 3)\n",
       "┌────────────────────┬───────────────────────────────────┬────────────────────┐\n",
       "│ permutation        ┆ subgroup                          ┆ coset_rep          │\n",
       "│ ---                ┆ ---                               ┆ ---                │\n",
       "│ str                ┆ str                               ┆ str                │\n",
       "╞════════════════════╪═══════════════════════════════════╪════════════════════╡\n",
       "│ (0, 1, 2, 5, 3, 4) ┆ S4_four_cycle_transposition_doub… ┆ (0, 1, 2, 5, 3, 4) │\n",
       "│ (0, 1, 3, 2, 5, 4) ┆ S4_four_cycle_transposition_doub… ┆ (0, 1, 2, 5, 3, 4) │\n",
       "│ (0, 1, 5, 3, 2, 4) ┆ S4_four_cycle_transposition_doub… ┆ (0, 1, 2, 5, 3, 4) │\n",
       "│ (0, 4, 2, 3, 5, 1) ┆ S4_four_cycle_transposition_doub… ┆ (0, 1, 2, 5, 3, 4) │\n",
       "│ (0, 4, 3, 5, 2, 1) ┆ S4_four_cycle_transposition_doub… ┆ (0, 1, 2, 5, 3, 4) │\n",
       "└────────────────────┴───────────────────────────────────┴────────────────────┘"
      ]
     },
     "execution_count": 37,
     "metadata": {},
     "output_type": "execute_result"
    }
   ],
   "source": [
    "all_s6_right_coset_dfs.filter(pl.col('subgroup') == 'S4_four_cycle_transposition_double_transposition_6').head()"
   ]
  },
  {
   "cell_type": "code",
   "execution_count": 43,
   "id": "521b3ed8-22b8-4db2-9c7d-4fca6e5be857",
   "metadata": {},
   "outputs": [],
   "source": [
    "S6_df = pl.DataFrame([{'permutation': str(p), 'parity': p.parity} for p in full_group])"
   ]
  },
  {
   "cell_type": "code",
   "execution_count": 44,
   "id": "30d8baab-cadc-475d-ad2b-f63e23cf8b1e",
   "metadata": {},
   "outputs": [
    {
     "data": {
      "text/html": [
       "<div><style>\n",
       ".dataframe > thead > tr > th,\n",
       ".dataframe > tbody > tr > td {\n",
       "  text-align: right;\n",
       "}\n",
       "</style>\n",
       "<small>shape: (5, 2)</small><table border=\"1\" class=\"dataframe\"><thead><tr><th>permutation</th><th>parity</th></tr><tr><td>str</td><td>i64</td></tr></thead><tbody><tr><td>&quot;(0, 1, 2, 3, 4…</td><td>0</td></tr><tr><td>&quot;(0, 1, 2, 4, 5…</td><td>0</td></tr><tr><td>&quot;(0, 1, 2, 5, 3…</td><td>0</td></tr><tr><td>&quot;(0, 1, 3, 2, 5…</td><td>0</td></tr><tr><td>&quot;(0, 1, 3, 4, 2…</td><td>0</td></tr></tbody></table></div>"
      ],
      "text/plain": [
       "shape: (5, 2)\n",
       "┌────────────────────┬────────┐\n",
       "│ permutation        ┆ parity │\n",
       "│ ---                ┆ ---    │\n",
       "│ str                ┆ i64    │\n",
       "╞════════════════════╪════════╡\n",
       "│ (0, 1, 2, 3, 4, 5) ┆ 0      │\n",
       "│ (0, 1, 2, 4, 5, 3) ┆ 0      │\n",
       "│ (0, 1, 2, 5, 3, 4) ┆ 0      │\n",
       "│ (0, 1, 3, 2, 5, 4) ┆ 0      │\n",
       "│ (0, 1, 3, 4, 2, 5) ┆ 0      │\n",
       "└────────────────────┴────────┘"
      ]
     },
     "execution_count": 44,
     "metadata": {},
     "output_type": "execute_result"
    }
   ],
   "source": [
    "S6_df.head()"
   ]
  },
  {
   "cell_type": "code",
   "execution_count": 56,
   "id": "d87e3b89-6a59-4283-a8c4-ca62318d08fa",
   "metadata": {},
   "outputs": [
    {
     "data": {
      "image/png": "[encoded data removed]",
      "text/plain": [
       "<Figure size 1600x800 with 2 Axes>"
      ]
     },
     "metadata": {
      "image/png": {
       "height": 800,
       "width": 1600
      }
     },
     "output_type": "display_data"
    },
    {
     "data": {
      "text/plain": [
       "<Figure Size: (1600 x 800)>"
      ]
     },
     "execution_count": 56,
     "metadata": {},
     "output_type": "execute_result"
    }
   ],
   "source": [
    "df = (\n",
    "    lbase_df\n",
    "    .filter(pl.col('variable') == 'dim31')\n",
    "    .join(\n",
    "        all_s6_right_coset_dfs.filter(pl.col('subgroup') == 'S3xS3_six_cycles_three_cycle_8'),\n",
    "        on='permutation' \n",
    "    )\n",
    "    .join(S6_df, on = 'permutation')\n",
    ")\n",
    "\n",
    "\n",
    "ggplot(\n",
    "    df,\n",
    "    aes(x='value', fill='coset_rep')\n",
    ") + geom_histogram(binwidth=0.1) + facet_wrap('~parity') +  theme(figure_size=(16, 8))\n",
    "\n",
    "\n",
    "#lpower_df.melt(id_vars='irrep').filter((pl.col('irrep') == '(5, 1)') & (pl.col('value') > 0.9))"
   ]
  },
  {
   "cell_type": "code",
   "execution_count": 106,
   "id": "24af1418-5c76-41e8-bf5e-f930935b4de6",
   "metadata": {},
   "outputs": [
    {
     "data": {
      "image/png": "[encoded data removed]",
      "text/plain": [
       "<Figure size 640x480 with 1 Axes>"
      ]
     },
     "metadata": {
      "image/png": {
       "height": 480,
       "width": 640
      }
     },
     "output_type": "display_data"
    },
    {
     "data": {
      "text/plain": [
       "<Figure Size: (640 x 480)>"
      ]
     },
     "execution_count": 106,
     "metadata": {},
     "output_type": "execute_result"
    }
   ],
   "source": [
    "ggplot(lbase_df.filter(pl.col('variable') == 'dim5'), aes(x='value')) + geom_histogram(binwidth=0.01)"
   ]
  },
  {
   "cell_type": "code",
   "execution_count": 78,
   "id": "d5dd5841-e040-4614-953e-7b9fd7e3bffc",
   "metadata": {},
   "outputs": [],
   "source": [
    "lp, rp, tp = [], [], []\n",
    "for l, r in product(full_group, full_group):\n",
    "    lp.append(str(l))\n",
    "    rp.append(str(r))\n",
    "    tp.append(str(l*r))\n",
    "S6S6 = pl.DataFrame({'left_perm': lp, 'right_perm': rp, 'target_perm': tp})"
   ]
  },
  {
   "cell_type": "code",
   "execution_count": 81,
   "id": "042015a7-0130-4018-9fcb-acaada271dab",
   "metadata": {},
   "outputs": [],
   "source": [
    "preact_df = pl.concat([\n",
    "    S6S6, pl.DataFrame(linear_preacts.detach().numpy(), schema=[f'dim{i}' for i in range(1024)])\n",
    "], how='horizontal')"
   ]
  },
  {
   "cell_type": "code",
   "execution_count": 105,
   "id": "52627572-20b7-423e-8ec4-e9dc309254f0",
   "metadata": {},
   "outputs": [
    {
     "data": {
      "image/png": "[encoded data removed]",
      "text/plain": [
       "<Figure size 640x480 with 1 Axes>"
      ]
     },
     "metadata": {
      "image/png": {
       "height": 480,
       "width": 640
      }
     },
     "output_type": "display_data"
    },
    {
     "data": {
      "text/plain": [
       "<Figure Size: (640 x 480)>"
      ]
     },
     "execution_count": 105,
     "metadata": {},
     "output_type": "execute_result"
    }
   ],
   "source": [
    "ggplot(preact_df, aes(x='dim5')) + geom_histogram(binwidth=0.1)"
   ]
  },
  {
   "cell_type": "code",
   "execution_count": 104,
   "id": "0f43e93a-f881-4107-97d1-df38435d33b5",
   "metadata": {},
   "outputs": [
    {
     "data": {
      "text/plain": [
       "tensor(-0.0374, grad_fn=<DotBackward0>)"
      ]
     },
     "execution_count": 104,
     "metadata": {},
     "output_type": "execute_result"
    }
   ],
   "source": [
    "torch.dot(model.unembed.weight[:, 1012], model.unembed.weight[:, 1005])"
   ]
  },
  {
   "cell_type": "code",
   "execution_count": 118,
   "id": "3845b91a-8f12-484d-a384-5e02d65d20da",
   "metadata": {
    "tags": []
   },
   "outputs": [],
   "source": [
    "dims3_3 = lpower_df.melt(id_vars='irrep').filter((pl.col('irrep') == \"(3, 3)\") & (pl.col('value') > 0.95))['variable'].to_list()"
   ]
  },
  {
   "cell_type": "code",
   "execution_count": 110,
   "id": "c835cc9a-0343-45ed-a01b-ad11c707a488",
   "metadata": {
    "tags": []
   },
   "outputs": [
    {
     "data": {
      "text/html": [
       "<div><style>\n",
       ".dataframe > thead > tr > th,\n",
       ".dataframe > tbody > tr > td {\n",
       "  text-align: right;\n",
       "}\n",
       "</style>\n",
       "<small>shape: (5, 9)</small><table border=\"1\" class=\"dataframe\"><thead><tr><th>variable</th><th>subgroup</th><th>coset_cond_var</th><th>mean</th><th>min</th><th>max</th><th>full_var</th><th>two_norm</th><th>var_ratio</th></tr><tr><td>str</td><td>str</td><td>f32</td><td>f32</td><td>f32</td><td>f32</td><td>f32</td><td>f32</td><td>f32</td></tr></thead><tbody><tr><td>&quot;dim5&quot;</td><td>&quot;A6_0&quot;</td><td>0.045204</td><td>-0.007803</td><td>-0.430274</td><td>0.460972</td><td>0.022585</td><td>16.28224</td><td>2.001534</td></tr><tr><td>&quot;dim5&quot;</td><td>&quot;S5_exceptional…</td><td>0.09579</td><td>-0.007803</td><td>-0.430274</td><td>0.460972</td><td>0.022585</td><td>16.28224</td><td>4.241378</td></tr><tr><td>&quot;dim5&quot;</td><td>&quot;S5_exceptional…</td><td>0.105513</td><td>-0.007803</td><td>-0.430274</td><td>0.460972</td><td>0.022585</td><td>16.28224</td><td>4.671867</td></tr><tr><td>&quot;dim5&quot;</td><td>&quot;S5_exceptional…</td><td>0.121193</td><td>-0.007803</td><td>-0.430274</td><td>0.460972</td><td>0.022585</td><td>16.28224</td><td>5.366153</td></tr><tr><td>&quot;dim5&quot;</td><td>&quot;S5_exceptional…</td><td>0.12372</td><td>-0.007803</td><td>-0.430274</td><td>0.460972</td><td>0.022585</td><td>16.28224</td><td>5.478059</td></tr></tbody></table></div>"
      ],
      "text/plain": [
       "shape: (5, 9)\n",
       "┌──────────┬─────────────┬────────────┬───────────┬───┬──────────┬──────────┬──────────┬───────────┐\n",
       "│ variable ┆ subgroup    ┆ coset_cond ┆ mean      ┆ … ┆ max      ┆ full_var ┆ two_norm ┆ var_ratio │\n",
       "│ ---      ┆ ---         ┆ _var       ┆ ---       ┆   ┆ ---      ┆ ---      ┆ ---      ┆ ---       │\n",
       "│ str      ┆ str         ┆ ---        ┆ f32       ┆   ┆ f32      ┆ f32      ┆ f32      ┆ f32       │\n",
       "│          ┆             ┆ f32        ┆           ┆   ┆          ┆          ┆          ┆           │\n",
       "╞══════════╪═════════════╪════════════╪═══════════╪═══╪══════════╪══════════╪══════════╪═══════════╡\n",
       "│ dim5     ┆ A6_0        ┆ 0.045204   ┆ -0.007803 ┆ … ┆ 0.460972 ┆ 0.022585 ┆ 16.28224 ┆ 2.001534  │\n",
       "│ dim5     ┆ S5_exceptio ┆ 0.09579    ┆ -0.007803 ┆ … ┆ 0.460972 ┆ 0.022585 ┆ 16.28224 ┆ 4.241378  │\n",
       "│          ┆ nal_3       ┆            ┆           ┆   ┆          ┆          ┆          ┆           │\n",
       "│ dim5     ┆ S5_exceptio ┆ 0.105513   ┆ -0.007803 ┆ … ┆ 0.460972 ┆ 0.022585 ┆ 16.28224 ┆ 4.671867  │\n",
       "│          ┆ nal_0       ┆            ┆           ┆   ┆          ┆          ┆          ┆           │\n",
       "│ dim5     ┆ S5_exceptio ┆ 0.121193   ┆ -0.007803 ┆ … ┆ 0.460972 ┆ 0.022585 ┆ 16.28224 ┆ 5.366153  │\n",
       "│          ┆ nal_1       ┆            ┆           ┆   ┆          ┆          ┆          ┆           │\n",
       "│ dim5     ┆ S5_exceptio ┆ 0.12372    ┆ -0.007803 ┆ … ┆ 0.460972 ┆ 0.022585 ┆ 16.28224 ┆ 5.478059  │\n",
       "│          ┆ nal_4       ┆            ┆           ┆   ┆          ┆          ┆          ┆           │\n",
       "└──────────┴─────────────┴────────────┴───────────┴───┴──────────┴──────────┴──────────┴───────────┘"
      ]
     },
     "execution_count": 110,
     "metadata": {},
     "output_type": "execute_result"
    }
   ],
   "source": [
    "# 29, 227, 251, 55, 43, 68, 183\n",
    "right_perm_cosets.filter(pl.col('variable') == 'dim5')"
   ]
  },
  {
   "cell_type": "code",
   "execution_count": 112,
   "id": "69654435-e1f3-4cb8-a028-2e5582bed7d5",
   "metadata": {
    "tags": []
   },
   "outputs": [
    {
     "data": {
      "image/png": "[encoded data removed]",
      "text/plain": [
       "<Figure size 640x480 with 1 Axes>"
      ]
     },
     "metadata": {
      "image/png": {
       "height": 480,
       "width": 640
      }
     },
     "output_type": "display_data"
    },
    {
     "data": {
      "text/plain": [
       "<Figure Size: (640 x 480)>"
      ]
     },
     "execution_count": 112,
     "metadata": {},
     "output_type": "execute_result"
    }
   ],
   "source": [
    "ggplot(rbase_df.filter(pl.col('variable') == 'dim5'), aes(x='value')) + geom_histogram(binwidth=0.01)"
   ]
  },
  {
   "cell_type": "code",
   "execution_count": 139,
   "id": "1354ca21-2593-463b-855b-ae4b5584a6eb",
   "metadata": {
    "tags": []
   },
   "outputs": [
    {
     "data": {
      "image/png": "[encoded data removed]",
      "text/plain": [
       "<Figure size 640x480 with 1 Axes>"
      ]
     },
     "metadata": {},
     "output_type": "display_data"
    },
    {
     "data": {
      "text/plain": [
       "<ggplot: (711918412)>"
      ]
     },
     "execution_count": 139,
     "metadata": {},
     "output_type": "execute_result"
    }
   ],
   "source": [
    "ggplot(rbase_df.filter(pl.col('variable') == dim), aes(x='value')) + geom_histogram(binwidth=0.05)"
   ]
  },
  {
   "cell_type": "code",
   "execution_count": 114,
   "id": "0ae17569-77a4-45db-b8ba-a9a53a08893f",
   "metadata": {
    "tags": []
   },
   "outputs": [
    {
     "data": {
      "text/html": [
       "<div><style>\n",
       ".dataframe > thead > tr > th,\n",
       ".dataframe > tbody > tr > td {\n",
       "  text-align: right;\n",
       "}\n",
       "</style>\n",
       "<small>shape: (5, 9)</small><table border=\"1\" class=\"dataframe\"><thead><tr><th>variable</th><th>subgroup</th><th>coset_cond_var</th><th>mean</th><th>min</th><th>max</th><th>full_var</th><th>two_norm</th><th>var_ratio</th></tr><tr><td>str</td><td>str</td><td>f32</td><td>f32</td><td>f32</td><td>f32</td><td>f32</td><td>f32</td><td>f32</td></tr></thead><tbody><tr><td>&quot;dim251&quot;</td><td>&quot;A6_0&quot;</td><td>3.039003</td><td>-0.061759</td><td>-3.144857</td><td>2.399359</td><td>1.521292</td><td>1096.554688</td><td>1.997646</td></tr><tr><td>&quot;dim251&quot;</td><td>&quot;S5_exceptional…</td><td>4.384474</td><td>-0.061759</td><td>-3.144857</td><td>2.399359</td><td>1.521292</td><td>1096.554688</td><td>2.882072</td></tr><tr><td>&quot;dim251&quot;</td><td>&quot;S5_exceptional…</td><td>5.662667</td><td>-0.061759</td><td>-3.144857</td><td>2.399359</td><td>1.521292</td><td>1096.554688</td><td>3.722274</td></tr><tr><td>&quot;dim251&quot;</td><td>&quot;S5_exceptional…</td><td>7.709663</td><td>-0.061759</td><td>-3.144857</td><td>2.399359</td><td>1.521292</td><td>1096.554688</td><td>5.067838</td></tr><tr><td>&quot;dim251&quot;</td><td>&quot;C2xS4_3&quot;</td><td>8.096655</td><td>-0.061759</td><td>-3.144857</td><td>2.399359</td><td>1.521292</td><td>1096.554688</td><td>5.322222</td></tr></tbody></table></div>"
      ],
      "text/plain": [
       "shape: (5, 9)\n",
       "┌──────────┬────────────┬────────────┬───────────┬───┬──────────┬──────────┬───────────┬───────────┐\n",
       "│ variable ┆ subgroup   ┆ coset_cond ┆ mean      ┆ … ┆ max      ┆ full_var ┆ two_norm  ┆ var_ratio │\n",
       "│ ---      ┆ ---        ┆ _var       ┆ ---       ┆   ┆ ---      ┆ ---      ┆ ---       ┆ ---       │\n",
       "│ str      ┆ str        ┆ ---        ┆ f32       ┆   ┆ f32      ┆ f32      ┆ f32       ┆ f32       │\n",
       "│          ┆            ┆ f32        ┆           ┆   ┆          ┆          ┆           ┆           │\n",
       "╞══════════╪════════════╪════════════╪═══════════╪═══╪══════════╪══════════╪═══════════╪═══════════╡\n",
       "│ dim251   ┆ A6_0       ┆ 3.039003   ┆ -0.061759 ┆ … ┆ 2.399359 ┆ 1.521292 ┆ 1096.5546 ┆ 1.997646  │\n",
       "│          ┆            ┆            ┆           ┆   ┆          ┆          ┆ 88        ┆           │\n",
       "│ dim251   ┆ S5_excepti ┆ 4.384474   ┆ -0.061759 ┆ … ┆ 2.399359 ┆ 1.521292 ┆ 1096.5546 ┆ 2.882072  │\n",
       "│          ┆ onal_0     ┆            ┆           ┆   ┆          ┆          ┆ 88        ┆           │\n",
       "│ dim251   ┆ S5_excepti ┆ 5.662667   ┆ -0.061759 ┆ … ┆ 2.399359 ┆ 1.521292 ┆ 1096.5546 ┆ 3.722274  │\n",
       "│          ┆ onal_4     ┆            ┆           ┆   ┆          ┆          ┆ 88        ┆           │\n",
       "│ dim251   ┆ S5_excepti ┆ 7.709663   ┆ -0.061759 ┆ … ┆ 2.399359 ┆ 1.521292 ┆ 1096.5546 ┆ 5.067838  │\n",
       "│          ┆ onal_5     ┆            ┆           ┆   ┆          ┆          ┆ 88        ┆           │\n",
       "│ dim251   ┆ C2xS4_3    ┆ 8.096655   ┆ -0.061759 ┆ … ┆ 2.399359 ┆ 1.521292 ┆ 1096.5546 ┆ 5.322222  │\n",
       "│          ┆            ┆            ┆           ┆   ┆          ┆          ┆ 88        ┆           │\n",
       "└──────────┴────────────┴────────────┴───────────┴───┴──────────┴──────────┴───────────┴───────────┘"
      ]
     },
     "execution_count": 114,
     "metadata": {},
     "output_type": "execute_result"
    }
   ],
   "source": [
    "right_perm_cosets.filter(pl.col('variable') == 'dim251')"
   ]
  },
  {
   "cell_type": "code",
   "execution_count": 72,
   "id": "9b41feb1-4581-494e-b44f-80022968ec22",
   "metadata": {
    "tags": []
   },
   "outputs": [
    {
     "data": {
      "text/html": [
       "<div><style>\n",
       ".dataframe > thead > tr > th,\n",
       ".dataframe > tbody > tr > td {\n",
       "  text-align: right;\n",
       "}\n",
       "</style>\n",
       "<small>shape: (30, 5)</small><table border=\"1\" class=\"dataframe\"><thead><tr><th>subgroup</th><th>count</th><th>var_ratio</th><th>median_var_ratio</th><th>min_coset_var</th></tr><tr><td>str</td><td>u32</td><td>f32</td><td>f32</td><td>f32</td></tr></thead><tbody><tr><td>&quot;S5_exceptional…</td><td>16</td><td>9.1028e-7</td><td>1.3353e-7</td><td>0.000004</td></tr><tr><td>&quot;S5_1&quot;</td><td>25</td><td>0.000011</td><td>0.000007</td><td>0.000147</td></tr><tr><td>&quot;S5_0&quot;</td><td>21</td><td>0.000042</td><td>0.000023</td><td>0.000511</td></tr><tr><td>&quot;S5_3&quot;</td><td>15</td><td>0.000098</td><td>0.000013</td><td>0.001302</td></tr><tr><td>&quot;S4_5&quot;</td><td>1</td><td>0.000432</td><td>0.000432</td><td>0.00808</td></tr><tr><td>&quot;S5_exceptional…</td><td>3</td><td>0.001978</td><td>0.001896</td><td>0.005865</td></tr><tr><td>&quot;S5_4&quot;</td><td>14</td><td>0.003521</td><td>0.000023</td><td>0.011733</td></tr><tr><td>&quot;S5_2&quot;</td><td>17</td><td>0.007403</td><td>0.000006</td><td>0.040176</td></tr><tr><td>&quot;S5_exceptional…</td><td>5</td><td>0.035902</td><td>0.000391</td><td>0.0012</td></tr><tr><td>&quot;S4_3&quot;</td><td>1</td><td>0.044335</td><td>0.044335</td><td>0.162569</td></tr><tr><td>&quot;S5_5&quot;</td><td>20</td><td>0.045356</td><td>0.000015</td><td>0.263601</td></tr><tr><td>&quot;A5_5&quot;</td><td>6</td><td>0.087707</td><td>0.078289</td><td>0.036356</td></tr><tr><td>&hellip;</td><td>&hellip;</td><td>&hellip;</td><td>&hellip;</td><td>&hellip;</td></tr><tr><td>&quot;C2xS4_2&quot;</td><td>2</td><td>0.766639</td><td>0.766639</td><td>1.998757</td></tr><tr><td>&quot;A4_14&quot;</td><td>8</td><td>0.787746</td><td>0.725241</td><td>0.087256</td></tr><tr><td>&quot;S3_double_tran…</td><td>2</td><td>0.828543</td><td>0.828543</td><td>1.40123</td></tr><tr><td>&quot;S3xS3_transpos…</td><td>1</td><td>0.884412</td><td>0.884412</td><td>0.759379</td></tr><tr><td>&quot;S3xS3_transpos…</td><td>3</td><td>0.909195</td><td>0.840747</td><td>1.25087</td></tr><tr><td>&quot;A5_exceptional…</td><td>2</td><td>0.925295</td><td>0.925295</td><td>0.386904</td></tr><tr><td>&quot;S3_double_tran…</td><td>5</td><td>1.144863</td><td>0.978477</td><td>1.358143</td></tr><tr><td>&quot;C3_double_thre…</td><td>1</td><td>1.305318</td><td>1.305318</td><td>1.978223</td></tr><tr><td>&quot;C3_three_cycle…</td><td>1</td><td>1.465616</td><td>1.465616</td><td>0.155254</td></tr><tr><td>&quot;C2_double_tran…</td><td>2</td><td>1.555217</td><td>1.555217</td><td>2.377136</td></tr><tr><td>&quot;A6_0&quot;</td><td>38</td><td>1.568516</td><td>1.988305</td><td>0.411583</td></tr><tr><td>&quot;S4_exceptional…</td><td>2</td><td>1.587576</td><td>1.587576</td><td>3.052502</td></tr></tbody></table></div>"
      ],
      "text/plain": [
       "shape: (30, 5)\n",
       "┌────────────────────────────┬───────┬───────────┬──────────────────┬───────────────┐\n",
       "│ subgroup                   ┆ count ┆ var_ratio ┆ median_var_ratio ┆ min_coset_var │\n",
       "│ ---                        ┆ ---   ┆ ---       ┆ ---              ┆ ---           │\n",
       "│ str                        ┆ u32   ┆ f32       ┆ f32              ┆ f32           │\n",
       "╞════════════════════════════╪═══════╪═══════════╪══════════════════╪═══════════════╡\n",
       "│ S5_exceptional_4           ┆ 16    ┆ 9.1028e-7 ┆ 1.3353e-7        ┆ 0.000004      │\n",
       "│ S5_1                       ┆ 25    ┆ 0.000011  ┆ 0.000007         ┆ 0.000147      │\n",
       "│ S5_0                       ┆ 21    ┆ 0.000042  ┆ 0.000023         ┆ 0.000511      │\n",
       "│ S5_3                       ┆ 15    ┆ 0.000098  ┆ 0.000013         ┆ 0.001302      │\n",
       "│ …                          ┆ …     ┆ …         ┆ …                ┆ …             │\n",
       "│ C3_three_cycle_12          ┆ 1     ┆ 1.465616  ┆ 1.465616         ┆ 0.155254      │\n",
       "│ C2_double_transposition_43 ┆ 2     ┆ 1.555217  ┆ 1.555217         ┆ 2.377136      │\n",
       "│ A6_0                       ┆ 38    ┆ 1.568516  ┆ 1.988305         ┆ 0.411583      │\n",
       "│ S4_exceptional_9           ┆ 2     ┆ 1.587576  ┆ 1.587576         ┆ 3.052502      │\n",
       "└────────────────────────────┴───────┴───────────┴──────────────────┴───────────────┘"
      ]
     },
     "execution_count": 72,
     "metadata": {},
     "output_type": "execute_result"
    }
   ],
   "source": [
    "(\n",
    "    left_perm_cosets\n",
    "    .with_columns(var_ratio = pl.col('min_coset_var') / pl.col('full_var'))\n",
    "    .groupby('subgroup')\n",
    "    .agg(\n",
    "        pl.count(),\n",
    "        pl.col('var_ratio').mean(),\n",
    "        pl.col('var_ratio').median().alias('median_var_ratio'),\n",
    "        pl.col('min_coset_var').mean()\n",
    "    )\n",
    "    .sort('var_ratio')\n",
    ")"
   ]
  },
  {
   "cell_type": "code",
   "execution_count": 78,
   "id": "e3ebe3f5-1f53-482c-a25c-336db002c323",
   "metadata": {
    "tags": []
   },
   "outputs": [
    {
     "data": {
      "text/html": [
       "<div><style>\n",
       ".dataframe > thead > tr > th,\n",
       ".dataframe > tbody > tr > td {\n",
       "  text-align: right;\n",
       "}\n",
       "</style>\n",
       "<small>shape: (38, 10)</small><table border=\"1\" class=\"dataframe\"><thead><tr><th>variable</th><th>subgroup</th><th>min_coset_var</th><th>sanity</th><th>mean</th><th>min</th><th>max</th><th>full_var</th><th>two_norm</th><th>var_ratio</th></tr><tr><td>str</td><td>str</td><td>f32</td><td>f32</td><td>f32</td><td>f32</td><td>f32</td><td>f32</td><td>f32</td><td>f32</td></tr></thead><tbody><tr><td>&quot;dim18&quot;</td><td>&quot;A6_0&quot;</td><td>0.000351</td><td>797.774597</td><td>0.000098</td><td>-3.005281</td><td>3.006968</td><td>9.024618</td><td>6488.697266</td><td>0.000039</td></tr><tr><td>&quot;dim22&quot;</td><td>&quot;A6_0&quot;</td><td>0.000338</td><td>766.192139</td><td>0.000096</td><td>-2.94522</td><td>2.946844</td><td>8.667364</td><td>6231.828613</td><td>0.000039</td></tr><tr><td>&quot;dim75&quot;</td><td>&quot;A6_0&quot;</td><td>0.000334</td><td>758.702393</td><td>-0.000094</td><td>-2.932453</td><td>2.930715</td><td>8.582624</td><td>6170.906738</td><td>0.000039</td></tr><tr><td>&quot;dim15&quot;</td><td>&quot;A6_0&quot;</td><td>0.000318</td><td>720.975891</td><td>-0.000091</td><td>-2.858599</td><td>2.856929</td><td>8.155807</td><td>5864.022949</td><td>0.000039</td></tr><tr><td>&quot;dim50&quot;</td><td>&quot;A6_0&quot;</td><td>0.00032</td><td>726.972839</td><td>0.000093</td><td>-2.868865</td><td>2.870417</td><td>8.223696</td><td>5912.84082</td><td>0.000039</td></tr><tr><td>&quot;dim135&quot;</td><td>&quot;A6_0&quot;</td><td>0.000501</td><td>1136.739258</td><td>-0.000123</td><td>-3.589503</td><td>3.587359</td><td>12.859048</td><td>9245.65625</td><td>0.000039</td></tr><tr><td>&quot;dim124&quot;</td><td>&quot;A6_0&quot;</td><td>0.000496</td><td>1124.433838</td><td>-0.000122</td><td>-3.570031</td><td>3.567908</td><td>12.719912</td><td>9145.623047</td><td>0.000039</td></tr><tr><td>&quot;dim153&quot;</td><td>&quot;A6_0&quot;</td><td>0.000649</td><td>1470.250244</td><td>0.000148</td><td>-4.079603</td><td>4.082704</td><td>16.631788</td><td>11958.254883</td><td>0.000039</td></tr><tr><td>&quot;dim137&quot;</td><td>&quot;A6_0&quot;</td><td>1.253101</td><td>72.188248</td><td>0.006527</td><td>-1.12694</td><td>1.161739</td><td>0.66661</td><td>479.322968</td><td>1.879813</td></tr><tr><td>&quot;dim140&quot;</td><td>&quot;A6_0&quot;</td><td>0.577019</td><td>32.264923</td><td>-0.005703</td><td>-0.878442</td><td>0.902941</td><td>0.295788</td><td>212.694778</td><td>1.950788</td></tr><tr><td>&quot;dim29&quot;</td><td>&quot;A6_0&quot;</td><td>0.807256</td><td>45.068623</td><td>0.004391</td><td>-1.020726</td><td>0.989042</td><td>0.413808</td><td>297.541992</td><td>1.950796</td></tr><tr><td>&quot;dim227&quot;</td><td>&quot;A6_0&quot;</td><td>0.762929</td><td>42.427845</td><td>0.008233</td><td>-0.978724</td><td>1.016975</td><td>0.388638</td><td>279.479645</td><td>1.963083</td></tr><tr><td>&hellip;</td><td>&hellip;</td><td>&hellip;</td><td>&hellip;</td><td>&hellip;</td><td>&hellip;</td><td>&hellip;</td><td>&hellip;</td><td>&hellip;</td><td>&hellip;</td></tr><tr><td>&quot;dim251&quot;</td><td>&quot;A6_0&quot;</td><td>3.039003</td><td>145.276825</td><td>-0.061759</td><td>-3.144857</td><td>2.399359</td><td>1.521292</td><td>1096.554688</td><td>1.997646</td></tr><tr><td>&quot;dim55&quot;</td><td>&quot;A6_0&quot;</td><td>1.098847</td><td>60.140194</td><td>0.009557</td><td>-1.303057</td><td>1.316246</td><td>0.549931</td><td>395.466614</td><td>1.998153</td></tr><tr><td>&quot;dim43&quot;</td><td>&quot;A6_0&quot;</td><td>0.212637</td><td>11.654229</td><td>0.001987</td><td>-0.684361</td><td>0.721792</td><td>0.106416</td><td>76.515724</td><td>1.998178</td></tr><tr><td>&quot;dim68&quot;</td><td>&quot;A6_0&quot;</td><td>0.028809</td><td>1.578479</td><td>-0.001247</td><td>-0.228602</td><td>0.251738</td><td>0.014401</td><td>10.355251</td><td>2.000534</td></tr><tr><td>&quot;dim183&quot;</td><td>&quot;A6_0&quot;</td><td>0.04216</td><td>2.3111</td><td>-0.00146</td><td>-0.326851</td><td>0.338548</td><td>0.021072</td><td>15.152415</td><td>2.000762</td></tr><tr><td>&quot;dim62&quot;</td><td>&quot;A6_0&quot;</td><td>0.10546</td><td>5.768583</td><td>0.001464</td><td>-0.514454</td><td>0.583591</td><td>0.052677</td><td>37.876392</td><td>2.002006</td></tr><tr><td>&quot;dim106&quot;</td><td>&quot;A6_0&quot;</td><td>0.497179</td><td>27.20046</td><td>0.004347</td><td>-1.138585</td><td>1.11505</td><td>0.248301</td><td>178.542236</td><td>2.002321</td></tr><tr><td>&quot;dim114&quot;</td><td>&quot;A6_0&quot;</td><td>0.406549</td><td>22.243816</td><td>-0.00155</td><td>-0.706492</td><td>0.679885</td><td>0.203033</td><td>145.9823</td><td>2.002379</td></tr><tr><td>&quot;dim127&quot;</td><td>&quot;A6_0&quot;</td><td>0.473848</td><td>25.929504</td><td>0.000546</td><td>-0.942945</td><td>0.934193</td><td>0.236638</td><td>170.142731</td><td>2.002419</td></tr><tr><td>&quot;dim186&quot;</td><td>&quot;A6_0&quot;</td><td>0.010901</td><td>0.596475</td><td>0.001199</td><td>-0.148045</td><td>0.147469</td><td>0.005443</td><td>3.914328</td><td>2.00278</td></tr><tr><td>&quot;dim151&quot;</td><td>&quot;A6_0&quot;</td><td>0.654744</td><td>35.611263</td><td>-0.003526</td><td>-1.041532</td><td>0.972217</td><td>0.326917</td><td>235.062302</td><td>2.002781</td></tr><tr><td>&quot;dim32&quot;</td><td>&quot;A6_0&quot;</td><td>0.003055</td><td>0.145621</td><td>0.002843</td><td>-0.078971</td><td>0.079125</td><td>0.001525</td><td>1.102413</td><td>2.002782</td></tr></tbody></table></div>"
      ],
      "text/plain": [
       "shape: (38, 10)\n",
       "┌──────────┬──────────┬────────────┬────────────┬───┬──────────┬──────────┬────────────┬───────────┐\n",
       "│ variable ┆ subgroup ┆ min_coset_ ┆ sanity     ┆ … ┆ max      ┆ full_var ┆ two_norm   ┆ var_ratio │\n",
       "│ ---      ┆ ---      ┆ var        ┆ ---        ┆   ┆ ---      ┆ ---      ┆ ---        ┆ ---       │\n",
       "│ str      ┆ str      ┆ ---        ┆ f32        ┆   ┆ f32      ┆ f32      ┆ f32        ┆ f32       │\n",
       "│          ┆          ┆ f32        ┆            ┆   ┆          ┆          ┆            ┆           │\n",
       "╞══════════╪══════════╪════════════╪════════════╪═══╪══════════╪══════════╪════════════╪═══════════╡\n",
       "│ dim18    ┆ A6_0     ┆ 0.000351   ┆ 797.774597 ┆ … ┆ 3.006968 ┆ 9.024618 ┆ 6488.69726 ┆ 0.000039  │\n",
       "│          ┆          ┆            ┆            ┆   ┆          ┆          ┆ 6          ┆           │\n",
       "│ dim22    ┆ A6_0     ┆ 0.000338   ┆ 766.192139 ┆ … ┆ 2.946844 ┆ 8.667364 ┆ 6231.82861 ┆ 0.000039  │\n",
       "│          ┆          ┆            ┆            ┆   ┆          ┆          ┆ 3          ┆           │\n",
       "│ dim75    ┆ A6_0     ┆ 0.000334   ┆ 758.702393 ┆ … ┆ 2.930715 ┆ 8.582624 ┆ 6170.90673 ┆ 0.000039  │\n",
       "│          ┆          ┆            ┆            ┆   ┆          ┆          ┆ 8          ┆           │\n",
       "│ dim15    ┆ A6_0     ┆ 0.000318   ┆ 720.975891 ┆ … ┆ 2.856929 ┆ 8.155807 ┆ 5864.02294 ┆ 0.000039  │\n",
       "│          ┆          ┆            ┆            ┆   ┆          ┆          ┆ 9          ┆           │\n",
       "│ …        ┆ …        ┆ …          ┆ …          ┆ … ┆ …        ┆ …        ┆ …          ┆ …         │\n",
       "│ dim127   ┆ A6_0     ┆ 0.473848   ┆ 25.929504  ┆ … ┆ 0.934193 ┆ 0.236638 ┆ 170.142731 ┆ 2.002419  │\n",
       "│ dim186   ┆ A6_0     ┆ 0.010901   ┆ 0.596475   ┆ … ┆ 0.147469 ┆ 0.005443 ┆ 3.914328   ┆ 2.00278   │\n",
       "│ dim151   ┆ A6_0     ┆ 0.654744   ┆ 35.611263  ┆ … ┆ 0.972217 ┆ 0.326917 ┆ 235.062302 ┆ 2.002781  │\n",
       "│ dim32    ┆ A6_0     ┆ 0.003055   ┆ 0.145621   ┆ … ┆ 0.079125 ┆ 0.001525 ┆ 1.102413   ┆ 2.002782  │\n",
       "└──────────┴──────────┴────────────┴────────────┴───┴──────────┴──────────┴────────────┴───────────┘"
      ]
     },
     "execution_count": 78,
     "metadata": {},
     "output_type": "execute_result"
    }
   ],
   "source": [
    "# 29, 227, 251, 55, 43, 68, 183\n",
    "(\n",
    "    left_perm_cosets\n",
    "    .with_columns(var_ratio = pl.col('min_coset_var') / pl.col('full_var'))\n",
    "    .filter(pl.col('subgroup') == 'A6_0').sort('var_ratio')\n",
    ")"
   ]
  },
  {
   "cell_type": "code",
   "execution_count": 99,
   "id": "2d108163-1e16-4353-9fe4-b78ffe3e60d6",
   "metadata": {
    "tags": []
   },
   "outputs": [
    {
     "data": {
      "image/png": "[encoded data removed]",
      "text/plain": [
       "<Figure size 640x480 with 1 Axes>"
      ]
     },
     "metadata": {},
     "output_type": "display_data"
    },
    {
     "data": {
      "text/plain": [
       "<ggplot: (691546929)>"
      ]
     },
     "execution_count": 99,
     "metadata": {},
     "output_type": "execute_result"
    }
   ],
   "source": [
    "ggplot(base_df.filter(pl.col('variable') == 'dim227'), aes(x='value')) + geom_histogram(binwidth=0.05)"
   ]
  },
  {
   "cell_type": "code",
   "execution_count": 83,
   "id": "526c1fda-1ce4-43f9-97bf-35623127ab7a",
   "metadata": {
    "tags": []
   },
   "outputs": [
    {
     "data": {
      "text/html": [
       "<div><style>\n",
       ".dataframe > thead > tr > th,\n",
       ".dataframe > tbody > tr > td {\n",
       "  text-align: right;\n",
       "}\n",
       "</style>\n",
       "<small>shape: (11, 2)</small><table border=\"1\" class=\"dataframe\"><thead><tr><th>irrep</th><th>dim251</th></tr><tr><td>str</td><td>f32</td></tr></thead><tbody><tr><td>&quot;(1, 1, 1, 1, 1…</td><td>0.002504</td></tr><tr><td>&quot;(2, 1, 1, 1, 1…</td><td>0.002293</td></tr><tr><td>&quot;(2, 2, 1, 1)&quot;</td><td>0.003213</td></tr><tr><td>&quot;(2, 2, 2)&quot;</td><td>0.000381</td></tr><tr><td>&quot;(3, 1, 1, 1)&quot;</td><td>0.000302</td></tr><tr><td>&quot;(3, 2, 1)&quot;</td><td>0.001272</td></tr><tr><td>&quot;(3, 3)&quot;</td><td>0.978312</td></tr><tr><td>&quot;(4, 1, 1)&quot;</td><td>0.001289</td></tr><tr><td>&quot;(4, 2)&quot;</td><td>0.000324</td></tr><tr><td>&quot;(5, 1)&quot;</td><td>0.007549</td></tr><tr><td>&quot;(6,)&quot;</td><td>0.00256</td></tr></tbody></table></div>"
      ],
      "text/plain": [
       "shape: (11, 2)\n",
       "┌────────────────────┬──────────┐\n",
       "│ irrep              ┆ dim251   │\n",
       "│ ---                ┆ ---      │\n",
       "│ str                ┆ f32      │\n",
       "╞════════════════════╪══════════╡\n",
       "│ (1, 1, 1, 1, 1, 1) ┆ 0.002504 │\n",
       "│ (2, 1, 1, 1, 1)    ┆ 0.002293 │\n",
       "│ (2, 2, 1, 1)       ┆ 0.003213 │\n",
       "│ (2, 2, 2)          ┆ 0.000381 │\n",
       "│ …                  ┆ …        │\n",
       "│ (4, 1, 1)          ┆ 0.001289 │\n",
       "│ (4, 2)             ┆ 0.000324 │\n",
       "│ (5, 1)             ┆ 0.007549 │\n",
       "│ (6,)               ┆ 0.00256  │\n",
       "└────────────────────┴──────────┘"
      ]
     },
     "execution_count": 83,
     "metadata": {},
     "output_type": "execute_result"
    }
   ],
   "source": [
    "lpower_df.select(['irrep', 'dim251'])"
   ]
  },
  {
   "cell_type": "code",
   "execution_count": null,
   "id": "76d44a82-de5f-4b67-9d71-7c9942d26451",
   "metadata": {},
   "outputs": [],
   "source": []
  }
 ],
 "metadata": {
  "kernelspec": {
   "display_name": "Python 3 (ipykernel)",
   "language": "python",
   "name": "python3"
  },
  "language_info": {
   "codemirror_mode": {
    "name": "ipython",
    "version": 3
   },
   "file_extension": ".py",
   "mimetype": "text/x-python",
   "name": "python",
   "nbconvert_exporter": "python",
   "pygments_lexer": "ipython3",
   "version": "3.10.13"
  }
 },
 "nbformat": 4,
 "nbformat_minor": 5
}
