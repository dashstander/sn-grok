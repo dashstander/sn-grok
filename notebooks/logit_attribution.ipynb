{
 "cells": [
  {
   "cell_type": "code",
   "execution_count": 1,
   "id": "3f2ff5dd-c6f9-49b4-9a7d-761272a37c8f",
   "metadata": {
    "tags": []
   },
   "outputs": [],
   "source": [
    "from itertools import product, permutations\n",
    "from sngrok.groups import generate_subgroup, Symmetric\n",
    "\n",
    "import math\n",
    "import numpy as np\n",
    "from pathlib import Path\n",
    "from plotnine import (\n",
    "    ggplot,\n",
    "    aes,\n",
    "    theme, \n",
    "    element_text,\n",
    "    stat_smooth,\n",
    "    facet_wrap,\n",
    "    geom_tile,\n",
    "    geom_point,\n",
    "    geom_histogram,\n",
    "    geom_violin,\n",
    "    geom_col,\n",
    "    xlab,\n",
    "    ylab,\n",
    "    ggtitle,\n",
    "    geom_line,\n",
    "    geom_ribbon,\n",
    "    geom_vline,\n",
    "    geom_text,\n",
    "    scale_x_log10,\n",
    "    scale_x_reverse,\n",
    "    geom_boxplot\n",
    ")\n",
    "import polars as pl\n",
    "import torch\n",
    "import functorch\n",
    "from sklearn import linear_model\n",
    "\n",
    "\n",
    "from sngrok.fourier import slow_sn_ft_1d, slow_sn_ft_2d, sn_fourier_basis, sn_fourier_basis_2d, calc_power\n",
    "from sngrok.groups import generate_subgroup\n",
    "from sngrok.permutations import Permutation\n",
    "from sngrok.model import SnMLP\n",
    "from sngrok.tableau import generate_partitions\n",
    "from sngrok.irreps import SnIrrep\n",
    "\n",
    "from confection import Config"
   ]
  },
  {
   "cell_type": "code",
   "execution_count": 3,
   "id": "866db544-e37a-4c52-8e09-52101ad75352",
   "metadata": {
    "tags": []
   },
   "outputs": [],
   "source": [
    "\n",
    "def loss_fn(logits, labels):\n",
    "    if len(logits.shape) == 3:\n",
    "        logits = logits[:, -1]\n",
    "    logits = logits.to(torch.float64)\n",
    "    \n",
    "    log_probs = logits.log_softmax(dim=-1)\n",
    "    correct_log_probs = log_probs.gather(dim=-1, index=labels[:, None])\n",
    "    return -1. * correct_log_probs\n",
    "\n",
    "\n",
    "ckpt_dir = Path('/Users/dashiell/workspace/sn-grok/s5_40_small')\n",
    "model_seed = 0\n",
    "run_name = f's5_40_{model_seed}'\n",
    "#run_name = Path('s5_lr1e-5_5')\n",
    "\n",
    "#whole_config = Config().from_disk('configs/s5_lr_5.toml')\n",
    "run_dir = ckpt_dir / run_name\n",
    "model_run = torch.load(run_dir / 'full_run.pth', map_location=torch.device('cpu'))\n",
    "run_data = pl.read_parquet(run_dir / f'data.parquet')\n",
    "lperms = torch.as_tensor(run_data.select('index_left').to_numpy(), dtype=torch.int64).squeeze()\n",
    "rperms = torch.as_tensor(run_data.select('index_right').to_numpy(), dtype=torch.int64).squeeze()\n",
    "targets = torch.as_tensor(run_data.select('index_target').to_numpy(), dtype=torch.int64).squeeze()\n",
    "\n",
    "model = SnMLP.from_config(model_run['config'])\n",
    "model.load_state_dict(model_run['model'])\n",
    "\n",
    "logits, cache = model.run_with_cache(lperms, rperms)\n",
    "loss = loss_fn(logits, targets)\n",
    "\n",
    "linear_acts = cache['hook_linear']\n"
   ]
  },
  {
   "cell_type": "code",
   "execution_count": 4,
   "id": "e96d9b40-fc6c-401a-9855-a6b6b68c754d",
   "metadata": {
    "tags": []
   },
   "outputs": [],
   "source": [
    "def calc_power_contributions(tensor, n):\n",
    "    total_power = (tensor ** 2).mean(dim=0)\n",
    "    group_order = math.factorial(n)\n",
    "    fourier_transform = slow_sn_ft_1d(tensor, n)\n",
    "    irrep_power = calc_power(fourier_transform, group_order)\n",
    "    power_contribs = {irrep: power / total_power for irrep, power in irrep_power.items()}\n",
    "    irreps = list(power_contribs.keys())\n",
    "    power_vals = torch.cat([power_contribs[irrep].unsqueeze(0) for irrep in irreps], dim=0)\n",
    "    val_data = pl.DataFrame(power_vals.detach().cpu().numpy(), schema=[f'dim{i}' for i in range(tensor.shape[1])])\n",
    "    val_data.insert_at_idx(0, pl.Series('irrep', [str(i) for i in irreps]))\n",
    "    return val_data, fourier_transform\n",
    "\n",
    "W = model.linear.weight\n",
    "\n",
    "lpower_df, _ = calc_power_contributions(model.lembed.weight @ W[:, :256].T, 5)\n",
    "rpower_df, _ = calc_power_contributions(model.rembed.weight @ W[:, 256:].T, 5)"
   ]
  },
  {
   "cell_type": "code",
   "execution_count": 5,
   "id": "f32b19d5-aff2-4460-b350-3acd4a3cdd86",
   "metadata": {
    "tags": []
   },
   "outputs": [],
   "source": [
    "def find_non41(model_seed):\n",
    "    ckpt_dir = Path('/Users/dashiell/workspace/sn-grok/s5_40_small')\n",
    "    #model_seed = 100\n",
    "    run_name = f's5_40_{model_seed}'\n",
    "    #run_name = Path('s5_lr1e-5_5')\n",
    "\n",
    "    #whole_config = Config().from_disk('configs/s5_lr_5.toml')\n",
    "    run_dir = ckpt_dir / run_name\n",
    "    model_run = torch.load(run_dir / 'full_run.pth', map_location=torch.device('cpu'))\n",
    "    run_data = pl.read_parquet(run_dir / f'data.parquet')\n",
    "    lperms = torch.as_tensor(run_data.select('index_left').to_numpy(), dtype=torch.int64).squeeze()\n",
    "    rperms = torch.as_tensor(run_data.select('index_right').to_numpy(), dtype=torch.int64).squeeze()\n",
    "    targets = torch.as_tensor(run_data.select('index_target').to_numpy(), dtype=torch.int64).squeeze()\n",
    "\n",
    "    model = SnMLP.from_config(model_run['config'])\n",
    "    model.load_state_dict(model_run['model'])\n",
    "\n",
    "    logits, cache = model.run_with_cache(lperms, rperms)\n",
    "    loss = loss_fn(logits, targets)\n",
    "\n",
    "    linear_acts = cache['hook_linear']\n",
    "    W = model.linear.weight\n",
    "\n",
    "    lpower_df, _ = calc_power_contributions(model.lembed.weight @ W[:, :256].T, 5)\n",
    "    df = (\n",
    "        lpower_df\n",
    "        .filter(~pl.col('irrep').is_in([\"(1, 1, 1, 1, 1)\"]))\n",
    "        .melt(id_vars='irrep')\n",
    "        .groupby('irrep')\n",
    "        .agg((pl.col('value') > 0.9).sum().alias('count'))\n",
    "    ).sort('irrep')\n",
    "    return df\n"
   ]
  },
  {
   "cell_type": "code",
   "execution_count": 8,
   "id": "d34382ac-4f82-4886-a47f-836c1dfec138",
   "metadata": {
    "tags": []
   },
   "outputs": [
    {
     "data": {
      "text/html": [
       "<div><style>\n",
       ".dataframe > thead > tr > th,\n",
       ".dataframe > tbody > tr > td {\n",
       "  text-align: right;\n",
       "}\n",
       "</style>\n",
       "<small>shape: (113, 3)</small><table border=\"1\" class=\"dataframe\"><thead><tr><th>irrep</th><th>variable</th><th>value</th></tr><tr><td>str</td><td>str</td><td>f32</td></tr></thead><tbody><tr><td>&quot;(2, 1, 1, 1)&quot;</td><td>&quot;dim0&quot;</td><td>1.0</td></tr><tr><td>&quot;(2, 1, 1, 1)&quot;</td><td>&quot;dim1&quot;</td><td>1.0</td></tr><tr><td>&quot;(2, 1, 1, 1)&quot;</td><td>&quot;dim2&quot;</td><td>1.0</td></tr><tr><td>&quot;(2, 1, 1, 1)&quot;</td><td>&quot;dim3&quot;</td><td>1.0</td></tr><tr><td>&quot;(2, 1, 1, 1)&quot;</td><td>&quot;dim4&quot;</td><td>1.0</td></tr><tr><td>&quot;(2, 1, 1, 1)&quot;</td><td>&quot;dim6&quot;</td><td>1.0</td></tr><tr><td>&quot;(2, 1, 1, 1)&quot;</td><td>&quot;dim8&quot;</td><td>1.0</td></tr><tr><td>&quot;(2, 1, 1, 1)&quot;</td><td>&quot;dim9&quot;</td><td>1.0</td></tr><tr><td>&quot;(2, 1, 1, 1)&quot;</td><td>&quot;dim10&quot;</td><td>1.0</td></tr><tr><td>&quot;(2, 1, 1, 1)&quot;</td><td>&quot;dim11&quot;</td><td>1.0</td></tr><tr><td>&quot;(2, 1, 1, 1)&quot;</td><td>&quot;dim13&quot;</td><td>1.0</td></tr><tr><td>&quot;(2, 1, 1, 1)&quot;</td><td>&quot;dim14&quot;</td><td>0.999994</td></tr><tr><td>&hellip;</td><td>&hellip;</td><td>&hellip;</td></tr><tr><td>&quot;(2, 1, 1, 1)&quot;</td><td>&quot;dim113&quot;</td><td>1.0</td></tr><tr><td>&quot;(2, 1, 1, 1)&quot;</td><td>&quot;dim115&quot;</td><td>1.0</td></tr><tr><td>&quot;(2, 1, 1, 1)&quot;</td><td>&quot;dim116&quot;</td><td>1.0</td></tr><tr><td>&quot;(2, 1, 1, 1)&quot;</td><td>&quot;dim117&quot;</td><td>1.0</td></tr><tr><td>&quot;(2, 1, 1, 1)&quot;</td><td>&quot;dim119&quot;</td><td>1.0</td></tr><tr><td>&quot;(2, 1, 1, 1)&quot;</td><td>&quot;dim120&quot;</td><td>1.0</td></tr><tr><td>&quot;(2, 1, 1, 1)&quot;</td><td>&quot;dim121&quot;</td><td>1.0</td></tr><tr><td>&quot;(2, 1, 1, 1)&quot;</td><td>&quot;dim123&quot;</td><td>1.0</td></tr><tr><td>&quot;(2, 1, 1, 1)&quot;</td><td>&quot;dim124&quot;</td><td>0.999996</td></tr><tr><td>&quot;(2, 1, 1, 1)&quot;</td><td>&quot;dim125&quot;</td><td>1.0</td></tr><tr><td>&quot;(2, 1, 1, 1)&quot;</td><td>&quot;dim126&quot;</td><td>1.0</td></tr><tr><td>&quot;(2, 1, 1, 1)&quot;</td><td>&quot;dim127&quot;</td><td>1.0</td></tr></tbody></table></div>"
      ],
      "text/plain": [
       "shape: (113, 3)\n",
       "┌──────────────┬──────────┬──────────┐\n",
       "│ irrep        ┆ variable ┆ value    │\n",
       "│ ---          ┆ ---      ┆ ---      │\n",
       "│ str          ┆ str      ┆ f32      │\n",
       "╞══════════════╪══════════╪══════════╡\n",
       "│ (2, 1, 1, 1) ┆ dim0     ┆ 1.0      │\n",
       "│ (2, 1, 1, 1) ┆ dim1     ┆ 1.0      │\n",
       "│ (2, 1, 1, 1) ┆ dim2     ┆ 1.0      │\n",
       "│ (2, 1, 1, 1) ┆ dim3     ┆ 1.0      │\n",
       "│ …            ┆ …        ┆ …        │\n",
       "│ (2, 1, 1, 1) ┆ dim124   ┆ 0.999996 │\n",
       "│ (2, 1, 1, 1) ┆ dim125   ┆ 1.0      │\n",
       "│ (2, 1, 1, 1) ┆ dim126   ┆ 1.0      │\n",
       "│ (2, 1, 1, 1) ┆ dim127   ┆ 1.0      │\n",
       "└──────────────┴──────────┴──────────┘"
      ]
     },
     "execution_count": 8,
     "metadata": {},
     "output_type": "execute_result"
    }
   ],
   "source": [
    "lpower_df.melt(id_vars='irrep').filter(pl.col('irrep') == \"(2, 1, 1, 1)\").filter(pl.col('value') > 0.99)\n"
   ]
  },
  {
   "cell_type": "code",
   "execution_count": 25,
   "id": "69bab309-1998-44f0-b48e-a6954e5feee4",
   "metadata": {
    "tags": []
   },
   "outputs": [],
   "source": [
    "import math\n",
    "\n",
    "def compute_logit_trace_tensor_cube(n, irrep):\n",
    "    \"\"\"\n",
    "    Under the hypothesis, the network computes tr(\\rho(x)\\rho(y)\\rho(z^-1)) for some representation \\rho.\n",
    "    This function computes this trace tensor cube for a given representation, and returns this tensor\n",
    "\n",
    "    WE DONT CENTRE.\n",
    "\n",
    "    Returns:\n",
    "        torch.tensor: (group.order^3) trace tensor cube\n",
    "    \"\"\"\n",
    "    \n",
    "    order = math.factorial(n)\n",
    "    full_group = Permutation.full_group(n)\n",
    "    irreps = SnIrrep(n, irrep).matrix_representations()\n",
    "    cube_to_be = []\n",
    "    #t = torch.zeros((order ** 2, order), dtype=torch.float).cuda()\n",
    "    for x, y in product(full_group, full_group):\n",
    "        #x = self.all_data[i, 0]\n",
    "        #y = self.all_data[i, 1]\n",
    "        xy = x * y\n",
    "        #xy = self.multiplication_table[x, y]\n",
    "        \n",
    "            #xyz = self.multiplication_table[xy, self.inverses[z_idx]]\n",
    "        cube_to_be.append([np.trace(irreps[(xy * z.inverse).sigma]) for z in full_group])\n",
    "            #t[i, z_idx] = torch.trace(self.rep[xyz])\n",
    "    t = torch.asarray(np.stack(cube_to_be))\n",
    "    #t = t.reshape(order, order, order)\n",
    "    #f = open(filename, 'wb')\n",
    "    #torch.save(t, f)\n",
    "    return t \n"
   ]
  },
  {
   "cell_type": "code",
   "execution_count": 26,
   "id": "d6fa7c64-2b43-45f3-b2cd-c8ea18321cf7",
   "metadata": {
    "tags": []
   },
   "outputs": [],
   "source": [
    "cube2111 = compute_logit_trace_tensor_cube(5, (2, 1, 1, 1))\n",
    "cube41 = compute_logit_trace_tensor_cube(5, (4, 1))\n",
    "cube5 = compute_logit_trace_tensor_cube(5, (5,))\n",
    "cube221 = compute_logit_trace_tensor_cube(5, (2, 2, 1))\n",
    "cube32 = compute_logit_trace_tensor_cube(5, (3, 2))"
   ]
  },
  {
   "cell_type": "code",
   "execution_count": 27,
   "id": "ca40c10f-b1c4-4374-93df-ef0b70cf8a4f",
   "metadata": {
    "tags": []
   },
   "outputs": [],
   "source": [
    "from torch.nn.functional import cosine_similarity\n",
    "\n",
    "def logit_trace_similarity(logits, trace_cube):\n",
    "    \"\"\"\n",
    "    Compute cosine similarity between true logits and logits computed via tr(\\rho(x)\\rho(y)\\rho(z^-1))\n",
    "\n",
    "    Args:\n",
    "        logits (torch.tensor): (batch, group.order) tensor of logits\n",
    "        trace_cube (torch.tensor): (group.order, group.order, group.order) tensor of tr(\\rho(x)\\rho(y)\\rho(z^-1))\n",
    "\n",
    "    Returns:\n",
    "        float: mean cosine similarity over batch\n",
    "    \"\"\"\n",
    "    centered_logits = logits #- logits.mean(dim=-1, keepdim=True)\n",
    "    centered_logits = centered_logits\n",
    "    centered_trace = trace_cube #- trace_cube.mean(dim=-1, keepdim=True)\n",
    "    trace = centered_trace\n",
    "    sim = cosine_similarity(centered_logits, trace, dim=1)\n",
    "    return sim"
   ]
  },
  {
   "cell_type": "code",
   "execution_count": 28,
   "id": "aa57d970-a6b3-43de-beb3-58ceaac5e9b3",
   "metadata": {
    "tags": []
   },
   "outputs": [
    {
     "data": {
      "text/plain": [
       "tensor([0.2060, 0.2069, 0.2086,  ..., 0.1993, 0.2023, 0.2027],\n",
       "       dtype=torch.float64, grad_fn=<SumBackward1>)"
      ]
     },
     "execution_count": 28,
     "metadata": {},
     "output_type": "execute_result"
    }
   ],
   "source": [
    "logit_trace_similarity(logits, cube5)"
   ]
  },
  {
   "cell_type": "code",
   "execution_count": 29,
   "id": "236ca8e5-d486-49c5-a662-ef12b8a47960",
   "metadata": {
    "tags": []
   },
   "outputs": [
    {
     "data": {
      "text/plain": [
       "120"
      ]
     },
     "execution_count": 29,
     "metadata": {},
     "output_type": "execute_result"
    }
   ],
   "source": [
    "logits[0].shape[0]"
   ]
  },
  {
   "cell_type": "code",
   "execution_count": 30,
   "id": "9c7ea09b-cb1c-4501-a685-52291d6069c4",
   "metadata": {
    "tags": []
   },
   "outputs": [],
   "source": [
    "def remove_max(tensor):\n",
    "    max_idx = tensor.shape[0] - 1\n",
    "    idx = tensor.argmax()\n",
    "    if idx == 0:\n",
    "        return tensor[1:]\n",
    "    elif idx == max_idx:\n",
    "        return tensor[:max_idx]\n",
    "    else:\n",
    "        first = tensor[:idx]\n",
    "        second = tensor[(idx+1):]\n",
    "        return torch.concat([first, second])\n"
   ]
  },
  {
   "cell_type": "code",
   "execution_count": 31,
   "id": "f65f3fda-5a0c-49d4-8b11-924f309f20bf",
   "metadata": {
    "tags": []
   },
   "outputs": [
    {
     "data": {
      "text/plain": [
       "torch.Size([14400, 119])"
      ]
     },
     "execution_count": 31,
     "metadata": {},
     "output_type": "execute_result"
    }
   ],
   "source": [
    "no_max_logits = torch.stack([remove_max(tensor) for tensor in logits])\n",
    "no_max_logits.shape"
   ]
  },
  {
   "cell_type": "code",
   "execution_count": 32,
   "id": "8bcb7a11-f463-4150-b927-1d2375e40adb",
   "metadata": {
    "tags": []
   },
   "outputs": [],
   "source": [
    "no_max_cube2111 = torch.stack([remove_max(tensor) for tensor in cube2111])\n"
   ]
  },
  {
   "cell_type": "code",
   "execution_count": 33,
   "id": "127e7140-331e-41be-9cd0-b14e2a165e52",
   "metadata": {
    "tags": []
   },
   "outputs": [
    {
     "data": {
      "text/plain": [
       "tensor(0.3018, dtype=torch.float64, grad_fn=<MinBackward1>)"
      ]
     },
     "execution_count": 33,
     "metadata": {},
     "output_type": "execute_result"
    }
   ],
   "source": [
    "logit_trace_similarity(no_max_logits, no_max_cube2111).min()"
   ]
  },
  {
   "cell_type": "code",
   "execution_count": 34,
   "id": "b76361c4-52ae-4c6a-b5c0-c031ca1d5e19",
   "metadata": {
    "tags": []
   },
   "outputs": [],
   "source": [
    "lperms, rperms, targets = [], [], []\n",
    "full_group = Permutation.full_group(5)\n",
    "for l, r in product(full_group, full_group):\n",
    "    t = l * r\n",
    "    lperms.append(str(l.sigma))\n",
    "    rperms.append(str(r.sigma))\n",
    "    targets.append(str(t.sigma))\n",
    "\n",
    "perm_df = pl.DataFrame({'left_perm': lperms, 'right_perm': rperms, 'target_perm': targets})\n"
   ]
  },
  {
   "cell_type": "code",
   "execution_count": 35,
   "id": "f6f4442c-2e8c-4d92-b1b0-438ba1b901ff",
   "metadata": {
    "tags": []
   },
   "outputs": [],
   "source": [
    "logit_df = pl.concat(\n",
    "    [\n",
    "        perm_df,\n",
    "        pl.DataFrame(\n",
    "            logits.detach().numpy(),\n",
    "            schema=[str(perm) for perm in full_group]\n",
    "        )\n",
    "    ],\n",
    "    how='horizontal'\n",
    ")\n",
    "\n",
    "trace_df2111 = pl.concat(\n",
    "    [\n",
    "        perm_df,\n",
    "        pl.DataFrame(\n",
    "            cube2111.detach().numpy(),\n",
    "            schema=[str(perm) for perm in full_group]\n",
    "        )\n",
    "    ],\n",
    "    how='horizontal'\n",
    ")"
   ]
  },
  {
   "cell_type": "code",
   "execution_count": 36,
   "id": "6ece7e45-1b09-40b2-b71e-3ffbb2ae677e",
   "metadata": {
    "tags": []
   },
   "outputs": [],
   "source": [
    "logit_df = logit_df.melt(id_vars=['left_perm', 'right_perm', 'target_perm'], variable_name='perm', value_name='logits')\n",
    "trace_df = trace_df2111.melt(id_vars=['left_perm', 'right_perm', 'target_perm'], variable_name='perm', value_name='trace')"
   ]
  },
  {
   "cell_type": "code",
   "execution_count": 37,
   "id": "8723f78b-a5de-46a9-883c-7ed391f696bd",
   "metadata": {
    "tags": []
   },
   "outputs": [],
   "source": [
    "full_df = logit_df.join(trace_df, on=['left_perm', 'right_perm', 'target_perm', 'perm'], how='inner')"
   ]
  },
  {
   "cell_type": "code",
   "execution_count": 39,
   "id": "ad742cbb-9d3b-4736-8721-1d8bdd767274",
   "metadata": {
    "tags": []
   },
   "outputs": [
    {
     "data": {
      "image/png": "[encoded data removed]",
      "text/plain": [
       "<Figure size 640x480 with 1 Axes>"
      ]
     },
     "metadata": {},
     "output_type": "display_data"
    },
    {
     "data": {
      "text/plain": [
       "<ggplot: (688336878)>"
      ]
     },
     "execution_count": 39,
     "metadata": {},
     "output_type": "execute_result"
    }
   ],
   "source": [
    "\n",
    "\n",
    "lperm = \"(0, 1, 2, 3, 4)\"\n",
    "rperm = \"(1, 0, 2, 3, 4)\"\n",
    "target = \"(1, 0, 2, 3, 4)\"\n",
    "\n",
    "\n",
    "df = full_df.filter(\n",
    "    (pl.col('target_perm') == target) &\n",
    "    (pl.col('left_perm') == lperm) &\n",
    "    (pl.col('right_perm') == rperm)\n",
    ")\n",
    "\n",
    "ggplot(df, aes(x='trace', y='logits')) + geom_point()"
   ]
  },
  {
   "cell_type": "code",
   "execution_count": 40,
   "id": "033f3e41-8a56-4842-967a-aab4250150fa",
   "metadata": {
    "tags": []
   },
   "outputs": [],
   "source": [
    "perms = [\n",
    "    Permutation(eval(p)) for p in\n",
    "    df.filter(pl.col('logits') < 25).filter(pl.col('logits') > 18)['perm'].to_list()\n",
    "]"
   ]
  },
  {
   "cell_type": "code",
   "execution_count": 41,
   "id": "ba92ecc2-e569-4694-8356-62e7b33d98d3",
   "metadata": {
    "tags": []
   },
   "outputs": [
    {
     "data": {
      "text/plain": [
       "[(3, 2),\n",
       " (3, 2),\n",
       " (4, 1),\n",
       " (4, 1),\n",
       " (3, 2),\n",
       " (2, 1, 1, 1),\n",
       " (4, 1),\n",
       " (4, 1),\n",
       " (2, 1, 1, 1),\n",
       " (4, 1),\n",
       " (4, 1),\n",
       " (4, 1),\n",
       " (4, 1),\n",
       " (3, 2),\n",
       " (5,),\n",
       " (3, 1, 1),\n",
       " (5,),\n",
       " (5,),\n",
       " (5,),\n",
       " (3, 1, 1),\n",
       " (3, 1, 1),\n",
       " (3, 1, 1),\n",
       " (3, 1, 1),\n",
       " (2, 2, 1),\n",
       " (5,),\n",
       " (2, 2, 1),\n",
       " (2, 2, 1),\n",
       " (3, 1, 1),\n",
       " (5,),\n",
       " (5,),\n",
       " (5,),\n",
       " (2, 2, 1)]"
      ]
     },
     "execution_count": 41,
     "metadata": {},
     "output_type": "execute_result"
    }
   ],
   "source": [
    "tp = Permutation((1, 0, 2, 3, 4))\n",
    "\n",
    "[(tp * p.inverse).conjugacy_class for p in perms]"
   ]
  },
  {
   "cell_type": "code",
   "execution_count": 42,
   "id": "59da4198-60ac-4258-8808-5b2e341142f5",
   "metadata": {
    "tags": []
   },
   "outputs": [],
   "source": [
    "unembed = (model.unembed.weight - model.unembed.weight.mean(dim=1, keepdim=True))"
   ]
  },
  {
   "cell_type": "code",
   "execution_count": 43,
   "id": "f909fe70-f57a-41f9-8941-8245b637e0af",
   "metadata": {
    "tags": []
   },
   "outputs": [],
   "source": [
    "\n",
    "\n",
    "\n",
    "U, S, Vh = torch.linalg.svd(unembed, full_matrices=False)"
   ]
  },
  {
   "cell_type": "code",
   "execution_count": 44,
   "id": "cb3db06e-48b2-4abe-a6d1-7905ae12640d",
   "metadata": {
    "tags": []
   },
   "outputs": [
    {
     "name": "stdout",
     "output_type": "stream",
     "text": [
      "U=torch.Size([120, 120])\n",
      "S=torch.Size([120])\n",
      "Vh=torch.Size([120, 128])\n"
     ]
    }
   ],
   "source": [
    "print(f'U={U.shape}')\n",
    "print(f'S={S.shape}')\n",
    "print(f'Vh={Vh.shape}')\n"
   ]
  },
  {
   "cell_type": "code",
   "execution_count": 45,
   "id": "6df44531-534a-42cf-8716-1ed7beb4285e",
   "metadata": {
    "tags": []
   },
   "outputs": [
    {
     "data": {
      "text/plain": [
       "tensor(0.0771, grad_fn=<MaxBackward1>)"
      ]
     },
     "execution_count": 45,
     "metadata": {},
     "output_type": "execute_result"
    }
   ],
   "source": [
    "((U @ torch.diag(S) @ Vh) - model.unembed.weight).abs().max()"
   ]
  },
  {
   "cell_type": "code",
   "execution_count": 46,
   "id": "38a02a00-e4b6-4807-b5ed-124c49be2bda",
   "metadata": {
    "tags": []
   },
   "outputs": [],
   "source": [
    "df, unembed_ft = calc_power_contributions(model.unembed.weight, 5)"
   ]
  },
  {
   "cell_type": "code",
   "execution_count": 47,
   "id": "3d059d40-e275-4c16-afc5-84965b9aa7f2",
   "metadata": {
    "tags": []
   },
   "outputs": [
    {
     "data": {
      "text/html": [
       "<div><style>\n",
       ".dataframe > thead > tr > th,\n",
       ".dataframe > tbody > tr > td {\n",
       "  text-align: right;\n",
       "}\n",
       "</style>\n",
       "<small>shape: (11, 3)</small><table border=\"1\" class=\"dataframe\"><thead><tr><th>irrep</th><th>variable</th><th>value</th></tr><tr><td>str</td><td>str</td><td>f32</td></tr></thead><tbody><tr><td>&quot;(5,)&quot;</td><td>&quot;dim5&quot;</td><td>0.999073</td></tr><tr><td>&quot;(5,)&quot;</td><td>&quot;dim7&quot;</td><td>0.998929</td></tr><tr><td>&quot;(5,)&quot;</td><td>&quot;dim41&quot;</td><td>0.999741</td></tr><tr><td>&quot;(5,)&quot;</td><td>&quot;dim44&quot;</td><td>0.99974</td></tr><tr><td>&quot;(5,)&quot;</td><td>&quot;dim98&quot;</td><td>0.999804</td></tr><tr><td>&quot;(5,)&quot;</td><td>&quot;dim102&quot;</td><td>0.999741</td></tr><tr><td>&quot;(5,)&quot;</td><td>&quot;dim107&quot;</td><td>0.99974</td></tr><tr><td>&quot;(5,)&quot;</td><td>&quot;dim110&quot;</td><td>0.999741</td></tr><tr><td>&quot;(5,)&quot;</td><td>&quot;dim112&quot;</td><td>0.999804</td></tr><tr><td>&quot;(5,)&quot;</td><td>&quot;dim114&quot;</td><td>0.999804</td></tr><tr><td>&quot;(5,)&quot;</td><td>&quot;dim122&quot;</td><td>0.999804</td></tr></tbody></table></div>"
      ],
      "text/plain": [
       "shape: (11, 3)\n",
       "┌───────┬──────────┬──────────┐\n",
       "│ irrep ┆ variable ┆ value    │\n",
       "│ ---   ┆ ---      ┆ ---      │\n",
       "│ str   ┆ str      ┆ f32      │\n",
       "╞═══════╪══════════╪══════════╡\n",
       "│ (5,)  ┆ dim5     ┆ 0.999073 │\n",
       "│ (5,)  ┆ dim7     ┆ 0.998929 │\n",
       "│ (5,)  ┆ dim41    ┆ 0.999741 │\n",
       "│ (5,)  ┆ dim44    ┆ 0.99974  │\n",
       "│ …     ┆ …        ┆ …        │\n",
       "│ (5,)  ┆ dim110   ┆ 0.999741 │\n",
       "│ (5,)  ┆ dim112   ┆ 0.999804 │\n",
       "│ (5,)  ┆ dim114   ┆ 0.999804 │\n",
       "│ (5,)  ┆ dim122   ┆ 0.999804 │\n",
       "└───────┴──────────┴──────────┘"
      ]
     },
     "execution_count": 47,
     "metadata": {},
     "output_type": "execute_result"
    }
   ],
   "source": [
    "df.melt(id_vars='irrep').filter(pl.col('irrep') == '(5,)').filter(pl.col('value') > 0.5)"
   ]
  },
  {
   "cell_type": "code",
   "execution_count": 48,
   "id": "4cfc098c-63ea-4198-9d60-da4bbf760db4",
   "metadata": {
    "tags": []
   },
   "outputs": [
    {
     "data": {
      "text/plain": [
       "tensor([ 0.3208,  0.3475,  0.3335,  0.3159,  0.3345,  0.3386,  0.3444,  0.3622,\n",
       "         0.3734,  0.3354,  0.3508,  0.3327,  0.3248,  0.3389,  0.3170,  0.3431,\n",
       "         0.3080,  0.3548,  0.3518,  0.3074,  0.3345,  0.2990,  0.3287,  0.3241,\n",
       "         0.3317,  0.3457,  0.3140,  0.3513,  0.3481,  0.3246,  0.3738,  0.3124,\n",
       "         0.3281,  0.3185,  0.3231,  0.3222,  0.3401,  0.3265,  0.3190,  0.3522,\n",
       "         0.3450,  0.3303,  0.3279,  0.3337,  0.3543,  0.3447,  0.3408,  0.3425,\n",
       "         0.3419,  0.3304,  0.3481,  0.3514,  0.3549,  0.3050,  0.3176,  0.3199,\n",
       "         0.3422,  0.3288,  0.3479,  0.3539, -0.4509, -0.4589, -0.4382, -0.4382,\n",
       "        -0.4426, -0.4355, -0.4332, -0.4301, -0.4387, -0.4317, -0.4307, -0.4430,\n",
       "        -0.4476, -0.4658, -0.4584, -0.4757, -0.4517, -0.4509, -0.4530, -0.4606,\n",
       "        -0.4539, -0.4628, -0.4705, -0.4691, -0.4546, -0.4482, -0.4609, -0.4525,\n",
       "        -0.4776, -0.4638, -0.4497, -0.4414, -0.4471, -0.4562, -0.4500, -0.4674,\n",
       "        -0.4553, -0.4578, -0.4558, -0.4434, -0.4497, -0.4651, -0.4518, -0.4506,\n",
       "        -0.4553, -0.4618, -0.4579, -0.4498, -0.4511, -0.4565, -0.4592, -0.4452,\n",
       "        -0.4514, -0.4508, -0.4454, -0.4452, -0.4580, -0.4414, -0.4541, -0.4449],\n",
       "       grad_fn=<SelectBackward0>)"
      ]
     },
     "execution_count": 48,
     "metadata": {},
     "output_type": "execute_result"
    }
   ],
   "source": [
    "unembed[:, 5]"
   ]
  },
  {
   "cell_type": "code",
   "execution_count": 49,
   "id": "0a312e53-5e67-4da0-b231-ae553a7a52ce",
   "metadata": {
    "tags": []
   },
   "outputs": [],
   "source": [
    "full_df = full_df.with_columns(pl.col('trace').round().cast(pl.Int32))"
   ]
  },
  {
   "cell_type": "code",
   "execution_count": 50,
   "id": "02e31ef8-54d6-47ef-b0d9-12473b41e339",
   "metadata": {
    "tags": []
   },
   "outputs": [],
   "source": [
    "s5_iter = product(full_group, full_group)\n",
    "    \n"
   ]
  },
  {
   "cell_type": "code",
   "execution_count": 51,
   "id": "268074fd-44c2-4452-82b0-137791d72bfe",
   "metadata": {
    "tags": []
   },
   "outputs": [
    {
     "data": {
      "image/png": "[encoded data removed]",
      "text/plain": [
       "<Figure size 640x480 with 1 Axes>"
      ]
     },
     "metadata": {},
     "output_type": "display_data"
    },
    {
     "data": {
      "text/plain": [
       "<ggplot: (706683706)>"
      ]
     },
     "execution_count": 51,
     "metadata": {},
     "output_type": "execute_result"
    }
   ],
   "source": [
    "from plotnine import geom_smooth\n",
    "\n",
    "\n",
    "lp, rp = next(s5_iter)\n",
    "tp = lp * rp\n",
    "df = full_df.filter(\n",
    "    (pl.col('target_perm') == str(tp)) &\n",
    "    (pl.col('left_perm') == str(lp)) &\n",
    "    (pl.col('right_perm') == str(rp))\n",
    ")\n",
    "\n",
    "ggplot(df, aes(x='logits', fill='factor(trace)')) + geom_histogram(binwidth=1)"
   ]
  },
  {
   "cell_type": "code",
   "execution_count": 52,
   "id": "061f4d40-b949-4511-bbbe-a8ca4a6cd200",
   "metadata": {},
   "outputs": [],
   "source": [
    "from functools import reduce\n",
    "\n",
    "\n",
    "s4_subgroups = {\n",
    "    \"order\": 12,\n",
    "    \"copies\": 5,\n",
    "    \"generators\": [\n",
    "        [(0, 2, 3, 4, 1), (0, 2, 1, 3, 4)], #1 fix 0\n",
    "        [(2, 1, 3, 4, 0), (2, 1, 0, 3, 4)], #2 fix 1\n",
    "        [(1, 3, 2, 4, 0), (1, 0, 2, 3, 4)], #3 fix 2\n",
    "        [(1, 2, 4, 3, 0), (1, 0, 2, 3, 4)], #4 fix 3\n",
    "        [(1, 2, 3, 0, 4), (1, 0, 2, 3, 4)], #5 fix 4\n",
    "    ]\n",
    "}\n",
    "\n",
    "a4_subgroups = {\n",
    "    \"order\": 12,\n",
    "    \"copies\": 5,\n",
    "    \"generators\": [\n",
    "        [(0, 2, 1, 4, 3), (0, 3, 1, 2, 4)], # 1 fix 0\n",
    "        [(2, 1, 0, 4, 3), (0, 1, 4, 2, 3)], # 2 fix 1\n",
    "        [(1, 0, 2, 4, 3), (3, 0, 2, 1, 4)], # 3 fix 2\n",
    "        [(1, 0, 4, 3, 2), (2, 0, 1, 3, 4)], # 4 fix 3\n",
    "        [(1, 0, 3, 2, 4), (2, 0, 1, 3, 4)], # 5 fix 4\n",
    "\n",
    "    ]\n",
    "}\n",
    "\n",
    "def union(cosets):\n",
    "    if len(cosets) == 0:\n",
    "        return cosets\n",
    "    else:\n",
    "        return reduce(lambda x, y: set(x).union(set(y)), cosets)\n",
    "\n",
    "def get_cosets(subgroup):\n",
    "    S5 =  Permutation.full_group(5)\n",
    "    all_s5 = set([s.sigma for s in S5])\n",
    "    perms = [Permutation(s) for s in subgroup]\n",
    "    cosets = set()\n",
    "    while union(cosets) != all_s5:\n",
    "        left = S5.pop()\n",
    "        coset = tuple(sorted([(left * s).sigma for s in perms]))\n",
    "        cosets.add(coset)\n",
    "    return cosets\n",
    "\n",
    "\n",
    "\n",
    "def _coset_join(df1, df2):\n",
    "    return df1.join(df2, on='permutation', how='inner')\n",
    "\n",
    "\n",
    "def _coset_df(cosets, index, sg_name):\n",
    "    data = []\n",
    "    \n",
    "    for cos in cosets:\n",
    "        rep = str(cos[0])\n",
    "        data.extend([{'permutation': str(c), 'subgroup': f'{sg_name}_{index}', f'coset_rep': rep} for c in cos])\n",
    "    return pl.DataFrame(data)\n",
    "\n",
    "\n",
    "def get_left_cosets(subgroup, full_n):\n",
    "    Sn =  Permutation.full_group(full_n)\n",
    "    all_sn = set([s.sigma for s in Sn])\n",
    "    perms = [Permutation(s) for s in subgroup]\n",
    "    cosets = set()\n",
    "    while union(cosets) != all_sn:\n",
    "        left = Sn.pop()\n",
    "        coset = tuple(sorted([(left * s).sigma for s in perms]))\n",
    "        cosets.add(coset)\n",
    "    return cosets\n",
    "\n",
    "\n",
    "\n",
    "def get_right_cosets(subgroup, full_n):\n",
    "    Sn =  Permutation.full_group(full_n)\n",
    "    all_sn = set([s.sigma for s in Sn])\n",
    "    perms = [Permutation(s) for s in subgroup]\n",
    "    cosets = set()\n",
    "    while union(cosets) != all_sn:\n",
    "        right = Sn.pop()\n",
    "        coset = tuple(sorted([(s * right).sigma for s in perms]))\n",
    "        cosets.add(coset)\n",
    "    return cosets\n",
    "\n",
    "\n",
    "\n",
    "def make_left_coset_rep_df(subgroups, n, sg_name):\n",
    "    data = []\n",
    "    \n",
    "    for i, sg in enumerate(subgroups):\n",
    "        cosets = list(get_left_cosets(sg, n))\n",
    "        data.append(_coset_df(cosets, i, sg_name))\n",
    "    \n",
    "    return reduce(_coset_join, data)\n",
    "\n",
    "\n",
    "def make_right_coset_rep_df(subgroups, n, sg_name):\n",
    "    data = []\n",
    "    \n",
    "    for i, sg in enumerate(subgroups):\n",
    "        cosets = list(get_right_cosets(sg, n))\n",
    "        data.append(_coset_df(cosets, i, sg_name))\n",
    "    \n",
    "    return reduce(_coset_join, data)\n",
    "\n",
    "\n",
    "\n",
    "def make_right_full_coset_df(subgroups, n, sg_name):\n",
    "    data = []\n",
    "    for i, sg in enumerate(subgroups):\n",
    "        cosets = list(get_right_cosets(sg, n))\n",
    "        data.append(_coset_df(cosets, i, sg_name))\n",
    "    return pl.concat(data, how='vertical')\n",
    "\n",
    "\n",
    "def make_left_full_coset_df(subgroups, n, sg_name):\n",
    "    data = []\n",
    "    for i, sg in enumerate(subgroups):\n",
    "        cosets = list(get_left_cosets(sg, n))\n",
    "        data.append(_coset_df(cosets, i, sg_name))\n",
    "    return pl.concat(data, how='vertical')\n",
    "\n",
    "\n",
    "frobenius_groups = {\n",
    "    \"order\": 20,\n",
    "    \"copies\": 6,\n",
    "    \"generators\": [\n",
    "        [(0, 2, 3, 4, 1), (1, 2, 4, 0, 3)],\n",
    "        [(0, 2, 3, 4, 1), (1, 4, 3, 0, 2)],\n",
    "        [(0, 2, 4, 1, 3), (1, 2, 3, 4, 0)],\n",
    "        [(0, 2, 4, 1, 3), (1, 3, 4, 2, 0)],\n",
    "        [(0, 3, 4, 2, 1), (1, 3, 0, 4, 2)],\n",
    "        [(0, 3, 4, 2, 1), (1, 4, 0, 2, 3)]\n",
    "    ]\n",
    "    \n",
    "}\n"
   ]
  },
  {
   "cell_type": "code",
   "execution_count": 72,
   "id": "522b1d54-7589-4ca6-bf50-c8656d73b7fc",
   "metadata": {},
   "outputs": [],
   "source": [
    "\n",
    "def fourier_basis_to_df(tensor, n, layer):\n",
    "    group_order, num_irreps, fn_dim = tensor.shape\n",
    "    all_partitions = generate_partitions(n)\n",
    "    permutations = Permutation.full_group(n)\n",
    "    assert len(permutations) == group_order\n",
    "    assert len(all_partitions) == num_irreps\n",
    "    \n",
    "    long_values = tensor.reshape((-1, fn_dim))\n",
    "    group_col= []\n",
    "    for s in permutations:\n",
    "        group_col += [str(s.sigma)] * num_irreps\n",
    "    part_col = [str(p) for p in all_partitions] * group_order\n",
    "    assert len(group_col) == len(part_col) and len(group_col) == long_values.shape[0]\n",
    "    val_data = pl.DataFrame(long_values.detach().numpy(), schema=[f'dim{i}' for i in range(fn_dim)])\n",
    "    sn_metadata = pl.DataFrame({'layer': [layer] * len(group_col), 'permutation': group_col, 'irrep': part_col})\n",
    "    return pl.concat([sn_metadata, val_data], how='horizontal')\n",
    "\n",
    "\n",
    "def coset_analysis(data, coset_df):\n",
    "    base_df = (\n",
    "        data\n",
    "        .melt(id_vars=['layer', 'permutation', 'irrep'])\n",
    "        .groupby(['layer', 'permutation', 'variable'])\n",
    "        .agg(pl.col('value').sum())\n",
    "    )\n",
    "    summary_df = (\n",
    "        base_df\n",
    "        .groupby(['layer', 'variable'])\n",
    "        .agg([\n",
    "            pl.col('value').mean().alias('mean'),\n",
    "            pl.col('value').min().alias('min'),\n",
    "            pl.col('value').max().alias('max'),\n",
    "            pl.col('value').var().alias('full_var'),\n",
    "            (pl.col('value') ** 2).sum().alias('two_norm')\n",
    "        ])\n",
    "    )\n",
    "    \n",
    "    df = (\n",
    "        base_df\n",
    "        ##### Join against _all_ cosets, this is a many-to-1 join\n",
    "        .join(coset_df, on='permutation', how='inner')\n",
    "        .groupby(['layer', 'variable', 'subgroup', 'coset_rep'])\n",
    "        .agg([\n",
    "            # Get the average value and variance of the (per dim) activations over a single coset\n",
    "            # Small variance --> activations highly concentrated on the coset\n",
    "            pl.col('value').var().alias('coset_var'),\n",
    "            pl.col('value').mean().alias('coset_mean')\n",
    "        ])\n",
    "        .sort(['variable', 'subgroup', 'coset_rep'])\n",
    "        .groupby(['layer', 'variable', 'subgroup'], maintain_order=True)\n",
    "        # Sum all the variances of the cosets for one subgroup\n",
    "        .agg(pl.col('coset_var').sum().alias('coset_cond_var'))\n",
    "        # Sort ascending by coset variance\n",
    "        .sort(['variable', 'coset_cond_var'])\n",
    "        .groupby(['layer', 'variable'], maintain_order=True)\n",
    "        .agg([\n",
    "            # \n",
    "            pl.col('subgroup').first(),\n",
    "            pl.col('coset_cond_var').first().alias('min_coset_var'),\n",
    "            (pl.col('coset_cond_var').mean() - pl.col('coset_cond_var').first()).alias('sanity')\n",
    "        ])\n",
    "        .join(summary_df, on=['layer', 'variable'])\n",
    "        .sort('subgroup')\n",
    "    )\n",
    "    return df\n",
    "        \n",
    "        \n",
    "        \n",
    "\n",
    "def _make_one_coset_df(sg_def, n, name):\n",
    "        all_subgroups = [generate_subgroup(gen) for gen in sg_def['generators']]\n",
    "        right_coset_df = make_right_full_coset_df(all_subgroups, n, name)\n",
    "        left_coset_df = make_left_full_coset_df(all_subgroups, n, name)\n",
    "        return left_coset_df, right_coset_df\n",
    "        \n",
    "        \n",
    "\n",
    "def make_full_coset_df():\n",
    "        frob_groups = {\n",
    "            \"order\": 20,\n",
    "            \"copies\": 6,\n",
    "            \"generators\": [\n",
    "                [(0, 2, 3, 4, 1), (1, 2, 4, 0, 3)],\n",
    "                [(0, 2, 3, 4, 1), (1, 4, 3, 0, 2)],\n",
    "                [(0, 2, 4, 1, 3), (1, 2, 3, 4, 0)],\n",
    "                [(0, 2, 4, 1, 3), (1, 3, 4, 2, 0)],\n",
    "                [(0, 3, 4, 2, 1), (1, 3, 0, 4, 2)],\n",
    "                [(0, 3, 4, 2, 1), (1, 4, 0, 2, 3)]\n",
    "            ]\n",
    "        }\n",
    "        d8_subgroups = {\n",
    "            \"order\": 8,\n",
    "            \"copies\": 15,\n",
    "            \"generators\": [\n",
    "                [(0, 2, 3, 4, 1), (0, 1, 4, 3, 2)],\n",
    "                [(0, 2, 4, 1, 3), (0, 1, 3, 2, 4)],\n",
    "                [(0, 3, 4, 2, 1), (0, 1, 2, 4, 3)],\n",
    "                [(1, 2, 3, 0, 4), (0, 3, 2, 1, 4)],\n",
    "                [(1, 2, 4, 3, 0), (0, 4, 2, 3, 1)],\n",
    "                [(1, 3, 0, 2, 4), (0, 2, 1, 3, 4)],\n",
    "                [(1, 3, 2, 4, 0), (0, 4, 2, 3, 1)],\n",
    "                [(1, 4, 0, 3, 2), (0, 2, 1, 3, 4)],\n",
    "                [(1, 4, 2, 0, 3), (0, 3, 2, 1, 4)],\n",
    "                [(2, 1, 3, 4, 0), (0, 1, 4, 3, 2)],\n",
    "                [(2, 1, 4, 0, 3), (0, 1, 3, 2, 4)],\n",
    "                [(2, 3, 1, 0, 4), (0, 1, 3, 2, 4)],\n",
    "                [(2, 4, 1, 3, 0), (0, 1, 4, 3, 2)],\n",
    "                [(3, 1, 4, 2, 0), (0, 1, 2, 4, 3)],\n",
    "                [(3, 4, 2, 1, 0), (0, 1, 2, 4, 3)]\n",
    "            ]\n",
    "        }\n",
    "        d10_subgroups = {\n",
    "            \"order\": 10,\n",
    "            \"copies\": 6,\n",
    "            \"generators\": [\n",
    "                [(1, 2, 3, 4, 0), (0, 4, 3, 2, 1)],\n",
    "                [(1, 2, 4, 0, 3), (0, 3, 4, 1, 2)],\n",
    "                [(1, 3, 0, 4, 2), (0, 2, 1, 4, 3)],\n",
    "                [(1, 3, 4, 2, 0), (0, 4, 3, 2, 1)],\n",
    "                [(1, 4, 0, 2, 3), (0, 2, 1, 4, 3)],\n",
    "                [(1, 4, 3, 0, 2), (0, 3, 4, 1, 2)]\n",
    "            ]\n",
    "        }\n",
    "        s3xs2_subgroups = {\n",
    "            \"order\": 12,\n",
    "            \"copies\": 10,\n",
    "            \"generators\": [\n",
    "                [(0, 1, 3, 4, 2), (0, 1, 3, 2, 4), (1, 0, 2, 3, 4)], #1\n",
    "                [(0, 3, 2, 4, 1), (0, 1, 2, 4, 3), (2, 1, 0, 3, 4)], #2\n",
    "                [(0, 2, 4, 3, 1), (0, 2, 1, 3, 4), (3, 1, 2, 0, 4)], #3\n",
    "                [(0, 2, 3, 1, 4), (0, 2, 1, 3, 4), (4, 1, 2, 3, 0)], #4\n",
    "                [(3, 1, 2, 4, 0), (3, 1, 2, 0, 4), (0, 2, 1, 3, 4)], #5\n",
    "                [(2, 1, 4, 3, 0), (2, 1, 0, 3, 4), (0, 3, 2, 1, 4)], #6\n",
    "                [(2, 1, 3, 0, 4), (2, 1, 0, 3, 4), (0, 4, 2, 3, 1)], #7\n",
    "                [(1, 4, 2, 3, 0), (1, 0, 2, 3, 4), (0, 1, 3, 2, 4)], #8\n",
    "                [(1, 3, 2, 0, 4), (1, 0, 2, 3, 4), (0, 1, 4, 3, 2)], #9\n",
    "                [(1, 2, 0, 3, 4), (1, 0, 2, 3, 4), (0, 1, 2, 4, 3)], #10\n",
    "            ]\n",
    "\n",
    "        }\n",
    "        s4_subgroups = {\n",
    "            \"order\": 12,\n",
    "            \"copies\": 5,\n",
    "            \"generators\": [\n",
    "                [(0, 2, 3, 4, 1), (0, 2, 1, 3, 4)], #1 fix 0\n",
    "                [(2, 1, 3, 4, 0), (2, 1, 0, 3, 4)], #2 fix 1\n",
    "                [(1, 3, 2, 4, 0), (1, 0, 2, 3, 4)], #3 fix 2\n",
    "                [(1, 2, 4, 3, 0), (1, 0, 2, 3, 4)], #4 fix 3\n",
    "                [(1, 2, 3, 0, 4), (1, 0, 2, 3, 4)], #5 fix 4\n",
    "            ]\n",
    "        }\n",
    "\n",
    "        s3_subgroups = {\n",
    "            \"order\": 6,\n",
    "            \"copies\": 10,\n",
    "            \"generators\": [\n",
    "                [(0, 1, 3, 4, 2), (0, 1, 3, 2, 4)], #1  fix 0 1\n",
    "                [(0, 3, 2, 4, 1), (0, 1, 2, 4, 3)], #2  fix 0 2\n",
    "                [(0, 2, 4, 3, 1), (0, 2, 1, 3, 4)], #3  fix 0 3\n",
    "                [(0, 2, 3, 1, 4), (0, 2, 1, 3, 4)], #4  fix 0 4\n",
    "                [(3, 1, 2, 4, 0), (3, 1, 2, 0, 4)], #5  fix 1 2\n",
    "                [(2, 1, 4, 3, 0), (2, 1, 0, 3, 4)], #6  fix 1 3\n",
    "                [(2, 1, 3, 0, 4), (2, 1, 0, 3, 4)], #7  fix 1 4\n",
    "                [(1, 4, 2, 3, 0), (1, 0, 2, 3, 4)], #8  fix 2 3\n",
    "                [(1, 3, 2, 0, 4), (1, 0, 2, 3, 4)], #9  fix 2 4\n",
    "                [(1, 2, 0, 3, 4), (1, 0, 2, 3, 4)], #10 fix 3 4\n",
    "            ]\n",
    "        }\n",
    "        \n",
    "        twisted_s3_subgroups = {\n",
    "            \"order\": 6,\n",
    "            \"copies\": 10,\n",
    "            \"generators\": [\n",
    "                [(0, 1, 3, 4, 2), (1, 0, 2, 4, 3)],\n",
    "                [(0, 2, 3, 1, 4), (4, 1, 3, 2, 0)],\n",
    "                [(0, 2, 4, 3, 1), (3, 1, 4, 0, 2)],\n",
    "                [(0, 3, 2, 4, 1), (2, 1, 0, 4, 3)],\n",
    "                [(1, 2, 0, 3, 4), (0, 2, 1, 4, 3)],\n",
    "                [(1, 3, 2, 0, 4), (0, 3, 4, 1, 2)],\n",
    "                [(1, 4, 2, 3, 0), (0, 4, 3, 2, 1)],\n",
    "                [(2, 1, 3, 0, 4), (0, 4, 3, 2, 1)],\n",
    "                [(2, 1, 4, 3, 0), (0, 3, 4, 1, 2)],\n",
    "                [(3, 1, 2, 4, 0), (0, 2, 1, 4, 3)]\n",
    "            ]\n",
    "        }\n",
    "        a4_subgroups = {\n",
    "            \"order\": 12,\n",
    "            \"copies\": 5,\n",
    "            \"generators\": [\n",
    "                [(0, 2, 1, 4, 3), (0, 3, 1, 2, 4)], # 1 fix 0\n",
    "                [(2, 1, 0, 4, 3), (0, 1, 4, 2, 3)], # 2 fix 1\n",
    "                [(1, 0, 2, 4, 3), (3, 0, 2, 1, 4)], # 3 fix 2\n",
    "                [(1, 0, 4, 3, 2), (2, 0, 1, 3, 4)], # 4 fix 3\n",
    "                [(1, 0, 3, 2, 4), (2, 0, 1, 3, 4)], # 5 fix 4\n",
    "\n",
    "            ]\n",
    "        }\n",
    "        z5_subgroups = {\n",
    "            \"order\": 5,\n",
    "            \"copies\": 6,\n",
    "            \"generators\": [\n",
    "                [(1, 2, 4, 0, 3)],\n",
    "                [(1, 4, 3, 0, 2)],\n",
    "                [(1, 2, 3, 4, 0)],\n",
    "                [(1, 3, 4, 2, 0)],\n",
    "                [(1, 3, 0, 4, 2)],\n",
    "                [(1, 4, 0, 2, 3)]\n",
    "            ]\n",
    "        }\n",
    "        z6_subgroups = {\n",
    "            \"order\": 6,\n",
    "            \"copies\": 10,\n",
    "            \"generators\": [\n",
    "                [(0, 1, 3, 4, 2), (1, 0, 2, 3, 4)], #1  fix 0 1\n",
    "                [(0, 3, 2, 4, 1), (2, 1, 0, 3, 4)], #2  fix 0 2\n",
    "                [(0, 2, 4, 3, 1), (3, 1, 2, 0, 4)], #3  fix 0 3\n",
    "                [(0, 2, 3, 1, 4), (4, 1, 2, 3, 0)], #4  fix 0 4\n",
    "                [(3, 1, 2, 4, 0), (0, 2, 1, 3, 4)], #5  fix 1 2\n",
    "                [(2, 1, 4, 3, 0), (0, 3, 2, 1, 4)], #6  fix 1 3\n",
    "                [(2, 1, 3, 0, 4), (0, 4, 2, 3, 1)], #7  fix 1 4\n",
    "                [(1, 4, 2, 3, 0), (0, 1, 3, 2, 4)], #8  fix 2 3\n",
    "                [(1, 3, 2, 0, 4), (0, 1, 4, 3, 2)], #9  fix 2 4\n",
    "                [(1, 2, 0, 3, 4), (0, 1, 2, 4, 3)], #10 fix 3 4\n",
    "            ]\n",
    "        }\n",
    "        a5_subgroups = {\n",
    "            \"order\": 60,\n",
    "            \"copies\": 1,\n",
    "            \"generators\": [[(4, 0, 1, 2, 3), (2, 0, 1, 3, 4)]]\n",
    "        }\n",
    "        \n",
    "        left_a5_df, right_a5_df = _make_one_coset_df(a5_subgroups, 5, 'a5')\n",
    "        left_z6_df, right_z6_df = _make_one_coset_df(z6_subgroups, 5, 'z6')\n",
    "        left_z5_df, right_z5_df = _make_one_coset_df(z5_subgroups, 5, 'z5')\n",
    "        left_a4_df, right_a4_df = _make_one_coset_df(a4_subgroups, 5, 'a4')\n",
    "        left_s4_df, right_s4_df = _make_one_coset_df(s4_subgroups, 5, 's4')\n",
    "        left_s3_df, right_s3_df = _make_one_coset_df(s3_subgroups, 5, 's3')\n",
    "        left_frob_df, right_frob_df = _make_one_coset_df(frob_groups, 5, 'frob20')\n",
    "        left_s3xs2_df, right_s3xs2_df = _make_one_coset_df(s3xs2_subgroups, 5, 's3xs2')\n",
    "        left_d8_df, right_d8_df = _make_one_coset_df(s3xs2_subgroups, 5, 'd8')\n",
    "        left_d10_df, right_d10_df = _make_one_coset_df(s3xs2_subgroups, 5, 'd10')\n",
    "        left_twisteds3_df, right_twisteds3_df = _make_one_coset_df(twisted_s3_subgroups, 5, 'twisteds3')\n",
    "        \n",
    "        \n",
    "        left_df = pl.concat([\n",
    "            left_a5_df, left_z6_df, left_z5_df, left_a4_df, left_s4_df,\n",
    "            left_s3_df, left_frob_df, left_s3xs2_df, left_d8_df, left_d10_df,\n",
    "            left_twisteds3_df\n",
    "        ])\n",
    "        right_df = pl.concat([\n",
    "            right_a5_df, right_z6_df, right_z5_df, right_a4_df, right_s4_df, \n",
    "            right_s3_df, right_frob_df, right_s3xs2_df, right_d8_df, right_d10_df,\n",
    "            right_twisteds3_df\n",
    "        ])\n",
    "        \n",
    "        return left_df, right_df\n",
    "                \n",
    "\n",
    "\n",
    "def transpose_power_df(data):\n",
    "    irreps = data['irrep'].to_list()\n",
    "    return (\n",
    "        data\n",
    "        .select(pl.exclude('irrep'))\n",
    "        .transpose(\n",
    "            include_header=True,\n",
    "            header_name='variable', \n",
    "            column_names=irreps)\n",
    "    )\n",
    "\n",
    "\n",
    "def fp_sort_key(fp):\n",
    "    last_part = fp.parts[-1].strip('.pth')\n",
    "    if last_part == 'full_run':\n",
    "        return 2 ** 10000\n",
    "    else:\n",
    "        return int(last_part)\n",
    "    \n",
    "    \n",
    "def _analysis(model, perms, full_left_coset_df, full_right_coset_df):\n",
    "    lperms, rperms, targets = perms\n",
    "    \n",
    "    logits, cache = model.run_with_cache(lperms, rperms)\n",
    "    \n",
    "    original_loss = loss_fn(logits, targets).mean()\n",
    "    \n",
    "    linear_acts = cache['hook_linear']\n",
    "    S5 = Symmetric(5)\n",
    "    \n",
    "    config = model_run['config']\n",
    "    embed_dim = config['embed_dim']\n",
    "    W = model.linear.weight\n",
    "\n",
    "    lpower_df, llinear_ft = calc_power_contributions(model.lembed.weight @ W[:, :embed_dim].T, 5)\n",
    "    rpower_df, rlinear_ft = calc_power_contributions(model.rembed.weight @ W[:, embed_dim:].T, 5)\n",
    "    #unembed_power_df, unembed_ft = calc_power_contributions(model.unembed.weight, 5)\n",
    "    \n",
    "        \n",
    "    lpower_df = transpose_power_df(lpower_df)\n",
    "    rpower_df = transpose_power_df(rpower_df)\n",
    "    #unembed_power_df = transpose_power_df(unembed_power_df)\n",
    "    \n",
    "    num_rows = lpower_df.shape[0]\n",
    "    \n",
    "    lpower_df.insert_at_idx(0, pl.Series('layer', ['left_linear'] * num_rows))\n",
    "    rpower_df.insert_at_idx(0, pl.Series('layer', ['right_linear'] * num_rows))\n",
    "    power_df = pl.concat([lpower_df, rpower_df], how='vertical')\n",
    "    \n",
    "    llinear_decomp = sn_fourier_basis(llinear_ft, S5)\n",
    "    rlinear_decomp = sn_fourier_basis(rlinear_ft, S5)\n",
    "    \n",
    "    llinear_df = fourier_basis_to_df(llinear_decomp, 5, 'left_linear')\n",
    "    rlinear_df = fourier_basis_to_df(rlinear_decomp, 5, 'right_linear')\n",
    "    \n",
    "    full_left_coset_df, full_right_coset_df = make_full_coset_df()\n",
    "\n",
    "    left_perm_coset_df = coset_analysis(llinear_df, full_right_coset_df)\n",
    "    right_perm_coset_df = coset_analysis(rlinear_df, full_left_coset_df)\n",
    "\n",
    "    left_perm_coset_df = (\n",
    "        left_perm_coset_df\n",
    "        .select(pl.exclude(['sanity']))\n",
    "        .with_columns(\n",
    "            coset_var_ratio = (pl.col('min_coset_var') / pl.col('full_var')),\n",
    "            subgroup_class = pl.col('subgroup').str.split(by='_').list.get(0)\n",
    "        )\n",
    "    )\n",
    "        \n",
    "\n",
    "    right_perm_coset_df = (\n",
    "        right_perm_coset_df\n",
    "        .select(pl.exclude(['sanity']))\n",
    "        .with_columns(\n",
    "            coset_var_ratio = (pl.col('min_coset_var') / pl.col('full_var')),\n",
    "            subgroup_class = pl.col('subgroup').str.split(by='_').list.get(0)\n",
    "        )\n",
    "    )\n",
    "    \n",
    "    left_right_df = pl.concat([left_perm_coset_df, right_perm_coset_df])\n",
    "    \n",
    "    left_perm_coset_df = left_perm_coset_df.rename({\n",
    "        'subgroup': 'left_subgroup',\n",
    "        'mean': 'left_mean_preactivation',\n",
    "        'max': 'left_max_preactivation',\n",
    "        'full_var': 'left_full_var',\n",
    "        'two_norm': 'left_two_norm',\n",
    "        'min_coset_var': 'left_min_coset_var',\n",
    "        'coset_var_ratio': 'left_coset_var_ratio',\n",
    "        'subgroup_class': 'left_subgroup_class'\n",
    "        \n",
    "    })\n",
    "    \n",
    "    \n",
    "    right_perm_coset_df = right_perm_coset_df.rename({\n",
    "        'subgroup': 'right_subgroup',\n",
    "        'mean': 'right_mean_preactivation',\n",
    "        'max': 'right_max_preactivation',\n",
    "        'full_var': 'right_full_var',\n",
    "        'two_norm': 'right_two_norm',\n",
    "        'min_coset_var': 'right_min_coset_var',\n",
    "        'coset_var_ratio': 'right_coset_var_ratio',\n",
    "        'subgroup_class': 'right_subgroup_class'\n",
    "    })\n",
    "    \n",
    "    linear_coset_df = (\n",
    "        left_perm_coset_df\n",
    "        .join(right_perm_coset_df, on='variable', how='inner')\n",
    "        .with_columns([\n",
    "            ('(' + pl.col('left_subgroup') + ', ' + pl.col('right_subgroup') + ')').alias('subgroup_pair'),\n",
    "            ((pl.col('left_min_coset_var') + pl.col('right_min_coset_var'))/ 2).alias('coset_var'),\n",
    "            ((pl.col('left_coset_var_ratio') + pl.col('right_coset_var_ratio'))/ 2).alias('coset_var_ratio'),\n",
    "            ((pl.col('left_two_norm') + pl.col('right_two_norm'))/ 2).alias('two_norm'),\n",
    "            (\n",
    "                pl.when(pl.col('left_subgroup_class') == pl.col('right_subgroup_class'))\n",
    "                .then(pl.col('left_subgroup_class'))\n",
    "                .otherwise(pl.lit('mixed'))\n",
    "            ).alias('subgroup_class')\n",
    "        ]).sort('subgroup_pair')\n",
    "    )\n",
    "    return linear_coset_df, left_right_df\n",
    "    \n",
    "\n",
    "def model_cosets(model_seed):\n",
    "    ckpt_dir = Path('/Users/dashiell/workspace/sn-grok/s5_40_small')\n",
    "    run_name = f's5_40_{model_seed}'\n",
    "\n",
    "    #whole_config = Config().from_disk('configs/s5_lr_5.toml')\n",
    "    run_dir = ckpt_dir / run_name\n",
    "    full_run = torch.load(run_dir / 'full_run.pth', map_location=torch.device('cpu'))\n",
    "    run_data = pl.read_parquet(run_dir / f'data.parquet')\n",
    "    lperms = torch.as_tensor(run_data.select('index_left').to_numpy(), dtype=torch.int64).squeeze()\n",
    "    rperms = torch.as_tensor(run_data.select('index_right').to_numpy(), dtype=torch.int64).squeeze()\n",
    "    targets = torch.as_tensor(run_data.select('index_target').to_numpy(), dtype=torch.int64).squeeze()\n",
    "    \n",
    "    full_left_coset_df, full_right_coset_df = make_full_coset_df()\n",
    "    \n",
    "    #checkpoint_epochs = full_run['checkpoint_epochs'] + [249999]\n",
    "    #checkpoint_paths = sorted([fp for fp in run_dir.glob('*.pth')], key=fp_sort_key)\n",
    "    \n",
    "\n",
    "    \n",
    "    #for epoch, ckpt_fp in zip(checkpoint_epochs, checkpoint_paths):\n",
    "    model = SnMLP.from_config(full_run['config'])\n",
    "    model.load_state_dict(full_run['model'])\n",
    "    _analysis(model, (lperms, rperms, targets), full_left_coset_df, full_right_coset_df)       \n",
    "    return _analysis(model, (lperms, rperms, targets), full_left_coset_df, full_right_coset_df)"
   ]
  },
  {
   "cell_type": "code",
   "execution_count": 73,
   "id": "849f60e6-ffdf-4fb8-8d01-f95c94741e8e",
   "metadata": {
    "tags": []
   },
   "outputs": [],
   "source": [
    "from sngrok.groups import generate_subgroup, Symmetric\n",
    "\n",
    "\n",
    "linear_coset_df, lr_df = model_cosets(0)"
   ]
  },
  {
   "cell_type": "code",
   "execution_count": 74,
   "id": "10511809-7aab-498c-80b2-4d4e67f3e723",
   "metadata": {
    "tags": []
   },
   "outputs": [
    {
     "data": {
      "text/html": [
       "<div><style>\n",
       ".dataframe > thead > tr > th,\n",
       ".dataframe > tbody > tr > td {\n",
       "  text-align: right;\n",
       "}\n",
       "</style>\n",
       "<small>shape: (5, 26)</small><table border=\"1\" class=\"dataframe\"><thead><tr><th>layer</th><th>variable</th><th>left_subgroup</th><th>left_min_coset_var</th><th>left_mean_preactivation</th><th>min</th><th>left_max_preactivation</th><th>left_full_var</th><th>left_two_norm</th><th>left_coset_var_ratio</th><th>left_subgroup_class</th><th>layer_right</th><th>right_subgroup</th><th>right_min_coset_var</th><th>right_mean_preactivation</th><th>min_right</th><th>right_max_preactivation</th><th>right_full_var</th><th>right_two_norm</th><th>right_coset_var_ratio</th><th>right_subgroup_class</th><th>subgroup_pair</th><th>coset_var</th><th>coset_var_ratio</th><th>two_norm</th><th>subgroup_class</th></tr><tr><td>str</td><td>str</td><td>str</td><td>f32</td><td>f32</td><td>f32</td><td>f32</td><td>f32</td><td>f32</td><td>f32</td><td>str</td><td>str</td><td>str</td><td>f32</td><td>f32</td><td>f32</td><td>f32</td><td>f32</td><td>f32</td><td>f32</td><td>str</td><td>str</td><td>f32</td><td>f32</td><td>f32</td><td>str</td></tr></thead><tbody><tr><td>&quot;left_linear&quot;</td><td>&quot;dim12&quot;</td><td>&quot;a4_0&quot;</td><td>2.3787e-8</td><td>0.000001</td><td>-0.624274</td><td>0.624125</td><td>0.130133</td><td>15.485816</td><td>1.8279e-7</td><td>&quot;a4&quot;</td><td>&quot;right_linear&quot;</td><td>&quot;a4_0&quot;</td><td>2.0304e-8</td><td>0.000007</td><td>-0.624069</td><td>0.624243</td><td>0.130117</td><td>15.483948</td><td>1.5604e-7</td><td>&quot;a4&quot;</td><td>&quot;(a4_0, a4_0)&quot;</td><td>2.2045e-8</td><td>1.6942e-7</td><td>15.484882</td><td>&quot;a4&quot;</td></tr><tr><td>&quot;left_linear&quot;</td><td>&quot;dim26&quot;</td><td>&quot;a4_0&quot;</td><td>0.0</td><td>1.9257e-30</td><td>-4.3385e-25</td><td>4.3385e-25</td><td>0.0</td><td>0.0</td><td>NaN</td><td>&quot;a4&quot;</td><td>&quot;right_linear&quot;</td><td>&quot;a4_0&quot;</td><td>0.0</td><td>-1.2019e-30</td><td>-4.3387e-25</td><td>4.3392e-25</td><td>0.0</td><td>0.0</td><td>NaN</td><td>&quot;a4&quot;</td><td>&quot;(a4_0, a4_0)&quot;</td><td>0.0</td><td>NaN</td><td>0.0</td><td>&quot;a4&quot;</td></tr><tr><td>&quot;left_linear&quot;</td><td>&quot;dim118&quot;</td><td>&quot;a4_0&quot;</td><td>0.0</td><td>6.6226e-29</td><td>-1.8954e-23</td><td>1.8955e-23</td><td>0.0</td><td>0.0</td><td>NaN</td><td>&quot;a4&quot;</td><td>&quot;right_linear&quot;</td><td>&quot;a4_0&quot;</td><td>0.0</td><td>7.8515e-29</td><td>-1.8960e-23</td><td>1.8959e-23</td><td>0.0</td><td>0.0</td><td>NaN</td><td>&quot;a4&quot;</td><td>&quot;(a4_0, a4_0)&quot;</td><td>0.0</td><td>NaN</td><td>0.0</td><td>&quot;a4&quot;</td></tr><tr><td>&quot;left_linear&quot;</td><td>&quot;dim56&quot;</td><td>&quot;a4_0&quot;</td><td>0.0</td><td>-9.6996e-40</td><td>-5.0388e-35</td><td>5.1889e-35</td><td>0.0</td><td>0.0</td><td>NaN</td><td>&quot;a4&quot;</td><td>&quot;right_linear&quot;</td><td>&quot;a4_0&quot;</td><td>0.0</td><td>-2.3160e-39</td><td>-6.1462e-35</td><td>6.0019e-35</td><td>0.0</td><td>0.0</td><td>NaN</td><td>&quot;a4&quot;</td><td>&quot;(a4_0, a4_0)&quot;</td><td>0.0</td><td>NaN</td><td>0.0</td><td>&quot;a4&quot;</td></tr><tr><td>&quot;left_linear&quot;</td><td>&quot;dim41&quot;</td><td>&quot;a5_0&quot;</td><td>1.1563e-7</td><td>-0.000002</td><td>-2.095427</td><td>2.095383</td><td>4.425695</td><td>526.657715</td><td>2.6126e-8</td><td>&quot;a5&quot;</td><td>&quot;right_linear&quot;</td><td>&quot;a5_0&quot;</td><td>4.4907e-8</td><td>0.000011</td><td>-2.095262</td><td>2.095039</td><td>4.42496</td><td>526.570312</td><td>1.0149e-8</td><td>&quot;a5&quot;</td><td>&quot;(a5_0, a5_0)&quot;</td><td>8.0267e-8</td><td>1.8137e-8</td><td>526.614014</td><td>&quot;a5&quot;</td></tr></tbody></table></div>"
      ],
      "text/plain": [
       "shape: (5, 26)\n",
       "┌───────────┬──────────┬───────────┬───────────┬───┬───────────┬───────────┬───────────┬───────────┐\n",
       "│ layer     ┆ variable ┆ left_subg ┆ left_min_ ┆ … ┆ coset_var ┆ coset_var ┆ two_norm  ┆ subgroup_ │\n",
       "│ ---       ┆ ---      ┆ roup      ┆ coset_var ┆   ┆ ---       ┆ _ratio    ┆ ---       ┆ class     │\n",
       "│ str       ┆ str      ┆ ---       ┆ ---       ┆   ┆ f32       ┆ ---       ┆ f32       ┆ ---       │\n",
       "│           ┆          ┆ str       ┆ f32       ┆   ┆           ┆ f32       ┆           ┆ str       │\n",
       "╞═══════════╪══════════╪═══════════╪═══════════╪═══╪═══════════╪═══════════╪═══════════╪═══════════╡\n",
       "│ left_line ┆ dim12    ┆ a4_0      ┆ 2.3787e-8 ┆ … ┆ 2.2045e-8 ┆ 1.6942e-7 ┆ 15.484882 ┆ a4        │\n",
       "│ ar        ┆          ┆           ┆           ┆   ┆           ┆           ┆           ┆           │\n",
       "│ left_line ┆ dim26    ┆ a4_0      ┆ 0.0       ┆ … ┆ 0.0       ┆ NaN       ┆ 0.0       ┆ a4        │\n",
       "│ ar        ┆          ┆           ┆           ┆   ┆           ┆           ┆           ┆           │\n",
       "│ left_line ┆ dim118   ┆ a4_0      ┆ 0.0       ┆ … ┆ 0.0       ┆ NaN       ┆ 0.0       ┆ a4        │\n",
       "│ ar        ┆          ┆           ┆           ┆   ┆           ┆           ┆           ┆           │\n",
       "│ left_line ┆ dim56    ┆ a4_0      ┆ 0.0       ┆ … ┆ 0.0       ┆ NaN       ┆ 0.0       ┆ a4        │\n",
       "│ ar        ┆          ┆           ┆           ┆   ┆           ┆           ┆           ┆           │\n",
       "│ left_line ┆ dim41    ┆ a5_0      ┆ 1.1563e-7 ┆ … ┆ 8.0267e-8 ┆ 1.8137e-8 ┆ 526.61401 ┆ a5        │\n",
       "│ ar        ┆          ┆           ┆           ┆   ┆           ┆           ┆ 4         ┆           │\n",
       "└───────────┴──────────┴───────────┴───────────┴───┴───────────┴───────────┴───────────┴───────────┘"
      ]
     },
     "execution_count": 74,
     "metadata": {},
     "output_type": "execute_result"
    }
   ],
   "source": [
    "linear_coset_df.head()"
   ]
  },
  {
   "cell_type": "code",
   "execution_count": 67,
   "id": "af512e11-b070-4dbb-b06a-8a4ab51bdbfc",
   "metadata": {
    "tags": []
   },
   "outputs": [
    {
     "data": {
      "text/html": [
       "<div><style>\n",
       ".dataframe > thead > tr > th,\n",
       ".dataframe > tbody > tr > td {\n",
       "  text-align: right;\n",
       "}\n",
       "</style>\n",
       "<small>shape: (206, 11)</small><table border=\"1\" class=\"dataframe\"><thead><tr><th>layer</th><th>variable</th><th>subgroup</th><th>min_coset_var</th><th>mean</th><th>min</th><th>max</th><th>full_var</th><th>two_norm</th><th>coset_var_ratio</th><th>subgroup_class</th></tr><tr><td>str</td><td>str</td><td>str</td><td>f32</td><td>f32</td><td>f32</td><td>f32</td><td>f32</td><td>f32</td><td>f32</td><td>str</td></tr></thead><tbody><tr><td>&quot;left_linear&quot;</td><td>&quot;dim44&quot;</td><td>&quot;a5_0&quot;</td><td>1.3096e-7</td><td>-0.000002</td><td>-2.096127</td><td>2.096031</td><td>4.428467</td><td>526.987488</td><td>2.9573e-8</td><td>&quot;a5&quot;</td></tr><tr><td>&quot;left_linear&quot;</td><td>&quot;dim98&quot;</td><td>&quot;a5_0&quot;</td><td>1.4113e-7</td><td>0.000003</td><td>-2.349113</td><td>2.349199</td><td>5.562597</td><td>661.949158</td><td>2.5370e-8</td><td>&quot;a5&quot;</td></tr><tr><td>&quot;left_linear&quot;</td><td>&quot;dim114&quot;</td><td>&quot;a5_0&quot;</td><td>1.3921e-7</td><td>0.000004</td><td>-2.350034</td><td>2.350078</td><td>5.566896</td><td>662.46051</td><td>2.5007e-8</td><td>&quot;a5&quot;</td></tr><tr><td>&quot;left_linear&quot;</td><td>&quot;dim5&quot;</td><td>&quot;a5_0&quot;</td><td>1.3695e-7</td><td>-0.000004</td><td>-2.627635</td><td>2.627644</td><td>6.959851</td><td>828.222107</td><td>1.9677e-8</td><td>&quot;a5&quot;</td></tr><tr><td>&quot;left_linear&quot;</td><td>&quot;dim7&quot;</td><td>&quot;a5_0&quot;</td><td>1.3324e-7</td><td>0.000004</td><td>-2.627504</td><td>2.627573</td><td>6.959307</td><td>828.157349</td><td>1.9146e-8</td><td>&quot;a5&quot;</td></tr><tr><td>&quot;left_linear&quot;</td><td>&quot;dim112&quot;</td><td>&quot;a5_0&quot;</td><td>1.2928e-7</td><td>0.000003</td><td>-2.349576</td><td>2.349646</td><td>5.564887</td><td>662.221436</td><td>2.3231e-8</td><td>&quot;a5&quot;</td></tr><tr><td>&quot;left_linear&quot;</td><td>&quot;dim41&quot;</td><td>&quot;a5_0&quot;</td><td>1.1563e-7</td><td>-0.000002</td><td>-2.095427</td><td>2.095383</td><td>4.425695</td><td>526.657593</td><td>2.6126e-8</td><td>&quot;a5&quot;</td></tr><tr><td>&quot;left_linear&quot;</td><td>&quot;dim110&quot;</td><td>&quot;a5_0&quot;</td><td>1.4065e-7</td><td>-0.000002</td><td>-2.096158</td><td>2.096125</td><td>4.428392</td><td>526.978638</td><td>3.1761e-8</td><td>&quot;a5&quot;</td></tr><tr><td>&quot;left_linear&quot;</td><td>&quot;dim107&quot;</td><td>&quot;a5_0&quot;</td><td>1.4498e-7</td><td>-0.000002</td><td>-2.09643</td><td>2.096417</td><td>4.429451</td><td>527.104553</td><td>3.2731e-8</td><td>&quot;a5&quot;</td></tr><tr><td>&quot;left_linear&quot;</td><td>&quot;dim122&quot;</td><td>&quot;a5_0&quot;</td><td>1.2813e-7</td><td>0.000003</td><td>-2.34837</td><td>2.348415</td><td>5.559055</td><td>661.527344</td><td>2.3049e-8</td><td>&quot;a5&quot;</td></tr><tr><td>&quot;left_linear&quot;</td><td>&quot;dim102&quot;</td><td>&quot;a5_0&quot;</td><td>1.3094e-7</td><td>-0.000002</td><td>-2.096374</td><td>2.096307</td><td>4.429522</td><td>527.113098</td><td>2.9560e-8</td><td>&quot;a5&quot;</td></tr><tr><td>&quot;left_linear&quot;</td><td>&quot;dim68&quot;</td><td>&quot;d10_1&quot;</td><td>7.7070e-7</td><td>0.000003</td><td>-2.213174</td><td>2.212961</td><td>1.651309</td><td>196.505707</td><td>4.6672e-7</td><td>&quot;d10&quot;</td></tr><tr><td>&hellip;</td><td>&hellip;</td><td>&hellip;</td><td>&hellip;</td><td>&hellip;</td><td>&hellip;</td><td>&hellip;</td><td>&hellip;</td><td>&hellip;</td><td>&hellip;</td><td>&hellip;</td></tr><tr><td>&quot;right_linear&quot;</td><td>&quot;dim6&quot;</td><td>&quot;s4_4&quot;</td><td>6.1074e-7</td><td>0.000061</td><td>-4.633555</td><td>4.635052</td><td>10.72682</td><td>1276.491821</td><td>5.6936e-8</td><td>&quot;s4&quot;</td></tr><tr><td>&quot;right_linear&quot;</td><td>&quot;dim88&quot;</td><td>&quot;s4_4&quot;</td><td>0.000001</td><td>0.000134</td><td>-7.288352</td><td>7.290944</td><td>26.541552</td><td>3158.444092</td><td>5.2885e-8</td><td>&quot;s4&quot;</td></tr><tr><td>&quot;right_linear&quot;</td><td>&quot;dim116&quot;</td><td>&quot;s4_4&quot;</td><td>5.9555e-7</td><td>0.000058</td><td>-4.470605</td><td>4.472194</td><td>9.985797</td><td>1188.310181</td><td>5.9640e-8</td><td>&quot;s4&quot;</td></tr><tr><td>&quot;right_linear&quot;</td><td>&quot;dim10&quot;</td><td>&quot;s4_4&quot;</td><td>0.000001</td><td>0.000124</td><td>-7.060946</td><td>7.063405</td><td>24.909107</td><td>2964.183594</td><td>5.1565e-8</td><td>&quot;s4&quot;</td></tr><tr><td>&quot;right_linear&quot;</td><td>&quot;dim53&quot;</td><td>&quot;s4_4&quot;</td><td>9.3184e-7</td><td>-0.000075</td><td>-5.182992</td><td>5.181291</td><td>13.412284</td><td>1596.061401</td><td>6.9476e-8</td><td>&quot;s4&quot;</td></tr><tr><td>&quot;right_linear&quot;</td><td>&quot;dim18&quot;</td><td>&quot;s4_4&quot;</td><td>4.7789e-7</td><td>0.000061</td><td>-4.636144</td><td>4.637691</td><td>10.738824</td><td>1277.9198</td><td>4.4501e-8</td><td>&quot;s4&quot;</td></tr><tr><td>&quot;right_linear&quot;</td><td>&quot;dim39&quot;</td><td>&quot;s4_4&quot;</td><td>8.0785e-7</td><td>-0.000075</td><td>-5.18513</td><td>5.183454</td><td>13.423698</td><td>1597.420044</td><td>6.0181e-8</td><td>&quot;s4&quot;</td></tr><tr><td>&quot;right_linear&quot;</td><td>&quot;dim76&quot;</td><td>&quot;s4_4&quot;</td><td>6.1978e-7</td><td>0.000061</td><td>-4.631968</td><td>4.633617</td><td>10.719611</td><td>1275.633911</td><td>5.7817e-8</td><td>&quot;s4&quot;</td></tr><tr><td>&quot;right_linear&quot;</td><td>&quot;dim65&quot;</td><td>&quot;s4_4&quot;</td><td>6.1897e-7</td><td>0.000059</td><td>-4.464822</td><td>4.46654</td><td>9.960459</td><td>1185.294678</td><td>6.2142e-8</td><td>&quot;s4&quot;</td></tr><tr><td>&quot;right_linear&quot;</td><td>&quot;dim54&quot;</td><td>&quot;s4_4&quot;</td><td>0.000001</td><td>-0.00013</td><td>-7.166126</td><td>7.16352</td><td>25.640629</td><td>3051.234863</td><td>4.6687e-8</td><td>&quot;s4&quot;</td></tr><tr><td>&quot;right_linear&quot;</td><td>&quot;dim78&quot;</td><td>&quot;s4_4&quot;</td><td>5.5209e-7</td><td>0.000059</td><td>-4.467802</td><td>4.469514</td><td>9.973792</td><td>1186.881226</td><td>5.5354e-8</td><td>&quot;s4&quot;</td></tr><tr><td>&quot;right_linear&quot;</td><td>&quot;dim91&quot;</td><td>&quot;s4_4&quot;</td><td>0.000002</td><td>-0.000104</td><td>-6.33249</td><td>6.330404</td><td>20.020447</td><td>2382.433594</td><td>7.6268e-8</td><td>&quot;s4&quot;</td></tr></tbody></table></div>"
      ],
      "text/plain": [
       "shape: (206, 11)\n",
       "┌────────────┬──────────┬──────────┬───────────┬───┬───────────┬───────────┬───────────┬───────────┐\n",
       "│ layer      ┆ variable ┆ subgroup ┆ min_coset ┆ … ┆ full_var  ┆ two_norm  ┆ coset_var ┆ subgroup_ │\n",
       "│ ---        ┆ ---      ┆ ---      ┆ _var      ┆   ┆ ---       ┆ ---       ┆ _ratio    ┆ class     │\n",
       "│ str        ┆ str      ┆ str      ┆ ---       ┆   ┆ f32       ┆ f32       ┆ ---       ┆ ---       │\n",
       "│            ┆          ┆          ┆ f32       ┆   ┆           ┆           ┆ f32       ┆ str       │\n",
       "╞════════════╪══════════╪══════════╪═══════════╪═══╪═══════════╪═══════════╪═══════════╪═══════════╡\n",
       "│ left_linea ┆ dim44    ┆ a5_0     ┆ 1.3096e-7 ┆ … ┆ 4.428467  ┆ 526.98748 ┆ 2.9573e-8 ┆ a5        │\n",
       "│ r          ┆          ┆          ┆           ┆   ┆           ┆ 8         ┆           ┆           │\n",
       "│ left_linea ┆ dim98    ┆ a5_0     ┆ 1.4113e-7 ┆ … ┆ 5.562597  ┆ 661.94915 ┆ 2.5370e-8 ┆ a5        │\n",
       "│ r          ┆          ┆          ┆           ┆   ┆           ┆ 8         ┆           ┆           │\n",
       "│ left_linea ┆ dim114   ┆ a5_0     ┆ 1.3921e-7 ┆ … ┆ 5.566896  ┆ 662.46051 ┆ 2.5007e-8 ┆ a5        │\n",
       "│ r          ┆          ┆          ┆           ┆   ┆           ┆           ┆           ┆           │\n",
       "│ left_linea ┆ dim5     ┆ a5_0     ┆ 1.3695e-7 ┆ … ┆ 6.959851  ┆ 828.22210 ┆ 1.9677e-8 ┆ a5        │\n",
       "│ r          ┆          ┆          ┆           ┆   ┆           ┆ 7         ┆           ┆           │\n",
       "│ …          ┆ …        ┆ …        ┆ …         ┆ … ┆ …         ┆ …         ┆ …         ┆ …         │\n",
       "│ right_line ┆ dim65    ┆ s4_4     ┆ 6.1897e-7 ┆ … ┆ 9.960459  ┆ 1185.2946 ┆ 6.2142e-8 ┆ s4        │\n",
       "│ ar         ┆          ┆          ┆           ┆   ┆           ┆ 78        ┆           ┆           │\n",
       "│ right_line ┆ dim54    ┆ s4_4     ┆ 0.000001  ┆ … ┆ 25.640629 ┆ 3051.2348 ┆ 4.6687e-8 ┆ s4        │\n",
       "│ ar         ┆          ┆          ┆           ┆   ┆           ┆ 63        ┆           ┆           │\n",
       "│ right_line ┆ dim78    ┆ s4_4     ┆ 5.5209e-7 ┆ … ┆ 9.973792  ┆ 1186.8812 ┆ 5.5354e-8 ┆ s4        │\n",
       "│ ar         ┆          ┆          ┆           ┆   ┆           ┆ 26        ┆           ┆           │\n",
       "│ right_line ┆ dim91    ┆ s4_4     ┆ 0.000002  ┆ … ┆ 20.020447 ┆ 2382.4335 ┆ 7.6268e-8 ┆ s4        │\n",
       "│ ar         ┆          ┆          ┆           ┆   ┆           ┆ 94        ┆           ┆           │\n",
       "└────────────┴──────────┴──────────┴───────────┴───┴───────────┴───────────┴───────────┴───────────┘"
      ]
     },
     "execution_count": 67,
     "metadata": {},
     "output_type": "execute_result"
    }
   ],
   "source": [
    "lr_df.filter(pl.col('max') > 2).sort(['layer', 'subgroup_class'])"
   ]
  },
  {
   "cell_type": "code",
   "execution_count": 69,
   "id": "41744422-beda-4fae-9ffd-ea39a6e3ae84",
   "metadata": {
    "tags": []
   },
   "outputs": [
    {
     "data": {
      "text/html": [
       "<div><style>\n",
       ".dataframe > thead > tr > th,\n",
       ".dataframe > tbody > tr > td {\n",
       "  text-align: right;\n",
       "}\n",
       "</style>\n",
       "<small>shape: (20, 11)</small><table border=\"1\" class=\"dataframe\"><thead><tr><th>layer</th><th>variable</th><th>subgroup</th><th>min_coset_var</th><th>mean</th><th>min</th><th>max</th><th>full_var</th><th>two_norm</th><th>coset_var_ratio</th><th>subgroup_class</th></tr><tr><td>str</td><td>str</td><td>str</td><td>f32</td><td>f32</td><td>f32</td><td>f32</td><td>f32</td><td>f32</td><td>f32</td><td>str</td></tr></thead><tbody><tr><td>&quot;left_linear&quot;</td><td>&quot;dim123&quot;</td><td>&quot;s4_4&quot;</td><td>7.0346e-7</td><td>0.000137</td><td>-4.948169</td><td>4.950406</td><td>12.231626</td><td>1455.563477</td><td>5.7512e-8</td><td>&quot;s4&quot;</td></tr><tr><td>&quot;left_linear&quot;</td><td>&quot;dim1&quot;</td><td>&quot;s4_4&quot;</td><td>7.6305e-7</td><td>0.000136</td><td>-4.880073</td><td>4.882037</td><td>11.897548</td><td>1415.80835</td><td>6.4135e-8</td><td>&quot;s4&quot;</td></tr><tr><td>&quot;left_linear&quot;</td><td>&quot;dim42&quot;</td><td>&quot;s4_4&quot;</td><td>0.000001</td><td>0.000204</td><td>-6.459516</td><td>6.462244</td><td>20.845516</td><td>2480.616211</td><td>5.2756e-8</td><td>&quot;s4&quot;</td></tr><tr><td>&quot;left_linear&quot;</td><td>&quot;dim65&quot;</td><td>&quot;s4_4&quot;</td><td>6.2509e-7</td><td>-0.000118</td><td>-4.466717</td><td>4.464918</td><td>9.959133</td><td>1185.136475</td><td>6.2766e-8</td><td>&quot;s4&quot;</td></tr><tr><td>&quot;left_linear&quot;</td><td>&quot;dim108&quot;</td><td>&quot;s4_4&quot;</td><td>5.1261e-7</td><td>0.000111</td><td>-4.257343</td><td>4.259061</td><td>9.054986</td><td>1077.543335</td><td>5.6610e-8</td><td>&quot;s4&quot;</td></tr><tr><td>&quot;left_linear&quot;</td><td>&quot;dim116&quot;</td><td>&quot;s4_4&quot;</td><td>5.8647e-7</td><td>-0.000118</td><td>-4.471623</td><td>4.469875</td><td>9.981129</td><td>1187.754028</td><td>5.8757e-8</td><td>&quot;s4&quot;</td></tr><tr><td>&quot;left_linear&quot;</td><td>&quot;dim78&quot;</td><td>&quot;s4_4&quot;</td><td>7.0854e-7</td><td>-0.000119</td><td>-4.469829</td><td>4.46808</td><td>9.973319</td><td>1186.825073</td><td>7.1043e-8</td><td>&quot;s4&quot;</td></tr><tr><td>&quot;left_linear&quot;</td><td>&quot;dim119&quot;</td><td>&quot;s4_4&quot;</td><td>5.6708e-7</td><td>0.00011</td><td>-4.25311</td><td>4.254758</td><td>9.036757</td><td>1075.374023</td><td>6.2753e-8</td><td>&quot;s4&quot;</td></tr><tr><td>&quot;left_linear&quot;</td><td>&quot;dim121&quot;</td><td>&quot;s4_4&quot;</td><td>7.5409e-7</td><td>-0.00016</td><td>-5.520169</td><td>5.517869</td><td>15.210842</td><td>1810.090332</td><td>4.9576e-8</td><td>&quot;s4&quot;</td></tr><tr><td>&quot;left_linear&quot;</td><td>&quot;dim13&quot;</td><td>&quot;s4_4&quot;</td><td>7.3755e-7</td><td>0.000135</td><td>-4.883512</td><td>4.885499</td><td>11.914439</td><td>1417.817871</td><td>6.1903e-8</td><td>&quot;s4&quot;</td></tr><tr><td>&quot;left_linear&quot;</td><td>&quot;dim52&quot;</td><td>&quot;s4_4&quot;</td><td>8.7780e-7</td><td>0.000136</td><td>-4.942756</td><td>4.945133</td><td>12.204388</td><td>1452.322144</td><td>7.1925e-8</td><td>&quot;s4&quot;</td></tr><tr><td>&quot;left_linear&quot;</td><td>&quot;dim55&quot;</td><td>&quot;s4_4&quot;</td><td>9.6078e-7</td><td>-0.00016</td><td>-5.51849</td><td>5.516146</td><td>15.200842</td><td>1808.899902</td><td>6.3205e-8</td><td>&quot;s4&quot;</td></tr><tr><td>&quot;left_linear&quot;</td><td>&quot;dim71&quot;</td><td>&quot;s4_4&quot;</td><td>0.000001</td><td>-0.000161</td><td>-5.48701</td><td>5.484806</td><td>15.028536</td><td>1788.395752</td><td>8.3680e-8</td><td>&quot;s4&quot;</td></tr><tr><td>&quot;left_linear&quot;</td><td>&quot;dim85&quot;</td><td>&quot;s4_4&quot;</td><td>5.9288e-7</td><td>-0.000144</td><td>-5.079145</td><td>5.076959</td><td>12.877035</td><td>1532.367065</td><td>4.6042e-8</td><td>&quot;s4&quot;</td></tr><tr><td>&quot;left_linear&quot;</td><td>&quot;dim60&quot;</td><td>&quot;s4_4&quot;</td><td>6.4183e-7</td><td>-0.000143</td><td>-5.079768</td><td>5.077501</td><td>12.879683</td><td>1532.682373</td><td>4.9832e-8</td><td>&quot;s4&quot;</td></tr><tr><td>&quot;left_linear&quot;</td><td>&quot;dim120&quot;</td><td>&quot;s4_4&quot;</td><td>8.5898e-7</td><td>-0.000155</td><td>-5.358411</td><td>5.356019</td><td>14.331226</td><td>1705.415649</td><td>5.9938e-8</td><td>&quot;s4&quot;</td></tr><tr><td>&quot;left_linear&quot;</td><td>&quot;dim59&quot;</td><td>&quot;s4_4&quot;</td><td>9.1561e-7</td><td>-0.000155</td><td>-5.34934</td><td>5.346904</td><td>14.283212</td><td>1699.702148</td><td>6.4104e-8</td><td>&quot;s4&quot;</td></tr><tr><td>&quot;left_linear&quot;</td><td>&quot;dim66&quot;</td><td>&quot;s4_4&quot;</td><td>5.4248e-7</td><td>0.00011</td><td>-4.261195</td><td>4.262821</td><td>9.071258</td><td>1079.479492</td><td>5.9802e-8</td><td>&quot;s4&quot;</td></tr><tr><td>&quot;left_linear&quot;</td><td>&quot;dim97&quot;</td><td>&quot;s4_4&quot;</td><td>9.7487e-7</td><td>-0.00016</td><td>-5.486338</td><td>5.484121</td><td>15.025091</td><td>1787.98584</td><td>6.4883e-8</td><td>&quot;s4&quot;</td></tr><tr><td>&quot;left_linear&quot;</td><td>&quot;dim104&quot;</td><td>&quot;s4_4&quot;</td><td>0.000002</td><td>0.000201</td><td>-6.40863</td><td>6.411245</td><td>20.516979</td><td>2441.52002</td><td>1.0255e-7</td><td>&quot;s4&quot;</td></tr></tbody></table></div>"
      ],
      "text/plain": [
       "shape: (20, 11)\n",
       "┌────────────┬──────────┬──────────┬───────────┬───┬───────────┬───────────┬───────────┬───────────┐\n",
       "│ layer      ┆ variable ┆ subgroup ┆ min_coset ┆ … ┆ full_var  ┆ two_norm  ┆ coset_var ┆ subgroup_ │\n",
       "│ ---        ┆ ---      ┆ ---      ┆ _var      ┆   ┆ ---       ┆ ---       ┆ _ratio    ┆ class     │\n",
       "│ str        ┆ str      ┆ str      ┆ ---       ┆   ┆ f32       ┆ f32       ┆ ---       ┆ ---       │\n",
       "│            ┆          ┆          ┆ f32       ┆   ┆           ┆           ┆ f32       ┆ str       │\n",
       "╞════════════╪══════════╪══════════╪═══════════╪═══╪═══════════╪═══════════╪═══════════╪═══════════╡\n",
       "│ left_linea ┆ dim123   ┆ s4_4     ┆ 7.0346e-7 ┆ … ┆ 12.231626 ┆ 1455.5634 ┆ 5.7512e-8 ┆ s4        │\n",
       "│ r          ┆          ┆          ┆           ┆   ┆           ┆ 77        ┆           ┆           │\n",
       "│ left_linea ┆ dim1     ┆ s4_4     ┆ 7.6305e-7 ┆ … ┆ 11.897548 ┆ 1415.8083 ┆ 6.4135e-8 ┆ s4        │\n",
       "│ r          ┆          ┆          ┆           ┆   ┆           ┆ 5         ┆           ┆           │\n",
       "│ left_linea ┆ dim42    ┆ s4_4     ┆ 0.000001  ┆ … ┆ 20.845516 ┆ 2480.6162 ┆ 5.2756e-8 ┆ s4        │\n",
       "│ r          ┆          ┆          ┆           ┆   ┆           ┆ 11        ┆           ┆           │\n",
       "│ left_linea ┆ dim65    ┆ s4_4     ┆ 6.2509e-7 ┆ … ┆ 9.959133  ┆ 1185.1364 ┆ 6.2766e-8 ┆ s4        │\n",
       "│ r          ┆          ┆          ┆           ┆   ┆           ┆ 75        ┆           ┆           │\n",
       "│ …          ┆ …        ┆ …        ┆ …         ┆ … ┆ …         ┆ …         ┆ …         ┆ …         │\n",
       "│ left_linea ┆ dim59    ┆ s4_4     ┆ 9.1561e-7 ┆ … ┆ 14.283212 ┆ 1699.7021 ┆ 6.4104e-8 ┆ s4        │\n",
       "│ r          ┆          ┆          ┆           ┆   ┆           ┆ 48        ┆           ┆           │\n",
       "│ left_linea ┆ dim66    ┆ s4_4     ┆ 5.4248e-7 ┆ … ┆ 9.071258  ┆ 1079.4794 ┆ 5.9802e-8 ┆ s4        │\n",
       "│ r          ┆          ┆          ┆           ┆   ┆           ┆ 92        ┆           ┆           │\n",
       "│ left_linea ┆ dim97    ┆ s4_4     ┆ 9.7487e-7 ┆ … ┆ 15.025091 ┆ 1787.9858 ┆ 6.4883e-8 ┆ s4        │\n",
       "│ r          ┆          ┆          ┆           ┆   ┆           ┆ 4         ┆           ┆           │\n",
       "│ left_linea ┆ dim104   ┆ s4_4     ┆ 0.000002  ┆ … ┆ 20.516979 ┆ 2441.5200 ┆ 1.0255e-7 ┆ s4        │\n",
       "│ r          ┆          ┆          ┆           ┆   ┆           ┆ 2         ┆           ┆           │\n",
       "└────────────┴──────────┴──────────┴───────────┴───┴───────────┴───────────┴───────────┴───────────┘"
      ]
     },
     "execution_count": 69,
     "metadata": {},
     "output_type": "execute_result"
    }
   ],
   "source": [
    "lr_df.filter(\n",
    "    (pl.col('subgroup') == 's4_4') &\n",
    "    (pl.col('layer') == 'left_linear') & \n",
    "    (pl.col('max') > 1.5)\n",
    ")\n",
    "    "
   ]
  },
  {
   "cell_type": "code",
   "execution_count": 77,
   "id": "1f092014-8052-49fb-9e85-58793d1989d8",
   "metadata": {
    "tags": []
   },
   "outputs": [
    {
     "data": {
      "text/html": [
       "<div><style>\n",
       ".dataframe > thead > tr > th,\n",
       ".dataframe > tbody > tr > td {\n",
       "  text-align: right;\n",
       "}\n",
       "</style>\n",
       "<small>shape: (25, 2)</small><table border=\"1\" class=\"dataframe\"><thead><tr><th>subgroup_pair</th><th>count</th></tr><tr><td>str</td><td>u32</td></tr></thead><tbody><tr><td>&quot;(s4_1, s4_4)&quot;</td><td>2</td></tr><tr><td>&quot;(s4_2, s4_4)&quot;</td><td>2</td></tr><tr><td>&quot;(s4_1, s4_0)&quot;</td><td>2</td></tr><tr><td>&quot;(s4_2, s4_3)&quot;</td><td>2</td></tr><tr><td>&quot;(s4_2, s4_1)&quot;</td><td>2</td></tr><tr><td>&quot;(s4_1, s4_1)&quot;</td><td>2</td></tr><tr><td>&quot;(s4_2, s4_0)&quot;</td><td>2</td></tr><tr><td>&quot;(s4_3, s4_4)&quot;</td><td>3</td></tr><tr><td>&quot;(s4_4, s4_1)&quot;</td><td>3</td></tr><tr><td>&quot;(s4_0, s4_1)&quot;</td><td>3</td></tr><tr><td>&quot;(s4_1, s4_2)&quot;</td><td>3</td></tr><tr><td>&quot;(s4_4, s4_0)&quot;</td><td>3</td></tr><tr><td>&quot;(s4_2, s4_2)&quot;</td><td>3</td></tr><tr><td>&quot;(s4_3, s4_3)&quot;</td><td>4</td></tr><tr><td>&quot;(s4_0, s4_3)&quot;</td><td>4</td></tr><tr><td>&quot;(s4_1, s4_3)&quot;</td><td>4</td></tr><tr><td>&quot;(s4_3, s4_0)&quot;</td><td>4</td></tr><tr><td>&quot;(s4_4, s4_3)&quot;</td><td>4</td></tr><tr><td>&quot;(s4_3, s4_1)&quot;</td><td>4</td></tr><tr><td>&quot;(s4_0, s4_2)&quot;</td><td>4</td></tr><tr><td>&quot;(s4_0, s4_4)&quot;</td><td>4</td></tr><tr><td>&quot;(s4_3, s4_2)&quot;</td><td>4</td></tr><tr><td>&quot;(s4_4, s4_4)&quot;</td><td>5</td></tr><tr><td>&quot;(s4_4, s4_2)&quot;</td><td>5</td></tr><tr><td>&quot;(s4_0, s4_0)&quot;</td><td>7</td></tr></tbody></table></div>"
      ],
      "text/plain": [
       "shape: (25, 2)\n",
       "┌───────────────┬───────┐\n",
       "│ subgroup_pair ┆ count │\n",
       "│ ---           ┆ ---   │\n",
       "│ str           ┆ u32   │\n",
       "╞═══════════════╪═══════╡\n",
       "│ (s4_1, s4_4)  ┆ 2     │\n",
       "│ (s4_2, s4_4)  ┆ 2     │\n",
       "│ (s4_1, s4_0)  ┆ 2     │\n",
       "│ (s4_2, s4_3)  ┆ 2     │\n",
       "│ …             ┆ …     │\n",
       "│ (s4_3, s4_2)  ┆ 4     │\n",
       "│ (s4_4, s4_4)  ┆ 5     │\n",
       "│ (s4_4, s4_2)  ┆ 5     │\n",
       "│ (s4_0, s4_0)  ┆ 7     │\n",
       "└───────────────┴───────┘"
      ]
     },
     "execution_count": 77,
     "metadata": {},
     "output_type": "execute_result"
    }
   ],
   "source": [
    "(\n",
    "    linear_coset_df\n",
    "    .filter((pl.col('left_max_preactivation') > 1.5) & (pl.col('right_max_preactivation') > 1.5))\n",
    "    .filter(pl.col('subgroup_class') == 's4')\n",
    "    .groupby('subgroup_pair').count()\n",
    "    .sort('count')\n",
    ")"
   ]
  },
  {
   "cell_type": "code",
   "execution_count": 121,
   "id": "e7d4f4bc-bc12-44b6-9bd4-8fa360096795",
   "metadata": {
    "tags": []
   },
   "outputs": [
    {
     "data": {
      "text/plain": [
       "(15, 63, 64, 70, 79, 100, 103)"
      ]
     },
     "execution_count": 121,
     "metadata": {},
     "output_type": "execute_result"
    }
   ],
   "source": [
    "variables = (\n",
    "    linear_coset_df\n",
    "    .filter((pl.col('left_max_preactivation') > 1.5) & (pl.col('right_max_preactivation') > 1.5))\n",
    "    .filter(pl.col('subgroup_pair') == '(s4_0, s4_0)')\n",
    ")['variable'].to_list()\n",
    "\n",
    "\n",
    "dims = tuple(sorted([int(v[3:]) for v in variables]))\n",
    "dims"
   ]
  },
  {
   "cell_type": "code",
   "execution_count": 122,
   "id": "a8cb3424-2596-4dfc-af3c-43f9759e1716",
   "metadata": {
    "tags": []
   },
   "outputs": [],
   "source": [
    "from torch.nn.functional import relu\n",
    "\n",
    "logits_s4_0 = (model.unembed.weight[:, dims] @ relu(linear_acts[:, dims].T)).T"
   ]
  },
  {
   "cell_type": "code",
   "execution_count": 98,
   "id": "ac3e8fe0-61b8-42cc-ae63-737aaefa0b50",
   "metadata": {
    "tags": []
   },
   "outputs": [],
   "source": [
    "def get_index_of(col_name, element):\n",
    "    return (\n",
    "        pl.col(col_name)\n",
    "        .list.eval((pl.element() == element).cast(pl.UInt32))\n",
    "        .list.arg_max().cast(pl.Utf8)\n",
    "    )"
   ]
  },
  {
   "cell_type": "code",
   "execution_count": 123,
   "id": "7d184ddb-c2de-4b5e-ab13-6fdb5c313708",
   "metadata": {
    "tags": []
   },
   "outputs": [
    {
     "data": {
      "text/html": [
       "<div><style>\n",
       ".dataframe > thead > tr > th,\n",
       ".dataframe > tbody > tr > td {\n",
       "  text-align: right;\n",
       "}\n",
       "</style>\n",
       "<small>shape: (5, 123)</small><table border=\"1\" class=\"dataframe\"><thead><tr><th>left_perm</th><th>right_perm</th><th>target_perm</th><th>(0, 1, 2, 3, 4)</th><th>(0, 1, 3, 4, 2)</th><th>(0, 1, 4, 2, 3)</th><th>(0, 2, 1, 4, 3)</th><th>(0, 2, 3, 1, 4)</th><th>(0, 2, 4, 3, 1)</th><th>(0, 3, 1, 2, 4)</th><th>(0, 3, 2, 4, 1)</th><th>(0, 3, 4, 1, 2)</th><th>(0, 4, 1, 3, 2)</th><th>(0, 4, 2, 1, 3)</th><th>(0, 4, 3, 2, 1)</th><th>(1, 0, 2, 4, 3)</th><th>(1, 0, 3, 2, 4)</th><th>(1, 0, 4, 3, 2)</th><th>(1, 2, 0, 3, 4)</th><th>(1, 2, 3, 4, 0)</th><th>(1, 2, 4, 0, 3)</th><th>(1, 3, 0, 4, 2)</th><th>(1, 3, 2, 0, 4)</th><th>(1, 3, 4, 2, 0)</th><th>(1, 4, 0, 2, 3)</th><th>(1, 4, 2, 3, 0)</th><th>(1, 4, 3, 0, 2)</th><th>(2, 0, 1, 3, 4)</th><th>(2, 0, 3, 4, 1)</th><th>(2, 0, 4, 1, 3)</th><th>(2, 1, 0, 4, 3)</th><th>(2, 1, 3, 0, 4)</th><th>(2, 1, 4, 3, 0)</th><th>(2, 3, 0, 1, 4)</th><th>(2, 3, 1, 4, 0)</th><th>(2, 3, 4, 0, 1)</th><th>(2, 4, 0, 3, 1)</th><th>&hellip;</th><th>(1, 4, 3, 2, 0)</th><th>(2, 0, 1, 4, 3)</th><th>(2, 0, 3, 1, 4)</th><th>(2, 0, 4, 3, 1)</th><th>(2, 1, 0, 3, 4)</th><th>(2, 1, 3, 4, 0)</th><th>(2, 1, 4, 0, 3)</th><th>(2, 3, 0, 4, 1)</th><th>(2, 3, 1, 0, 4)</th><th>(2, 3, 4, 1, 0)</th><th>(2, 4, 0, 1, 3)</th><th>(2, 4, 1, 3, 0)</th><th>(2, 4, 3, 0, 1)</th><th>(3, 0, 1, 2, 4)</th><th>(3, 0, 2, 4, 1)</th><th>(3, 0, 4, 1, 2)</th><th>(3, 1, 0, 4, 2)</th><th>(3, 1, 2, 0, 4)</th><th>(3, 1, 4, 2, 0)</th><th>(3, 2, 0, 1, 4)</th><th>(3, 2, 1, 4, 0)</th><th>(3, 2, 4, 0, 1)</th><th>(3, 4, 0, 2, 1)</th><th>(3, 4, 1, 0, 2)</th><th>(3, 4, 2, 1, 0)</th><th>(4, 0, 1, 3, 2)</th><th>(4, 0, 2, 1, 3)</th><th>(4, 0, 3, 2, 1)</th><th>(4, 1, 0, 2, 3)</th><th>(4, 1, 2, 3, 0)</th><th>(4, 1, 3, 0, 2)</th><th>(4, 2, 0, 3, 1)</th><th>(4, 2, 1, 0, 3)</th><th>(4, 2, 3, 1, 0)</th><th>(4, 3, 0, 1, 2)</th><th>(4, 3, 1, 2, 0)</th><th>(4, 3, 2, 0, 1)</th></tr><tr><td>str</td><td>str</td><td>str</td><td>f32</td><td>f32</td><td>f32</td><td>f32</td><td>f32</td><td>f32</td><td>f32</td><td>f32</td><td>f32</td><td>f32</td><td>f32</td><td>f32</td><td>f32</td><td>f32</td><td>f32</td><td>f32</td><td>f32</td><td>f32</td><td>f32</td><td>f32</td><td>f32</td><td>f32</td><td>f32</td><td>f32</td><td>f32</td><td>f32</td><td>f32</td><td>f32</td><td>f32</td><td>f32</td><td>f32</td><td>f32</td><td>f32</td><td>f32</td><td>&hellip;</td><td>f32</td><td>f32</td><td>f32</td><td>f32</td><td>f32</td><td>f32</td><td>f32</td><td>f32</td><td>f32</td><td>f32</td><td>f32</td><td>f32</td><td>f32</td><td>f32</td><td>f32</td><td>f32</td><td>f32</td><td>f32</td><td>f32</td><td>f32</td><td>f32</td><td>f32</td><td>f32</td><td>f32</td><td>f32</td><td>f32</td><td>f32</td><td>f32</td><td>f32</td><td>f32</td><td>f32</td><td>f32</td><td>f32</td><td>f32</td><td>f32</td><td>f32</td><td>f32</td></tr></thead><tbody><tr><td>&quot;(0, 1, 2, 3, 4…</td><td>&quot;(0, 1, 2, 3, 4…</td><td>&quot;(0, 1, 2, 3, 4…</td><td>-0.000438</td><td>-0.000459</td><td>-0.000484</td><td>-0.000467</td><td>-0.000438</td><td>-0.000443</td><td>-0.000447</td><td>-0.000454</td><td>-0.00044</td><td>-0.000453</td><td>-0.000457</td><td>-0.000459</td><td>0.00017</td><td>0.000203</td><td>0.000218</td><td>0.000212</td><td>0.000138</td><td>0.00016</td><td>0.000188</td><td>0.000161</td><td>0.00015</td><td>0.000202</td><td>0.000173</td><td>0.000172</td><td>0.000235</td><td>0.000187</td><td>0.000214</td><td>0.00019</td><td>0.000167</td><td>0.000183</td><td>0.000229</td><td>0.000153</td><td>0.000162</td><td>0.00023</td><td>&hellip;</td><td>0.000124</td><td>0.000143</td><td>0.000205</td><td>0.000186</td><td>0.000205</td><td>0.000119</td><td>0.000132</td><td>0.000179</td><td>0.000147</td><td>0.000173</td><td>0.000194</td><td>0.000156</td><td>0.000131</td><td>0.000189</td><td>0.000184</td><td>0.000228</td><td>0.000186</td><td>0.000156</td><td>0.000139</td><td>0.000214</td><td>0.00015</td><td>0.000163</td><td>0.000165</td><td>0.000144</td><td>0.000171</td><td>0.000181</td><td>0.000173</td><td>0.000152</td><td>0.00015</td><td>0.000158</td><td>0.000143</td><td>0.000193</td><td>0.000128</td><td>0.000162</td><td>0.000199</td><td>0.000118</td><td>0.000146</td></tr><tr><td>&quot;(0, 1, 2, 3, 4…</td><td>&quot;(0, 1, 3, 4, 2…</td><td>&quot;(0, 1, 3, 4, 2…</td><td>-0.000373</td><td>-0.000391</td><td>-0.000412</td><td>-0.000397</td><td>-0.000372</td><td>-0.000377</td><td>-0.000381</td><td>-0.000386</td><td>-0.000374</td><td>-0.000385</td><td>-0.000389</td><td>-0.000391</td><td>0.000145</td><td>0.000173</td><td>0.000186</td><td>0.00018</td><td>0.000117</td><td>0.000136</td><td>0.00016</td><td>0.000137</td><td>0.000127</td><td>0.000172</td><td>0.000148</td><td>0.000146</td><td>0.0002</td><td>0.000159</td><td>0.000183</td><td>0.000162</td><td>0.000142</td><td>0.000156</td><td>0.000195</td><td>0.00013</td><td>0.000138</td><td>0.000196</td><td>&hellip;</td><td>0.000105</td><td>0.000122</td><td>0.000175</td><td>0.000158</td><td>0.000175</td><td>0.000101</td><td>0.000112</td><td>0.000153</td><td>0.000125</td><td>0.000148</td><td>0.000165</td><td>0.000133</td><td>0.000111</td><td>0.000161</td><td>0.000157</td><td>0.000194</td><td>0.000158</td><td>0.000132</td><td>0.000118</td><td>0.000182</td><td>0.000128</td><td>0.000139</td><td>0.00014</td><td>0.000123</td><td>0.000145</td><td>0.000154</td><td>0.000147</td><td>0.000129</td><td>0.000127</td><td>0.000134</td><td>0.000122</td><td>0.000164</td><td>0.000109</td><td>0.000138</td><td>0.000169</td><td>0.000101</td><td>0.000124</td></tr><tr><td>&quot;(0, 1, 2, 3, 4…</td><td>&quot;(0, 1, 4, 2, 3…</td><td>&quot;(0, 1, 4, 2, 3…</td><td>-0.000721</td><td>-0.000757</td><td>-0.000797</td><td>-0.000769</td><td>-0.000721</td><td>-0.00073</td><td>-0.000737</td><td>-0.000748</td><td>-0.000724</td><td>-0.000746</td><td>-0.000754</td><td>-0.000757</td><td>0.000281</td><td>0.000335</td><td>0.00036</td><td>0.000349</td><td>0.000227</td><td>0.000263</td><td>0.00031</td><td>0.000266</td><td>0.000247</td><td>0.000333</td><td>0.000286</td><td>0.000283</td><td>0.000387</td><td>0.000308</td><td>0.000353</td><td>0.000314</td><td>0.000276</td><td>0.000301</td><td>0.000378</td><td>0.000252</td><td>0.000267</td><td>0.000379</td><td>&hellip;</td><td>0.000204</td><td>0.000236</td><td>0.000338</td><td>0.000306</td><td>0.000338</td><td>0.000196</td><td>0.000217</td><td>0.000296</td><td>0.000242</td><td>0.000286</td><td>0.000319</td><td>0.000257</td><td>0.000215</td><td>0.000311</td><td>0.000303</td><td>0.000376</td><td>0.000306</td><td>0.000256</td><td>0.000229</td><td>0.000353</td><td>0.000247</td><td>0.000269</td><td>0.000272</td><td>0.000237</td><td>0.000281</td><td>0.000298</td><td>0.000284</td><td>0.00025</td><td>0.000247</td><td>0.00026</td><td>0.000236</td><td>0.000318</td><td>0.000211</td><td>0.000267</td><td>0.000328</td><td>0.000195</td><td>0.00024</td></tr><tr><td>&quot;(0, 1, 2, 3, 4…</td><td>&quot;(0, 2, 1, 4, 3…</td><td>&quot;(0, 2, 1, 4, 3…</td><td>-0.001216</td><td>-0.001276</td><td>-0.001343</td><td>-0.001297</td><td>-0.001215</td><td>-0.001231</td><td>-0.001242</td><td>-0.00126</td><td>-0.001221</td><td>-0.001258</td><td>-0.001271</td><td>-0.001276</td><td>0.000474</td><td>0.000565</td><td>0.000606</td><td>0.000588</td><td>0.000382</td><td>0.000443</td><td>0.000523</td><td>0.000448</td><td>0.000416</td><td>0.000562</td><td>0.000482</td><td>0.000477</td><td>0.000652</td><td>0.000519</td><td>0.000596</td><td>0.000529</td><td>0.000465</td><td>0.000508</td><td>0.000637</td><td>0.000425</td><td>0.000449</td><td>0.000638</td><td>&hellip;</td><td>0.000344</td><td>0.000397</td><td>0.00057</td><td>0.000516</td><td>0.00057</td><td>0.000331</td><td>0.000367</td><td>0.000498</td><td>0.000408</td><td>0.000482</td><td>0.000538</td><td>0.000433</td><td>0.000363</td><td>0.000524</td><td>0.000511</td><td>0.000634</td><td>0.000516</td><td>0.000432</td><td>0.000386</td><td>0.000595</td><td>0.000416</td><td>0.000454</td><td>0.000458</td><td>0.0004</td><td>0.000474</td><td>0.000502</td><td>0.000479</td><td>0.000421</td><td>0.000416</td><td>0.000439</td><td>0.000398</td><td>0.000535</td><td>0.000355</td><td>0.00045</td><td>0.000553</td><td>0.000328</td><td>0.000404</td></tr><tr><td>&quot;(0, 1, 2, 3, 4…</td><td>&quot;(0, 2, 3, 1, 4…</td><td>&quot;(0, 2, 3, 1, 4…</td><td>-0.000945</td><td>-0.000992</td><td>-0.001044</td><td>-0.001008</td><td>-0.000945</td><td>-0.000956</td><td>-0.000965</td><td>-0.00098</td><td>-0.000949</td><td>-0.000978</td><td>-0.000987</td><td>-0.000991</td><td>0.000368</td><td>0.000439</td><td>0.000471</td><td>0.000457</td><td>0.000297</td><td>0.000344</td><td>0.000406</td><td>0.000348</td><td>0.000323</td><td>0.000437</td><td>0.000375</td><td>0.00037</td><td>0.000507</td><td>0.000403</td><td>0.000463</td><td>0.000411</td><td>0.000361</td><td>0.000395</td><td>0.000495</td><td>0.00033</td><td>0.000349</td><td>0.000496</td><td>&hellip;</td><td>0.000267</td><td>0.000309</td><td>0.000443</td><td>0.000401</td><td>0.000443</td><td>0.000257</td><td>0.000285</td><td>0.000387</td><td>0.000317</td><td>0.000374</td><td>0.000418</td><td>0.000336</td><td>0.000282</td><td>0.000407</td><td>0.000397</td><td>0.000493</td><td>0.000401</td><td>0.000336</td><td>0.0003</td><td>0.000462</td><td>0.000323</td><td>0.000353</td><td>0.000356</td><td>0.000311</td><td>0.000368</td><td>0.000391</td><td>0.000372</td><td>0.000327</td><td>0.000323</td><td>0.000341</td><td>0.000309</td><td>0.000416</td><td>0.000276</td><td>0.00035</td><td>0.000429</td><td>0.000255</td><td>0.000314</td></tr></tbody></table></div>"
      ],
      "text/plain": [
       "shape: (5, 123)\n",
       "┌───────────┬───────────┬───────────┬───────────┬───┬───────────┬───────────┬───────────┬──────────┐\n",
       "│ left_perm ┆ right_per ┆ target_pe ┆ (0, 1, 2, ┆ … ┆ (4, 2, 3, ┆ (4, 3, 0, ┆ (4, 3, 1, ┆ (4, 3,   │\n",
       "│ ---       ┆ m         ┆ rm        ┆ 3, 4)     ┆   ┆ 1, 0)     ┆ 1, 2)     ┆ 2, 0)     ┆ 2, 0, 1) │\n",
       "│ str       ┆ ---       ┆ ---       ┆ ---       ┆   ┆ ---       ┆ ---       ┆ ---       ┆ ---      │\n",
       "│           ┆ str       ┆ str       ┆ f32       ┆   ┆ f32       ┆ f32       ┆ f32       ┆ f32      │\n",
       "╞═══════════╪═══════════╪═══════════╪═══════════╪═══╪═══════════╪═══════════╪═══════════╪══════════╡\n",
       "│ (0, 1, 2, ┆ (0, 1, 2, ┆ (0, 1, 2, ┆ -0.000438 ┆ … ┆ 0.000162  ┆ 0.000199  ┆ 0.000118  ┆ 0.000146 │\n",
       "│ 3, 4)     ┆ 3, 4)     ┆ 3, 4)     ┆           ┆   ┆           ┆           ┆           ┆          │\n",
       "│ (0, 1, 2, ┆ (0, 1, 3, ┆ (0, 1, 3, ┆ -0.000373 ┆ … ┆ 0.000138  ┆ 0.000169  ┆ 0.000101  ┆ 0.000124 │\n",
       "│ 3, 4)     ┆ 4, 2)     ┆ 4, 2)     ┆           ┆   ┆           ┆           ┆           ┆          │\n",
       "│ (0, 1, 2, ┆ (0, 1, 4, ┆ (0, 1, 4, ┆ -0.000721 ┆ … ┆ 0.000267  ┆ 0.000328  ┆ 0.000195  ┆ 0.00024  │\n",
       "│ 3, 4)     ┆ 2, 3)     ┆ 2, 3)     ┆           ┆   ┆           ┆           ┆           ┆          │\n",
       "│ (0, 1, 2, ┆ (0, 2, 1, ┆ (0, 2, 1, ┆ -0.001216 ┆ … ┆ 0.00045   ┆ 0.000553  ┆ 0.000328  ┆ 0.000404 │\n",
       "│ 3, 4)     ┆ 4, 3)     ┆ 4, 3)     ┆           ┆   ┆           ┆           ┆           ┆          │\n",
       "│ (0, 1, 2, ┆ (0, 2, 3, ┆ (0, 2, 3, ┆ -0.000945 ┆ … ┆ 0.00035   ┆ 0.000429  ┆ 0.000255  ┆ 0.000314 │\n",
       "│ 3, 4)     ┆ 1, 4)     ┆ 1, 4)     ┆           ┆   ┆           ┆           ┆           ┆          │\n",
       "└───────────┴───────────┴───────────┴───────────┴───┴───────────┴───────────┴───────────┴──────────┘"
      ]
     },
     "execution_count": 123,
     "metadata": {},
     "output_type": "execute_result"
    }
   ],
   "source": [
    "logit_s4_0_df = pl.concat(\n",
    "    [\n",
    "        perm_df,\n",
    "        pl.DataFrame(\n",
    "            logits_s4_0.detach().numpy(),\n",
    "            schema=[str(perm) for perm in full_group]\n",
    "        )\n",
    "    ],\n",
    "    how='horizontal'\n",
    ")\n",
    "logit_s4_0_df.head()"
   ]
  },
  {
   "cell_type": "code",
   "execution_count": null,
   "id": "3938b3b9-bfaa-4aee-9ce6-8f05e8093240",
   "metadata": {},
   "outputs": [],
   "source": []
  },
  {
   "cell_type": "code",
   "execution_count": 127,
   "id": "b7285279-1663-44b8-87fb-ce77d30db3ed",
   "metadata": {
    "tags": []
   },
   "outputs": [],
   "source": [
    "\n",
    "df0 = (\n",
    "    logit_s4_0_df\n",
    "    .melt(id_vars=['left_perm', 'right_perm', 'target_perm'], variable_name='logit_perm')\n",
    "    .with_columns([\n",
    "            pl.col('logit_perm').str.extract_all('([0-4])').alias('logit_vals'),\n",
    "            pl.col('target_perm').str.extract_all('([0-4])').alias('target_vals'),\n",
    "        ])\n",
    "        .with_columns([\n",
    "            get_index_of('target_vals', '0').alias('target_index_of_0'),\n",
    "            get_index_of('target_vals', '1').alias('target_index_of_1'),\n",
    "            get_index_of('target_vals', '2').alias('target_index_of_2'),\n",
    "            get_index_of('target_vals', '3').alias('target_index_of_3'),\n",
    "            get_index_of('target_vals', '4').alias('target_index_of_4'),\n",
    "            get_index_of('logit_vals', '0').alias('logit_index_of_0'),\n",
    "            get_index_of('logit_vals', '1').alias('logit_index_of_1'),\n",
    "            get_index_of('logit_vals', '2').alias('logit_index_of_2'),\n",
    "            get_index_of('logit_vals', '3').alias('logit_index_of_3'),\n",
    "            get_index_of('logit_vals', '4').alias('logit_index_of_4'),\n",
    "        ])\n",
    ")\n",
    "\n",
    "df4 = (\n",
    "    logit_s4_4_df\n",
    "    .melt(id_vars=['left_perm', 'right_perm', 'target_perm'], variable_name='logit_perm')\n",
    "    .with_columns([\n",
    "            pl.col('logit_perm').str.extract_all('([0-4])').alias('logit_vals'),\n",
    "            pl.col('target_perm').str.extract_all('([0-4])').alias('target_vals'),\n",
    "        ])\n",
    "        .with_columns([\n",
    "            get_index_of('target_vals', '0').alias('target_index_of_0'),\n",
    "            get_index_of('target_vals', '1').alias('target_index_of_1'),\n",
    "            get_index_of('target_vals', '2').alias('target_index_of_2'),\n",
    "            get_index_of('target_vals', '3').alias('target_index_of_3'),\n",
    "            get_index_of('target_vals', '4').alias('target_index_of_4'),\n",
    "            get_index_of('logit_vals', '0').alias('logit_index_of_0'),\n",
    "            get_index_of('logit_vals', '1').alias('logit_index_of_1'),\n",
    "            get_index_of('logit_vals', '2').alias('logit_index_of_2'),\n",
    "            get_index_of('logit_vals', '3').alias('logit_index_of_3'),\n",
    "            get_index_of('logit_vals', '4').alias('logit_index_of_4'),\n",
    "        ])\n",
    ")"
   ]
  },
  {
   "cell_type": "code",
   "execution_count": 135,
   "id": "0781952b-039a-4504-b2d0-1beb6846244d",
   "metadata": {
    "tags": []
   },
   "outputs": [
    {
     "data": {
      "image/png": "[encoded data removed]",
      "text/plain": [
       "<Figure size 640x480 with 2 Axes>"
      ]
     },
     "metadata": {},
     "output_type": "display_data"
    },
    {
     "data": {
      "text/plain": [
       "<ggplot: (1429669546)>"
      ]
     },
     "execution_count": 135,
     "metadata": {},
     "output_type": "execute_result"
    }
   ],
   "source": [
    "ggplot(\n",
    "    df0.with_columns(pl.when(pl.col('target_index_of_0') == '0').then(pl.lit('target in coset')).otherwise(pl.lit('target not in coset')).alias('target_in_coset')),\n",
    "    aes(x='value', fill='logit_index_of_0')\n",
    ") + geom_histogram(binwidth=1) + facet_wrap('~target_in_coset')"
   ]
  },
  {
   "cell_type": "code",
   "execution_count": 141,
   "id": "a25d118b-3e66-4054-8290-ed28981d5a6e",
   "metadata": {
    "tags": []
   },
   "outputs": [
    {
     "data": {
      "image/png": "[encoded data removed]",
      "text/plain": [
       "<Figure size 640x480 with 4 Axes>"
      ]
     },
     "metadata": {},
     "output_type": "display_data"
    },
    {
     "data": {
      "text/plain": [
       "<ggplot: (1476830166)>"
      ]
     },
     "execution_count": 141,
     "metadata": {},
     "output_type": "execute_result"
    }
   ],
   "source": [
    "ggplot(\n",
    "    #df4.with_columns(pl.when(pl.col('target_index_of_4') == '4').then(pl.lit('target in coset')).otherwise(pl.lit('target not in coset')).alias('target_in_coset')),\n",
    "    df4.filter(pl.col('target_index_of_4') != '4'),\n",
    "    aes(x='value', fill='logit_index_of_4')\n",
    ") + geom_histogram(binwidth=1) + facet_wrap('~target_index_of_4')"
   ]
  },
  {
   "cell_type": "code",
   "execution_count": 173,
   "id": "31be2df7-5466-464e-bdc1-1f177bafc0d4",
   "metadata": {
    "tags": []
   },
   "outputs": [],
   "source": [
    "trace_df2111 = pl.concat(\n",
    "    [\n",
    "        perm_df,\n",
    "        pl.DataFrame(\n",
    "            cube2111.detach().numpy(),\n",
    "            schema=[str(perm) for perm in full_group]\n",
    "        )\n",
    "    ],\n",
    "    how='horizontal'\n",
    ")\n",
    "\n",
    "trace_df = trace_df2111.melt(\n",
    "    id_vars=['left_perm', 'right_perm', 'target_perm'],\n",
    "    variable_name='logit_perm',\n",
    "    value_name='trace'\n",
    ").with_columns(pl.col('trace').round().cast(pl.Int32))"
   ]
  },
  {
   "cell_type": "code",
   "execution_count": 174,
   "id": "368b4656-544b-4131-ba94-917e1bf54d41",
   "metadata": {
    "tags": []
   },
   "outputs": [],
   "source": [
    "\n",
    "\n",
    "df = df4.join(trace_df, on=['left_perm', 'right_perm', 'target_perm', 'logit_perm'], how='inner')"
   ]
  },
  {
   "cell_type": "code",
   "execution_count": 176,
   "id": "18750dea-2bbf-4b41-9d53-86f30af37244",
   "metadata": {
    "tags": []
   },
   "outputs": [
    {
     "data": {
      "image/png": "[encoded data removed]",
      "text/plain": [
       "<Figure size 640x480 with 5 Axes>"
      ]
     },
     "metadata": {},
     "output_type": "display_data"
    },
    {
     "data": {
      "text/plain": [
       "<ggplot: (706493627)>"
      ]
     },
     "execution_count": 176,
     "metadata": {},
     "output_type": "execute_result"
    }
   ],
   "source": [
    "from plotnine import geom_jitter\n",
    "\n",
    "ggplot(\n",
    "    df.filter((pl.col('target_perm') == \"(0, 1, 4, 3, 2)\") & (pl.col('left_perm') == \"(0, 1, 2, 3, 4)\") & (pl.col('right_perm') == \"(0, 1, 4, 3, 2)\") ),\n",
    "    aes(x = 'trace', y = 'value', color='logit_index_of_4')\n",
    ") + geom_point() + facet_wrap('~logit_index_of_4')"
   ]
  },
  {
   "cell_type": "code",
   "execution_count": 178,
   "id": "19a0724c-cd25-4df1-9c34-8b249e2ab9f2",
   "metadata": {
    "tags": []
   },
   "outputs": [
    {
     "data": {
      "image/png": "[encoded data removed]",
      "text/plain": [
       "<Figure size 640x480 with 5 Axes>"
      ]
     },
     "metadata": {},
     "output_type": "display_data"
    },
    {
     "data": {
      "text/plain": [
       "<ggplot: (735962770)>"
      ]
     },
     "execution_count": 178,
     "metadata": {},
     "output_type": "execute_result"
    }
   ],
   "source": [
    "ggplot(\n",
    "    df.filter((pl.col('target_perm') == \"(1, 0, 4, 3, 2)\") & (pl.col('left_perm') == \"(1, 0, 2, 3, 4)\") & (pl.col('right_perm') == \"(0, 1, 4, 3, 2)\") ),\n",
    "    aes(x = 'trace', y = 'value', color='logit_index_of_4')\n",
    ") + geom_point() + facet_wrap('~logit_index_of_4') "
   ]
  },
  {
   "cell_type": "code",
   "execution_count": 182,
   "id": "03ba62e1-c0c8-498a-a18e-497a2155f7be",
   "metadata": {
    "tags": []
   },
   "outputs": [
    {
     "data": {
      "image/png": "[encoded data removed]",
      "text/plain": [
       "<Figure size 640x480 with 5 Axes>"
      ]
     },
     "metadata": {},
     "output_type": "display_data"
    },
    {
     "data": {
      "text/plain": [
       "<ggplot: (1183051170)>"
      ]
     },
     "execution_count": 182,
     "metadata": {},
     "output_type": "execute_result"
    }
   ],
   "source": [
    "ggplot(\n",
    "    df.filter(pl.col('target_perm') == \"(4, 0, 1, 2, 3)\"),\n",
    "    aes(x = 'value', fill='logit_index_of_4')\n",
    ") + geom_histogram(binwidth=1) + facet_wrap('~trace') "
   ]
  },
  {
   "cell_type": "code",
   "execution_count": 167,
   "id": "a5af1089-f0f4-41dc-89ed-edb78b516e7b",
   "metadata": {
    "tags": []
   },
   "outputs": [
    {
     "data": {
      "text/plain": [
       "(4, 0, 1, 2, 3)"
      ]
     },
     "execution_count": 167,
     "metadata": {},
     "output_type": "execute_result"
    }
   ],
   "source": [
    "#df4.filter(pl.col('target_perm') == '(4, 0, 1, 2, 3)')\n",
    "Permutation((0, 2, 3, 1, 4)) * Permutation((4, 2, 0, 1, 3))"
   ]
  },
  {
   "cell_type": "code",
   "execution_count": 161,
   "id": "08495daa-8cf8-4cdd-8ca8-dabd0e9223d0",
   "metadata": {
    "tags": []
   },
   "outputs": [
    {
     "data": {
      "text/html": [
       "<div><style>\n",
       ".dataframe > thead > tr > th,\n",
       ".dataframe > tbody > tr > td {\n",
       "  text-align: right;\n",
       "}\n",
       "</style>\n",
       "<small>shape: (24, 5)</small><table border=\"1\" class=\"dataframe\"><thead><tr><th>target_perm</th><th>mean_value</th><th>min_value</th><th>max_value</th><th>sd_value</th></tr><tr><td>str</td><td>f32</td><td>f32</td><td>f32</td><td>f32</td></tr></thead><tbody><tr><td>&quot;(2, 0, 3, 1, 4…</td><td>0.000084</td><td>-0.002396</td><td>0.001248</td><td>0.000463</td></tr><tr><td>&quot;(1, 3, 2, 0, 4…</td><td>0.000085</td><td>-0.002785</td><td>0.00145</td><td>0.000476</td></tr><tr><td>&quot;(3, 0, 2, 1, 4…</td><td>0.000085</td><td>-0.002838</td><td>0.001478</td><td>0.000463</td></tr><tr><td>&quot;(1, 0, 2, 3, 4…</td><td>0.000085</td><td>-0.002945</td><td>0.001534</td><td>0.000477</td></tr><tr><td>&quot;(1, 2, 3, 0, 4…</td><td>0.000085</td><td>-0.002216</td><td>0.001154</td><td>0.000478</td></tr><tr><td>&quot;(1, 0, 3, 2, 4…</td><td>0.000087</td><td>-0.002707</td><td>0.00141</td><td>0.00049</td></tr><tr><td>&quot;(0, 2, 1, 3, 4…</td><td>0.000087</td><td>-0.00225</td><td>0.001171</td><td>0.000482</td></tr><tr><td>&quot;(2, 3, 0, 1, 4…</td><td>0.000087</td><td>-0.002382</td><td>0.00124</td><td>0.00048</td></tr><tr><td>&quot;(1, 3, 0, 2, 4…</td><td>0.000088</td><td>-0.002867</td><td>0.001493</td><td>0.000489</td></tr><tr><td>&quot;(2, 1, 0, 3, 4…</td><td>0.000088</td><td>-0.002466</td><td>0.001284</td><td>0.000494</td></tr><tr><td>&quot;(0, 3, 2, 1, 4…</td><td>0.000088</td><td>-0.002678</td><td>0.001394</td><td>0.000486</td></tr><tr><td>&quot;(3, 2, 1, 0, 4…</td><td>0.000088</td><td>-0.002173</td><td>0.001131</td><td>0.000487</td></tr><tr><td>&quot;(2, 1, 3, 0, 4…</td><td>0.000089</td><td>-0.002384</td><td>0.001241</td><td>0.000499</td></tr><tr><td>&quot;(3, 0, 1, 2, 4…</td><td>0.000089</td><td>-0.00259</td><td>0.001349</td><td>0.000493</td></tr><tr><td>&quot;(2, 0, 1, 3, 4…</td><td>0.000089</td><td>-0.002881</td><td>0.0015</td><td>0.000503</td></tr><tr><td>&quot;(3, 1, 2, 0, 4…</td><td>0.00009</td><td>-0.002377</td><td>0.001238</td><td>0.00049</td></tr><tr><td>&quot;(0, 2, 3, 1, 4…</td><td>0.00009</td><td>-0.00239</td><td>0.001245</td><td>0.000499</td></tr><tr><td>&quot;(2, 3, 1, 0, 4…</td><td>0.00009</td><td>-0.002868</td><td>0.001494</td><td>0.000517</td></tr><tr><td>&quot;(1, 2, 0, 3, 4…</td><td>0.00009</td><td>-0.002348</td><td>0.001222</td><td>0.000489</td></tr><tr><td>&quot;(3, 2, 0, 1, 4…</td><td>0.000092</td><td>-0.002455</td><td>0.001278</td><td>0.0005</td></tr><tr><td>&quot;(3, 1, 0, 2, 4…</td><td>0.000092</td><td>-0.002534</td><td>0.001319</td><td>0.000522</td></tr><tr><td>&quot;(0, 1, 3, 2, 4…</td><td>0.000092</td><td>-0.002694</td><td>0.001403</td><td>0.000525</td></tr><tr><td>&quot;(0, 1, 2, 3, 4…</td><td>0.000093</td><td>-0.002402</td><td>0.001251</td><td>0.000513</td></tr><tr><td>&quot;(0, 3, 1, 2, 4…</td><td>0.000094</td><td>-0.00243</td><td>0.001265</td><td>0.00052</td></tr></tbody></table></div>"
      ],
      "text/plain": [
       "shape: (24, 5)\n",
       "┌─────────────────┬────────────┬───────────┬───────────┬──────────┐\n",
       "│ target_perm     ┆ mean_value ┆ min_value ┆ max_value ┆ sd_value │\n",
       "│ ---             ┆ ---        ┆ ---       ┆ ---       ┆ ---      │\n",
       "│ str             ┆ f32        ┆ f32       ┆ f32       ┆ f32      │\n",
       "╞═════════════════╪════════════╪═══════════╪═══════════╪══════════╡\n",
       "│ (2, 0, 3, 1, 4) ┆ 0.000084   ┆ -0.002396 ┆ 0.001248  ┆ 0.000463 │\n",
       "│ (1, 3, 2, 0, 4) ┆ 0.000085   ┆ -0.002785 ┆ 0.00145   ┆ 0.000476 │\n",
       "│ (3, 0, 2, 1, 4) ┆ 0.000085   ┆ -0.002838 ┆ 0.001478  ┆ 0.000463 │\n",
       "│ (1, 0, 2, 3, 4) ┆ 0.000085   ┆ -0.002945 ┆ 0.001534  ┆ 0.000477 │\n",
       "│ …               ┆ …          ┆ …         ┆ …         ┆ …        │\n",
       "│ (3, 1, 0, 2, 4) ┆ 0.000092   ┆ -0.002534 ┆ 0.001319  ┆ 0.000522 │\n",
       "│ (0, 1, 3, 2, 4) ┆ 0.000092   ┆ -0.002694 ┆ 0.001403  ┆ 0.000525 │\n",
       "│ (0, 1, 2, 3, 4) ┆ 0.000093   ┆ -0.002402 ┆ 0.001251  ┆ 0.000513 │\n",
       "│ (0, 3, 1, 2, 4) ┆ 0.000094   ┆ -0.00243  ┆ 0.001265  ┆ 0.00052  │\n",
       "└─────────────────┴────────────┴───────────┴───────────┴──────────┘"
      ]
     },
     "execution_count": 161,
     "metadata": {},
     "output_type": "execute_result"
    }
   ],
   "source": [
    "df4.groupby('target_perm').agg([\n",
    "    pl.col('value').mean().alias('mean_value'),\n",
    "    pl.col('value').min().alias('min_value'),\n",
    "    pl.col('value').max().alias('max_value'),\n",
    "    pl.col('value').std().alias('sd_value')\n",
    "]).filter(pl.col('target_perm').str.ends_with('4)')).sort('mean_value')"
   ]
  },
  {
   "cell_type": "code",
   "execution_count": 213,
   "id": "4f5dc226-6959-473d-b3cd-813c02bd9a55",
   "metadata": {
    "tags": []
   },
   "outputs": [],
   "source": [
    "full_group = Permutation.full_group(5)\n",
    "fixes0 = [p for p in full_group if p.sigma[0] == 0]\n",
    "fixes1 = [p for p in full_group if p.sigma[1] == 1]\n",
    "fixes2 = [p for p in full_group if p.sigma[2] == 2]\n",
    "fixes3 = [p for p in full_group if p.sigma[3] == 3]\n",
    "fixes4 = [p for p in full_group if p.sigma[4] == 4]"
   ]
  },
  {
   "cell_type": "code",
   "execution_count": 214,
   "id": "b9447be6-6262-486c-9b28-9b5cc47d5ca0",
   "metadata": {
    "tags": []
   },
   "outputs": [],
   "source": [
    "f0 = torch.zeros((120, 2))\n",
    "f1 = torch.zeros((120, 2))\n",
    "f2 = torch.zeros((120, 2))\n",
    "f3 = torch.zeros((120, 2))\n",
    "f4 =  torch.zeros((120, 2))\n",
    "for i, p in enumerate(full_group):\n",
    "    if p in fixes0:\n",
    "        f0[i, 0] = 1.\n",
    "    if p in fixes1:\n",
    "        f1[i, 0] = 1.\n",
    "    if p in fixes2:\n",
    "        f2[i, 0] = 1.\n",
    "    if p in fixes3:\n",
    "        f3[i, 0] = 1.\n",
    "    if p in fixes4:\n",
    "        f4[i, 0] = 1.\n",
    "\n",
    "        "
   ]
  },
  {
   "cell_type": "code",
   "execution_count": 215,
   "id": "4d8c56e2-7a1b-4531-80ef-cf5446f9268c",
   "metadata": {
    "tags": []
   },
   "outputs": [
    {
     "data": {
      "text/plain": [
       "tensor([[15.0000,  8.6603,  6.1237,  4.7434],\n",
       "        [ 8.6603,  5.0000,  3.5355,  2.7386],\n",
       "        [ 6.1237,  3.5355,  2.5000,  1.9365],\n",
       "        [ 4.7434,  2.7386,  1.9365,  1.5000]])"
      ]
     },
     "execution_count": 215,
     "metadata": {},
     "output_type": "execute_result"
    }
   ],
   "source": [
    "f0_ft = slow_sn_ft_1d(f0, 5)\n",
    "f0_ft[(2, 1, 1, 1)][0]"
   ]
  },
  {
   "cell_type": "code",
   "execution_count": 216,
   "id": "2dac2612-5694-4a9f-8c4e-e3106167f255",
   "metadata": {
    "tags": []
   },
   "outputs": [
    {
     "data": {
      "text/plain": [
       "tensor([[15.0000, -8.6603, -6.1237, -4.7434],\n",
       "        [-8.6603,  5.0000,  3.5355,  2.7386],\n",
       "        [-6.1237,  3.5355,  2.5000,  1.9365],\n",
       "        [-4.7434,  2.7386,  1.9365,  1.5000]])"
      ]
     },
     "execution_count": 216,
     "metadata": {},
     "output_type": "execute_result"
    }
   ],
   "source": [
    "f1_ft = slow_sn_ft_1d(f1, 5)\n",
    "f1_ft[(2, 1, 1, 1)][0]"
   ]
  },
  {
   "cell_type": "code",
   "execution_count": 217,
   "id": "2a47780b-5bbe-4a8e-af0b-dc8d5fabde10",
   "metadata": {
    "tags": []
   },
   "outputs": [
    {
     "data": {
      "text/plain": [
       "tensor([[ 0.0000e+00,  0.0000e+00,  3.5763e-07,  0.0000e+00],\n",
       "        [ 0.0000e+00,  2.0000e+01, -7.0711e+00, -5.4772e+00],\n",
       "        [ 5.9605e-08, -7.0711e+00,  2.5000e+00,  1.9365e+00],\n",
       "        [-2.7756e-17, -5.4772e+00,  1.9365e+00,  1.5000e+00]])"
      ]
     },
     "execution_count": 217,
     "metadata": {},
     "output_type": "execute_result"
    }
   ],
   "source": [
    "f2_ft = slow_sn_ft_1d(f2, 5)\n",
    "f2_ft[(2, 1, 1, 1)][0]"
   ]
  },
  {
   "cell_type": "code",
   "execution_count": 218,
   "id": "a8c9cc6c-bd30-4498-972a-f3777d6286b9",
   "metadata": {
    "tags": []
   },
   "outputs": [
    {
     "data": {
      "text/plain": [
       "tensor([[ 0.0000e+00,  2.3842e-07,  0.0000e+00,  1.1921e-07],\n",
       "        [ 5.9605e-08, -1.6391e-07, -1.4901e-08,  5.9605e-08],\n",
       "        [-4.0511e-17, -1.4901e-08,  2.2500e+01, -5.8095e+00],\n",
       "        [-5.5511e-17,  5.9605e-08, -5.8095e+00,  1.5000e+00]])"
      ]
     },
     "execution_count": 218,
     "metadata": {},
     "output_type": "execute_result"
    }
   ],
   "source": [
    "f3_ft = slow_sn_ft_1d(f3, 5)\n",
    "f3_ft[(2, 1, 1, 1)][0]"
   ]
  },
  {
   "cell_type": "code",
   "execution_count": 219,
   "id": "f8602b22-f47c-4ef6-8254-e5da75b35d8f",
   "metadata": {
    "tags": []
   },
   "outputs": [
    {
     "data": {
      "text/plain": [
       "tensor(24.)"
      ]
     },
     "execution_count": 219,
     "metadata": {},
     "output_type": "execute_result"
    }
   ],
   "source": [
    "torch.trace(f3_ft[(2, 1, 1, 1)][0])"
   ]
  },
  {
   "cell_type": "code",
   "execution_count": 211,
   "id": "69c0abf4-290f-41e1-b7c6-3eeb39f4c20c",
   "metadata": {
    "tags": []
   },
   "outputs": [
    {
     "data": {
      "text/plain": [
       "tensor(24.)"
      ]
     },
     "execution_count": 211,
     "metadata": {},
     "output_type": "execute_result"
    }
   ],
   "source": [
    "f3.sum()"
   ]
  },
  {
   "cell_type": "code",
   "execution_count": 198,
   "id": "3e640616-9147-4bf1-8f13-5beb98e11917",
   "metadata": {
    "tags": []
   },
   "outputs": [
    {
     "ename": "NameError",
     "evalue": "name 'f2_ft' is not defined",
     "output_type": "error",
     "traceback": [
      "\u001b[0;31m---------------------------------------------------------------------------\u001b[0m",
      "\u001b[0;31mNameError\u001b[0m                                 Traceback (most recent call last)",
      "Cell \u001b[0;32mIn[198], line 1\u001b[0m\n\u001b[0;32m----> 1\u001b[0m \u001b[43mf2_ft\u001b[49m[(\u001b[38;5;241m5\u001b[39m,)]\n",
      "\u001b[0;31mNameError\u001b[0m: name 'f2_ft' is not defined"
     ]
    }
   ],
   "source": [
    "f1_ft = slow_sn_ft_1d(f1, 5)\n",
    "f1_ft[(2, 1, 1, 1)][0]"
   ]
  },
  {
   "cell_type": "code",
   "execution_count": 233,
   "id": "fd3ae32c-232f-41d9-9569-f92f40507dcf",
   "metadata": {
    "tags": []
   },
   "outputs": [],
   "source": [
    "full_fn = f0 + f1 + f2 + f3 + f4"
   ]
  },
  {
   "cell_type": "code",
   "execution_count": 226,
   "id": "555ec317-f497-45d8-bfc5-a08259e1ca7b",
   "metadata": {
    "tags": []
   },
   "outputs": [],
   "source": [
    "full_fn_ft = slow_sn_ft_1d(total, 5)\n"
   ]
  },
  {
   "cell_type": "code",
   "execution_count": 227,
   "id": "b40ca1e0-1032-4608-a69c-854ba2e46907",
   "metadata": {},
   "outputs": [
    {
     "data": {
      "text/plain": [
       "tensor([[[ 3.0000e+01,  3.5763e-07,  5.9605e-08,  4.7684e-07],\n",
       "         [-5.9605e-07,  3.0000e+01, -1.6391e-06,  4.7684e-07],\n",
       "         [-2.3842e-07,  0.0000e+00,  3.0000e+01,  2.3842e-07],\n",
       "         [ 0.0000e+00,  0.0000e+00,  9.5367e-07,  3.0000e+01]],\n",
       "\n",
       "        [[ 0.0000e+00,  0.0000e+00,  0.0000e+00,  0.0000e+00],\n",
       "         [ 0.0000e+00,  0.0000e+00,  0.0000e+00,  0.0000e+00],\n",
       "         [ 0.0000e+00,  0.0000e+00,  0.0000e+00,  0.0000e+00],\n",
       "         [ 0.0000e+00,  0.0000e+00,  0.0000e+00,  0.0000e+00]]])"
      ]
     },
     "execution_count": 227,
     "metadata": {},
     "output_type": "execute_result"
    }
   ],
   "source": [
    "full_fn_ft[(2, 1, 1, 1)]"
   ]
  },
  {
   "cell_type": "code",
   "execution_count": 250,
   "id": "1d657436-6aa3-46d2-b472-2b023e49b6a6",
   "metadata": {
    "tags": []
   },
   "outputs": [],
   "source": [
    "irrep = SnIrrep(5, (2, 1, 1, 1)).matrix_representations()\n",
    "full = full_fn[:, 0].numpy()\n",
    "\n",
    "chars = np.asarray([np.trace(irrep[p.inverse.sigma]) for p in full_group])\n"
   ]
  },
  {
   "cell_type": "code",
   "execution_count": 251,
   "id": "c3708bad-97eb-421a-b5bc-22f0b7cc6659",
   "metadata": {
    "tags": []
   },
   "outputs": [
    {
     "data": {
      "text/plain": [
       "120.0"
      ]
     },
     "execution_count": 251,
     "metadata": {},
     "output_type": "execute_result"
    }
   ],
   "source": [
    "np.dot(full, chars)"
   ]
  },
  {
   "cell_type": "code",
   "execution_count": 254,
   "id": "ca4dc893-f7ba-4483-9121-966be78f440d",
   "metadata": {
    "tags": []
   },
   "outputs": [
    {
     "data": {
      "text/plain": [
       "True"
      ]
     },
     "execution_count": 254,
     "metadata": {},
     "output_type": "execute_result"
    }
   ],
   "source": [
    "np.allclose(full, chars + np.ones((120,)))"
   ]
  },
  {
   "cell_type": "code",
   "execution_count": null,
   "id": "a65477f6-6493-4041-b39a-7cf69e36c49e",
   "metadata": {},
   "outputs": [],
   "source": []
  }
 ],
 "metadata": {
  "kernelspec": {
   "display_name": "Python 3 (ipykernel)",
   "language": "python",
   "name": "python3"
  },
  "language_info": {
   "codemirror_mode": {
    "name": "ipython",
    "version": 3
   },
   "file_extension": ".py",
   "mimetype": "text/x-python",
   "name": "python",
   "nbconvert_exporter": "python",
   "pygments_lexer": "ipython3",
   "version": "3.10.13"
  }
 },
 "nbformat": 4,
 "nbformat_minor": 5
}
