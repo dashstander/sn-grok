{
 "cells": [
  {
   "cell_type": "raw",
   "id": "d44b6fd5-cc13-4ac7-9cd9-f2758c8c187f",
   "metadata": {
    "tags": []
   },
   "source": [
    "---\n",
    "title: \"Theory of How $S_n$ Irreps Can Identify Subgroups\"\n",
    "date: \"April 20, 2023\"\n",
    "bibliography: references.bib\n",
    "format: \n",
    "  pdf:\n",
    "    document-class: report\n",
    "    include-in-header:\n",
    "      - text: |\n",
    "          \\usepackage{ytableau}\n",
    "jupyter: python3\n",
    "---"
   ]
  },
  {
   "cell_type": "markdown",
   "id": "30ac9e95-3e6f-41df-b326-b75d31ecc2e7",
   "metadata": {},
   "source": [
    "## Restricted Representations\n",
    "\n",
    "If $\\rho$ is an _irreducible_ representation of a group $G$ that isn't the trivial representation, then as a consequence of [Schur's Lemma](https://en.wikipedia.org/wiki/Schur%27s_lemma#Corollary_of_Schur's_Lemma):\n",
    "$$ \\sum_{g \\in G} \\rho(g) = \\mathbf{0}$$\n",
    "\n",
    "This remains true for a subgroup $H \\le G$ if the [restricted representation](https://en.wikipedia.org/wiki/Restricted_representation) $\\rho|_{H}$ remains irreducible with respect to $H$. If the it is no longer irreducible, however, then there will be some value left over.\n",
    "\n",
    "Let $S^{i}_{4}$ be the copy of $S_4 \\subset S_5$ that fixes $i$ and in particular consider $S^{5}_{4}$. For every irrep besides the one corresponding to $(2, 1, 1, 1)$ (and the trivial), $\\sum_{g \\in S^{5}_{4}} \\rho(g) = \\mathbf{0}$. However, for $(2, 1, 1, 1)$:\n",
    "\n",
    "$$ \\sum_{g \\in S^{5}_{4}} \\rho_{(2, 1, 1, 1)}(g) = \\begin{bmatrix} 0 & 0 & 0 & 0 \\\\ 0 & 0 & 0 & 0 \\\\ 0 & 0 & 0 & 0 \\\\ 0 & 0 & 0 & 24 \\end{bmatrix} $$\n",
    "\n",
    "This is because  $\\rho_{(2, 1, 1, 1)}$ splits when restricted to $S_4$, and in particular \n",
    "$$\\rho_{(2, 1, 1, 1)}|_{S_{4}} = \\rho_{(2, 1, 1)} \\bigoplus \\rho_{(1, 1, 1, 1)}$$\n",
    "\n",
    "where $\\rho_{(1, 1, 1, 1)}$ is the trivial representation of $S_{4}$. That 24 in the lower right corner corresponds to summing over the trivial representation of $S_{4}$.\n",
    "\n",
    "There are five copies of $S_4$ in $S_5$ and they are all conjugate. In particular, if $g \\in S^{5}_{4}$ and $(i, 5)$ is the transposition that swaps $i$ and $5$, then $g \\mapsto (i, 5)g(i, 5)$ takes $S^{5}_{4}$ to $S^{i}_{4}$. \n",
    "\n",
    "\n",
    "\n",
    "\n"
   ]
  },
  {
   "cell_type": "markdown",
   "id": "37e60fac-5399-4c5d-9055-18a0581edab0",
   "metadata": {},
   "source": [
    "## Cosets\n",
    "\n",
    "The left and right cosets of $S_{n-1} \\subset S_n$ are interpretable. $S^{1}_{4}$ is all of the permutations of $S_5$ that fix 1, i.e. where 1 remains in the first position. Then there are five left cosets $gS^{1}_{4}$ that split up $S_{5}$. The cosets are mutually disjoint but the union of all of them equals $S_5$. The same is true of the five right cosets $S^{1}_{4}g$.\n",
    "\n",
    "The left cosets of $S^{1}_{4}$ are all of the permutations where $1$ is in a particular position, e.g. $\\{[2, 1, 3, 4, 5], [3, 1, 2, 4, 5], [4, 1, 2, 3, 5], \\ldots \\}$ is one coset and $\\{[2, 3, 1, 4, 5], [3, 2, 1, 4, 5], [4, 5, 1, 2, 3], \\ldots \\}$ is another.\n",
    "\n",
    "The right cosets of $S^{1}_{4}$, on the other hand, are all of the permutations where a particular value are in the first position. So $\\{[2, 1, 3, 4, 5], [2, 3, 1, 4, 5], \\ldots \\}$ would be one coset and all the permutations where $5$ is first would be another.\n",
    "\n",
    "\n",
    "This means in particular that $\\{[2, 1, 3, 4, 5], [2, 3, 1, 4, 5], \\ldots \\}$ where $2$ is in the first position is a right coset of $S^{1}_{4}$ and a left coset of $S^{2}_{4}$."
   ]
  },
  {
   "cell_type": "code",
   "execution_count": null,
   "id": "8ef913b0-73a6-4598-9ecb-6c59d3ed2a64",
   "metadata": {},
   "outputs": [],
   "source": []
  }
 ],
 "metadata": {
  "kernelspec": {
   "display_name": "Python 3 (ipykernel)",
   "language": "python",
   "name": "python3"
  },
  "language_info": {
   "codemirror_mode": {
    "name": "ipython",
    "version": 3
   },
   "file_extension": ".py",
   "mimetype": "text/x-python",
   "name": "python",
   "nbconvert_exporter": "python",
   "pygments_lexer": "ipython3",
   "version": "3.10.12"
  }
 },
 "nbformat": 4,
 "nbformat_minor": 5
}
