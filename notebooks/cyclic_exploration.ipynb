{
 "cells": [
  {
   "cell_type": "code",
   "execution_count": null,
   "id": "d3e80ae6-8e4a-45e9-aea2-928c8aebf304",
   "metadata": {},
   "outputs": [],
   "source": [
    "\n"
   ]
  },
  {
   "cell_type": "code",
   "execution_count": 1,
   "id": "63adc656-0c71-4a1c-b804-8030772864a0",
   "metadata": {
    "tags": []
   },
   "outputs": [],
   "source": [
    "from sngrok.groups import CyclicGroup\n",
    "\n",
    "\n",
    "\n",
    "\n",
    "c120 = CyclicGroup(120)"
   ]
  },
  {
   "cell_type": "code",
   "execution_count": 2,
   "id": "31d0eff5-5f89-4fdb-bedb-631c5bc6e759",
   "metadata": {
    "tags": []
   },
   "outputs": [],
   "source": [
    "from sngrok.cyclic_irreps import CyclicIrrep\n",
    "\n",
    "irrep = CyclicIrrep(120, 20)"
   ]
  },
  {
   "cell_type": "code",
   "execution_count": 7,
   "id": "b50e783f-ea6c-43c3-bf7e-a130df4ddc5b",
   "metadata": {
    "tags": []
   },
   "outputs": [],
   "source": [
    "import numpy as np\n",
    "import torch \n",
    "function = torch.zeros((120, 2))\n",
    "\n",
    "\n",
    "for i in range(120):\n",
    "    if i % 24 == 0:\n",
    "        function[i, 0] = 1\n",
    "        \n",
    "\n",
    "\n"
   ]
  },
  {
   "cell_type": "code",
   "execution_count": 8,
   "id": "23048c14-54eb-4283-933a-b0f1067c0e6b",
   "metadata": {
    "tags": []
   },
   "outputs": [
    {
     "name": "stdout",
     "output_type": "stream",
     "text": [
      "0: tensor([5., 0.])\n",
      "5: tensor([[[ 5.0000e+00,  2.4493e-15],\n",
      "         [-2.4493e-15,  5.0000e+00]],\n",
      "\n",
      "        [[ 0.0000e+00,  0.0000e+00],\n",
      "         [ 0.0000e+00,  0.0000e+00]]])\n",
      "10: tensor([[[ 5.0000e+00,  4.8986e-15],\n",
      "         [-4.8986e-15,  5.0000e+00]],\n",
      "\n",
      "        [[ 0.0000e+00,  0.0000e+00],\n",
      "         [ 0.0000e+00,  0.0000e+00]]])\n",
      "15: tensor([[[ 5.0000e+00,  7.3479e-15],\n",
      "         [-7.3479e-15,  5.0000e+00]],\n",
      "\n",
      "        [[ 0.0000e+00,  0.0000e+00],\n",
      "         [ 0.0000e+00,  0.0000e+00]]])\n",
      "20: tensor([[[ 5.0000e+00,  9.7972e-15],\n",
      "         [-9.7972e-15,  5.0000e+00]],\n",
      "\n",
      "        [[ 0.0000e+00,  0.0000e+00],\n",
      "         [ 0.0000e+00,  0.0000e+00]]])\n",
      "25: tensor([[[ 5.0000e+00,  1.9352e-14],\n",
      "         [-1.9352e-14,  5.0000e+00]],\n",
      "\n",
      "        [[ 0.0000e+00,  0.0000e+00],\n",
      "         [ 0.0000e+00,  0.0000e+00]]])\n",
      "30: tensor([[[ 5.0000e+00,  1.4696e-14],\n",
      "         [-1.4696e-14,  5.0000e+00]],\n",
      "\n",
      "        [[ 0.0000e+00,  0.0000e+00],\n",
      "         [ 0.0000e+00,  0.0000e+00]]])\n",
      "35: tensor([[[ 5.0000e+00,  1.0040e-14],\n",
      "         [-1.0040e-14,  5.0000e+00]],\n",
      "\n",
      "        [[ 0.0000e+00,  0.0000e+00],\n",
      "         [ 0.0000e+00,  0.0000e+00]]])\n",
      "40: tensor([[[ 5.0000e+00,  1.9594e-14],\n",
      "         [-1.9594e-14,  5.0000e+00]],\n",
      "\n",
      "        [[ 0.0000e+00,  0.0000e+00],\n",
      "         [ 0.0000e+00,  0.0000e+00]]])\n",
      "45: tensor([[[ 5.0000e+00,  2.9149e-14],\n",
      "         [-2.9149e-14,  5.0000e+00]],\n",
      "\n",
      "        [[ 0.0000e+00,  0.0000e+00],\n",
      "         [ 0.0000e+00,  0.0000e+00]]])\n",
      "50: tensor([[[ 5.0000e+00,  3.8704e-14],\n",
      "         [-3.8704e-14,  5.0000e+00]],\n",
      "\n",
      "        [[ 0.0000e+00,  0.0000e+00],\n",
      "         [ 0.0000e+00,  0.0000e+00]]])\n",
      "55: tensor([[[ 5.0000e+00,  6.9575e-14],\n",
      "         [-6.9575e-14,  5.0000e+00]],\n",
      "\n",
      "        [[ 0.0000e+00,  0.0000e+00],\n",
      "         [ 0.0000e+00,  0.0000e+00]]])\n",
      "60: tensor([[[ 5.0000e+00,  2.9392e-14],\n",
      "         [-2.9392e-14,  5.0000e+00]],\n",
      "\n",
      "        [[ 0.0000e+00,  0.0000e+00],\n",
      "         [ 0.0000e+00,  0.0000e+00]]])\n",
      "65: tensor([[[ 5.0000e+00, -1.0792e-14],\n",
      "         [ 1.0792e-14,  5.0000e+00]],\n",
      "\n",
      "        [[ 0.0000e+00,  0.0000e+00],\n",
      "         [ 0.0000e+00,  0.0000e+00]]])\n",
      "70: tensor([[[ 5.0000e+00,  2.0079e-14],\n",
      "         [-2.0079e-14,  5.0000e+00]],\n",
      "\n",
      "        [[ 0.0000e+00,  0.0000e+00],\n",
      "         [ 0.0000e+00,  0.0000e+00]]])\n",
      "75: tensor([[[ 5.0000e+00,  7.9372e-14],\n",
      "         [-7.9372e-14,  5.0000e+00]],\n",
      "\n",
      "        [[ 0.0000e+00,  0.0000e+00],\n",
      "         [ 0.0000e+00,  0.0000e+00]]])\n",
      "80: tensor([[[ 5.0000e+00,  3.9189e-14],\n",
      "         [-3.9189e-14,  5.0000e+00]],\n",
      "\n",
      "        [[ 0.0000e+00,  0.0000e+00],\n",
      "         [ 0.0000e+00,  0.0000e+00]]])\n",
      "85: tensor([[[ 5.0000e+00, -9.9457e-16],\n",
      "         [ 9.9457e-16,  5.0000e+00]],\n",
      "\n",
      "        [[ 0.0000e+00,  0.0000e+00],\n",
      "         [ 0.0000e+00,  0.0000e+00]]])\n",
      "90: tensor([[[ 5.0000e+00,  5.8298e-14],\n",
      "         [-5.8298e-14,  5.0000e+00]],\n",
      "\n",
      "        [[ 0.0000e+00,  0.0000e+00],\n",
      "         [ 0.0000e+00,  0.0000e+00]]])\n",
      "95: tensor([[[ 5.0000e+00,  1.1759e-13],\n",
      "         [-1.1759e-13,  5.0000e+00]],\n",
      "\n",
      "        [[ 0.0000e+00,  0.0000e+00],\n",
      "         [ 0.0000e+00,  0.0000e+00]]])\n",
      "100: tensor([[[ 5.0000e+00,  7.7408e-14],\n",
      "         [-7.7408e-14,  5.0000e+00]],\n",
      "\n",
      "        [[ 0.0000e+00,  0.0000e+00],\n",
      "         [ 0.0000e+00,  0.0000e+00]]])\n",
      "105: tensor([[[ 5.0000e+00, -1.9619e-14],\n",
      "         [ 1.9619e-14,  5.0000e+00]],\n",
      "\n",
      "        [[ 0.0000e+00,  0.0000e+00],\n",
      "         [ 0.0000e+00,  0.0000e+00]]])\n",
      "110: tensor([[[ 5.0000e+00,  1.3915e-13],\n",
      "         [-1.3915e-13,  5.0000e+00]],\n",
      "\n",
      "        [[ 0.0000e+00,  0.0000e+00],\n",
      "         [ 0.0000e+00,  0.0000e+00]]])\n",
      "115: tensor([[[ 5.0000e+00,  9.8966e-14],\n",
      "         [-9.8966e-14,  5.0000e+00]],\n",
      "\n",
      "        [[ 0.0000e+00,  0.0000e+00],\n",
      "         [ 0.0000e+00,  0.0000e+00]]])\n"
     ]
    }
   ],
   "source": [
    "ft120 = c120.fourier_transform(function)\n",
    "\n",
    "for k, v in ft120.items():\n",
    "    if v.abs().sum() > 0.1:\n",
    "        print(f'{k}: {v}')"
   ]
  },
  {
   "cell_type": "code",
   "execution_count": 18,
   "id": "41090f67-0637-4888-aeff-ed162c6c43e3",
   "metadata": {
    "tags": []
   },
   "outputs": [
    {
     "data": {
      "text/plain": [
       "{0: array([[1., 0.],\n",
       "        [0., 1.]]),\n",
       " 1: array([[ 1., -0.],\n",
       "        [ 0.,  1.]]),\n",
       " 2: array([[ 1., -0.],\n",
       "        [ 0.,  1.]]),\n",
       " 3: array([[ 1., -0.],\n",
       "        [ 0.,  1.]]),\n",
       " 4: array([[ 1., -0.],\n",
       "        [ 0.,  1.]])}"
      ]
     },
     "execution_count": 18,
     "metadata": {},
     "output_type": "execute_result"
    }
   ],
   "source": [
    "import numpy as np\n",
    "\n",
    "\n",
    "def _matrix_irrep(n, k):\n",
    "        mats = {}\n",
    "        mats[0] = np.eye(2)\n",
    "       \n",
    "        two_pi_n = 2 * np.pi / n\n",
    "        for l in range(1, n):\n",
    "            sin = np.sin(two_pi_n * l * k)\n",
    "            cos = np.cos(two_pi_n * l * k)\n",
    "            m = np.array([[cos, -1.0 * sin], [sin, cos]])\n",
    "            mats[l] = m\n",
    "\n",
    "        return mats\n",
    "    \n",
    "_matrix_irrep(5, 0)"
   ]
  },
  {
   "cell_type": "code",
   "execution_count": 2,
   "id": "4b92540d-c7fd-4560-8478-434951c894c0",
   "metadata": {
    "tags": []
   },
   "outputs": [],
   "source": [
    "from itertools import product\n",
    "\n",
    "n = 120\n",
    "group = [i for i in range(n)]\n",
    "left, right, targets = [], [], []\n",
    "\n",
    "for l, r in product(left, right):\n",
    "    left.append(l)\n",
    "    right.append(r)\n",
    "    targets.append((l + r) % n)\n"
   ]
  },
  {
   "cell_type": "code",
   "execution_count": null,
   "id": "57e9fe97-66cc-4669-8629-7142f0d2fad1",
   "metadata": {},
   "outputs": [],
   "source": []
  }
 ],
 "metadata": {
  "kernelspec": {
   "display_name": "Python 3 (ipykernel)",
   "language": "python",
   "name": "python3"
  },
  "language_info": {
   "codemirror_mode": {
    "name": "ipython",
    "version": 3
   },
   "file_extension": ".py",
   "mimetype": "text/x-python",
   "name": "python",
   "nbconvert_exporter": "python",
   "pygments_lexer": "ipython3",
   "version": "3.10.12"
  }
 },
 "nbformat": 4,
 "nbformat_minor": 5
}
