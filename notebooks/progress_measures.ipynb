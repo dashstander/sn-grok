{
 "cells": [
  {
   "cell_type": "code",
   "execution_count": 19,
   "id": "849c66f8-331f-4c93-9dcc-fd2c46ae37fd",
   "metadata": {
    "tags": []
   },
   "outputs": [],
   "source": [
    "from itertools import product, permutations\n",
    "import math\n",
    "import numpy as np\n",
    "from pathlib import Path\n",
    "from plotnine import (\n",
    "    ggplot,\n",
    "    aes,\n",
    "    theme, \n",
    "    element_text,\n",
    "    stat_smooth,\n",
    "    facet_wrap,\n",
    "    geom_tile,\n",
    "    geom_point,\n",
    "    geom_histogram,\n",
    "    geom_violin,\n",
    "    geom_col,\n",
    "    xlab,\n",
    "    ylab,\n",
    "    ggtitle,\n",
    "    geom_line,\n",
    "    geom_ribbon,\n",
    "    geom_vline,\n",
    "    geom_text,\n",
    "    scale_x_log10,\n",
    "    scale_x_reverse,\n",
    "    geom_boxplot\n",
    ")\n",
    "import polars as pl\n",
    "import torch\n",
    "import functorch\n",
    "from sklearn import linear_model\n",
    "\n",
    "\n",
    "from sngrok.fourier import slow_sn_ft_1d, slow_sn_ft_2d, sn_fourier_basis, sn_fourier_basis_2d, calc_power\n",
    "from sngrok.groups import generate_subgroup, Symmetric\n",
    "from sngrok.permutations import Permutation\n",
    "from sngrok.model import SnMLP\n",
    "from sngrok.tableau import generate_partitions\n",
    "from sngrok.irreps import SnIrrep\n",
    "\n",
    "from confection import Config"
   ]
  },
  {
   "cell_type": "code",
   "execution_count": 20,
   "id": "3da0327c-fcf6-4e67-9e31-02fb6e5dd855",
   "metadata": {
    "tags": []
   },
   "outputs": [],
   "source": [
    "\n",
    "\n",
    "def loss_fn(logits, labels):\n",
    "    if len(logits.shape) == 3:\n",
    "        logits = logits[:, -1]\n",
    "    logits = logits.to(torch.float64)\n",
    "    \n",
    "    log_probs = logits.log_softmax(dim=-1)\n",
    "    correct_log_probs = log_probs.gather(dim=-1, index=labels[:, None])\n",
    "    return -1. * correct_log_probs\n",
    "\n"
   ]
  },
  {
   "cell_type": "code",
   "execution_count": 21,
   "id": "c0258f39-0e7d-45ff-83a6-fed0e949a735",
   "metadata": {
    "tags": []
   },
   "outputs": [],
   "source": [
    "def add_parens(perm):\n",
    "    return '(' + ', '.join(list(perm)) + ')'\n",
    "\n",
    "\n",
    "ckpt_dir = Path('/Users/dashiell/workspace/sn-grok/experiments')\n",
    "model_seed = 0\n",
    "data_seed = 10\n",
    "run_name = f'model_{model_seed}_data_{data_seed}'\n",
    "#run_name = Path('s5_lr1e-5_5')\n",
    "\n",
    "#whole_config = Config().from_disk('configs/s5_lr_5.toml')\n",
    "run_dir = ckpt_dir / run_name\n",
    "model_run = torch.load(run_dir / 'full_run.pth', map_location=torch.device('cpu'))\n",
    "run_data = pl.read_parquet(ckpt_dir / f'data_{data_seed}.parquet')\n",
    "lperms = torch.as_tensor(run_data.select('index_left').to_numpy(), dtype=torch.int64).squeeze()\n",
    "rperms = torch.as_tensor(run_data.select('index_right').to_numpy(), dtype=torch.int64).squeeze()\n",
    "targets = torch.as_tensor(run_data.select('index_target').to_numpy(), dtype=torch.int64).squeeze()\n",
    "\n",
    "model = SnMLP.from_config(model_run['config'])\n",
    "model.load_state_dict(model_run['model'])\n",
    "\n",
    "logits, cache = model.run_with_cache(lperms, rperms)\n",
    "loss = loss_fn(logits, targets)\n",
    "\n",
    "linear_acts = cache['hook_linear']\n",
    "\n",
    "\n",
    "run_data = run_data.select(['permutation_left', 'permutation_right', 'permutation_target']).with_columns([\n",
    "    pl.col('permutation_left').apply(add_parens),\n",
    "    pl.col('permutation_right').apply(add_parens),\n",
    "    pl.col('permutation_target').apply(add_parens),\n",
    "])"
   ]
  },
  {
   "cell_type": "code",
   "execution_count": 22,
   "id": "2d9c6a58-1539-410d-8f1b-7aa021cb1289",
   "metadata": {
    "tags": []
   },
   "outputs": [],
   "source": [
    "fmodel, params = functorch.make_functional(model)"
   ]
  },
  {
   "cell_type": "code",
   "execution_count": 23,
   "id": "da59218e-810c-4808-8af4-8a47c26fd214",
   "metadata": {
    "tags": []
   },
   "outputs": [],
   "source": [
    "from copy import deepcopy\n",
    "\n",
    "params_copy = deepcopy(params)"
   ]
  },
  {
   "cell_type": "code",
   "execution_count": 28,
   "id": "5385cb18-a053-41e8-950b-43de8087524c",
   "metadata": {
    "tags": []
   },
   "outputs": [],
   "source": [
    "from sngrok.fourier import ift_trace\n",
    "\n",
    "def sn_fourier_decomp(ft, group, device='cpu'):\n",
    "    permutations = group.elements\n",
    "    group_order = len(permutations)\n",
    "    all_irreps = group.irreps()\n",
    "    for k, v in all_irreps.items():\n",
    "        all_irreps[k] = v.matrix_representations()\n",
    "    ift_decomps = {}\n",
    "    for partition, m in all_irreps.items():\n",
    "        fourier_decomp = []\n",
    "        for perm in permutations:\n",
    "            inv_rep = torch.asarray(m[perm.sigma].T, device=device).squeeze()           \n",
    "            fourier_decomp.append(ift_trace(ft[partition], inv_rep.to(torch.float32)).unsqueeze(0))\n",
    "        ift_decomps[partition] = torch.cat(fourier_decomp) / group_order\n",
    "            \n",
    "    return ift_decomps"
   ]
  },
  {
   "cell_type": "code",
   "execution_count": 49,
   "id": "5448300e-b165-490a-9b1a-5a06d3d25a15",
   "metadata": {
    "tags": []
   },
   "outputs": [],
   "source": [
    "S5 = Symmetric(5)\n",
    "lembed_ft = slow_sn_ft_1d(params[0], 5)\n",
    "rembed_ft = slow_sn_ft_1d(params[1], 5)\n",
    "unembed_ft = slow_sn_ft_1d(params[3], 5)\n",
    "lembed_decomp = sn_fourier_decomp(lembed_ft, S5)\n",
    "rembed_decomp = sn_fourier_decomp(rembed_ft, S5)\n",
    "unembed_decomp = sn_fourier_decomp(unembed_ft, S5)"
   ]
  },
  {
   "cell_type": "code",
   "execution_count": 32,
   "id": "3daec963-a54b-4472-91aa-f6f6da660cba",
   "metadata": {
    "tags": []
   },
   "outputs": [
    {
     "data": {
      "text/plain": [
       "torch.Size([120, 256])"
      ]
     },
     "execution_count": 32,
     "metadata": {},
     "output_type": "execute_result"
    }
   ],
   "source": [
    "lembed_decomp[(2, 1, 1, 1)].shape"
   ]
  },
  {
   "cell_type": "code",
   "execution_count": 35,
   "id": "18169489-0421-414e-9fcb-8041fe395f1c",
   "metadata": {
    "tags": []
   },
   "outputs": [],
   "source": [
    "def eval_loss(model_fn, params, lperms, rperms, targets):\n",
    "    logits = model_fn(params, lperms, rperms)\n",
    "    return loss_fn(logits, targets).sum()\n",
    "\n"
   ]
  },
  {
   "cell_type": "code",
   "execution_count": 36,
   "id": "08a37730-e5d7-4e86-89ac-247bb7ddc9e6",
   "metadata": {
    "tags": []
   },
   "outputs": [
    {
     "data": {
      "text/plain": [
       "tensor(0.0884, dtype=torch.float64, grad_fn=<SumBackward0>)"
      ]
     },
     "execution_count": 36,
     "metadata": {},
     "output_type": "execute_result"
    }
   ],
   "source": [
    "eval_loss(fmodel, params, lperms, rperms, targets)"
   ]
  },
  {
   "cell_type": "code",
   "execution_count": 66,
   "id": "40415e38-de3b-4327-99d8-f7def4891538",
   "metadata": {
    "tags": []
   },
   "outputs": [
    {
     "data": {
      "text/plain": [
       "tensor(7757.8630, dtype=torch.float64, grad_fn=<SumBackward0>)"
      ]
     },
     "execution_count": 66,
     "metadata": {},
     "output_type": "execute_result"
    }
   ],
   "source": [
    "params2111 = [deepcopy(p) for p in params]\n",
    "\n",
    "\n",
    "params2111[0] = lembed_decomp[(2, 1, 1, 1)]\n",
    "params2111[1] = rembed_decomp[(2, 1, 1, 1)]\n",
    "\n",
    "eval_loss(fmodel, tuple(params2111), lperms, rperms, targets)"
   ]
  },
  {
   "cell_type": "code",
   "execution_count": 65,
   "id": "65be9ecc-b32b-4e6b-90ed-3cdb81860b6f",
   "metadata": {
    "tags": []
   },
   "outputs": [
    {
     "data": {
      "text/plain": [
       "tensor(65261.6882, dtype=torch.float64, grad_fn=<SumBackward0>)"
      ]
     },
     "execution_count": 65,
     "metadata": {},
     "output_type": "execute_result"
    }
   ],
   "source": [
    "params32 = [deepcopy(p) for p in params]\n",
    "params32[3] = unembed_decomp[(3, 2)]\n",
    "eval_loss(fmodel, tuple(params32), lperms, rperms, targets)"
   ]
  },
  {
   "cell_type": "code",
   "execution_count": 57,
   "id": "5f2d768a-ec06-4c79-80bc-f31b72811c96",
   "metadata": {
    "tags": []
   },
   "outputs": [
    {
     "data": {
      "text/plain": [
       "tensor(0.5387, dtype=torch.float64, grad_fn=<DivBackward0>)"
      ]
     },
     "execution_count": 57,
     "metadata": {},
     "output_type": "execute_result"
    }
   ],
   "source": [
    "params32 = [deepcopy(p) for p in params]\n",
    "\n",
    "\n",
    "params32[0] = lembed_decomp[(2, 1, 1, 1)]\n",
    "params32[1] = rembed_decomp[(2, 1, 1, 1)]\n",
    "\n",
    "eval_loss(fmodel, tuple(params32), lperms, rperms, targets) / 14400"
   ]
  },
  {
   "cell_type": "code",
   "execution_count": 61,
   "id": "f9bef6f6-07df-4b35-bf20-9483a8498ec4",
   "metadata": {
    "tags": []
   },
   "outputs": [
    {
     "name": "stdout",
     "output_type": "stream",
     "text": [
      "tensor(0.1876, dtype=torch.float64, grad_fn=<SumBackward0>)\n",
      "tensor(0.0884, dtype=torch.float64, grad_fn=<SumBackward0>)\n"
     ]
    }
   ],
   "source": [
    "params_neg = [deepcopy(p) for p in params]\n",
    "# this is the linear layer, multiplying the whole thing by negative 1\n",
    "params_neg[2] = -1. * params[2]\n",
    "print(eval_loss(fmodel, tuple(params_neg), lperms, rperms, targets))\n",
    "print(eval_loss(fmodel, params, lperms, rperms, targets))"
   ]
  },
  {
   "cell_type": "code",
   "execution_count": 75,
   "id": "ae3b08fd-ec06-482d-98e5-9feddfc35fb7",
   "metadata": {
    "tags": []
   },
   "outputs": [],
   "source": [
    "\n",
    "def ablate_one_column(model_fn, params, index):\n",
    "    param_copies = [deepcopy(p).detach() for p in params]\n",
    "    param_copies[3][:, index] = torch.zeros((120,))\n",
    "    return eval_loss(model_fn, param_copies, lperms, rperms, targets)\n",
    "    "
   ]
  },
  {
   "cell_type": "code",
   "execution_count": 88,
   "id": "73ef729f-760c-4f0a-ba39-6d9ad9df270a",
   "metadata": {
    "tags": []
   },
   "outputs": [],
   "source": [
    "ablated_losses = np.zeros((128,))\n",
    "for i in range(128):\n",
    "    ablated_losses[i] = ablate_one_column(fmodel, params, i)\n"
   ]
  },
  {
   "cell_type": "code",
   "execution_count": 100,
   "id": "9bddc3dd-8679-4f41-bb9d-e1aa874d2700",
   "metadata": {
    "tags": []
   },
   "outputs": [],
   "source": []
  },
  {
   "cell_type": "code",
   "execution_count": 91,
   "id": "0084a5b4-d814-4551-9d8f-7ef0d358e4c3",
   "metadata": {
    "tags": []
   },
   "outputs": [],
   "source": [
    "def calc_power_contributions(tensor, n):\n",
    "    total_power = (tensor ** 2).mean(dim=0)\n",
    "    group_order = math.factorial(n)\n",
    "    fourier_transform = slow_sn_ft_1d(tensor, n)\n",
    "    irrep_power = calc_power(fourier_transform, group_order)\n",
    "    power_contribs = {irrep: power / total_power for irrep, power in irrep_power.items()}\n",
    "    irreps = list(power_contribs.keys())\n",
    "    power_vals = torch.cat([power_contribs[irrep].unsqueeze(0) for irrep in irreps], dim=0)\n",
    "    val_data = pl.DataFrame(power_vals.detach().cpu().numpy(), schema=[f'dim{i}' for i in range(tensor.shape[1])])\n",
    "    val_data.insert_at_idx(0, pl.Series('irrep', [str(i) for i in irreps]))\n",
    "    return val_data, fourier_transform\n",
    "\n",
    "W = model.linear.weight\n",
    "\n",
    "lpower_df, _ = calc_power_contributions(model.lembed.weight @ W[:, :256].T, 5)\n",
    "rpower_df, _ = calc_power_contributions(model.rembed.weight @ W[:, 256:].T, 5)"
   ]
  },
  {
   "cell_type": "code",
   "execution_count": 92,
   "id": "46e97bb7-1f8e-4583-a7b1-b624e123f3fe",
   "metadata": {
    "tags": []
   },
   "outputs": [
    {
     "data": {
      "text/html": [
       "<div>\n",
       "<style>\n",
       ".pl-dataframe > thead > tr > th {\n",
       "  text-align: right;\n",
       "}\n",
       "</style>\n",
       "\n",
       "<table border=\"1\" class=\"pl-dataframe\">\n",
       "<small>shape: (7, 4)</small>\n",
       "<thead>\n",
       "<tr>\n",
       "<th>\n",
       "irrep\n",
       "</th>\n",
       "<th>\n",
       "dim0\n",
       "</th>\n",
       "<th>\n",
       "dim1\n",
       "</th>\n",
       "<th>\n",
       "dim2\n",
       "</th>\n",
       "</tr>\n",
       "<tr>\n",
       "<td>\n",
       "str\n",
       "</td>\n",
       "<td>\n",
       "f32\n",
       "</td>\n",
       "<td>\n",
       "f32\n",
       "</td>\n",
       "<td>\n",
       "f32\n",
       "</td>\n",
       "</tr>\n",
       "</thead>\n",
       "<tbody>\n",
       "<tr>\n",
       "<td>\n",
       "&quot;(1, 1, 1, 1, 1...\n",
       "</td>\n",
       "<td>\n",
       "0.00023\n",
       "</td>\n",
       "<td>\n",
       "0.000005\n",
       "</td>\n",
       "<td>\n",
       "0.00052\n",
       "</td>\n",
       "</tr>\n",
       "<tr>\n",
       "<td>\n",
       "&quot;(2, 1, 1, 1)&quot;\n",
       "</td>\n",
       "<td>\n",
       "0.037243\n",
       "</td>\n",
       "<td>\n",
       "0.999838\n",
       "</td>\n",
       "<td>\n",
       "0.290886\n",
       "</td>\n",
       "</tr>\n",
       "<tr>\n",
       "<td>\n",
       "&quot;(2, 2, 1)&quot;\n",
       "</td>\n",
       "<td>\n",
       "0.942331\n",
       "</td>\n",
       "<td>\n",
       "0.000074\n",
       "</td>\n",
       "<td>\n",
       "0.122685\n",
       "</td>\n",
       "</tr>\n",
       "<tr>\n",
       "<td>\n",
       "&quot;(3, 1, 1)&quot;\n",
       "</td>\n",
       "<td>\n",
       "0.007725\n",
       "</td>\n",
       "<td>\n",
       "0.000058\n",
       "</td>\n",
       "<td>\n",
       "0.352405\n",
       "</td>\n",
       "</tr>\n",
       "<tr>\n",
       "<td>\n",
       "&quot;(3, 2)&quot;\n",
       "</td>\n",
       "<td>\n",
       "0.008106\n",
       "</td>\n",
       "<td>\n",
       "0.000014\n",
       "</td>\n",
       "<td>\n",
       "0.195374\n",
       "</td>\n",
       "</tr>\n",
       "<tr>\n",
       "<td>\n",
       "&quot;(4, 1)&quot;\n",
       "</td>\n",
       "<td>\n",
       "0.003318\n",
       "</td>\n",
       "<td>\n",
       "0.000009\n",
       "</td>\n",
       "<td>\n",
       "0.037503\n",
       "</td>\n",
       "</tr>\n",
       "<tr>\n",
       "<td>\n",
       "&quot;(5,)&quot;\n",
       "</td>\n",
       "<td>\n",
       "0.001048\n",
       "</td>\n",
       "<td>\n",
       "0.000001\n",
       "</td>\n",
       "<td>\n",
       "0.000626\n",
       "</td>\n",
       "</tr>\n",
       "</tbody>\n",
       "</table>\n",
       "</div>"
      ],
      "text/plain": [
       "shape: (7, 4)\n",
       "┌─────────────────┬──────────┬──────────┬──────────┐\n",
       "│ irrep           ┆ dim0     ┆ dim1     ┆ dim2     │\n",
       "│ ---             ┆ ---      ┆ ---      ┆ ---      │\n",
       "│ str             ┆ f32      ┆ f32      ┆ f32      │\n",
       "╞═════════════════╪══════════╪══════════╪══════════╡\n",
       "│ (1, 1, 1, 1, 1) ┆ 0.00023  ┆ 0.000005 ┆ 0.00052  │\n",
       "│ (2, 1, 1, 1)    ┆ 0.037243 ┆ 0.999838 ┆ 0.290886 │\n",
       "│ (2, 2, 1)       ┆ 0.942331 ┆ 0.000074 ┆ 0.122685 │\n",
       "│ (3, 1, 1)       ┆ 0.007725 ┆ 0.000058 ┆ 0.352405 │\n",
       "│ (3, 2)          ┆ 0.008106 ┆ 0.000014 ┆ 0.195374 │\n",
       "│ (4, 1)          ┆ 0.003318 ┆ 0.000009 ┆ 0.037503 │\n",
       "│ (5,)            ┆ 0.001048 ┆ 0.000001 ┆ 0.000626 │\n",
       "└─────────────────┴──────────┴──────────┴──────────┘"
      ]
     },
     "execution_count": 92,
     "metadata": {},
     "output_type": "execute_result"
    }
   ],
   "source": [
    "lpower_df.select(['irrep', 'dim0', 'dim1', 'dim2'])"
   ]
  },
  {
   "cell_type": "code",
   "execution_count": 109,
   "id": "8ba6d25b-70c3-4ac3-bcf6-42851cd01a70",
   "metadata": {
    "tags": []
   },
   "outputs": [
    {
     "data": {
      "text/html": [
       "<div>\n",
       "<style>\n",
       ".pl-dataframe > thead > tr > th {\n",
       "  text-align: right;\n",
       "}\n",
       "</style>\n",
       "\n",
       "<table border=\"1\" class=\"pl-dataframe\">\n",
       "<small>shape: (128, 3)</small>\n",
       "<thead>\n",
       "<tr>\n",
       "<th>\n",
       "variable\n",
       "</th>\n",
       "<th>\n",
       "irrep\n",
       "</th>\n",
       "<th>\n",
       "value\n",
       "</th>\n",
       "</tr>\n",
       "<tr>\n",
       "<td>\n",
       "str\n",
       "</td>\n",
       "<td>\n",
       "str\n",
       "</td>\n",
       "<td>\n",
       "f32\n",
       "</td>\n",
       "</tr>\n",
       "</thead>\n",
       "<tbody>\n",
       "<tr>\n",
       "<td>\n",
       "&quot;dim0&quot;\n",
       "</td>\n",
       "<td>\n",
       "&quot;(2, 2, 1)&quot;\n",
       "</td>\n",
       "<td>\n",
       "0.942331\n",
       "</td>\n",
       "</tr>\n",
       "<tr>\n",
       "<td>\n",
       "&quot;dim1&quot;\n",
       "</td>\n",
       "<td>\n",
       "&quot;(2, 1, 1, 1)&quot;\n",
       "</td>\n",
       "<td>\n",
       "0.999838\n",
       "</td>\n",
       "</tr>\n",
       "<tr>\n",
       "<td>\n",
       "&quot;dim10&quot;\n",
       "</td>\n",
       "<td>\n",
       "&quot;(3, 2)&quot;\n",
       "</td>\n",
       "<td>\n",
       "0.899537\n",
       "</td>\n",
       "</tr>\n",
       "<tr>\n",
       "<td>\n",
       "&quot;dim100&quot;\n",
       "</td>\n",
       "<td>\n",
       "&quot;(2, 1, 1, 1)&quot;\n",
       "</td>\n",
       "<td>\n",
       "0.999996\n",
       "</td>\n",
       "</tr>\n",
       "<tr>\n",
       "<td>\n",
       "&quot;dim101&quot;\n",
       "</td>\n",
       "<td>\n",
       "&quot;(2, 1, 1, 1)&quot;\n",
       "</td>\n",
       "<td>\n",
       "0.6903\n",
       "</td>\n",
       "</tr>\n",
       "<tr>\n",
       "<td>\n",
       "&quot;dim102&quot;\n",
       "</td>\n",
       "<td>\n",
       "&quot;(4, 1)&quot;\n",
       "</td>\n",
       "<td>\n",
       "0.893877\n",
       "</td>\n",
       "</tr>\n",
       "<tr>\n",
       "<td>\n",
       "&quot;dim103&quot;\n",
       "</td>\n",
       "<td>\n",
       "&quot;(2, 1, 1, 1)&quot;\n",
       "</td>\n",
       "<td>\n",
       "0.999956\n",
       "</td>\n",
       "</tr>\n",
       "<tr>\n",
       "<td>\n",
       "&quot;dim104&quot;\n",
       "</td>\n",
       "<td>\n",
       "&quot;(2, 1, 1, 1)&quot;\n",
       "</td>\n",
       "<td>\n",
       "0.997918\n",
       "</td>\n",
       "</tr>\n",
       "<tr>\n",
       "<td>\n",
       "&quot;dim105&quot;\n",
       "</td>\n",
       "<td>\n",
       "&quot;(2, 1, 1, 1)&quot;\n",
       "</td>\n",
       "<td>\n",
       "0.958471\n",
       "</td>\n",
       "</tr>\n",
       "<tr>\n",
       "<td>\n",
       "&quot;dim106&quot;\n",
       "</td>\n",
       "<td>\n",
       "&quot;(2, 2, 1)&quot;\n",
       "</td>\n",
       "<td>\n",
       "0.912216\n",
       "</td>\n",
       "</tr>\n",
       "<tr>\n",
       "<td>\n",
       "&quot;dim107&quot;\n",
       "</td>\n",
       "<td>\n",
       "&quot;(2, 1, 1, 1)&quot;\n",
       "</td>\n",
       "<td>\n",
       "0.999897\n",
       "</td>\n",
       "</tr>\n",
       "<tr>\n",
       "<td>\n",
       "&quot;dim108&quot;\n",
       "</td>\n",
       "<td>\n",
       "&quot;(4, 1)&quot;\n",
       "</td>\n",
       "<td>\n",
       "0.958681\n",
       "</td>\n",
       "</tr>\n",
       "<tr>\n",
       "<td>\n",
       "...\n",
       "</td>\n",
       "<td>\n",
       "...\n",
       "</td>\n",
       "<td>\n",
       "...\n",
       "</td>\n",
       "</tr>\n",
       "<tr>\n",
       "<td>\n",
       "&quot;dim89&quot;\n",
       "</td>\n",
       "<td>\n",
       "&quot;(2, 2, 1)&quot;\n",
       "</td>\n",
       "<td>\n",
       "0.943769\n",
       "</td>\n",
       "</tr>\n",
       "<tr>\n",
       "<td>\n",
       "&quot;dim9&quot;\n",
       "</td>\n",
       "<td>\n",
       "&quot;(3, 2)&quot;\n",
       "</td>\n",
       "<td>\n",
       "0.743694\n",
       "</td>\n",
       "</tr>\n",
       "<tr>\n",
       "<td>\n",
       "&quot;dim90&quot;\n",
       "</td>\n",
       "<td>\n",
       "&quot;(2, 1, 1, 1)&quot;\n",
       "</td>\n",
       "<td>\n",
       "0.99999\n",
       "</td>\n",
       "</tr>\n",
       "<tr>\n",
       "<td>\n",
       "&quot;dim91&quot;\n",
       "</td>\n",
       "<td>\n",
       "&quot;(2, 1, 1, 1)&quot;\n",
       "</td>\n",
       "<td>\n",
       "0.999979\n",
       "</td>\n",
       "</tr>\n",
       "<tr>\n",
       "<td>\n",
       "&quot;dim92&quot;\n",
       "</td>\n",
       "<td>\n",
       "&quot;(4, 1)&quot;\n",
       "</td>\n",
       "<td>\n",
       "0.955471\n",
       "</td>\n",
       "</tr>\n",
       "<tr>\n",
       "<td>\n",
       "&quot;dim93&quot;\n",
       "</td>\n",
       "<td>\n",
       "&quot;(2, 1, 1, 1)&quot;\n",
       "</td>\n",
       "<td>\n",
       "0.999697\n",
       "</td>\n",
       "</tr>\n",
       "<tr>\n",
       "<td>\n",
       "&quot;dim94&quot;\n",
       "</td>\n",
       "<td>\n",
       "&quot;(4, 1)&quot;\n",
       "</td>\n",
       "<td>\n",
       "0.948591\n",
       "</td>\n",
       "</tr>\n",
       "<tr>\n",
       "<td>\n",
       "&quot;dim95&quot;\n",
       "</td>\n",
       "<td>\n",
       "&quot;(2, 2, 1)&quot;\n",
       "</td>\n",
       "<td>\n",
       "0.95044\n",
       "</td>\n",
       "</tr>\n",
       "<tr>\n",
       "<td>\n",
       "&quot;dim96&quot;\n",
       "</td>\n",
       "<td>\n",
       "&quot;(2, 1, 1, 1)&quot;\n",
       "</td>\n",
       "<td>\n",
       "0.999897\n",
       "</td>\n",
       "</tr>\n",
       "<tr>\n",
       "<td>\n",
       "&quot;dim97&quot;\n",
       "</td>\n",
       "<td>\n",
       "&quot;(2, 1, 1, 1)&quot;\n",
       "</td>\n",
       "<td>\n",
       "0.999999\n",
       "</td>\n",
       "</tr>\n",
       "<tr>\n",
       "<td>\n",
       "&quot;dim98&quot;\n",
       "</td>\n",
       "<td>\n",
       "&quot;(2, 1, 1, 1)&quot;\n",
       "</td>\n",
       "<td>\n",
       "0.993314\n",
       "</td>\n",
       "</tr>\n",
       "<tr>\n",
       "<td>\n",
       "&quot;dim99&quot;\n",
       "</td>\n",
       "<td>\n",
       "&quot;(2, 2, 1)&quot;\n",
       "</td>\n",
       "<td>\n",
       "0.930067\n",
       "</td>\n",
       "</tr>\n",
       "</tbody>\n",
       "</table>\n",
       "</div>"
      ],
      "text/plain": [
       "shape: (128, 3)\n",
       "┌──────────┬──────────────┬──────────┐\n",
       "│ variable ┆ irrep        ┆ value    │\n",
       "│ ---      ┆ ---          ┆ ---      │\n",
       "│ str      ┆ str          ┆ f32      │\n",
       "╞══════════╪══════════════╪══════════╡\n",
       "│ dim0     ┆ (2, 2, 1)    ┆ 0.942331 │\n",
       "│ dim1     ┆ (2, 1, 1, 1) ┆ 0.999838 │\n",
       "│ dim10    ┆ (3, 2)       ┆ 0.899537 │\n",
       "│ dim100   ┆ (2, 1, 1, 1) ┆ 0.999996 │\n",
       "│ ...      ┆ ...          ┆ ...      │\n",
       "│ dim96    ┆ (2, 1, 1, 1) ┆ 0.999897 │\n",
       "│ dim97    ┆ (2, 1, 1, 1) ┆ 0.999999 │\n",
       "│ dim98    ┆ (2, 1, 1, 1) ┆ 0.993314 │\n",
       "│ dim99    ┆ (2, 2, 1)    ┆ 0.930067 │\n",
       "└──────────┴──────────────┴──────────┘"
      ]
     },
     "execution_count": 109,
     "metadata": {},
     "output_type": "execute_result"
    }
   ],
   "source": [
    "df = (\n",
    "    lpower_df\n",
    "    .melt(id_vars='irrep')\n",
    "    .sort('value')\n",
    "    .groupby('variable')\n",
    "    .agg([pl.col('irrep').last(), pl.col('value').max()])\n",
    "    .sort('variable')\n",
    ")\n",
    "df"
   ]
  },
  {
   "cell_type": "code",
   "execution_count": 110,
   "id": "67a8b936-08a0-442c-9301-df6d46a5f9e8",
   "metadata": {
    "tags": []
   },
   "outputs": [],
   "source": [
    "ablation_df = pl.DataFrame({'ablation_loss': ablated_losses, 'dim': [f'dim{i}' for i in range(128)]})\n",
    "ablation_df = ablation_df.join(df, left_on='dim', right_on='variable', how='inner')"
   ]
  },
  {
   "cell_type": "code",
   "execution_count": 111,
   "id": "59253c59-0e93-443f-8919-abf0df9b8bee",
   "metadata": {
    "tags": []
   },
   "outputs": [
    {
     "data": {
      "text/html": [
       "<div>\n",
       "<style>\n",
       ".pl-dataframe > thead > tr > th {\n",
       "  text-align: right;\n",
       "}\n",
       "</style>\n",
       "\n",
       "<table border=\"1\" class=\"pl-dataframe\">\n",
       "<small>shape: (128, 4)</small>\n",
       "<thead>\n",
       "<tr>\n",
       "<th>\n",
       "ablation_loss\n",
       "</th>\n",
       "<th>\n",
       "dim\n",
       "</th>\n",
       "<th>\n",
       "irrep\n",
       "</th>\n",
       "<th>\n",
       "value\n",
       "</th>\n",
       "</tr>\n",
       "<tr>\n",
       "<td>\n",
       "f64\n",
       "</td>\n",
       "<td>\n",
       "str\n",
       "</td>\n",
       "<td>\n",
       "str\n",
       "</td>\n",
       "<td>\n",
       "f32\n",
       "</td>\n",
       "</tr>\n",
       "</thead>\n",
       "<tbody>\n",
       "<tr>\n",
       "<td>\n",
       "0.095213\n",
       "</td>\n",
       "<td>\n",
       "&quot;dim0&quot;\n",
       "</td>\n",
       "<td>\n",
       "&quot;(2, 2, 1)&quot;\n",
       "</td>\n",
       "<td>\n",
       "0.942331\n",
       "</td>\n",
       "</tr>\n",
       "<tr>\n",
       "<td>\n",
       "44.164559\n",
       "</td>\n",
       "<td>\n",
       "&quot;dim1&quot;\n",
       "</td>\n",
       "<td>\n",
       "&quot;(2, 1, 1, 1)&quot;\n",
       "</td>\n",
       "<td>\n",
       "0.999838\n",
       "</td>\n",
       "</tr>\n",
       "<tr>\n",
       "<td>\n",
       "0.089468\n",
       "</td>\n",
       "<td>\n",
       "&quot;dim10&quot;\n",
       "</td>\n",
       "<td>\n",
       "&quot;(3, 2)&quot;\n",
       "</td>\n",
       "<td>\n",
       "0.899537\n",
       "</td>\n",
       "</tr>\n",
       "<tr>\n",
       "<td>\n",
       "311.308014\n",
       "</td>\n",
       "<td>\n",
       "&quot;dim100&quot;\n",
       "</td>\n",
       "<td>\n",
       "&quot;(2, 1, 1, 1)&quot;\n",
       "</td>\n",
       "<td>\n",
       "0.999996\n",
       "</td>\n",
       "</tr>\n",
       "<tr>\n",
       "<td>\n",
       "0.088358\n",
       "</td>\n",
       "<td>\n",
       "&quot;dim101&quot;\n",
       "</td>\n",
       "<td>\n",
       "&quot;(2, 1, 1, 1)&quot;\n",
       "</td>\n",
       "<td>\n",
       "0.6903\n",
       "</td>\n",
       "</tr>\n",
       "<tr>\n",
       "<td>\n",
       "0.093144\n",
       "</td>\n",
       "<td>\n",
       "&quot;dim102&quot;\n",
       "</td>\n",
       "<td>\n",
       "&quot;(4, 1)&quot;\n",
       "</td>\n",
       "<td>\n",
       "0.893877\n",
       "</td>\n",
       "</tr>\n",
       "<tr>\n",
       "<td>\n",
       "8.752068\n",
       "</td>\n",
       "<td>\n",
       "&quot;dim103&quot;\n",
       "</td>\n",
       "<td>\n",
       "&quot;(2, 1, 1, 1)&quot;\n",
       "</td>\n",
       "<td>\n",
       "0.999956\n",
       "</td>\n",
       "</tr>\n",
       "<tr>\n",
       "<td>\n",
       "0.334863\n",
       "</td>\n",
       "<td>\n",
       "&quot;dim104&quot;\n",
       "</td>\n",
       "<td>\n",
       "&quot;(2, 1, 1, 1)&quot;\n",
       "</td>\n",
       "<td>\n",
       "0.997918\n",
       "</td>\n",
       "</tr>\n",
       "<tr>\n",
       "<td>\n",
       "0.088767\n",
       "</td>\n",
       "<td>\n",
       "&quot;dim105&quot;\n",
       "</td>\n",
       "<td>\n",
       "&quot;(2, 1, 1, 1)&quot;\n",
       "</td>\n",
       "<td>\n",
       "0.958471\n",
       "</td>\n",
       "</tr>\n",
       "<tr>\n",
       "<td>\n",
       "0.092405\n",
       "</td>\n",
       "<td>\n",
       "&quot;dim106&quot;\n",
       "</td>\n",
       "<td>\n",
       "&quot;(2, 2, 1)&quot;\n",
       "</td>\n",
       "<td>\n",
       "0.912216\n",
       "</td>\n",
       "</tr>\n",
       "<tr>\n",
       "<td>\n",
       "2.151008\n",
       "</td>\n",
       "<td>\n",
       "&quot;dim107&quot;\n",
       "</td>\n",
       "<td>\n",
       "&quot;(2, 1, 1, 1)&quot;\n",
       "</td>\n",
       "<td>\n",
       "0.999897\n",
       "</td>\n",
       "</tr>\n",
       "<tr>\n",
       "<td>\n",
       "0.091222\n",
       "</td>\n",
       "<td>\n",
       "&quot;dim108&quot;\n",
       "</td>\n",
       "<td>\n",
       "&quot;(4, 1)&quot;\n",
       "</td>\n",
       "<td>\n",
       "0.958681\n",
       "</td>\n",
       "</tr>\n",
       "<tr>\n",
       "<td>\n",
       "...\n",
       "</td>\n",
       "<td>\n",
       "...\n",
       "</td>\n",
       "<td>\n",
       "...\n",
       "</td>\n",
       "<td>\n",
       "...\n",
       "</td>\n",
       "</tr>\n",
       "<tr>\n",
       "<td>\n",
       "0.09617\n",
       "</td>\n",
       "<td>\n",
       "&quot;dim89&quot;\n",
       "</td>\n",
       "<td>\n",
       "&quot;(2, 2, 1)&quot;\n",
       "</td>\n",
       "<td>\n",
       "0.943769\n",
       "</td>\n",
       "</tr>\n",
       "<tr>\n",
       "<td>\n",
       "0.089181\n",
       "</td>\n",
       "<td>\n",
       "&quot;dim9&quot;\n",
       "</td>\n",
       "<td>\n",
       "&quot;(3, 2)&quot;\n",
       "</td>\n",
       "<td>\n",
       "0.743694\n",
       "</td>\n",
       "</tr>\n",
       "<tr>\n",
       "<td>\n",
       "250.405787\n",
       "</td>\n",
       "<td>\n",
       "&quot;dim90&quot;\n",
       "</td>\n",
       "<td>\n",
       "&quot;(2, 1, 1, 1)&quot;\n",
       "</td>\n",
       "<td>\n",
       "0.99999\n",
       "</td>\n",
       "</tr>\n",
       "<tr>\n",
       "<td>\n",
       "3.605103\n",
       "</td>\n",
       "<td>\n",
       "&quot;dim91&quot;\n",
       "</td>\n",
       "<td>\n",
       "&quot;(2, 1, 1, 1)&quot;\n",
       "</td>\n",
       "<td>\n",
       "0.999979\n",
       "</td>\n",
       "</tr>\n",
       "<tr>\n",
       "<td>\n",
       "0.092537\n",
       "</td>\n",
       "<td>\n",
       "&quot;dim92&quot;\n",
       "</td>\n",
       "<td>\n",
       "&quot;(4, 1)&quot;\n",
       "</td>\n",
       "<td>\n",
       "0.955471\n",
       "</td>\n",
       "</tr>\n",
       "<tr>\n",
       "<td>\n",
       "1.555658\n",
       "</td>\n",
       "<td>\n",
       "&quot;dim93&quot;\n",
       "</td>\n",
       "<td>\n",
       "&quot;(2, 1, 1, 1)&quot;\n",
       "</td>\n",
       "<td>\n",
       "0.999697\n",
       "</td>\n",
       "</tr>\n",
       "<tr>\n",
       "<td>\n",
       "0.098666\n",
       "</td>\n",
       "<td>\n",
       "&quot;dim94&quot;\n",
       "</td>\n",
       "<td>\n",
       "&quot;(4, 1)&quot;\n",
       "</td>\n",
       "<td>\n",
       "0.948591\n",
       "</td>\n",
       "</tr>\n",
       "<tr>\n",
       "<td>\n",
       "0.098187\n",
       "</td>\n",
       "<td>\n",
       "&quot;dim95&quot;\n",
       "</td>\n",
       "<td>\n",
       "&quot;(2, 2, 1)&quot;\n",
       "</td>\n",
       "<td>\n",
       "0.95044\n",
       "</td>\n",
       "</tr>\n",
       "<tr>\n",
       "<td>\n",
       "8.446108\n",
       "</td>\n",
       "<td>\n",
       "&quot;dim96&quot;\n",
       "</td>\n",
       "<td>\n",
       "&quot;(2, 1, 1, 1)&quot;\n",
       "</td>\n",
       "<td>\n",
       "0.999897\n",
       "</td>\n",
       "</tr>\n",
       "<tr>\n",
       "<td>\n",
       "496.227052\n",
       "</td>\n",
       "<td>\n",
       "&quot;dim97&quot;\n",
       "</td>\n",
       "<td>\n",
       "&quot;(2, 1, 1, 1)&quot;\n",
       "</td>\n",
       "<td>\n",
       "0.999999\n",
       "</td>\n",
       "</tr>\n",
       "<tr>\n",
       "<td>\n",
       "0.08977\n",
       "</td>\n",
       "<td>\n",
       "&quot;dim98&quot;\n",
       "</td>\n",
       "<td>\n",
       "&quot;(2, 1, 1, 1)&quot;\n",
       "</td>\n",
       "<td>\n",
       "0.993314\n",
       "</td>\n",
       "</tr>\n",
       "<tr>\n",
       "<td>\n",
       "0.09652\n",
       "</td>\n",
       "<td>\n",
       "&quot;dim99&quot;\n",
       "</td>\n",
       "<td>\n",
       "&quot;(2, 2, 1)&quot;\n",
       "</td>\n",
       "<td>\n",
       "0.930067\n",
       "</td>\n",
       "</tr>\n",
       "</tbody>\n",
       "</table>\n",
       "</div>"
      ],
      "text/plain": [
       "shape: (128, 4)\n",
       "┌───────────────┬────────┬──────────────┬──────────┐\n",
       "│ ablation_loss ┆ dim    ┆ irrep        ┆ value    │\n",
       "│ ---           ┆ ---    ┆ ---          ┆ ---      │\n",
       "│ f64           ┆ str    ┆ str          ┆ f32      │\n",
       "╞═══════════════╪════════╪══════════════╪══════════╡\n",
       "│ 0.095213      ┆ dim0   ┆ (2, 2, 1)    ┆ 0.942331 │\n",
       "│ 44.164559     ┆ dim1   ┆ (2, 1, 1, 1) ┆ 0.999838 │\n",
       "│ 0.089468      ┆ dim10  ┆ (3, 2)       ┆ 0.899537 │\n",
       "│ 311.308014    ┆ dim100 ┆ (2, 1, 1, 1) ┆ 0.999996 │\n",
       "│ ...           ┆ ...    ┆ ...          ┆ ...      │\n",
       "│ 8.446108      ┆ dim96  ┆ (2, 1, 1, 1) ┆ 0.999897 │\n",
       "│ 496.227052    ┆ dim97  ┆ (2, 1, 1, 1) ┆ 0.999999 │\n",
       "│ 0.08977       ┆ dim98  ┆ (2, 1, 1, 1) ┆ 0.993314 │\n",
       "│ 0.09652       ┆ dim99  ┆ (2, 2, 1)    ┆ 0.930067 │\n",
       "└───────────────┴────────┴──────────────┴──────────┘"
      ]
     },
     "execution_count": 111,
     "metadata": {},
     "output_type": "execute_result"
    }
   ],
   "source": [
    "ablation_df"
   ]
  },
  {
   "cell_type": "code",
   "execution_count": 116,
   "id": "1f84fc6f-1dd3-4626-a311-5efdadfa813f",
   "metadata": {
    "tags": []
   },
   "outputs": [
    {
     "data": {
      "image/png": "[encoded data removed]",
      "text/plain": [
       "<Figure size 640x480 with 6 Axes>"
      ]
     },
     "metadata": {},
     "output_type": "display_data"
    },
    {
     "data": {
      "text/plain": [
       "<ggplot: (773544291)>"
      ]
     },
     "execution_count": 116,
     "metadata": {},
     "output_type": "execute_result"
    }
   ],
   "source": [
    "from plotnine import scale_y_log10\n",
    "\n",
    "(\n",
    "    ggplot(\n",
    "        ablation_df,\n",
    "        aes(x = 'value', y='ablation_loss')\n",
    "    ) \n",
    "    + geom_point() \n",
    "    + facet_wrap('~irrep') \n",
    "    + scale_y_log10()\n",
    "    + xlab('Power of Max Irrep')\n",
    "    + ylab('Post-Ablation Loss (log10)')\n",
    "    + ggtitle('Loss After Ablating One Linear Dim vs. Power of the Max Irrep')\n",
    ")"
   ]
  },
  {
   "cell_type": "code",
   "execution_count": 125,
   "id": "8f091f06-00e6-4d85-8096-4bb026d0c215",
   "metadata": {
    "tags": []
   },
   "outputs": [
    {
     "data": {
      "text/plain": [
       "tensor([0.4812, 2.5575, 0.0498, 0.4936, 0.0382, 0.3085, 2.1559, 1.7670, 3.1559,\n",
       "        0.2206, 0.2067, 0.2913, 1.8553, 3.3694, 0.2118, 0.3923, 0.4318, 3.2536,\n",
       "        2.8052, 3.1725, 2.0217, 0.1813, 1.3201, 0.1163, 2.7131, 0.5623, 0.1660,\n",
       "        1.5112, 0.1962, 2.7400, 0.4894, 0.2726, 0.0636, 0.5145, 0.4629, 2.1122,\n",
       "        2.1739, 1.9512, 0.4747, 1.7497, 0.5445, 2.9931, 2.1876, 0.3696, 0.2208,\n",
       "        0.3818, 1.3088, 0.2542, 2.1189, 0.2414, 0.3592, 3.3327, 1.4136, 0.6727,\n",
       "        0.3616, 1.4134, 0.3620, 0.1213, 0.4011, 0.0892, 0.1073, 0.2226, 3.5111,\n",
       "        1.5346, 0.1342, 0.1114, 0.4570, 0.4791, 2.2091, 0.4217, 2.7376, 2.5002,\n",
       "        2.0597, 1.8745, 0.2483, 1.8743, 1.3405, 2.8368, 2.6987, 0.4367, 0.5921,\n",
       "        0.5033, 0.5830, 0.4878, 3.2235, 1.7455, 0.2262, 0.4057, 0.3066, 0.5130,\n",
       "        3.0339, 2.3888, 0.4099, 1.6435, 0.4873, 0.5399, 2.0430, 3.3002, 0.3515,\n",
       "        0.5113, 3.2679, 0.0917, 0.3980, 2.1154, 1.2378, 0.2539, 0.4159, 1.6673,\n",
       "        0.3489, 2.0678, 2.9959, 0.2893, 2.0999, 0.5126, 0.2369, 0.3889, 0.4711,\n",
       "        0.2498, 0.4281, 0.4490, 1.4615, 0.0739, 0.3611, 0.3703, 2.4628, 2.3611,\n",
       "        1.7481, 2.4647])"
      ]
     },
     "execution_count": 125,
     "metadata": {},
     "output_type": "execute_result"
    }
   ],
   "source": [
    "from torch.nn.functional import relu\n",
    "\n",
    "\n"
   ]
  },
  {
   "cell_type": "code",
   "execution_count": 130,
   "id": "3d0d4386-b8b3-41a1-a3b8-e1ed3766de39",
   "metadata": {
    "tags": []
   },
   "outputs": [],
   "source": [
    "act_means = relu(linear_acts).mean(dim=0)\n",
    "acts = deepcopy(linear_acts)"
   ]
  },
  {
   "cell_type": "code",
   "execution_count": 132,
   "id": "18e871e4-a9ce-450b-9d27-db2bea11202b",
   "metadata": {
    "tags": []
   },
   "outputs": [],
   "source": [
    "acts[:, 0] = act_means[0]"
   ]
  },
  {
   "cell_type": "code",
   "execution_count": 133,
   "id": "d2807f83-ab9e-46ad-95fa-cf546d298f89",
   "metadata": {
    "tags": []
   },
   "outputs": [
    {
     "data": {
      "text/plain": [
       "tensor([0.4812, 0.4812, 0.4812,  ..., 0.4812, 0.4812, 0.4812])"
      ]
     },
     "execution_count": 133,
     "metadata": {},
     "output_type": "execute_result"
    }
   ],
   "source": [
    "acts[:, 0]"
   ]
  },
  {
   "cell_type": "code",
   "execution_count": 149,
   "id": "de9df75d-a67e-44c9-b696-e386e50ef46f",
   "metadata": {
    "tags": []
   },
   "outputs": [],
   "source": [
    "def mean_ablate_one_column(model, linear_activations, index):\n",
    "    \n",
    "    act_means = relu(linear_activations).mean(0)\n",
    "    \n",
    "    acts = deepcopy(relu(linear_activations))\n",
    "    acts[:, index] = act_means[index]\n",
    "    \n",
    "    logits = model.unembed(acts)\n",
    "    \n",
    "    return loss_fn(logits, targets).sum()\n",
    "    "
   ]
  },
  {
   "cell_type": "code",
   "execution_count": 150,
   "id": "0b2f533e-9491-4c9d-8fa5-bf8cebe9310a",
   "metadata": {
    "tags": []
   },
   "outputs": [],
   "source": [
    "mean_ablations = torch.zeros((128,))\n",
    "for i in range(128):   \n",
    "    mean_ablations[i] = mean_ablate_one_column(model, linear_acts, i)\n",
    "\n",
    "    "
   ]
  },
  {
   "cell_type": "code",
   "execution_count": 151,
   "id": "bee8d990-20fe-4f16-b64d-8b81f025159f",
   "metadata": {
    "tags": []
   },
   "outputs": [
    {
     "data": {
      "text/plain": [
       "tensor(88411.2850, dtype=torch.float64, grad_fn=<SumBackward0>)"
      ]
     },
     "execution_count": 151,
     "metadata": {},
     "output_type": "execute_result"
    }
   ],
   "source": [
    "loss_fn(model.unembed(linear_acts), targets).sum()"
   ]
  },
  {
   "cell_type": "code",
   "execution_count": 153,
   "id": "ac8ea54d-34fd-4783-a704-60ba1b9164e4",
   "metadata": {
    "tags": []
   },
   "outputs": [],
   "source": [
    "ablation_df.insert_at_idx(0, pl.Series('mean_ablation_loss', mean_ablations.detach().numpy()))\n",
    "ablation_df = ablation_df.rename({'ablation_loss': 'zero_ablation_loss'})"
   ]
  },
  {
   "cell_type": "code",
   "execution_count": 155,
   "id": "392fa7c0-bdf5-45b9-ae5e-cd5896b5c98e",
   "metadata": {
    "tags": []
   },
   "outputs": [
    {
     "data": {
      "image/png": "[encoded data removed]",
      "text/plain": [
       "<Figure size 640x480 with 6 Axes>"
      ]
     },
     "metadata": {},
     "output_type": "display_data"
    },
    {
     "data": {
      "text/plain": [
       "<ggplot: (685664088)>"
      ]
     },
     "execution_count": 155,
     "metadata": {},
     "output_type": "execute_result"
    }
   ],
   "source": [
    "ggplot(ablation_df, aes(x = 'zero_ablation_loss', y = 'mean_ablation_loss')) + geom_point() + facet_wrap('~irrep')"
   ]
  },
  {
   "cell_type": "code",
   "execution_count": 156,
   "id": "26d44141-9acc-42ac-8e8e-bf2a3e057d5a",
   "metadata": {
    "tags": []
   },
   "outputs": [
    {
     "data": {
      "image/png": "[encoded data removed]",
      "text/plain": [
       "<Figure size 640x480 with 6 Axes>"
      ]
     },
     "metadata": {},
     "output_type": "display_data"
    },
    {
     "data": {
      "text/plain": [
       "<ggplot: (688753322)>"
      ]
     },
     "execution_count": 156,
     "metadata": {},
     "output_type": "execute_result"
    }
   ],
   "source": [
    "(\n",
    "    ggplot(\n",
    "        ablation_df,\n",
    "        aes(x = 'value', y='mean_ablation_loss')\n",
    "    ) \n",
    "    + geom_point() \n",
    "    + facet_wrap('~irrep') \n",
    "    + scale_y_log10()\n",
    "    + xlab('Power of Max Irrep')\n",
    "    + ylab('Loss After Replacing Dim w/ Mean (log10)')\n",
    "    + ggtitle('Loss After Mean-Ablating One Linear Dim vs. Power of the Max Irrep')\n",
    ")"
   ]
  },
  {
   "cell_type": "code",
   "execution_count": null,
   "id": "ed18262b-d3a7-4aa0-9c01-6e91938337b9",
   "metadata": {},
   "outputs": [],
   "source": []
  }
 ],
 "metadata": {
  "kernelspec": {
   "display_name": "Python 3 (ipykernel)",
   "language": "python",
   "name": "python3"
  },
  "language_info": {
   "codemirror_mode": {
    "name": "ipython",
    "version": 3
   },
   "file_extension": ".py",
   "mimetype": "text/x-python",
   "name": "python",
   "nbconvert_exporter": "python",
   "pygments_lexer": "ipython3",
   "version": "3.10.12"
  }
 },
 "nbformat": 4,
 "nbformat_minor": 5
}
